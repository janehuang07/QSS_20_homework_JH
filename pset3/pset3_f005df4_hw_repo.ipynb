{
 "cells": [
  {
   "cell_type": "markdown",
   "metadata": {},
   "source": [
    "# Problem set 3: Text analysis of DOJ press releases\n",
    "\n",
    "**Total points (without extra credit)**: 52 \n",
    "\n",
    "- For background:\n",
    "\n",
    "    - DOJ is the federal law enforcement agency responsible for federal prosecutions; this contrasts with the local prosecutions in the Cook County dataset we analyzed earlier. Here's a short explainer on which crimes get prosecuted federally versus locally: https://www.criminaldefenselawyer.com/resources/criminal-defense/federal-crime/state-vs-federal-crimes.htm#:~:text=Federal%20criminal%20prosecutions%20are%20handled,of%20state%20and%20local%20law. \n",
    "    - Here's the Kaggle that contains the data: https://www.kaggle.com/jbencina/department-of-justice-20092018-press-releases \n",
    "    - Here's the code the dataset creator used to scrape those press releases here if you're interested: https://github.com/jbencina/dojreleases"
   ]
  },
  {
   "cell_type": "markdown",
   "metadata": {},
   "source": [
    "## 0.0 Import packages"
   ]
  },
  {
   "cell_type": "code",
   "execution_count": 136,
   "metadata": {},
   "outputs": [],
   "source": [
    "## helpful packages\n",
    "import warnings\n",
    "warnings.filterwarnings(\"ignore\")\n",
    "\n",
    "import pandas as pd\n",
    "import numpy as np\n",
    "import random\n",
    "import re\n",
    "import string\n",
    "from collections import Counter\n",
    "\n",
    "## nltk imports\n",
    "import nltk\n",
    "### uncomment and run these lines if you haven't downloaded relevant nltk add-ons yet\n",
    "## nltk.download('averaged_perceptron_tagger')\n",
    "## nltk.download('stopwords')\n",
    "from nltk import pos_tag\n",
    "from nltk.tokenize import word_tokenize, wordpunct_tokenize\n",
    "from nltk.stem.snowball import SnowballStemmer\n",
    "from nltk.corpus import stopwords\n",
    "from nltk.util import ngrams\n",
    "\n",
    "## sklearn imports\n",
    "from sklearn.feature_extraction.text import CountVectorizer\n",
    "from sklearn.feature_extraction.text import TfidfVectorizer\n",
    "from sklearn.model_selection import train_test_split\n",
    "from sklearn.tree import DecisionTreeClassifier\n",
    "from sklearn.ensemble import RandomForestClassifier, GradientBoostingClassifier, AdaBoostClassifier\n",
    "from sklearn.linear_model import LogisticRegression, LogisticRegressionCV\n",
    "from sklearn.metrics import accuracy_score, f1_score, precision_score, recall_score\n",
    "from sklearn.feature_extraction.text import TfidfVectorizer\n",
    "from sklearn.metrics.pairwise import cosine_similarity\n",
    "\n",
    "## spacy imports\n",
    "import spacy\n",
    "### uncomment and run the below line if you haven't loaded the en_core_web_sm library yet\n",
    "### ! python -m spacy download en_core_web_sm\n",
    "import en_core_web_sm\n",
    "nlp = en_core_web_sm.load()\n",
    "\n",
    "## vectorizer\n",
    "from sklearn.feature_extraction.text import CountVectorizer\n",
    "\n",
    "## sentiment\n",
    "from vaderSentiment.vaderSentiment import SentimentIntensityAnalyzer\n",
    "\n",
    "## lda\n",
    "from gensim import corpora\n",
    "import gensim\n",
    "\n",
    "from collections import Counter\n",
    "\n",
    "## repeated printouts and wide-format text\n",
    "from IPython.core.interactiveshell import InteractiveShell\n",
    "InteractiveShell.ast_node_interactivity = \"all\"\n",
    "pd.set_option('display.max_colwidth', None)"
   ]
  },
  {
   "cell_type": "markdown",
   "metadata": {},
   "source": [
    "## 0.1 Load and clean text data"
   ]
  },
  {
   "cell_type": "code",
   "execution_count": 4,
   "metadata": {},
   "outputs": [
    {
     "data": {
      "text/html": [
       "<div>\n",
       "<style scoped>\n",
       "    .dataframe tbody tr th:only-of-type {\n",
       "        vertical-align: middle;\n",
       "    }\n",
       "\n",
       "    .dataframe tbody tr th {\n",
       "        vertical-align: top;\n",
       "    }\n",
       "\n",
       "    .dataframe thead th {\n",
       "        text-align: right;\n",
       "    }\n",
       "</style>\n",
       "<table border=\"1\" class=\"dataframe\">\n",
       "  <thead>\n",
       "    <tr style=\"text-align: right;\">\n",
       "      <th></th>\n",
       "      <th>id</th>\n",
       "      <th>title</th>\n",
       "      <th>contents</th>\n",
       "      <th>date</th>\n",
       "      <th>topics_clean</th>\n",
       "      <th>components_clean</th>\n",
       "    </tr>\n",
       "  </thead>\n",
       "  <tbody>\n",
       "    <tr>\n",
       "      <th>0</th>\n",
       "      <td>None</td>\n",
       "      <td>Convicted Bomb Plotter Sentenced to 30 Years</td>\n",
       "      <td>PORTLAND, Oregon. – Mohamed Osman Mohamud, 23, who was convicted in 2013 of attempting to use a weapon of mass destruction (explosives) in connection with a plot to detonate a vehicle bomb at an annual Christmas tree lighting ceremony in Portland, was sentenced today to serve 30 years in prison, followed by a lifetime term of supervised release. Mohamud, a naturalized U.S. citizen from Somalia and former resident of Corvallis, Oregon, was arrested on Nov. 26, 2010, after he attempted to detonate what he believed to be an explosives-laden van that was parked near the tree lighting ceremony in Portland.  The arrest was the culmination of a long-term undercover operation, during which Mohamud was monitored closely for months as his bomb plot developed.  The device was in fact inert, and the public was never in danger from the device. At sentencing, United States District Court Judge Garr M. King, who presided over Mohamed’s 14-day trial, said “the intended crime was horrific,” and that the defendant, even though he was presented with options by undercover FBI employees, “never once expressed a change of heart.”  King further noted that the Christmas tree ceremony was attended by up to 10,000 people, and that the defendant “wanted everyone to leave either dead or injured.”  King said his sentence was necessary in view of the seriousness of the crime and to serve as deterrence to others who might consider similar acts.     “With today’s sentencing, Mohamed Osman Mohamud is being held accountable for his attempted use of what he believed to be a massive bomb to attack innocent civilians attending a public Christmas tree lighting ceremony in Portland,” said John P. Carlin, Assistant Attorney General for National Security.  “The evidence clearly indicated that Mohamud was intent on killing as many people as possible with his attack.  Fortunately, law enforcement was able to identify him as a threat, insert themselves in the place of a terrorist that Mohamud was trying to contact, and thwart Mohamud’s efforts to conduct an attack on our soil.  This case highlights how the use of undercover operations against would-be terrorists allows us to engage and disrupt those who wish to commit horrific acts of violence against the innocent public.  The many agents, analysts, and prosecutors who have worked on this case deserve great credit for their roles in protecting Portland from the threat posed by this defendant and ensuring that he was brought to justice.” “This trial provided a rare glimpse into the techniques Al Qaeda employs to radicalize home-grown extremists,” said Amanda Marshall, U.S. Attorney for the District of Oregon.  “With the sentencing today, the court has held this defendant accountable.   I thank the dedicated professionals in the law enforcement and intelligence communities who were responsible for this successful outcome.  I look forward to our continued work with Muslim communities in Oregon who are committed to ensuring that all young people are safe from extremists who seek to radicalize others to engage in violence.”  According to the trial evidence, in February 2009, Mohamud began communicating via e-mail with Samir Khan, a now-deceased al Qaeda terrorist who published Jihad Recollections, an online magazine that advocated violent jihad, and who also published Inspire, the official magazine of al-Qaeda in the Arabian Peninsula.  Between February and August 2009, Mohamed exchanged approximately 150 emails with Khan.  Mohamud wrote several articles for Jihad Recollections that were published under assumed names. In August 2009, Mohamud was in email contact with Amro Al-Ali, a Saudi national who was in Yemen at the time and is today in custody in Saudi Arabia for terrorism offenses.  Al-Ali sent Mohamud detailed e-mails designed to facilitate Mohamud’s travel to Yemen to train for violent jihad.  In December 2009, while Al-Ali was in the northwest frontier province of Pakistan, Mohamud and Al-Ali discussed the possibility of Mohamud traveling to Pakistan to join Al-Ali in terrorist activities. Mohamud responded to Al-Ali in an e-mail: “yes, that would be wonderful, just tell me what I need to do.”  Al-Ali referred Mohamud to a second associate overseas and provided Mohamud with a name and email address to facilitate the process. In the following months, Mohamud made several unsuccessful attempts to contact Al-Ali’s associate.  Ultimately, an FBI undercover operative contacted Mohamud via email under the guise of being an associate of Al-Ali’s.  Mohamud and the FBI undercover operative agreed to meet in Portland in July 2010.  At the meeting, Mohamud told the FBI undercover operative he had written articles that were published in Jihad Recollections.  Mohamud also said that he wanted to become “operational.”  Asked what he meant by “operational,” Mohamud said he wanted to put an explosion together, but needed help. According to evidence presented at trial, at a meeting in August 2010, Mohamud told undercover FBI operatives he had been thinking of committing violent jihad since the age of 15.  Mohamud then told the undercover FBI operatives that he had identified a potential target for a bomb: the annual Christmas tree lighting ceremony in Portland’s Pioneer Courthouse Square on Nov. 26, 2010.  The undercover FBI operatives cautioned Mohamud several times about the seriousness of this plan, noting there would be many people at the event, including children, and emphasized that Mohamud could abandon his attack plans at any time with no shame.  Mohamud indicated the deaths would be justified and that he would not mind carrying out a suicide attack on the crowd. According to evidence presented at trial, in the ensuing months Mohamud continued to express his interest in carrying out the attack and worked on logistics.  On Nov. 4, 2010, Mohamud and the undercover FBI operatives traveled to a remote location in Lincoln County, Oregon, where they detonated a bomb concealed in a backpack as a trial run for the upcoming attack.  During the drive back to Corvallis, Mohamud was asked if was capable looking at all the bodies of those who would be killed during the explosion.  In response, Mohamud noted, “I want whoever is attending that event to be, to leave either dead or injured.”  Mohamud later recorded a video of himself, with the assistance of the undercover FBI operatives, in which he read a statement that offered his rationale for his bomb attack.  On Nov. 18, 2010, undercover FBI operatives picked up Mohamud to travel to Portland to finalize the details of the attack.  On Nov. 26, 2010, just hours before the planned attack, Mohamud examined the 1,800 pound bomb in the van and remarked that it was “beautiful.”  Later that day, Mohamud was arrested after he attempted to remotely detonate the inert vehicle bomb rked near the Christmas tree lighting ceremony This case was investigated by the FBI, with assistance from the Oregon State Police, the Corvallis Police Department, the Lincoln County Sheriff’s Office and the Portland Police Bureau.  The prosecution was handled by Assistant U.S. Attorneys Ethan D. Knight and Pamala Holsinger from the U.S. Attorney’s Office for the District of Oregon.  Trial Attorney Jolie F. Zimmerman, from the Counterterrorism Section of the Justice Department’s National Security Division, assisted. # # # 14-1077</td>\n",
       "      <td>2014-10-01T00:00:00-04:00</td>\n",
       "      <td>No topic</td>\n",
       "      <td>National Security Division (NSD)</td>\n",
       "    </tr>\n",
       "    <tr>\n",
       "      <th>1</th>\n",
       "      <td>12-919</td>\n",
       "      <td>$1 Million in Restitution Payments Announced to Preserve North Carolina Wetlands</td>\n",
       "      <td>WASHINGTON – North Carolina’s Waccamaw River watershed will benefit from a $1 million restitution order from a federal court, funding environmental projects to acquire and preserve wetlands in an area damaged by illegal releases of wastewater from a corporate hog farm, announced Ignacia S. Moreno, Assistant Attorney General of the Justice Department’s Environment and Natural Resources Division; U.S. Attorney for the Eastern District of North Carolina Thomas G. Walker; Director Greg McLeod from the North Carolina State Bureau of Investigation; and Camilla M. Herlevich, Executive Director of the North Carolina Coastal Land Trust.   Freedman Farms Inc. was sentenced in February 2012 to five years of probation and ordered to pay $1.5 million in fines, restitution and community service payments for violating the Clean Water Act when it discharged hog waste into a stream that leads to the Waccamaw River.  William B. Freedman, president of Freedman Farms, was sentenced to six months in prison to be followed by six months of home confinement.  Freedman Farms also is required to implement a comprehensive environmental compliance program and institute an annual training program.   In an order issued on April 19, 2012, the court ordered that the defendants would be responsible for restitution of $1 million in the form of five annual payments starting in January 2013, which the court will direct to the North Carolina Coastal Land Trust (NCCLT).  The NCCLT plans to use the money to acquire and conserve land along streams in the Waccamaw watershed.  The court also directed a $75,000 community service payment to the Southern Environmental Enforcement Network, an organization dedicated to environmental law enforcement training and information sharing in the region.    “The resolution of the case against Freedman Farms demonstrates the commitment of the Department of Justice to enforcing the Clean Water Act to ensure the protection of human health and the environment,” said Assistant Attorney General Moreno.  “The court-ordered restitution in this case will conserve wetlands for the benefit of the people of North Carolina.  By enforcing the nation’s environmental laws, we will continue to ensure that concentrated animal feeding operations (CAFOs) operate without threatening our drinking water, the health of our communities and the environment.”   “This office is committed to doing our part to hold accountable those who commit crimes against our environment, which can cause serious health problems to residents and damage the environment that makes North Carolina such a beautiful place to live and visit,” said U.S. Attorney Walker.   “This case shows what we can accomplish when our SBI agents work closely with their local, state and federal partners to investigate environmental crimes and hold the polluters accountable,” said Director McLeod.  “We’ll continue our efforts to fight illegal pollution that damages our water and puts the public’s health at risk.”    “The Waccamaw is unique and wild,” said Director Herlevich of the North Carolina Coastal Land Trust. “Its watershed includes some of the most extensive cypress gum swamps in the state, and its headwaters at Lake Waccamaw contain fish that are found nowhere else on Earth.  We appreciate the trust of the court and the U. S. Attorney, and we look forward to using these funds for conservation projects in a river system that is one of our top conservation priorities.”   According to evidence presented in court, in December 2007 Freedman Farms discharged hog waste into Browder’s Branch, a tributary to the Waccamaw River that flows through the White Marsh, a large wetlands complex.  Freedman Farms, located in Columbus County, N.C., is in the business of raising hogs for market, and this particular farm had some 4,800 hogs.  The hog waste was supposed to be directed to two lagoons for treatment and disposal.  Instead, hog waste was discharged from Freedman Farms directly into Browder’s Branch.    The Clean Water Act is a federal law that makes it illegal to knowingly or negligently discharge a pollutant into a water of the United States.    The Freedman case was investigated by the U.S. Environmental Protection Agency (EPA) Criminal Investigation Division, the U.S. Army Corps of Engineers and the North Carolina State Bureau of Investigation, with assistance from the EPA Science and Ecosystem Support Division.  The case was prosecuted by Assistant U.S. Attorney J. Gaston B. Williams of the Eastern District of North Carolina and Trial Attorney Mary Dee Carraway of the Environmental Crimes Section of the Justice Department’s Environment and Natural Resources Division.   The North Carolina Coastal Land Trust is celebrating its 20th anniversary of saving special lands in eastern North Carolina. The organization has protected nearly 50,000 acres of lands with scenic, recreational, historic and ecological values. North Carolina Coastal Land Trust has saved streams and wetlands that provide clean water, forests that are havens for wildlife, working farms that provide local food and nature parks that everyone can enjoy.  More information about the Coastal Land Trust is available at www.coastallandtrust.org.</td>\n",
       "      <td>2012-07-25T00:00:00-04:00</td>\n",
       "      <td>No topic</td>\n",
       "      <td>Environment and Natural Resources Division</td>\n",
       "    </tr>\n",
       "    <tr>\n",
       "      <th>2</th>\n",
       "      <td>11-1002</td>\n",
       "      <td>$1 Million Settlement Reached for Natural Resource Damages at Superfund Site in Massachusetts</td>\n",
       "      <td>BOSTON– A $1-million settlement has been reached for natural resource damages (NRD) at the Blackburn &amp; Union Privileges Superfund Site in Walpole, Mass., the Departments of Justice and Interior (DOI), and the Office of the Massachusetts Attorney General announced today.                The Blackburn &amp; Union Privileges Superfund Site includes 22 acres of contaminated land and water in Walpole. The contamination resulted from the operations of various industrial facilities dating back to the 19th century that exposed the site to asbestos, arsenic, lead and other hazardous substances.                The private parties involved in the settlement include two former owners and operators of the site, W.R. Grace &amp; Co.– Conn. and Tyco Healthcare Group LP, as well as the current owners, BIM Investment Corp. and Shaffer Realty Nominee Trust.               From about 1915 to 1936, a predecessor of W.R. Grace manufactured asbestos brake linings and clutch linings on a large portion of the property. From 1946 to about 1983, a predecessor of Tyco Healthcare operated a cotton fabric manufacturing business, which used caustic solutions, on a portion of the property.               In a 2010 settlement with U.S. Environmental Protection Agency (EPA), the four private parties agreed to perform a remedial action to clean up the site at an estimated cost of $13 million. The consent decree lodged today resolves both state and federal NRD liability claims; it requires the parties to pay $1,094,169.56 to the state and federal natural resource trustees, the Massachusetts Executive Office of Energy and Environmental Affairs (EEA) and DOI, for injuries to ecological resources including groundwater and wetlands, which provide habitat for waterfowl and wading birds, including black ducks and great blue herons.  The trustees will use the settlement funds for natural resource restoration projects in the area.               “This settlement demonstrates our commitment to recovering damages from the parties responsible for injury to natural resources, in partnership with state trustees,” said Bruce Gelber, Acting Deputy Assistant Attorney General of the Justice Department’s Environment and Natural Resources Division.               “The citizens of Walpole have had to live with the environmental impact of this contamination for many years,” Attorney General Martha Coakley said. “We are pleased that today’s agreement will not only require the responsible parties to reimburse taxpayer dollars, but will also provide funding to begin restoring or replacing the wetland and other natural resources.”                 The consent decree was lodged in the U.S. District Court for Massachusetts.     A portion of the funds, $300,000, will be distributed to the EEA-sponsored groundwater restoration projects; $575,000 will be used for ecological restoration projects jointly sponsored by EEA and the U.S. Fish and Wildlife Service (FWS).               In addition, $125,000 will go for projects jointly sponsored by EEA and FWS that achieve both ecological and groundwater restoration; $57,491.34 will be allocated for reimbursement for the FWS’s assessment costs; and $36,678.22 will be distributed as reimbursement for the commonwealth’s assessment costs.       “This settlement provides the means for a range of projects designed to compensate the public for decades of groundwater and other ecological damage at this site.  I encourage local citizens and organizations to become engaged in the public process that will take place as we solicit, take comment on, and choose these projects in the months ahead,” said Energy and Environmental Affairs Secretary Richard K. Sullivan Jr., who serves as the Commonwealth’s Natural Resources Damages trustee.       “This settlement will help restore habitat for fish and wildlife in the Neponset River watershed,” said Tom Chapman of the FWS New England Field Office. “We look forward to working with the commonwealth and local stakeholders to implement restoration.”               “More than 100 years-worth of industrial activities at this site caused major environmental contamination to the Neponset River, nearby wetlands and to groundwater below the site,” said Commissioner Kenneth Kimmell of the Massachusetts Department of Environmental Protection (MassDEP), which will staff the Trustee Council for the Commonwealth. “We will ensure that the community and the public will be active participants in the process to use these NRD funds to restore the injured natural resources.”                Under the federal Comprehensive Environmental Response, Compensation and Liability Act, EEA and DOI, acting through the FWS, are the designated state and federal natural resource Trustees for the site. The site has been listed on the EPA’s National Priorities List since 1994.        The consent decree is subject to a public comment period and court approval. A copy of the consent decree and instructions about how to submit comments is available on www.usdoj.gov/enrd/Consent_Decrees.html  .               After the consent decree is approved, EEA and FWS will develop proposed restoration plans to use the settlement funds for restoration projects. The proposed restoration plans will also be made available to the public for review and comment.                Assistant Attorney General Matthew Brock of Massachusetts Attorney General Coakley's Environmental Protection Division handled this matter.  Attorney Jennifer Davis of MassDEP, Attorney Anna Blumkin of EEA and MassDEP’s NRD Coordinator Karen Pelto also worked on this settlement.</td>\n",
       "      <td>2011-08-03T00:00:00-04:00</td>\n",
       "      <td>No topic</td>\n",
       "      <td>Environment and Natural Resources Division</td>\n",
       "    </tr>\n",
       "    <tr>\n",
       "      <th>3</th>\n",
       "      <td>10-015</td>\n",
       "      <td>10 Las Vegas Men Indicted \\r\\nfor Falsifying Vehicle Emissions Tests</td>\n",
       "      <td>WASHINGTON—A federal grand jury in Las Vegas today returned indictments against 10 Nevada-certified emissions testers for falsifying vehicle emissions test reports, the Justice Department announced.   Each defendant faces one felony Clean Air Act count for falsifying reports between November 2007 and May 2009. The number of falsifications varied by defendant, with some defendants having falsified approximately 250 records, while others falsified more than double that figure. One defendant is alleged to have falsified over 700 reports.   The individuals indicted include:     Escudero resides in Pahrump, Nev. All other individuals are from Clark County, Nev.    The 10 defendants are alleged to have engaged in a practice known as \"clean scanning\" vehicles. The scheme involved entering the Vehicle Identification Number (VIN) for a vehicle that would not pass the emissions test into the computerized system, then connecting a different vehicle the testers knew would pass the test. These falsifications were allegedly performed for anywhere from $10 to $100 over and above the usual emissions testing fee.    The U.S. Environmental Protection Agency (EPA), under the Clean Air Act, requires the state of Nevada to conduct vehicle emissions testing in certain areas because the areas exceed national standards for carbon monoxide and ozone. Las Vegas is currently required to perform emissions testing.    To obtain a registration renewal, vehicle owners bring the vehicles to a licensed inspection station for testing. The emissions inspector logs into a computer to activate the system by using a unique password issued to the emissions inspector. The emissions inspector manually inputs the vehicle’s VIN to identify the tested vehicle, then connects the vehicle for model year 1996 and later to an onboard diagnostics port connected to an analyzer. The analyzer downloads data from the vehicle’s computer, analyzes the data and provides a \"pass\" or \"fail\" result. The pass or fail result and vehicle identification data are reported on the Vehicle Inspection Report. It is a crime to knowingly alter or conceal any record or other document required to be maintained by the Clean Air Act.     \"Falsifications of vehicle emissions testing, such as those alleged in the indictments unsealed today, are serious matters and we intend to use all of our enforcement tools to stop this harmful practice. These actions undermine a system that is designed to reduce air pollutants including smog and provide better air quality for the citizens of Nevada,\" said Ignacia S. Moreno, Assistant Attorney General for the Justice Department’s Environment and Natural Resources Division.    \"The residents of Nevada deserve to know that the vast majority of licensed vehicle emission inspectors are not corrupt and are not circumventing emission testing procedures,\" said U.S. Attorney Bogden. \"These indictments should serve as a clear warning to offenders that the Department of Justice will prosecute you if you make fraudulent statements and reports concerning compliance with the federal Clean Air Act.\"    \"Lying about car emissions means dirtier air, which is especially of concern in areas like Las Vegas that are already experiencing air quality problems,\" said Cynthia Giles, Assistant Administrator for Enforcement and Compliance Assurance at EPA. \"We will take aggressive action to ensure communities have clean air.\"    The maximum penalty for the felony violations contained in the indictments includes up to two years in prison and a fine of up to $250,000.    An indictment is merely an accusation, and a defendant is presumed innocent unless and until proven guilty in a court of law.    The case was investigated by the EPA, Criminal Investigation Division; and the Nevada Department of Motor Vehicles Compliance Enforcement Division. The case is being prosecuted by the U.S. Attorney’s Office for the District of Nevada and the Justice Department’s Environmental Crimes Section.</td>\n",
       "      <td>2010-01-08T00:00:00-05:00</td>\n",
       "      <td>No topic</td>\n",
       "      <td>Environment and Natural Resources Division</td>\n",
       "    </tr>\n",
       "    <tr>\n",
       "      <th>4</th>\n",
       "      <td>18-898</td>\n",
       "      <td>$100 Million Settlement Will Speed Cleanup Work at Centredale Manor Superfund Site in North Providence, R.I.</td>\n",
       "      <td>The U.S. Department of Justice, the U.S. Environmental Protection Agency (EPA), and the Rhode Island Department of Environmental Management (RIDEM) announced today that two subsidiaries of Stanley Black &amp; Decker Inc.—Emhart Industries Inc. and Black &amp; Decker Inc.—have agreed to clean up dioxin contaminated sediment and soil at the Centredale Manor Restoration Project Superfund Site in North Providence and Johnston, Rhode Island.  “We are pleased to reach a resolution through collaborative work with the responsible parties, EPA, and other stakeholders,” said Acting Assistant Attorney General Jeffrey H. Wood for the Justice Department's Environment and Natural Resources Division . “Today’s settlement ends protracted litigation and allows for important work to get underway to restore a healthy environment for citizens living in and around the Centredale Manor Site and the Woonasquatucket River.” “This settlement demonstrates the tremendous progress we are achieving working with responsible parties, states, and our federal partners to expedite sites through the entire Superfund remediation process,” said EPA Acting Administrator Andrew Wheeler. “The Centredale Manor Site has been on the National Priorities List for 18 years; we are taking charge and ensuring the Agency makes good on its promise to clean it up for the betterment of the environment and those communities affected.” “Successfully concluding this settlement paves the way for EPA to make good on our commitment to aggressively pursue cleaning up the Centredale Manor Superfund Site,” said EPA New England Regional Administrator Alexandra Dunn. “We are excited to get to work on the cleanup at this site, and get it closer to the goal of being fully utilized by the North Providence and Johnston communities.” “We are pleased that the collective efforts of the State of Rhode Island, EPA, and DOJ in these negotiations have concluded in this major milestone toward the cleanup of the Centredale Manor Restoration Superfund site and are consistent with our long-standing efforts to make the polluter pay,” said RIDEM Director Janet Coit. “The settlement will speed up a remedy that protects public health and the river environment, and moves us closer to the day that we can reclaim recreational uses of this beautiful river resource.” The settlement, which includes cleanup work in the Woonasquatucket River (River) and bordering residential and commercial properties along the River, requires the companies to perform the remedy selected by EPA for the Site in 2012, which is estimated to cost approximately $100 million, and resolves longstanding litigation. The cleanup remedy includes excavation of contaminated sediment and floodplain soil from the Woonasquatucket River, including from adjacent residential properties. Once the cleanup remedy is completed, full access to the Woonasquatucket River should be restored for local citizens. The cleanup will be a step toward the State’s goal of a fishable and swimmable river. The work will also include upgrading caps over contaminated soil in the peninsula area of the Site that currently house two high-rise apartment buildings. The settlement also ensures that the long-term monitoring and maintenance of the site, as directed in the remedy, will be implemented to ensure that public health is protected.  Under the settlement, Emhart and Black &amp; Decker will reimburse EPA for approximately $42 million in past costs incurred at the Site. The companies will also reimburse EPA and the State of Rhode Island for future costs incurred by those agencies in overseeing the work required by the settlement. The settlement will also include payments on behalf of two federal agencies to resolve claims against those agencies. These payments, along with prior settlements related to the Site, will result in a 100 percent recovery for the United States of its past and future response costs related to the Site. Litigation related to the Site has been ongoing for nearly eight years. While the Federal District Court found Black &amp; Decker and Emhart to be liable for their hazardous waste and responsible to conduct the cleanup of the Site, it had also ruled that EPA needed to reconsider certain aspects of that cleanup. EPA appealed the decision requiring it to reconsider aspects of the cleanup. This settlement, once entered by the District Court, will resolve the litigation between the United States, Rhode Island, and Emhart and Black and Decker, allowing the cleanup of the Site to begin. The Site spans a one and a half mile stretch of the Woonasquatucket River and encompasses a nine-acre peninsula, two ponds and a significant forested wetland. From the 1940s to the early 1970s, Emhart’s predecessor operated a chemical manufacturing facility on the peninsula and used a raw material that was contaminated with 2,3,7,8-tetrachlorodibenzo-p-dioxin, a toxic form of dioxin. The Site property was also previously used by a barrel refurbisher. Elevated levels of dioxins and other contaminants have been detected in soil, groundwater, sediment, surface water and fish.  The Site was added to the National Priorities List (NPL) in 2000, and in December 2017, EPA included the Centredale Manor Restoration Project Superfund Site on a list of Superfund sites targeted for immediate and intense attention. Several short-term actions were previously performed at the Site to address immediate threats to the residents and minimize potential erosion and downstream transport of contaminated soil and sediment. This settlement is the latest agreement EPA has reached since the Site was listed on the NPL. Prior agreements addressed the performance and recovery of costs for the past environmental investigations and interim cleanup actions from Emhart, the barrel reconditioning company, the current owners of the peninsula portion of the Site, and other potentially responsible parties. The Consent Decree, lodged in the U.S. District Court of Rhode Island, will be posted in the Federal Register and available for public comment for a period of 30 days. The Consent Decree can be viewed on the Justice Department website: www.justice.gov/enrd/Consent_Decrees.html.  EPA information on the Centredale Manor Superfund Site: www.epa.gov/superfund/centredale.</td>\n",
       "      <td>2018-07-09T00:00:00-04:00</td>\n",
       "      <td>Environment</td>\n",
       "      <td>Environment and Natural Resources Division</td>\n",
       "    </tr>\n",
       "  </tbody>\n",
       "</table>\n",
       "</div>"
      ],
      "text/plain": [
       "        id  \\\n",
       "0     None   \n",
       "1  12-919    \n",
       "2  11-1002   \n",
       "3   10-015   \n",
       "4   18-898   \n",
       "\n",
       "                                                                                                          title  \\\n",
       "0                                                                  Convicted Bomb Plotter Sentenced to 30 Years   \n",
       "1                              $1 Million in Restitution Payments Announced to Preserve North Carolina Wetlands   \n",
       "2                 $1 Million Settlement Reached for Natural Resource Damages at Superfund Site in Massachusetts   \n",
       "3                                          10 Las Vegas Men Indicted \\r\\nfor Falsifying Vehicle Emissions Tests   \n",
       "4  $100 Million Settlement Will Speed Cleanup Work at Centredale Manor Superfund Site in North Providence, R.I.   \n",
       "\n",
       "                                                                                                                                                                                                                                                                                                                                                                                                                                                                                                                                                                                                                                                                                                                                                                                                                                                                                                                                                                                                                                                                                                                                                                                                                                                                                                                                                                                                                                                                                                                                                                                                                                                                                                                                                                                                                                                                                                                                                                                                                                                                                                                                                                                                                                                                                                                                                                                                                                                                                                                                                                                                                                                                                                                                                                                                                                                                                                                                                                                                                                                                                                                                                                                                                                                                                                                                                                                                                                                                                                                                                                                                                                                                                                                                                                                                                                                                                                                                                                                                                                                                                                                                                                                                                                                                                                                                                                                                                                                                                                                                                                                                                                                                                                                                                                                                                                                                                                                                                                                                                                                                                                                                                                                                                                                                                                                                                                                                                                                                                                                                                                                                                                                                                                                                                                                                                                                                                                                                                                                                                                                                                                                                                                                                                                                                                                                                                                                                                                                                                                                                                                                                                                                                                                                                                                                                                                                                                                                                                                                                                                                                                                                                                                                                                                                                                                                                                                                                                                                                                                                                                                                                                                                                          contents  \\\n",
       "0  PORTLAND, Oregon. – Mohamed Osman Mohamud, 23, who was convicted in 2013 of attempting to use a weapon of mass destruction (explosives) in connection with a plot to detonate a vehicle bomb at an annual Christmas tree lighting ceremony in Portland, was sentenced today to serve 30 years in prison, followed by a lifetime term of supervised release. Mohamud, a naturalized U.S. citizen from Somalia and former resident of Corvallis, Oregon, was arrested on Nov. 26, 2010, after he attempted to detonate what he believed to be an explosives-laden van that was parked near the tree lighting ceremony in Portland.  The arrest was the culmination of a long-term undercover operation, during which Mohamud was monitored closely for months as his bomb plot developed.  The device was in fact inert, and the public was never in danger from the device. At sentencing, United States District Court Judge Garr M. King, who presided over Mohamed’s 14-day trial, said “the intended crime was horrific,” and that the defendant, even though he was presented with options by undercover FBI employees, “never once expressed a change of heart.”  King further noted that the Christmas tree ceremony was attended by up to 10,000 people, and that the defendant “wanted everyone to leave either dead or injured.”  King said his sentence was necessary in view of the seriousness of the crime and to serve as deterrence to others who might consider similar acts.     “With today’s sentencing, Mohamed Osman Mohamud is being held accountable for his attempted use of what he believed to be a massive bomb to attack innocent civilians attending a public Christmas tree lighting ceremony in Portland,” said John P. Carlin, Assistant Attorney General for National Security.  “The evidence clearly indicated that Mohamud was intent on killing as many people as possible with his attack.  Fortunately, law enforcement was able to identify him as a threat, insert themselves in the place of a terrorist that Mohamud was trying to contact, and thwart Mohamud’s efforts to conduct an attack on our soil.  This case highlights how the use of undercover operations against would-be terrorists allows us to engage and disrupt those who wish to commit horrific acts of violence against the innocent public.  The many agents, analysts, and prosecutors who have worked on this case deserve great credit for their roles in protecting Portland from the threat posed by this defendant and ensuring that he was brought to justice.” “This trial provided a rare glimpse into the techniques Al Qaeda employs to radicalize home-grown extremists,” said Amanda Marshall, U.S. Attorney for the District of Oregon.  “With the sentencing today, the court has held this defendant accountable.   I thank the dedicated professionals in the law enforcement and intelligence communities who were responsible for this successful outcome.  I look forward to our continued work with Muslim communities in Oregon who are committed to ensuring that all young people are safe from extremists who seek to radicalize others to engage in violence.”  According to the trial evidence, in February 2009, Mohamud began communicating via e-mail with Samir Khan, a now-deceased al Qaeda terrorist who published Jihad Recollections, an online magazine that advocated violent jihad, and who also published Inspire, the official magazine of al-Qaeda in the Arabian Peninsula.  Between February and August 2009, Mohamed exchanged approximately 150 emails with Khan.  Mohamud wrote several articles for Jihad Recollections that were published under assumed names. In August 2009, Mohamud was in email contact with Amro Al-Ali, a Saudi national who was in Yemen at the time and is today in custody in Saudi Arabia for terrorism offenses.  Al-Ali sent Mohamud detailed e-mails designed to facilitate Mohamud’s travel to Yemen to train for violent jihad.  In December 2009, while Al-Ali was in the northwest frontier province of Pakistan, Mohamud and Al-Ali discussed the possibility of Mohamud traveling to Pakistan to join Al-Ali in terrorist activities. Mohamud responded to Al-Ali in an e-mail: “yes, that would be wonderful, just tell me what I need to do.”  Al-Ali referred Mohamud to a second associate overseas and provided Mohamud with a name and email address to facilitate the process. In the following months, Mohamud made several unsuccessful attempts to contact Al-Ali’s associate.  Ultimately, an FBI undercover operative contacted Mohamud via email under the guise of being an associate of Al-Ali’s.  Mohamud and the FBI undercover operative agreed to meet in Portland in July 2010.  At the meeting, Mohamud told the FBI undercover operative he had written articles that were published in Jihad Recollections.  Mohamud also said that he wanted to become “operational.”  Asked what he meant by “operational,” Mohamud said he wanted to put an explosion together, but needed help. According to evidence presented at trial, at a meeting in August 2010, Mohamud told undercover FBI operatives he had been thinking of committing violent jihad since the age of 15.  Mohamud then told the undercover FBI operatives that he had identified a potential target for a bomb: the annual Christmas tree lighting ceremony in Portland’s Pioneer Courthouse Square on Nov. 26, 2010.  The undercover FBI operatives cautioned Mohamud several times about the seriousness of this plan, noting there would be many people at the event, including children, and emphasized that Mohamud could abandon his attack plans at any time with no shame.  Mohamud indicated the deaths would be justified and that he would not mind carrying out a suicide attack on the crowd. According to evidence presented at trial, in the ensuing months Mohamud continued to express his interest in carrying out the attack and worked on logistics.  On Nov. 4, 2010, Mohamud and the undercover FBI operatives traveled to a remote location in Lincoln County, Oregon, where they detonated a bomb concealed in a backpack as a trial run for the upcoming attack.  During the drive back to Corvallis, Mohamud was asked if was capable looking at all the bodies of those who would be killed during the explosion.  In response, Mohamud noted, “I want whoever is attending that event to be, to leave either dead or injured.”  Mohamud later recorded a video of himself, with the assistance of the undercover FBI operatives, in which he read a statement that offered his rationale for his bomb attack.  On Nov. 18, 2010, undercover FBI operatives picked up Mohamud to travel to Portland to finalize the details of the attack.  On Nov. 26, 2010, just hours before the planned attack, Mohamud examined the 1,800 pound bomb in the van and remarked that it was “beautiful.”  Later that day, Mohamud was arrested after he attempted to remotely detonate the inert vehicle bomb rked near the Christmas tree lighting ceremony This case was investigated by the FBI, with assistance from the Oregon State Police, the Corvallis Police Department, the Lincoln County Sheriff’s Office and the Portland Police Bureau.  The prosecution was handled by Assistant U.S. Attorneys Ethan D. Knight and Pamala Holsinger from the U.S. Attorney’s Office for the District of Oregon.  Trial Attorney Jolie F. Zimmerman, from the Counterterrorism Section of the Justice Department’s National Security Division, assisted. # # # 14-1077   \n",
       "1                                                                                                                                                                                                                                                                                                                                                                                                                                                                                                                                                                                                                                                                                                                                                                                                                                                                                                                                                                                                                                                                                                                                                                                                                                                                                                                                                                                                                                                                                                                                                                                                                                                                                                                                                                                                                                                                                                                                                                                                                                                                                                                                                                                                                                       WASHINGTON – North Carolina’s Waccamaw River watershed will benefit from a $1 million restitution order from a federal court, funding environmental projects to acquire and preserve wetlands in an area damaged by illegal releases of wastewater from a corporate hog farm, announced Ignacia S. Moreno, Assistant Attorney General of the Justice Department’s Environment and Natural Resources Division; U.S. Attorney for the Eastern District of North Carolina Thomas G. Walker; Director Greg McLeod from the North Carolina State Bureau of Investigation; and Camilla M. Herlevich, Executive Director of the North Carolina Coastal Land Trust.   Freedman Farms Inc. was sentenced in February 2012 to five years of probation and ordered to pay $1.5 million in fines, restitution and community service payments for violating the Clean Water Act when it discharged hog waste into a stream that leads to the Waccamaw River.  William B. Freedman, president of Freedman Farms, was sentenced to six months in prison to be followed by six months of home confinement.  Freedman Farms also is required to implement a comprehensive environmental compliance program and institute an annual training program.   In an order issued on April 19, 2012, the court ordered that the defendants would be responsible for restitution of $1 million in the form of five annual payments starting in January 2013, which the court will direct to the North Carolina Coastal Land Trust (NCCLT).  The NCCLT plans to use the money to acquire and conserve land along streams in the Waccamaw watershed.  The court also directed a $75,000 community service payment to the Southern Environmental Enforcement Network, an organization dedicated to environmental law enforcement training and information sharing in the region.    “The resolution of the case against Freedman Farms demonstrates the commitment of the Department of Justice to enforcing the Clean Water Act to ensure the protection of human health and the environment,” said Assistant Attorney General Moreno.  “The court-ordered restitution in this case will conserve wetlands for the benefit of the people of North Carolina.  By enforcing the nation’s environmental laws, we will continue to ensure that concentrated animal feeding operations (CAFOs) operate without threatening our drinking water, the health of our communities and the environment.”   “This office is committed to doing our part to hold accountable those who commit crimes against our environment, which can cause serious health problems to residents and damage the environment that makes North Carolina such a beautiful place to live and visit,” said U.S. Attorney Walker.   “This case shows what we can accomplish when our SBI agents work closely with their local, state and federal partners to investigate environmental crimes and hold the polluters accountable,” said Director McLeod.  “We’ll continue our efforts to fight illegal pollution that damages our water and puts the public’s health at risk.”    “The Waccamaw is unique and wild,” said Director Herlevich of the North Carolina Coastal Land Trust. “Its watershed includes some of the most extensive cypress gum swamps in the state, and its headwaters at Lake Waccamaw contain fish that are found nowhere else on Earth.  We appreciate the trust of the court and the U. S. Attorney, and we look forward to using these funds for conservation projects in a river system that is one of our top conservation priorities.”   According to evidence presented in court, in December 2007 Freedman Farms discharged hog waste into Browder’s Branch, a tributary to the Waccamaw River that flows through the White Marsh, a large wetlands complex.  Freedman Farms, located in Columbus County, N.C., is in the business of raising hogs for market, and this particular farm had some 4,800 hogs.  The hog waste was supposed to be directed to two lagoons for treatment and disposal.  Instead, hog waste was discharged from Freedman Farms directly into Browder’s Branch.    The Clean Water Act is a federal law that makes it illegal to knowingly or negligently discharge a pollutant into a water of the United States.    The Freedman case was investigated by the U.S. Environmental Protection Agency (EPA) Criminal Investigation Division, the U.S. Army Corps of Engineers and the North Carolina State Bureau of Investigation, with assistance from the EPA Science and Ecosystem Support Division.  The case was prosecuted by Assistant U.S. Attorney J. Gaston B. Williams of the Eastern District of North Carolina and Trial Attorney Mary Dee Carraway of the Environmental Crimes Section of the Justice Department’s Environment and Natural Resources Division.   The North Carolina Coastal Land Trust is celebrating its 20th anniversary of saving special lands in eastern North Carolina. The organization has protected nearly 50,000 acres of lands with scenic, recreational, historic and ecological values. North Carolina Coastal Land Trust has saved streams and wetlands that provide clean water, forests that are havens for wildlife, working farms that provide local food and nature parks that everyone can enjoy.  More information about the Coastal Land Trust is available at www.coastallandtrust.org.   \n",
       "2                                                                                                                                                                                                                                                                                                                                                                                                                                                                                                                                                                                                                                                                                                                                                                                                                                                                                                                                                                                                                                                                                                                                                                                                                                                                                                                                                                                                                                                                                                                                                                                                                                                                                                                                                                                                                                                        BOSTON– A $1-million settlement has been reached for natural resource damages (NRD) at the Blackburn & Union Privileges Superfund Site in Walpole, Mass., the Departments of Justice and Interior (DOI), and the Office of the Massachusetts Attorney General announced today.                The Blackburn & Union Privileges Superfund Site includes 22 acres of contaminated land and water in Walpole. The contamination resulted from the operations of various industrial facilities dating back to the 19th century that exposed the site to asbestos, arsenic, lead and other hazardous substances.                The private parties involved in the settlement include two former owners and operators of the site, W.R. Grace & Co.– Conn. and Tyco Healthcare Group LP, as well as the current owners, BIM Investment Corp. and Shaffer Realty Nominee Trust.               From about 1915 to 1936, a predecessor of W.R. Grace manufactured asbestos brake linings and clutch linings on a large portion of the property. From 1946 to about 1983, a predecessor of Tyco Healthcare operated a cotton fabric manufacturing business, which used caustic solutions, on a portion of the property.               In a 2010 settlement with U.S. Environmental Protection Agency (EPA), the four private parties agreed to perform a remedial action to clean up the site at an estimated cost of $13 million. The consent decree lodged today resolves both state and federal NRD liability claims; it requires the parties to pay $1,094,169.56 to the state and federal natural resource trustees, the Massachusetts Executive Office of Energy and Environmental Affairs (EEA) and DOI, for injuries to ecological resources including groundwater and wetlands, which provide habitat for waterfowl and wading birds, including black ducks and great blue herons.  The trustees will use the settlement funds for natural resource restoration projects in the area.               “This settlement demonstrates our commitment to recovering damages from the parties responsible for injury to natural resources, in partnership with state trustees,” said Bruce Gelber, Acting Deputy Assistant Attorney General of the Justice Department’s Environment and Natural Resources Division.               “The citizens of Walpole have had to live with the environmental impact of this contamination for many years,” Attorney General Martha Coakley said. “We are pleased that today’s agreement will not only require the responsible parties to reimburse taxpayer dollars, but will also provide funding to begin restoring or replacing the wetland and other natural resources.”                 The consent decree was lodged in the U.S. District Court for Massachusetts.     A portion of the funds, $300,000, will be distributed to the EEA-sponsored groundwater restoration projects; $575,000 will be used for ecological restoration projects jointly sponsored by EEA and the U.S. Fish and Wildlife Service (FWS).               In addition, $125,000 will go for projects jointly sponsored by EEA and FWS that achieve both ecological and groundwater restoration; $57,491.34 will be allocated for reimbursement for the FWS’s assessment costs; and $36,678.22 will be distributed as reimbursement for the commonwealth’s assessment costs.       “This settlement provides the means for a range of projects designed to compensate the public for decades of groundwater and other ecological damage at this site.  I encourage local citizens and organizations to become engaged in the public process that will take place as we solicit, take comment on, and choose these projects in the months ahead,” said Energy and Environmental Affairs Secretary Richard K. Sullivan Jr., who serves as the Commonwealth’s Natural Resources Damages trustee.       “This settlement will help restore habitat for fish and wildlife in the Neponset River watershed,” said Tom Chapman of the FWS New England Field Office. “We look forward to working with the commonwealth and local stakeholders to implement restoration.”               “More than 100 years-worth of industrial activities at this site caused major environmental contamination to the Neponset River, nearby wetlands and to groundwater below the site,” said Commissioner Kenneth Kimmell of the Massachusetts Department of Environmental Protection (MassDEP), which will staff the Trustee Council for the Commonwealth. “We will ensure that the community and the public will be active participants in the process to use these NRD funds to restore the injured natural resources.”                Under the federal Comprehensive Environmental Response, Compensation and Liability Act, EEA and DOI, acting through the FWS, are the designated state and federal natural resource Trustees for the site. The site has been listed on the EPA’s National Priorities List since 1994.        The consent decree is subject to a public comment period and court approval. A copy of the consent decree and instructions about how to submit comments is available on www.usdoj.gov/enrd/Consent_Decrees.html  .               After the consent decree is approved, EEA and FWS will develop proposed restoration plans to use the settlement funds for restoration projects. The proposed restoration plans will also be made available to the public for review and comment.                Assistant Attorney General Matthew Brock of Massachusetts Attorney General Coakley's Environmental Protection Division handled this matter.  Attorney Jennifer Davis of MassDEP, Attorney Anna Blumkin of EEA and MassDEP’s NRD Coordinator Karen Pelto also worked on this settlement.   \n",
       "3                                                                                                                                                                                                                                                                                                                                                                                                                                                                                                                                                                                                                                                                                                                                                                                                                                                                                                                                                                                                                                                                                                                                                                                                                                                                                                                                                                                                                                                                                                                                                                                                                                                                                                                                                                                                                                                                                                                                                                                                                                                                                                                                                                                                                                                                                                                                                                                                                                                                                                                                                                                                                                                                                                                                                                                                                                                                                                                                                                                                                                                                                                                                                                                                                                                                                                                                                                                                                                                                                                                           WASHINGTON—A federal grand jury in Las Vegas today returned indictments against 10 Nevada-certified emissions testers for falsifying vehicle emissions test reports, the Justice Department announced.   Each defendant faces one felony Clean Air Act count for falsifying reports between November 2007 and May 2009. The number of falsifications varied by defendant, with some defendants having falsified approximately 250 records, while others falsified more than double that figure. One defendant is alleged to have falsified over 700 reports.   The individuals indicted include:     Escudero resides in Pahrump, Nev. All other individuals are from Clark County, Nev.    The 10 defendants are alleged to have engaged in a practice known as \"clean scanning\" vehicles. The scheme involved entering the Vehicle Identification Number (VIN) for a vehicle that would not pass the emissions test into the computerized system, then connecting a different vehicle the testers knew would pass the test. These falsifications were allegedly performed for anywhere from $10 to $100 over and above the usual emissions testing fee.    The U.S. Environmental Protection Agency (EPA), under the Clean Air Act, requires the state of Nevada to conduct vehicle emissions testing in certain areas because the areas exceed national standards for carbon monoxide and ozone. Las Vegas is currently required to perform emissions testing.    To obtain a registration renewal, vehicle owners bring the vehicles to a licensed inspection station for testing. The emissions inspector logs into a computer to activate the system by using a unique password issued to the emissions inspector. The emissions inspector manually inputs the vehicle’s VIN to identify the tested vehicle, then connects the vehicle for model year 1996 and later to an onboard diagnostics port connected to an analyzer. The analyzer downloads data from the vehicle’s computer, analyzes the data and provides a \"pass\" or \"fail\" result. The pass or fail result and vehicle identification data are reported on the Vehicle Inspection Report. It is a crime to knowingly alter or conceal any record or other document required to be maintained by the Clean Air Act.     \"Falsifications of vehicle emissions testing, such as those alleged in the indictments unsealed today, are serious matters and we intend to use all of our enforcement tools to stop this harmful practice. These actions undermine a system that is designed to reduce air pollutants including smog and provide better air quality for the citizens of Nevada,\" said Ignacia S. Moreno, Assistant Attorney General for the Justice Department’s Environment and Natural Resources Division.    \"The residents of Nevada deserve to know that the vast majority of licensed vehicle emission inspectors are not corrupt and are not circumventing emission testing procedures,\" said U.S. Attorney Bogden. \"These indictments should serve as a clear warning to offenders that the Department of Justice will prosecute you if you make fraudulent statements and reports concerning compliance with the federal Clean Air Act.\"    \"Lying about car emissions means dirtier air, which is especially of concern in areas like Las Vegas that are already experiencing air quality problems,\" said Cynthia Giles, Assistant Administrator for Enforcement and Compliance Assurance at EPA. \"We will take aggressive action to ensure communities have clean air.\"    The maximum penalty for the felony violations contained in the indictments includes up to two years in prison and a fine of up to $250,000.    An indictment is merely an accusation, and a defendant is presumed innocent unless and until proven guilty in a court of law.    The case was investigated by the EPA, Criminal Investigation Division; and the Nevada Department of Motor Vehicles Compliance Enforcement Division. The case is being prosecuted by the U.S. Attorney’s Office for the District of Nevada and the Justice Department’s Environmental Crimes Section.   \n",
       "4                                                                                                                                                                                                                                                                                                                                                                                                                                                                                                                                                                                                                                                                                                                                                                                                                                                                                                                                                                                                                                                                                                                                   The U.S. Department of Justice, the U.S. Environmental Protection Agency (EPA), and the Rhode Island Department of Environmental Management (RIDEM) announced today that two subsidiaries of Stanley Black & Decker Inc.—Emhart Industries Inc. and Black & Decker Inc.—have agreed to clean up dioxin contaminated sediment and soil at the Centredale Manor Restoration Project Superfund Site in North Providence and Johnston, Rhode Island.  “We are pleased to reach a resolution through collaborative work with the responsible parties, EPA, and other stakeholders,” said Acting Assistant Attorney General Jeffrey H. Wood for the Justice Department's Environment and Natural Resources Division . “Today’s settlement ends protracted litigation and allows for important work to get underway to restore a healthy environment for citizens living in and around the Centredale Manor Site and the Woonasquatucket River.” “This settlement demonstrates the tremendous progress we are achieving working with responsible parties, states, and our federal partners to expedite sites through the entire Superfund remediation process,” said EPA Acting Administrator Andrew Wheeler. “The Centredale Manor Site has been on the National Priorities List for 18 years; we are taking charge and ensuring the Agency makes good on its promise to clean it up for the betterment of the environment and those communities affected.” “Successfully concluding this settlement paves the way for EPA to make good on our commitment to aggressively pursue cleaning up the Centredale Manor Superfund Site,” said EPA New England Regional Administrator Alexandra Dunn. “We are excited to get to work on the cleanup at this site, and get it closer to the goal of being fully utilized by the North Providence and Johnston communities.” “We are pleased that the collective efforts of the State of Rhode Island, EPA, and DOJ in these negotiations have concluded in this major milestone toward the cleanup of the Centredale Manor Restoration Superfund site and are consistent with our long-standing efforts to make the polluter pay,” said RIDEM Director Janet Coit. “The settlement will speed up a remedy that protects public health and the river environment, and moves us closer to the day that we can reclaim recreational uses of this beautiful river resource.” The settlement, which includes cleanup work in the Woonasquatucket River (River) and bordering residential and commercial properties along the River, requires the companies to perform the remedy selected by EPA for the Site in 2012, which is estimated to cost approximately $100 million, and resolves longstanding litigation. The cleanup remedy includes excavation of contaminated sediment and floodplain soil from the Woonasquatucket River, including from adjacent residential properties. Once the cleanup remedy is completed, full access to the Woonasquatucket River should be restored for local citizens. The cleanup will be a step toward the State’s goal of a fishable and swimmable river. The work will also include upgrading caps over contaminated soil in the peninsula area of the Site that currently house two high-rise apartment buildings. The settlement also ensures that the long-term monitoring and maintenance of the site, as directed in the remedy, will be implemented to ensure that public health is protected.  Under the settlement, Emhart and Black & Decker will reimburse EPA for approximately $42 million in past costs incurred at the Site. The companies will also reimburse EPA and the State of Rhode Island for future costs incurred by those agencies in overseeing the work required by the settlement. The settlement will also include payments on behalf of two federal agencies to resolve claims against those agencies. These payments, along with prior settlements related to the Site, will result in a 100 percent recovery for the United States of its past and future response costs related to the Site. Litigation related to the Site has been ongoing for nearly eight years. While the Federal District Court found Black & Decker and Emhart to be liable for their hazardous waste and responsible to conduct the cleanup of the Site, it had also ruled that EPA needed to reconsider certain aspects of that cleanup. EPA appealed the decision requiring it to reconsider aspects of the cleanup. This settlement, once entered by the District Court, will resolve the litigation between the United States, Rhode Island, and Emhart and Black and Decker, allowing the cleanup of the Site to begin. The Site spans a one and a half mile stretch of the Woonasquatucket River and encompasses a nine-acre peninsula, two ponds and a significant forested wetland. From the 1940s to the early 1970s, Emhart’s predecessor operated a chemical manufacturing facility on the peninsula and used a raw material that was contaminated with 2,3,7,8-tetrachlorodibenzo-p-dioxin, a toxic form of dioxin. The Site property was also previously used by a barrel refurbisher. Elevated levels of dioxins and other contaminants have been detected in soil, groundwater, sediment, surface water and fish.  The Site was added to the National Priorities List (NPL) in 2000, and in December 2017, EPA included the Centredale Manor Restoration Project Superfund Site on a list of Superfund sites targeted for immediate and intense attention. Several short-term actions were previously performed at the Site to address immediate threats to the residents and minimize potential erosion and downstream transport of contaminated soil and sediment. This settlement is the latest agreement EPA has reached since the Site was listed on the NPL. Prior agreements addressed the performance and recovery of costs for the past environmental investigations and interim cleanup actions from Emhart, the barrel reconditioning company, the current owners of the peninsula portion of the Site, and other potentially responsible parties. The Consent Decree, lodged in the U.S. District Court of Rhode Island, will be posted in the Federal Register and available for public comment for a period of 30 days. The Consent Decree can be viewed on the Justice Department website: www.justice.gov/enrd/Consent_Decrees.html.  EPA information on the Centredale Manor Superfund Site: www.epa.gov/superfund/centredale.   \n",
       "\n",
       "                        date topics_clean  \\\n",
       "0  2014-10-01T00:00:00-04:00     No topic   \n",
       "1  2012-07-25T00:00:00-04:00     No topic   \n",
       "2  2011-08-03T00:00:00-04:00     No topic   \n",
       "3  2010-01-08T00:00:00-05:00     No topic   \n",
       "4  2018-07-09T00:00:00-04:00  Environment   \n",
       "\n",
       "                             components_clean  \n",
       "0            National Security Division (NSD)  \n",
       "1  Environment and Natural Resources Division  \n",
       "2  Environment and Natural Resources Division  \n",
       "3  Environment and Natural Resources Division  \n",
       "4  Environment and Natural Resources Division  "
      ]
     },
     "execution_count": 4,
     "metadata": {},
     "output_type": "execute_result"
    }
   ],
   "source": [
    "## first, unzip the file pset3_inputdata.zip \n",
    "## then, run this code to load the unzipped json file and convert to a dataframe\n",
    "## (may need to change the pathname depending on where you store stuff)\n",
    "## and convert some of the attributes from lists to values\n",
    "doj = pd.read_json(\"combined.json\", lines = True)\n",
    "\n",
    "## due to json, topics are in a list so remove them and concatenate with ;\n",
    "doj['topics_clean'] = [\"; \".join(topic) \n",
    "                      if len(topic) > 0 else \"No topic\" \n",
    "                      for topic in doj.topics]\n",
    "\n",
    "## similarly with components\n",
    "doj['components_clean'] = [\"; \".join(comp) \n",
    "                           if len(comp) > 0 else \"No component\" \n",
    "                           for comp in doj.components]\n",
    "\n",
    "## drop older columns from data\n",
    "doj = doj[['id', 'title', 'contents', 'date', 'topics_clean', \n",
    "           'components_clean']].copy()\n",
    "\n",
    "doj.head()"
   ]
  },
  {
   "cell_type": "markdown",
   "metadata": {},
   "source": [
    "## 1. Tagging and sentiment scoring (17 points)\n",
    "\n",
    "Focus on the following press release: `id` == \"17-1204\" about this pharmaceutical kickback prosecution: https://www.forbes.com/sites/michelatindera/2017/11/16/fentanyl-billionaire-john-kapoor-to-plead-not-guilty-in-opioid-kickback-case/?sh=21b8574d6c6c \n",
    "\n",
    "The `contents` column is the one we're treating as a document. You may need to to convert it from a pandas series to a single string.\n",
    "\n",
    "We'll call the raw string of this press release `pharma`"
   ]
  },
  {
   "cell_type": "code",
   "execution_count": 5,
   "metadata": {},
   "outputs": [],
   "source": [
    "## subset to one press release and take the string\n",
    "\n",
    "doj_cut = doj[doj['id'] == '17-1204']['contents']\n",
    "pharma = doj_cut.to_string(index=False)\n"
   ]
  },
  {
   "cell_type": "markdown",
   "metadata": {},
   "source": [
    "### 1.1 part of speech tagging (3 points)\n",
    "\n",
    "A. Preprocess the `pharma` press release to remove all punctuation / digits (you can use `.isalpha()` to subset)\n",
    "\n",
    "B. With the preprocessed press release from part A, use the part of speech tagger within nltk to tag all the words in that one press release with their part of speech. \n",
    "\n",
    "C. Using the output from B, extract the adjectives and sort those adjectives from most occurrences to fewest occurrences. Print a dataframe with the 5 most frequent adjectives and their counts in the `pharma` release. See here for a list of the names of adjectives within nltk: https://pythonprogramming.net/natural-language-toolkit-nltk-part-speech-tagging/\n",
    "\n",
    "**Resources**:\n",
    "\n",
    "- Documentation for `.isalpha()`: https://www.w3schools.com/python/ref_string_isalpha.asp"
   ]
  },
  {
   "cell_type": "code",
   "execution_count": 6,
   "metadata": {},
   "outputs": [],
   "source": [
    "# Part A\n",
    "\n",
    "# empty string\n",
    "pharma_clean = ''\n",
    "\n",
    "# loop to add all alpha and space characters to string \n",
    "for character in pharma:\n",
    "    if character.isalpha() or character.isspace():\n",
    "        pharma_clean += character"
   ]
  },
  {
   "cell_type": "code",
   "execution_count": 7,
   "metadata": {},
   "outputs": [],
   "source": [
    "# Part B\n",
    "\n",
    "# create \"bag of words\"\n",
    "words_pharma = word_tokenize(pharma_clean)\n",
    "\n",
    "# build list of tuples (token, pos)\n",
    "pos_tags = nltk.pos_tag(words_pharma)"
   ]
  },
  {
   "cell_type": "code",
   "execution_count": 9,
   "metadata": {},
   "outputs": [],
   "source": [
    "# extract adjectives\n",
    "adjectives = [word for word, pos in pos_tags if pos.startswith('JJ')] \n",
    "\n",
    "# count occurrences of adjectives\n",
    "adjective_counts = Counter(adjectives)\n",
    "\n",
    "# subset for 5 most common adjectives\n",
    "top_adjectives = adjective_counts.most_common(5)\n",
    "\n",
    "# create a dataframe with the subset data\n",
    "top_adjectives_df = pd.DataFrame(top_adjectives, columns=['Adjective', 'Count'])\n"
   ]
  },
  {
   "cell_type": "markdown",
   "metadata": {},
   "source": [
    "## 1.2 named entity recognition (4 points)"
   ]
  },
  {
   "cell_type": "markdown",
   "metadata": {},
   "source": [
    "A. Using the original `pharma` press release (so the one before stripping punctuation/digits), use spaCy to extract all named entities from the press release.\n",
    "\n",
    "B. Print the unique named entities with the tag: `LAW`"
   ]
  },
  {
   "cell_type": "code",
   "execution_count": 10,
   "metadata": {},
   "outputs": [],
   "source": [
    "# use nlp to produce doc object\n",
    "pharma_nlp = nlp(pharma)\n",
    "\n",
    "# loop over the doc object to extract the tokens\n",
    "named_entities = [ent.text for ent in pharma_nlp.ents]\n",
    "\n"
   ]
  },
  {
   "cell_type": "code",
   "execution_count": 11,
   "metadata": {},
   "outputs": [],
   "source": [
    "\n",
    "# using set() filter and extract unique named entities with the tag \"LAW\"\n",
    "unique_law_entities = set([ent.text for ent in pharma_nlp.ents if ent.label_ == \"LAW\"])\n"
   ]
  },
  {
   "cell_type": "markdown",
   "metadata": {},
   "source": [
    "C. Use Google to summarize in one sentence what the `RICO` named entity means and why this might apply to a pharmaceutical kickbacks case (and not just a mafia case...) "
   ]
  },
  {
   "cell_type": "code",
   "execution_count": 12,
   "metadata": {},
   "outputs": [],
   "source": [
    "# Pharmaceutical companies can face RICO-related investigations and lawsuits if they are accused \n",
    "# of engaging in activities that violate the Racketeer Influenced and Corrupt Organizations Act (RICO)."
   ]
  },
  {
   "cell_type": "markdown",
   "metadata": {},
   "source": [
    "D. You want to extract the possible sentence lengths the CEO is facing; pull out the named entities with (1) the label `DATE` and (2) that contain the word year or years (hint: you may want to use the `re` module for that second part). Print these named entities."
   ]
  },
  {
   "cell_type": "code",
   "execution_count": 13,
   "metadata": {},
   "outputs": [
    {
     "data": {
      "text/plain": [
       "['last year', '20 years', 'three years', 'five years', 'three years']"
      ]
     },
     "execution_count": 13,
     "metadata": {},
     "output_type": "execute_result"
    }
   ],
   "source": [
    "# extract the named entities with the pos tag DATE & use case-insenstive regex to extract entities that contain year/years\n",
    "date_entities = [ent.text for ent in pharma_nlp.ents if ent.label_ == \"DATE\" and re.search(r'\\b(?:year|years)\\b', ent.text, re.I)]\n",
    "\n",
    "date_entities"
   ]
  },
  {
   "cell_type": "markdown",
   "metadata": {},
   "source": [
    "E. Pull and print the original parts of the press releases where those year lengths are mentioned (e.g., the sentences or rough region of the press release). Describe in your own words (1 sentence) what length of sentence (prison) and probation (supervised release) the CEO may be facing if convicted after this indictment (if there are multiple lengths mentioned describe the maximum). \n",
    "\n",
    "**Hint**: you may want to use re.search or re.findall \n",
    "\n",
    "- For part E, you can use `re.search` and `re.findall`, or anything that works 😳."
   ]
  },
  {
   "cell_type": "code",
   "execution_count": 15,
   "metadata": {},
   "outputs": [
    {
     "data": {
      "text/plain": [
       "['20 years in prison']"
      ]
     },
     "execution_count": 15,
     "metadata": {},
     "output_type": "execute_result"
    }
   ],
   "source": [
    "\n",
    "# Define a regex pattern to find sentences mentioning year lengths\n",
    "pattern = r'(?:\\b\\d+\\s*(?:year|years)\\s*(?:in\\s*prison|in\\s*custody|probation)?\\b)'\n",
    "\n",
    "# Find all sentence mentions of year lengths\n",
    "matches = re.findall(pattern, pharma)\n",
    "\n",
    "matches"
   ]
  },
  {
   "cell_type": "markdown",
   "metadata": {},
   "source": [
    "## 1.3 sentiment analysis  (10 points)\n",
    "\n",
    "A. Subset the press releases to those labeled with one of three topics via `topics_clean`: Civil Rights, Hate Crimes, and Project Safe Childhood. We'll call this `doj_subset` going forward and it should have 717 rows.\n",
    "\n"
   ]
  },
  {
   "cell_type": "code",
   "execution_count": 22,
   "metadata": {},
   "outputs": [
    {
     "data": {
      "text/plain": [
       "(717, 6)"
      ]
     },
     "execution_count": 22,
     "metadata": {},
     "output_type": "execute_result"
    }
   ],
   "source": [
    "# Part A\n",
    "\n",
    "# Subset the dataframe(press releases)\n",
    "doj_subset = doj[doj[\"topics_clean\"].isin([\"Civil Rights\", \"Hate Crimes\", \"Project Safe Childhood\"])]\n",
    "\n",
    "# check shape \n",
    "doj_subset.shape"
   ]
  },
  {
   "cell_type": "markdown",
   "metadata": {},
   "source": [
    "B. Write a function that takes one press release string as an input and:\n",
    "\n",
    "- Removes named entities from each press release string (**Hint**: you may want to use `re.sub` with an or condition)\n",
    "- Scores the sentiment of the entire press release using the `SentimentIntensityAnalyzer` and `polarity_scores`\n",
    "- Returns the length-four (negative, positive, neutral, compound) sentiment dictionary (any order is fine)\n",
    "\n",
    "Apply that function to each of the press releases in `doj_subset`. \n",
    "\n",
    "**Hints**: \n",
    "\n",
    "- A function + list comprehension to execute will takes about 30 seconds on a respectable local machine and about 2 mins on jhub; if it's taking a very long time, you may want to check your code for inefficiencies. If you can't fix those, for partial credit on this part/full credit on remainder, you can take a small random sample of the 717\n"
   ]
  },
  {
   "cell_type": "code",
   "execution_count": 23,
   "metadata": {},
   "outputs": [],
   "source": [
    "# Part B\n",
    "\n",
    "# write function to clean and analyze sentiment of each press release\n",
    "\n",
    "def remove_named_ent_and_score(press_release):\n",
    "    # Process the input string using spaCy(nlp)\n",
    "    doc = nlp(press_release)\n",
    "    \n",
    "    # Initialize an empty string to store the cleaned text\n",
    "    cleaned_text = press_release\n",
    "    \n",
    "    # Iterate through named entities and replace them in the cleaned text\n",
    "    for ent in doc.ents:\n",
    "        cleaned_text = cleaned_text.replace(ent.text, '')\n",
    "    \n",
    "    # initialize SentimentIntensityAnalyzer()\n",
    "    sentiment_scorer = SentimentIntensityAnalyzer()\n",
    "    \n",
    "    # apply SentimentIntensityAnalyzer()\n",
    "    sentiment = sentiment_scorer.polarity_scores(cleaned_text)\n",
    "    \n",
    "    return sentiment\n",
    "\n"
   ]
  },
  {
   "cell_type": "code",
   "execution_count": 25,
   "metadata": {},
   "outputs": [
    {
     "name": "stdout",
     "output_type": "stream",
     "text": [
      "            id  \\\n",
      "77     17-1235   \n",
      "155    15-1522   \n",
      "157     16-213   \n",
      "162     16-381   \n",
      "168     14-464   \n",
      "...        ...   \n",
      "13002   09-368   \n",
      "13032   18-775   \n",
      "13034   12-596   \n",
      "13068   18-359   \n",
      "13081  14-1377   \n",
      "\n",
      "                                                             sentiment  \n",
      "77       {'neg': 0.2, 'neu': 0.751, 'pos': 0.049, 'compound': -0.9931}  \n",
      "155    {'neg': 0.129, 'neu': 0.804, 'pos': 0.066, 'compound': -0.9325}  \n",
      "157     {'neg': 0.09, 'neu': 0.835, 'pos': 0.075, 'compound': -0.7579}  \n",
      "162    {'neg': 0.121, 'neu': 0.798, 'pos': 0.081, 'compound': -0.9037}  \n",
      "168    {'neg': 0.175, 'neu': 0.782, 'pos': 0.043, 'compound': -0.9864}  \n",
      "...                                                                ...  \n",
      "13002  {'neg': 0.159, 'neu': 0.778, 'pos': 0.062, 'compound': -0.9737}  \n",
      "13032   {'neg': 0.081, 'neu': 0.825, 'pos': 0.095, 'compound': 0.5267}  \n",
      "13034   {'neg': 0.15, 'neu': 0.758, 'pos': 0.092, 'compound': -0.9571}  \n",
      "13068  {'neg': 0.133, 'neu': 0.745, 'pos': 0.122, 'compound': -0.8783}  \n",
      "13081   {'neg': 0.149, 'neu': 0.821, 'pos': 0.03, 'compound': -0.9921}  \n",
      "\n",
      "[717 rows x 2 columns]\n"
     ]
    }
   ],
   "source": [
    "# apply function to dataframe column \"contents\"\n",
    "doj_subset['sentiment'] = doj_subset['contents'].apply(remove_named_ent_and_score)\n",
    "\n",
    "# Print to view cleaned data \n",
    "print(doj_subset[['id', 'sentiment']])"
   ]
  },
  {
   "cell_type": "markdown",
   "metadata": {},
   "source": [
    "C. Add the four sentiment scores to the `doj_subset` dataframe to create a dataframe: `doj_subset_wscore`. Sort from highest neg to lowest neg score and print the top `id`, `contents`, and `neg` columns of the two most neg press releases. \n",
    "\n",
    "Notes:\n",
    "\n",
    "- Don't worry if your sentiment score differs slightly from our output on GitHub; differences in preprocessing can lead to diff scores"
   ]
  },
  {
   "cell_type": "code",
   "execution_count": 26,
   "metadata": {},
   "outputs": [
    {
     "name": "stdout",
     "output_type": "stream",
     "text": [
      "         id  \\\n",
      "329  14-248   \n",
      "572  13-312   \n",
      "\n",
      "                                                                                                                                                                                                                                                                                                                                                                                                                                                                                                                                                                                                                                                                                                                                                                                                                                                                                                                                                                                                                                                                                                                                                                                                                                                                                                                                                                                                                                                                                                                                                                                                                                                                                                                                                                                                                                                                                                                                                                                                                                                                                                                                                                                                                                                                                                                                  contents  \\\n",
      "329                                                                                                                                                                                                                                                                                                                                                                                                                                                                                                                                                                                                                                                                                                                                                                                                                                                                                                                                                                                                            The Department of Justice announced that this morning John W. Ng, 58, of Albuquerque, N.M., made his initial appearance in federal court on a criminal complaint charging him with a hate crime offense.  This charge is related to anti-Semitic threats Ng made against a Jewish woman who owns and operates the Nosh Jewish Delicatessen and Bakery in Albuquerque. Ng was arrested by the FBI on March 7, 2014, based on a criminal complaint alleging that he interfered with the victim’s federally protected rights by threatening her and interfering with her business because of her religion.  According to the criminal complaint, between Jan. 22, 2014, and Feb. 8, 2014, Ng allegedly posted threatening anti-Semitic notes on and in the vicinity of the victim’s business. A criminal complaint merely establishes probable cause, and Ng is presumed innocent unless proven guilty.  If convicted on the offense charged in the criminal complaint, Ng faces a maximum statutory penalty of one year in prison. This matter was investigated by the Albuquerque Division of the FBI and is being prosecuted by Assistant U.S. Attorney Mark T. Baker of the U.S. Attorney’s Office for the District of New Mexico and Trial Attorney AeJean Cha of the U.S. Department of Justice’s Civil Rights Division.   \n",
      "572  John Hall, 27, an Aryan Brotherhood member and inmate at the Federal Correctional Institution (FCI) in Seagoville, Texas, was sentenced today by U.S. District Judge Reed O’Connor after pleading guilty to violating the Matthew Shepard and James Byrd Jr. Hate Crimes Prevention Act stemming from his assault of a fellow inmate, whom he believed to be gay, the Department of Justice announced. Hall assaulted his fellow inmate with a dangerous weapon, causing bodily injury to the victim on Dec. 20, 2011. Hall was sentenced to serve 71 months in prison to be served consecutively with the sentence he is currently serving. The assault occurred on Dec. 20, 2011, inside the FCI Seagoville when Hall targeted and attacked the victim, a fellow inmate, because he believed the victim was gay or involved in a sexual relationship with another male inmate. Hall repeatedly punched, kicked and stomped on the victim’s face with his shod feet, a dangerous weapon, while yelling a homophobic slur. The victim lost consciousness during the assault and suffered multiple lacerations to his face. The victim also sustained a fractured eye socket, lost a tooth, fractured other teeth and was treated at a hospital for the injuries he sustained during Hall’s unprovoked attack. Hall pleaded guilty to violating the Matthew Shepard and James Byrd Jr. Hate Crimes Prevention Act on Nov. 8, 2012. “Brutality and violence based on sexual orientation has no place in a civilized society,” said Thomas E. Perez, Assistant Attorney General for the Civil Rights Division. “The Justice Department is committed to using all the tools in our law enforcement arsenal, including the Matthew Shepard and James Byrd Jr. Hate Crimes Prevention Act, to prosecute acts motivated by hate.” “This prosecution sends a clear message that this office, in partnership with attorneys in the department’s Civil Rights Division, will prioritize and aggressively prosecute hate crimes and others civil rights violations in North Texas,” said U.S. Attorney Sarah R. Saldaña of the Northern District of Texas. This case was investigated by the FBI Dallas Division. The case was prosecuted by Assistant U.S. Attorney Errin Martin and Trial Attorney Adriana Vieco of the Civil Rights Division.   \n",
      "\n",
      "     negative  \n",
      "329     0.319  \n",
      "572     0.300  \n"
     ]
    }
   ],
   "source": [
    "# Part C\n",
    "\n",
    "# parse the sentiment scores into seperate columns and add to doj_subset\n",
    "doj_subset['negative'] = doj_subset['sentiment'].apply(lambda x: x['neg'])\n",
    "doj_subset['positive'] = doj_subset['sentiment'].apply(lambda x: x['pos'])\n",
    "doj_subset['neutral'] = doj_subset['sentiment'].apply(lambda x: x['neu'])\n",
    "doj_subset['compound'] = doj_subset['sentiment'].apply(lambda x: x['compound'])\n",
    "\n",
    "# create new dataframe with combined columns: doj_subtset_wscore\n",
    "doj_subset_wscore = doj_subset[['id', \n",
    "                                'contents', \n",
    "                                'negative', \n",
    "                                'positive', \n",
    "                                'neutral', \n",
    "                                'compound',\n",
    "                               'topics_clean']].sort_values(by='negative', ascending=False)\n",
    "# print results\n",
    "top_2_neg_press_releases = doj_subset_wscore.head(2)\n",
    "print(top_2_neg_press_releases[['id', 'contents', 'negative']])"
   ]
  },
  {
   "cell_type": "markdown",
   "metadata": {},
   "source": [
    "D. With the dataframe from part C, find the mean compound sentiment score for each of the three topics in `topics_clean` using group_by and agg.\n",
    "\n",
    "E. Add a 1 sentence interpretation of why we might see the variation in scores (remember that compound is a standardized summary where -1 is most negative; +1 is most positive)\n"
   ]
  },
  {
   "cell_type": "code",
   "execution_count": 27,
   "metadata": {},
   "outputs": [
    {
     "name": "stdout",
     "output_type": "stream",
     "text": [
      "topics_clean\n",
      "Civil Rights             -0.087140\n",
      "Hate Crimes              -0.935576\n",
      "Project Safe Childhood   -0.653711\n",
      "Name: compound, dtype: float64\n"
     ]
    }
   ],
   "source": [
    "# Part D\n",
    "\n",
    "# calculate mean compound sentiment score for each topic \n",
    "mean_compound_scores = doj_subset_wscore.groupby('topics_clean')['compound'].agg('mean')\n",
    "\n",
    "print(mean_compound_scores)"
   ]
  },
  {
   "cell_type": "code",
   "execution_count": 28,
   "metadata": {},
   "outputs": [],
   "source": [
    "# Part E\n",
    "\n",
    "# The variation in sentiment scores is influenced by the nature of each topic, \n",
    "# with \"Hate Crimes\" often being more negative due to its association with harmful actions, \n",
    "# \"Project Safe Childhood\" leaning towards neutral to slightly positive sentiment due to child \n",
    "# safety initiatives, and \"Civil Rights\" displaying a range of sentiments reflecting discussions \n",
    "# about progress and challenges in civil rights."
   ]
  },
  {
   "cell_type": "markdown",
   "metadata": {},
   "source": [
    "# 2. Topic modeling (25 points)\n",
    "\n",
    "For this question, use the `doj_subset_wscores` data that is restricted to civil rights, hate crimes, and project safe childhood and with the sentiment scores added\n"
   ]
  },
  {
   "cell_type": "markdown",
   "metadata": {},
   "source": [
    "## 2.1 Preprocess the data by removing stopwords, punctuation, and non-alpha words (5 points)\n",
    "\n",
    "A. Write a function that:\n",
    "\n",
    "- Takes in a single raw string in the `contents` column from that dataframe\n",
    "- Does the following preprocessing steps:\n",
    "\n",
    "    - Converts the words to lowercase\n",
    "    - Removes stopwords, adding the custom stopwords in your code cell below to the default stopwords list\n",
    "    - Only retains alpha words (so removes digits and punctuation)\n",
    "    - Only retains words 4 characters or longer\n",
    "    - Uses the snowball stemmer from nltk to stem\n",
    "\n",
    "- Returns a joined preprocessed string\n",
    "    \n",
    "B. Use `apply` or list comprehension to execute that function and create a new column in the data called `processed_text`\n",
    "    \n",
    "C. Print the `id`, `contents`, and `processed_text` columns for the following press releases:\n",
    "\n",
    "id = 16-718 (this case: https://www.seattletimes.com/nation-world/doj-miami-police-reach-settlement-in-civil-rights-case/)\n",
    "\n",
    "id = 16-217 (this case: https://www.wlbt.com/story/32275512/three-mississippi-correctional-officers-indicted-for-inmate-assault-and-cover-up/)\n",
    "    \n",
    "**Resources**:\n",
    "\n",
    "- Here's code examples for the snowball stemmer: https://www.geeksforgeeks.org/snowball-stemmer-nlp/"
   ]
  },
  {
   "cell_type": "code",
   "execution_count": 34,
   "metadata": {},
   "outputs": [],
   "source": [
    "# custom stopwords\n",
    "\n",
    "custom_doj_stopwords = [\"civil\", \"rights\", \"division\", \"department\", \"justice\",\n",
    "                        \"office\", \"attorney\", \"district\", \"case\", \"investigation\", \"assistant\",\n",
    "                       \"trial\", \"assistance\", \"assist\"]"
   ]
  },
  {
   "cell_type": "code",
   "execution_count": 35,
   "metadata": {},
   "outputs": [],
   "source": [
    "# Part A\n",
    "\n",
    "# intialize SnowballStemmer in english\n",
    "snowball_stemmer = SnowballStemmer(\"english\")\n",
    "\n",
    "# write function to preprocess text\n",
    "def preprocess_text(raw_text):\n",
    "    \n",
    "    # convert all words to lowercase\n",
    "    text = raw_text.lower()\n",
    "    # split the words\n",
    "    words = text.split()\n",
    "    \n",
    "    # Remove stopwords and custom_doj_stopwords\n",
    "    words = [word for word in words if word not in (stopwords.words(\"english\") + custom_doj_stopwords)]\n",
    "    \n",
    "    # Only retain alpha characters and words 4 characters or longer\n",
    "    words = [word for word in words if word.isalpha() and len(word) >= 4]\n",
    "    \n",
    "    # apply SnowballStemmer()\n",
    "    words = [snowball_stemmer.stem(word) for word in words]\n",
    "    \n",
    "    # put processed words back together\n",
    "    processed_text = \" \".join(words)\n",
    "    \n",
    "    return processed_text"
   ]
  },
  {
   "cell_type": "code",
   "execution_count": 36,
   "metadata": {},
   "outputs": [],
   "source": [
    "# Part B\n",
    "\n",
    "# apply the function to dataframe column \"contents\"\n",
    "doj_subset_wscore['processed_text'] = doj_subset_wscore['contents'].apply(preprocess_text)"
   ]
  },
  {
   "cell_type": "code",
   "execution_count": 37,
   "metadata": {},
   "outputs": [
    {
     "name": "stdout",
     "output_type": "stream",
     "text": [
      "Press Release for ID 16-718:\n",
      "           id  \\\n",
      "11593  16-718   \n",
      "\n",
      "                                                                                                                                                                                                                                                                                                                                                                                                                                                                                                                                                                                                                                                                                                                                                                                                                                                                                                                                                                                                                                                                                                                                                                                                                                                                                                                                                                                                                                                                                                                                                                                                                                                                                                                                                                                               contents  \\\n",
      "11593  In a nine-count indictment unsealed today, two Mississippi correctional officers were charged with beating an inmate and a third was charged with helping to cover it up.  The indictment charged Lawardrick Marsher, 28, and Robert Sturdivant, 47, officers at Mississippi State Penitentiary, in Parchman, Mississippi, with a beating that included kicking, punching and throwing the victim to the ground.  Marsher and Sturdivant were charged with violating the right of K.H., a convicted prisoner, to be free from cruel and unusual punishment.  Sturdivant was also charged with failing to intervene while Marsher was punching and beating K.H.  The indictment alleges that their actions involved the use of a dangerous weapon and resulted in bodily injury to the victim. A third officer, Deonte Pate, 23, was charged along with Marsher and Sturdivant for conspiring to cover up the beating.  The indictment alleges that all three officers submitted false reports and that all three lied to the FBI. If convicted, Marsher and Sturdivant face a maximum sentence of 10 years in prison on the excessive force charges.  Each of the three officers faces up to five years in prison on the conspiracy and false statement charges, and up to 20 years in prison on the false report charges. An indictment is merely an accusation, and the defendants are presumed innocent unless and until proven guilty. This case is being investigated by the FBI’s Jackson Division, with the cooperation of the Mississippi Department of Corrections.  It is being prosecuted by Assistant U.S. Attorney Robert Coleman of the Northern District of Mississippi and Trial Attorney Dana Mulhauser of the Civil Rights Division’s Criminal Section.     Marsher Indictment   \n",
      "\n",
      "                                                                                                                                                                                                                                                                                                                                                                                                                                                                                                                                                                                                                                                                                                                                                                           processed_text  \n",
      "11593  indict unseal mississippi correct offic charg beat inmat third charg help cover indict charg lawardrick robert offic mississippi state beat includ punch throw victim marsher sturdiv charg violat right convict free cruel unusu sturdiv also charg fail interven marsher punch beat indict alleg action involv danger weapon result bodili injuri third deont charg along marsher sturdiv conspir cover indict alleg three offic submit fals report three lie marsher sturdiv face maximum sentenc year prison excess forc three offic face five year prison conspiraci fals statement year prison fals report indict mere defend presum innoc unless proven investig jackson cooper mississippi prosecut robert coleman northern mississippi dana mulhaus crimin marsher indict  \n",
      "\n",
      "Press Release for ID 16-217:\n",
      "          id  \\\n",
      "6727  16-217   \n",
      "\n",
      "                                                                                                                                                                                                                                                                                                                                                                                                                                                                                                                                                                                                                                                                                                                                                                                                                                                                                                                                                                                                                                                                                                                                                                                                                                                                                                                                                                                                                                                                                                                                                                                                                                                                                                                                                                                                                                                                                                                                                                                                                                                                                                                                                                                                                                                                                                                                                                                                                                                                                                                                                                                                                                                                                                                                                                                                                                                                                                                        contents  \\\n",
      "6727  The Justice Department has reached a comprehensive settlement agreement with the city of Miami and the Miami Police Department (MPD) resolving the Justice Department’s investigation of officer-involved shootings by MPD officers, announced Principal Deputy Assistant Attorney General Vanita Gupta, head of the Justice Department’s Civil Rights Division and U.S. Attorney Wifredo A. Ferrer of the Southern District of Florida. The settlement, which was approved by Miami’s city commission today and will go into effect when the agreement is signed by all parties, resolves claims stemming from the Justice Department’s investigation into officer-involved shootings by MPD officers, which was conducted under the Violent Crime Control and Law Enforcement Act of 1994.  The investigation’s findings, issued in July 2013, identified a pattern or practice of excessive use of force through officer-involved shootings in violation of the Fourth Amendment of the Constitution.  The city’s compliance with the settlement will be monitored by an independent reviewer, former Tampa, Florida, Police Chief Jane Castor.  Under the settlement agreement, the city will implement comprehensive reforms to ensure constitutional policing and support public trust.  The settlement agreement is designed to minimize officer-involved shootings and to more effectively and quickly investigate officer-involved shootings that do occur, through measures that include: “This settlement represents a renewed commitment by the city of Miami and Chief Rodolfo Llanes to provide constitutional policing for Miami residents and to protect public safety through sustainable reform,” said Principal Deputy Assistant Attorney General Gupta.  “The agreement will help to strengthen the relationship between the MPD and the communities they serve by improving accountability for officers who fire their weapons unlawfully, and provides for community participation in the enforcement of this agreement.”  “Today's agreement is the result of a joint effort between the Department of Justice and the City of Miami to ensure that the Miami Police Department continues its efforts to make our community safe while protecting the sacred Constitutional rights of all of our citizens,” said U.S. Attorney Ferrer.  “Through oversight and communication, the agreement seeks to make permanent the positive changes that former Chief Orosa and Chief Llanes have made, and we applaud the City Commission’s vote.” The settlement agreement builds upon important reforms implemented by the city since the Justice Department issued its findings, including:  The investigation was conducted by attorneys and staff from the Civil Rights Division’s Special Litigation Section and the Civil Division of the U. S. Attorney’s Office of the Southern District of Florida.   \n",
      "\n",
      "                                                                                                                                                                                                                                                                                                                                                                                                                                                                                                                                                                                                                                                                                                                                                                                                                                                                                                                                                                                                                                                                                                                                                                                           processed_text  \n",
      "6727  reach comprehens settlement agreement citi miami miami polic resolv shoot announc princip deputi general vanita head wifredo ferrer southern approv citi commiss today effect agreement sign resolv claim stem shoot conduct violent crime control enforc issu juli identifi pattern practic excess forc shoot violat fourth amend complianc settlement monitor independ former polic chief jane settlement citi implement comprehens reform ensur constitut polic support public settlement agreement design minim shoot effect quick investig shoot measur settlement repres renew commit citi miami chief rodolfo llane provid constitut polic miami resid protect public safeti sustain said princip deputi general agreement help strengthen relationship communiti serv improv account offic fire weapon provid communiti particip enforc agreement result joint effort citi miami ensur miami polic continu effort make communiti safe protect sacr constitut said oversight agreement seek make perman posit chang former chief orosa chief llane applaud citi settlement agreement build upon import reform implement citi sinc issu conduct attorney staff special litig section southern  \n"
     ]
    }
   ],
   "source": [
    "# Part C\n",
    "\n",
    "# print results\n",
    "print(\"Press Release for ID 16-718:\")\n",
    "print(doj_subset_wscore[doj_subset_wscore['id'] == '16-718'][['id', 'contents', 'processed_text']])\n",
    "\n",
    "print(\"\\nPress Release for ID 16-217:\")\n",
    "print(doj_subset_wscore[doj_subset_wscore['id'] == '16-217'][['id', 'contents', 'processed_text']])"
   ]
  },
  {
   "cell_type": "markdown",
   "metadata": {},
   "source": [
    "## 2.2 Create a document-term matrix from the preprocessed press releases and to explore top words (5 points)\n",
    "\n",
    "A. Use the `create_dtm` function I provide (alternately, feel free to write your own!) and create a document-term matrix using the preprocessed press releases; make sure metadata contains the following columns: `id`, `compound` sentiment column you added, and the `topics_clean` column\n",
    "\n",
    "B. Print the top 10 words for press releases with compound sentiment in the top 5% (so the most positive sentiment)\n",
    "\n",
    "C. Print the top 10 words for press releases with compound sentiment in the bottom 5% (so the most negative sentiment)\n",
    "\n",
    "**Hint**: for these, remember the pandas quantile function from pset one.  \n",
    "\n",
    "D. Print the top 10 words for press releases in each of the three `topics_clean`\n",
    "\n",
    "For steps B - D, to receive full credit, write a function `get_topwords` that helps you avoid duplicated code when you find top words for the different subsets of the data. There are different ways to structure it but one way is to feed it subsetted data (so data subsetted to one topic etc.) and for it to get the top words for that subset.\n"
   ]
  },
  {
   "cell_type": "code",
   "execution_count": 118,
   "metadata": {},
   "outputs": [],
   "source": [
    "# use provided create_dtm function\n",
    "def create_dtm(list_of_strings, metadata):\n",
    "    vectorizer = CountVectorizer(lowercase = True)\n",
    "    dtm_sparse = vectorizer.fit_transform(list_of_strings)\n",
    "    dtm_dense_named = pd.DataFrame(dtm_sparse.todense(),\n",
    "        columns=vectorizer.get_feature_names_out())\n",
    "    dtm_dense_named_withid = pd.concat([metadata.reset_index(), dtm_dense_named], axis = 1)\n",
    "    return(dtm_dense_named_withid)\n",
    "\n",
    "# Part A\n",
    "\n",
    "# create dtm using preprocessed releases with the required columns \n",
    "dtm_md = create_dtm(doj_subset_wscore['processed_text'],\n",
    "                               doj_subset_wscore[['id', 'compound', 'topics_clean']])"
   ]
  },
  {
   "cell_type": "code",
   "execution_count": 119,
   "metadata": {},
   "outputs": [],
   "source": [
    "# Function to get the top words for a specific subset\n",
    "def get_top_words(subset_data, num_words=10):\n",
    "    text_concat = ' '.join(subset_data['processed_text'])\n",
    "    words = text_concat.split()\n",
    "    word_counts = Counter(words)\n",
    "    top_words = word_counts.most_common(num_words)\n",
    "    return top_words\n"
   ]
  },
  {
   "cell_type": "code",
   "execution_count": 120,
   "metadata": {},
   "outputs": [
    {
     "name": "stdout",
     "output_type": "stream",
     "text": [
      "Top 10 words for press releases with the most positive sentiment:\n",
      "agreement: 138\n",
      "enforc: 118\n",
      "ensur: 110\n",
      "state: 95\n",
      "said: 78\n",
      "settlement: 75\n",
      "general: 74\n",
      "feder: 72\n",
      "communiti: 72\n",
      "work: 71\n"
     ]
    }
   ],
   "source": [
    "# Part B\n",
    "\n",
    "# Calculate the top 5% quantile compound sentiment score\n",
    "top_5_percentile = doj_subset_wscore['compound'].quantile(0.95)\n",
    "top_sent_data = doj_subset_wscore[doj_subset_wscore['compound'] >= top_5_percentile]\n",
    "top_words_pos = get_top_words(top_sent_data)\n",
    "\n",
    "print(\"Top 10 words for press releases with the most positive sentiment:\")\n",
    "for word, count in top_words_pos:\n",
    "    print(f\"{word}: {count}\")"
   ]
  },
  {
   "cell_type": "code",
   "execution_count": 40,
   "metadata": {},
   "outputs": [
    {
     "name": "stdout",
     "output_type": "stream",
     "text": [
      "\n",
      "Top 10 words for press releases with the most negative sentiment:\n",
      "crime: 130\n",
      "offic: 121\n",
      "assault: 116\n",
      "hate: 110\n",
      "defend: 109\n",
      "feder: 90\n",
      "sentenc: 88\n",
      "prosecut: 87\n",
      "victim: 84\n",
      "guilti: 83\n"
     ]
    }
   ],
   "source": [
    "# Part C\n",
    "\n",
    "# Calculate the bottom 5% quantile compound sentiment score\n",
    "bottom_5_percentile = doj_subset_wscore['compound'].quantile(0.05)\n",
    "bottom_sent_data = doj_subset_wscore[doj_subset_wscore['compound'] <= bottom_5_percentile]\n",
    "top_words_neg = get_top_words(bottom_sent_data)\n",
    "print(\"\\nTop 10 words for press releases with the most negative sentiment:\")\n",
    "for word, count in top_words_neg:\n",
    "    print(f\"{word}: {count}\")\n"
   ]
  },
  {
   "cell_type": "code",
   "execution_count": 42,
   "metadata": {},
   "outputs": [
    {
     "name": "stdout",
     "output_type": "stream",
     "text": [
      "\n",
      "Top 10 words for press releases in 'Hate Crimes':\n",
      "prosecut: 458\n",
      "crime: 445\n",
      "hate: 421\n",
      "sentenc: 420\n",
      "feder: 418\n",
      "charg: 406\n",
      "said: 404\n",
      "defend: 398\n",
      "guilti: 374\n",
      "year: 306\n",
      "\n",
      "Top 10 words for press releases in 'Civil Rights':\n",
      "hous: 588\n",
      "offic: 504\n",
      "enforc: 498\n",
      "said: 490\n",
      "discrimin: 476\n",
      "feder: 459\n",
      "violat: 444\n",
      "alleg: 389\n",
      "general: 386\n",
      "state: 347\n",
      "\n",
      "Top 10 words for press releases in 'Project Safe Childhood':\n",
      "child: 995\n",
      "exploit: 673\n",
      "sexual: 570\n",
      "safe: 475\n",
      "project: 472\n",
      "crimin: 404\n",
      "prosecut: 357\n",
      "sentenc: 329\n",
      "children: 313\n",
      "investig: 256\n"
     ]
    }
   ],
   "source": [
    "# Part D\n",
    "\n",
    "# Print the top 10 words for press releases in each of the three topics_clean\n",
    "topics = doj_subset_wscore['topics_clean'].unique()\n",
    "for topic in topics:\n",
    "    top_words_topic = get_top_words(doj_subset_wscore[doj_subset_wscore['topics_clean'] == topic])\n",
    "    print(f\"\\nTop 10 words for press releases in '{topic}':\")\n",
    "    for word, count in top_words_topic:\n",
    "        print(f\"{word}: {count}\")"
   ]
  },
  {
   "cell_type": "markdown",
   "metadata": {},
   "source": [
    "## 2.3 Estimate a topic model using those preprocessed words (5 points)\n",
    "\n",
    "A. Going back to the preprocessed words from part 2.3.1, estimate a topic model with 3 topics, since you want to see if the unsupervised topic models recover different themes for each of the three manually-labeled areas (civil rights; hate crimes; project safe childhood). You have free rein over the other topic model parameters beyond the number of topics.\n",
    "\n",
    "B. After estimating the topic model, print the top 15 words in each topic.\n",
    "\n",
    "**Hints and Resources**:\n",
    "\n",
    "- Same topic modeling resources linked to above\n",
    "- Make sure to use the `random_state` argument within the model so that the numbering of topics does not move around between runs of your code"
   ]
  },
  {
   "cell_type": "code",
   "execution_count": 121,
   "metadata": {},
   "outputs": [
    {
     "name": "stdout",
     "output_type": "stream",
     "text": [
      "Filtering out very rare and very common words reduced the length of dictionary from 6107 to 533.\n"
     ]
    }
   ],
   "source": [
    "selected_topics = [\"Civil Rights\", \"Hate Crimes\", \"Project Safe Childhood\"]\n",
    "filtered_df = doj_subset_wscore[doj_subset_wscore['topics_clean'].isin(selected_topics)]\n",
    "\n",
    "## Step 1: re-tokenize and store in list\n",
    "text_raw_tokens = [wordpunct_tokenize(one_text) for one_text in \n",
    "                  filtered_df.processed_text]\n",
    "\n",
    "## Step 2: use gensim create dictionary - gets all unique words across documents\n",
    "text_raw_dict = corpora.Dictionary(text_raw_tokens)\n",
    "raw_len = len(text_raw_dict) # get length for comparison below\n",
    "\n",
    "## Step 3: filter out very rare and very common words (<5% or >95%)\n",
    "lower_bound = round(doj_subset_wscore.processed_text.shape[0]*0.05)\n",
    "upper_bound = round(doj_subset_wscore.processed_text.shape[0]*0.95)\n",
    "\n",
    "### apply filtering to dictionary\n",
    "text_raw_dict.filter_extremes(no_below = lower_bound,\n",
    "                             no_above = upper_bound)\n",
    "\n",
    "# demonstrates how many words were filtered out\n",
    "print(f'Filtering out very rare and very common words reduced the \\\n",
    "length of dictionary from {str(raw_len)} to {str(len(text_raw_dict))}.')\n",
    "\n",
    "## Step 4: apply dictionary to TOKENIZED texts\n",
    "corpus_fromdict = [text_raw_dict.doc2bow(one_text) \n",
    "                   for one_text in text_raw_tokens]"
   ]
  },
  {
   "cell_type": "code",
   "execution_count": 122,
   "metadata": {},
   "outputs": [
    {
     "name": "stdout",
     "output_type": "stream",
     "text": [
      "['child', 'exploit', 'sexual', 'safe', 'project', 'crimin', 'prosecut', 'sentenc', 'children', 'investig', 'guilti', 'state', 'pornographi', 'offic', 'minor']\n",
      "['prosecut', 'sentenc', 'feder', 'charg', 'said', 'defend', 'guilti', 'crime', 'investig', 'indict', 'hate', 'year', 'victim', 'violat', 'general']\n",
      "['hous', 'discrimin', 'enforc', 'said', 'disabl', 'alleg', 'fair', 'requir', 'agreement', 'inform', 'ensur', 'violat', 'feder', 'court', 'general']\n"
     ]
    }
   ],
   "source": [
    "## Step 5: Estimate the model\n",
    "ldamod = gensim.models.ldamodel.LdaModel(corpus_fromdict, \n",
    "                                         num_topics = 3, \n",
    "                                         id2word=text_raw_dict, \n",
    "                                         passes=6, \n",
    "                                         alpha = 'auto',\n",
    "                                         per_word_topics = True)\n",
    "\n",
    "topics = ldamod.print_topics(num_words=15)\n",
    "for topic in topics:\n",
    "    words = [word.split(\"*\")[1].strip(' \"') for word in topic[1].split(\" + \")]\n",
    "    print(words)"
   ]
  },
  {
   "cell_type": "markdown",
   "metadata": {},
   "source": [
    "## 2.4 Add topics back to main data and explore correlation between manual labels and our estimated topics (10 points)\n",
    "\n",
    "A. Extract the document-level topic probabilities. Within `get_document_topics`, use the argument `minimum_probability` = 0 to make sure all 3 topic probabilities are returned. Write an assert statement to make sure the length of the list is equal to the number of rows in the `doj_subset_wscores` dataframe\n",
    "\n",
    "B. Add the topic probabilities to the `doj_subset_wscores` dataframe as columns and create a column, `top_topic`, that reflects each document to its highest-probability topic (eg topic 1, 2, or 3)\n",
    "\n",
    "C. For each of the manual labels in `topics_clean` (Hate Crime, Civil Rights, Project Safe Childhood), print the breakdown of the % of documents with each top topic (so, for instance, Hate Crime has 246 documents-- if 123 of those documents are coded to topic_1, that would be 50%; and so on). **Hint**: pd.crosstab and normalize may be helpful: https://pandas.pydata.org/pandas-docs/version/0.23/generated/pandas.crosstab.html\n",
    "\n",
    "D. Using a couple press releases as examples, write a 1-2 sentence interpretation of why some of the manual topics map on more cleanly to an estimated topic than other manual topic(s)\n"
   ]
  },
  {
   "cell_type": "code",
   "execution_count": 123,
   "metadata": {},
   "outputs": [
    {
     "data": {
      "text/plain": [
       "[[(0, 0.016583532), (1, 0.98211384), (2, 0.0013026842)],\n",
       " [(0, 0.0005858688), (1, 0.9987285), (2, 0.0006855945)],\n",
       " [(0, 0.00070700096), (1, 0.99846566), (2, 0.0008273456)],\n",
       " [(0, 0.0005524633), (1, 0.998801), (2, 0.00064650347)],\n",
       " [(0, 0.0004396547), (1, 0.9990459), (2, 0.00051449233)]]"
      ]
     },
     "execution_count": 123,
     "metadata": {},
     "output_type": "execute_result"
    }
   ],
   "source": [
    "# Part A\n",
    "\n",
    "# List of topic probabilities\n",
    "l=[ldamod.get_document_topics(item, minimum_probability=0) for item in corpus_fromdict]\n",
    "### print result\n",
    "l[0:5]\n",
    "\n",
    "# Assert statement \n",
    "assert len(l) == len(doj_subset_wscore)"
   ]
  },
  {
   "cell_type": "code",
   "execution_count": 124,
   "metadata": {},
   "outputs": [],
   "source": [
    "# Part B\n",
    "\n",
    "# Extract the highest probability topic index for each document\n",
    "top_topics = [max(probabilities, key=lambda x: x[1]) for probabilities in l]\n",
    "\n",
    "# Add the topic probabilities to the dataframe\n",
    "doj_subset_wscore['topic_probabilities'] = l\n",
    "\n",
    "# Create the top_topic column\n",
    "doj_subset_wscore['top_topic'] = [topic[0] for topic in top_topics]\n"
   ]
  },
  {
   "cell_type": "code",
   "execution_count": 125,
   "metadata": {},
   "outputs": [
    {
     "data": {
      "text/html": [
       "<div>\n",
       "<style scoped>\n",
       "    .dataframe tbody tr th:only-of-type {\n",
       "        vertical-align: middle;\n",
       "    }\n",
       "\n",
       "    .dataframe tbody tr th {\n",
       "        vertical-align: top;\n",
       "    }\n",
       "\n",
       "    .dataframe thead th {\n",
       "        text-align: right;\n",
       "    }\n",
       "</style>\n",
       "<table border=\"1\" class=\"dataframe\">\n",
       "  <thead>\n",
       "    <tr style=\"text-align: right;\">\n",
       "      <th></th>\n",
       "      <th>topics_clean</th>\n",
       "      <th>top_topic</th>\n",
       "      <th>count</th>\n",
       "    </tr>\n",
       "  </thead>\n",
       "  <tbody>\n",
       "    <tr>\n",
       "      <th>0</th>\n",
       "      <td>Civil Rights</td>\n",
       "      <td>1</td>\n",
       "      <td>104</td>\n",
       "    </tr>\n",
       "    <tr>\n",
       "      <th>1</th>\n",
       "      <td>Civil Rights</td>\n",
       "      <td>2</td>\n",
       "      <td>201</td>\n",
       "    </tr>\n",
       "    <tr>\n",
       "      <th>2</th>\n",
       "      <td>Hate Crimes</td>\n",
       "      <td>1</td>\n",
       "      <td>246</td>\n",
       "    </tr>\n",
       "    <tr>\n",
       "      <th>3</th>\n",
       "      <td>Project Safe Childhood</td>\n",
       "      <td>0</td>\n",
       "      <td>165</td>\n",
       "    </tr>\n",
       "    <tr>\n",
       "      <th>4</th>\n",
       "      <td>Project Safe Childhood</td>\n",
       "      <td>2</td>\n",
       "      <td>1</td>\n",
       "    </tr>\n",
       "  </tbody>\n",
       "</table>\n",
       "</div>"
      ],
      "text/plain": [
       "             topics_clean  top_topic  count\n",
       "0            Civil Rights          1    104\n",
       "1            Civil Rights          2    201\n",
       "2             Hate Crimes          1    246\n",
       "3  Project Safe Childhood          0    165\n",
       "4  Project Safe Childhood          2      1"
      ]
     },
     "execution_count": 125,
     "metadata": {},
     "output_type": "execute_result"
    },
    {
     "name": "stdout",
     "output_type": "stream",
     "text": [
      "top_topic                      0         1         2\n",
      "topics_clean                                        \n",
      "Civil Rights                 NaN  0.340984  0.659016\n",
      "Hate Crimes                  NaN  1.000000       NaN\n",
      "Project Safe Childhood  0.993976       NaN  0.006024\n"
     ]
    }
   ],
   "source": [
    "# Part C\n",
    "# Group the data by 'topics_clean' and 'top_topic' to count the number of documents.\n",
    "grouped = doj_subset_wscore.groupby(['topics_clean', 'top_topic']).size().reset_index(name='count')\n",
    "grouped\n",
    "\n",
    "# Then, we'll pivot the data to have topics as columns and use normalize to get percentages.\n",
    "pivot_table = pd.pivot_table(grouped, values='count', index='topics_clean', columns='top_topic')\n",
    "normalized_table = pivot_table.div(pivot_table.sum(axis=1), axis=0)\n",
    "\n",
    "# Print the normalized table\n",
    "print(normalized_table)\n"
   ]
  },
  {
   "cell_type": "code",
   "execution_count": null,
   "metadata": {},
   "outputs": [],
   "source": []
  },
  {
   "cell_type": "markdown",
   "metadata": {},
   "source": [
    "# 3. Extend the analysis from unigrams to bigrams (10 points)\n",
    "\n",
    "In the previous question, you found top words via a unigram representation of the text. Now, we want to see how those top words change with bigrams (pairs of words)\n",
    "\n",
    "A. Using the `doj_subset_wscore` data and the `processed_text` column (so the words after stemming/other preprocessing), create a column in the data called `processed_text_bigrams` that combines each consecutive pairs of word into a bigram separated by an underscore. Eg:\n",
    "\n",
    "\"depart reach settlem\" would become \"depart_reach reach_settlem\"\n",
    "\n",
    "Do this by writing a function `create_bigram_onedoc` that takes in a single `processed_text` string and returns a string with its bigrams structured similarly to above example\n",
    " \n",
    "**Hint**: there are many ways to solve but `zip` may be helpful: https://stackoverflow.com/questions/21303224/iterate-over-all-pairs-of-consecutive-items-in-a-list\n",
    "\n",
    "B. Print the `id`, `processed_text`, and `processed_text_bigram` columns for press release with id = 16-217"
   ]
  },
  {
   "cell_type": "code",
   "execution_count": 126,
   "metadata": {},
   "outputs": [
    {
     "name": "stdout",
     "output_type": "stream",
     "text": [
      "          id  \\\n",
      "6727  16-217   \n",
      "\n",
      "                                                                                                                                                                                                                                                                                                                                                                                                                                                                                                                                                                                                                                                                                                                                                                                                                                                                                                                                                                                                                                                                                                                                                                                           processed_text  \\\n",
      "6727  reach comprehens settlement agreement citi miami miami polic resolv shoot announc princip deputi general vanita head wifredo ferrer southern approv citi commiss today effect agreement sign resolv claim stem shoot conduct violent crime control enforc issu juli identifi pattern practic excess forc shoot violat fourth amend complianc settlement monitor independ former polic chief jane settlement citi implement comprehens reform ensur constitut polic support public settlement agreement design minim shoot effect quick investig shoot measur settlement repres renew commit citi miami chief rodolfo llane provid constitut polic miami resid protect public safeti sustain said princip deputi general agreement help strengthen relationship communiti serv improv account offic fire weapon provid communiti particip enforc agreement result joint effort citi miami ensur miami polic continu effort make communiti safe protect sacr constitut said oversight agreement seek make perman posit chang former chief orosa chief llane applaud citi settlement agreement build upon import reform implement citi sinc issu conduct attorney staff special litig section southern   \n",
      "\n",
      "                                                                                                                                                                                                                                                                                                                                                                                                                                                                                                                                                                                                                                                                                                                                                                                                                                                                                                                                                                                                                                                                                                                                                                                                                                                                                                                                                                                                                                                                                                                                                                                                                                                                                                                                                                                                                                                                                                                                                                                                                                                                                                                                                                                                                                                                                                                                                                        processed_text_bigrams  \n",
      "6727  reach_comprehens comprehens_settlement settlement_agreement agreement_citi citi_miami miami_miami miami_polic polic_resolv resolv_shoot shoot_announc announc_princip princip_deputi deputi_general general_vanita vanita_head head_wifredo wifredo_ferrer ferrer_southern southern_approv approv_citi citi_commiss commiss_today today_effect effect_agreement agreement_sign sign_resolv resolv_claim claim_stem stem_shoot shoot_conduct conduct_violent violent_crime crime_control control_enforc enforc_issu issu_juli juli_identifi identifi_pattern pattern_practic practic_excess excess_forc forc_shoot shoot_violat violat_fourth fourth_amend amend_complianc complianc_settlement settlement_monitor monitor_independ independ_former former_polic polic_chief chief_jane jane_settlement settlement_citi citi_implement implement_comprehens comprehens_reform reform_ensur ensur_constitut constitut_polic polic_support support_public public_settlement settlement_agreement agreement_design design_minim minim_shoot shoot_effect effect_quick quick_investig investig_shoot shoot_measur measur_settlement settlement_repres repres_renew renew_commit commit_citi citi_miami miami_chief chief_rodolfo rodolfo_llane llane_provid provid_constitut constitut_polic polic_miami miami_resid resid_protect protect_public public_safeti safeti_sustain sustain_said said_princip princip_deputi deputi_general general_agreement agreement_help help_strengthen strengthen_relationship relationship_communiti communiti_serv serv_improv improv_account account_offic offic_fire fire_weapon weapon_provid provid_communiti communiti_particip particip_enforc enforc_agreement agreement_result result_joint joint_effort effort_citi citi_miami miami_ensur ensur_miami miami_polic polic_continu continu_effort effort_make make_communiti communiti_safe safe_protect protect_sacr sacr_constitut constitut_said said_oversight oversight_agreement agreement_seek seek_make make_perman perman_posit posit_chang chang_former former_chief chief_orosa orosa_chief chief_llane llane_applaud applaud_citi citi_settlement settlement_agreement agreement_build build_upon upon_import import_reform reform_implement implement_citi citi_sinc sinc_issu issu_conduct conduct_attorney attorney_staff staff_special special_litig litig_section section_southern  \n"
     ]
    }
   ],
   "source": [
    "# Part A\n",
    "\n",
    "# create function to process text and return string with its bigrams structured as directed \n",
    "def create_bigram_onedoc(processed_text):\n",
    "    words = processed_text.split()\n",
    "    bigrams = ['_'.join(pair) for pair in zip(words, words[1:])]\n",
    "    \n",
    "    bigram_text = ' '.join(bigrams)\n",
    "    \n",
    "    return bigram_text\n",
    "\n",
    "# apply function\n",
    "doj_subset_wscore['processed_text_bigrams'] = doj_subset_wscore['processed_text'].apply(create_bigram_onedoc)\n",
    "\n",
    "# Part B\n",
    "\n",
    "# print selected columns for press release with id 16-217\n",
    "press_release_16_217 = doj_subset_wscore[doj_subset_wscore['id'] == '16-217']\n",
    "print(press_release_16_217[['id', 'processed_text', 'processed_text_bigrams']])"
   ]
  },
  {
   "cell_type": "markdown",
   "metadata": {},
   "source": [
    "C. Use the create_dtm function and the `processed_text_bigrams` column to create a document-term matrix (`dtm_bigram`) with these bigrams. Keep the following three columns in the data: `id`, `topics_clean`, and `compound` \n",
    "\n",
    "D. Print the (1) dimensions of the `dtm` matrix from question 2.2  and (2) the dimensions of the `dtm_bigram` matrix. Comment on why the bigram matrix has more dimensions than the unigram matrix "
   ]
  },
  {
   "cell_type": "markdown",
   "metadata": {},
   "source": [
    "E. Find and print the 10 most prevelant bigrams for each of the three topics_clean using the `get_topwords` function from 2.2"
   ]
  },
  {
   "cell_type": "code",
   "execution_count": 130,
   "metadata": {},
   "outputs": [
    {
     "name": "stdout",
     "output_type": "stream",
     "text": [
      "(717, 6111)\n",
      "(717, 63645)\n",
      "\n",
      "Top 10 bigrams for press releases in 'Hate Crimes':\n",
      "('hate', 'crime'): 299\n",
      "('plead', 'guilti'): 269\n",
      "('special', 'agent'): 117\n",
      "('year', 'prison'): 104\n",
      "('thoma', 'general'): 95\n",
      "('grand', 'juri'): 93\n",
      "('said', 'thoma'): 91\n",
      "('act', 'general'): 85\n",
      "('face', 'maximum'): 77\n",
      "('feder', 'hate'): 76\n",
      "\n",
      "Top 10 bigrams for press releases in 'Civil Rights':\n",
      "('fair', 'hous'): 225\n",
      "('princip', 'deputi'): 221\n",
      "('deputi', 'general'): 221\n",
      "('vanita', 'head'): 200\n",
      "('general', 'vanita'): 199\n",
      "('said', 'princip'): 186\n",
      "('announc', 'today'): 116\n",
      "('unit', 'state'): 106\n",
      "('consent', 'decre'): 92\n",
      "('act', 'general'): 80\n",
      "\n",
      "Top 10 bigrams for press releases in 'Project Safe Childhood':\n",
      "('project', 'safe'): 472\n",
      "('child', 'exploit'): 266\n",
      "('child', 'pornographi'): 237\n",
      "('sexual', 'exploit'): 218\n",
      "('plead', 'guilti'): 188\n",
      "('child', 'sexual'): 177\n",
      "('exploit', 'obscen'): 175\n",
      "('obscen', 'section'): 161\n",
      "('safe', 'childhood'): 161\n",
      "('exploit', 'children'): 156\n"
     ]
    }
   ],
   "source": [
    "# Part C\n",
    "# create dtm_bigram with create_dtm function and processed_text_bigrams column\n",
    "dtm_bigram = create_dtm(doj_subset_wscore['processed_text_bigrams'],\n",
    "                        doj_subset_wscore[['id', 'topics_clean', 'compound']])\n",
    "\n",
    "# Part D\n",
    "\n",
    "#unigram matrix\n",
    "print(dtm_md.shape)\n",
    "\n",
    "#bigram matrix\n",
    "print(dtm_bigram.shape)\n",
    "\n",
    "# Part E\n",
    "\n",
    "# modify get_top_words function with ngrams\n",
    "def get_top_bigrams(subset_data, num_bigrams=10):\n",
    "    text_concat = ' '.join(subset_data['processed_text'])\n",
    "    words = text_concat.split()\n",
    "    bigrams = list(ngrams(words, 2))\n",
    "    bigram_counts = Counter(bigrams)\n",
    "    top_bigrams = bigram_counts.most_common(num_bigrams)\n",
    "    return top_bigrams\n",
    "\n",
    "# Get and print the top 10 bigrams for each topic\n",
    "topics = doj_subset_wscore['topics_clean'].unique()\n",
    "\n",
    "for topic in topics:\n",
    "    top_bigrams_topic = get_top_bigrams(doj_subset_wscore[doj_subset_wscore['topics_clean'] == topic])\n",
    "    print(f\"\\nTop 10 bigrams for press releases in '{topic}':\")\n",
    "    for bigram, count in top_bigrams_topic:\n",
    "        print(f\"{bigram}: {count}\")"
   ]
  },
  {
   "cell_type": "markdown",
   "metadata": {},
   "source": [
    "# 4. Optional extra credit (2 points)\n",
    "\n",
    "You notice that the pharmaceutical kickbacks press release we analyzed in question 1 was for an indictment, and that in the original data, there's not a clear label for whether a press release outlines an indictment (charging someone with a crime), a conviction (convicting them after that charge either via a settlement or trial), or a sentencing (how many years of prison or supervised release a defendant is sentenced to after their conviction).\n",
    "\n",
    "You want to see if you can identify pairs of press releases where one press release is from one stage (e.g., indictment) and another is from a different stage (e.g., a sentencing).\n",
    "\n",
    "You decide that one way to approach is to find the pairwise string similarity between each of the processed press releases in `doj_subset`. There are many ways to do this, so Google for some approaches, focusing on ones that work well for entire documents rather than small strings.\n",
    "\n",
    "Find the top two pairs (so four press releases total)-- do they seem like different stages of the same crime or just press releases covering similar crimes?"
   ]
  },
  {
   "cell_type": "code",
   "execution_count": 133,
   "metadata": {},
   "outputs": [
    {
     "data": {
      "text/html": [
       "<div>\n",
       "<style scoped>\n",
       "    .dataframe tbody tr th:only-of-type {\n",
       "        vertical-align: middle;\n",
       "    }\n",
       "\n",
       "    .dataframe tbody tr th {\n",
       "        vertical-align: top;\n",
       "    }\n",
       "\n",
       "    .dataframe thead th {\n",
       "        text-align: right;\n",
       "    }\n",
       "</style>\n",
       "<table border=\"1\" class=\"dataframe\">\n",
       "  <thead>\n",
       "    <tr style=\"text-align: right;\">\n",
       "      <th></th>\n",
       "      <th>id</th>\n",
       "      <th>contents</th>\n",
       "      <th>negative</th>\n",
       "      <th>positive</th>\n",
       "      <th>neutral</th>\n",
       "      <th>compound</th>\n",
       "      <th>topics_clean</th>\n",
       "      <th>processed_text</th>\n",
       "      <th>topic_probabilities</th>\n",
       "      <th>top_topic</th>\n",
       "      <th>processed_text_bigrams</th>\n",
       "    </tr>\n",
       "  </thead>\n",
       "  <tbody>\n",
       "    <tr>\n",
       "      <th>329</th>\n",
       "      <td>14-248</td>\n",
       "      <td>The Department of Justice announced that this morning John W. Ng, 58, of Albuquerque, N.M., made his initial appearance in federal court on a criminal complaint charging him with a hate crime offense.  This charge is related to anti-Semitic threats Ng made against a Jewish woman who owns and operates the Nosh Jewish Delicatessen and Bakery in Albuquerque. Ng was arrested by the FBI on March 7, 2014, based on a criminal complaint alleging that he interfered with the victim’s federally protected rights by threatening her and interfering with her business because of her religion.  According to the criminal complaint, between Jan. 22, 2014, and Feb. 8, 2014, Ng allegedly posted threatening anti-Semitic notes on and in the vicinity of the victim’s business. A criminal complaint merely establishes probable cause, and Ng is presumed innocent unless proven guilty.  If convicted on the offense charged in the criminal complaint, Ng faces a maximum statutory penalty of one year in prison. This matter was investigated by the Albuquerque Division of the FBI and is being prosecuted by Assistant U.S. Attorney Mark T. Baker of the U.S. Attorney’s Office for the District of New Mexico and Trial Attorney AeJean Cha of the U.S. Department of Justice’s Civil Rights Division.</td>\n",
       "      <td>0.319</td>\n",
       "      <td>0.038</td>\n",
       "      <td>0.643</td>\n",
       "      <td>-0.9950</td>\n",
       "      <td>Hate Crimes</td>\n",
       "      <td>announc morn john made initi appear feder court crimin complaint charg hate crime charg relat threat made jewish woman own oper nosh jewish delicatessen bakeri arrest march base crimin complaint alleg interf feder protect threaten interf busi accord crimin alleg post threaten note vicin crimin complaint mere establish probabl presum innoc unless proven convict offens charg crimin face maximum statutori penalti year matter investig albuquerqu prosecut mark baker mexico aejean</td>\n",
       "      <td>[(0, 0.016583532), (1, 0.98211384), (2, 0.0013026842)]</td>\n",
       "      <td>1</td>\n",
       "      <td>announc_morn morn_john john_made made_initi initi_appear appear_feder feder_court court_crimin crimin_complaint complaint_charg charg_hate hate_crime crime_charg charg_relat relat_threat threat_made made_jewish jewish_woman woman_own own_oper oper_nosh nosh_jewish jewish_delicatessen delicatessen_bakeri bakeri_arrest arrest_march march_base base_crimin crimin_complaint complaint_alleg alleg_interf interf_feder feder_protect protect_threaten threaten_interf interf_busi busi_accord accord_crimin crimin_alleg alleg_post post_threaten threaten_note note_vicin vicin_crimin crimin_complaint complaint_mere mere_establish establish_probabl probabl_presum presum_innoc innoc_unless unless_proven proven_convict convict_offens offens_charg charg_crimin crimin_face face_maximum maximum_statutori statutori_penalti penalti_year year_matter matter_investig investig_albuquerqu albuquerqu_prosecut prosecut_mark mark_baker baker_mexico mexico_aejean</td>\n",
       "    </tr>\n",
       "    <tr>\n",
       "      <th>572</th>\n",
       "      <td>13-312</td>\n",
       "      <td>John Hall, 27, an Aryan Brotherhood member and inmate at the Federal Correctional Institution (FCI) in Seagoville, Texas, was sentenced today by U.S. District Judge Reed O’Connor after pleading guilty to violating the Matthew Shepard and James Byrd Jr. Hate Crimes Prevention Act stemming from his assault of a fellow inmate, whom he believed to be gay, the Department of Justice announced. Hall assaulted his fellow inmate with a dangerous weapon, causing bodily injury to the victim on Dec. 20, 2011. Hall was sentenced to serve 71 months in prison to be served consecutively with the sentence he is currently serving. The assault occurred on Dec. 20, 2011, inside the FCI Seagoville when Hall targeted and attacked the victim, a fellow inmate, because he believed the victim was gay or involved in a sexual relationship with another male inmate. Hall repeatedly punched, kicked and stomped on the victim’s face with his shod feet, a dangerous weapon, while yelling a homophobic slur. The victim lost consciousness during the assault and suffered multiple lacerations to his face. The victim also sustained a fractured eye socket, lost a tooth, fractured other teeth and was treated at a hospital for the injuries he sustained during Hall’s unprovoked attack. Hall pleaded guilty to violating the Matthew Shepard and James Byrd Jr. Hate Crimes Prevention Act on Nov. 8, 2012. “Brutality and violence based on sexual orientation has no place in a civilized society,” said Thomas E. Perez, Assistant Attorney General for the Civil Rights Division. “The Justice Department is committed to using all the tools in our law enforcement arsenal, including the Matthew Shepard and James Byrd Jr. Hate Crimes Prevention Act, to prosecute acts motivated by hate.” “This prosecution sends a clear message that this office, in partnership with attorneys in the department’s Civil Rights Division, will prioritize and aggressively prosecute hate crimes and others civil rights violations in North Texas,” said U.S. Attorney Sarah R. Saldaña of the Northern District of Texas. This case was investigated by the FBI Dallas Division. The case was prosecuted by Assistant U.S. Attorney Errin Martin and Trial Attorney Adriana Vieco of the Civil Rights Division.</td>\n",
       "      <td>0.300</td>\n",
       "      <td>0.025</td>\n",
       "      <td>0.675</td>\n",
       "      <td>-0.9983</td>\n",
       "      <td>Hate Crimes</td>\n",
       "      <td>john aryan brotherhood member inmat feder correct institut sentenc today judg reed plead guilti violat matthew shepard jame byrd hate crime prevent stem assault fellow believ hall assault fellow inmat danger caus bodili injuri victim hall sentenc serv month prison serv consecut sentenc current assault occur insid seagovill hall target attack fellow believ victim involv sexual relationship anoth male hall repeat kick stomp face shod danger yell homophob victim lost conscious assault suffer multipl lacer victim also sustain fractur lost fractur teeth treat hospit injuri sustain unprovok hall plead guilti violat matthew shepard jame byrd hate crime prevent violenc base sexual orient place civil said thoma general commit use tool enforc includ matthew shepard jame byrd hate crime prevent prosecut act motiv prosecut send clear messag partnership attorney priorit aggress prosecut hate crime other violat north said sarah saldaña northern investig dalla prosecut errin martin adriana vieco</td>\n",
       "      <td>[(0, 0.0005858688), (1, 0.9987285), (2, 0.0006855945)]</td>\n",
       "      <td>1</td>\n",
       "      <td>john_aryan aryan_brotherhood brotherhood_member member_inmat inmat_feder feder_correct correct_institut institut_sentenc sentenc_today today_judg judg_reed reed_plead plead_guilti guilti_violat violat_matthew matthew_shepard shepard_jame jame_byrd byrd_hate hate_crime crime_prevent prevent_stem stem_assault assault_fellow fellow_believ believ_hall hall_assault assault_fellow fellow_inmat inmat_danger danger_caus caus_bodili bodili_injuri injuri_victim victim_hall hall_sentenc sentenc_serv serv_month month_prison prison_serv serv_consecut consecut_sentenc sentenc_current current_assault assault_occur occur_insid insid_seagovill seagovill_hall hall_target target_attack attack_fellow fellow_believ believ_victim victim_involv involv_sexual sexual_relationship relationship_anoth anoth_male male_hall hall_repeat repeat_kick kick_stomp stomp_face face_shod shod_danger danger_yell yell_homophob homophob_victim victim_lost lost_conscious conscious_assault assault_suffer suffer_multipl multipl_lacer lacer_victim victim_also also_sustain sustain_fractur fractur_lost lost_fractur fractur_teeth teeth_treat treat_hospit hospit_injuri injuri_sustain sustain_unprovok unprovok_hall hall_plead plead_guilti guilti_violat violat_matthew matthew_shepard shepard_jame jame_byrd byrd_hate hate_crime crime_prevent prevent_violenc violenc_base base_sexual sexual_orient orient_place place_civil civil_said said_thoma thoma_general general_commit commit_use use_tool tool_enforc enforc_includ includ_matthew matthew_shepard shepard_jame jame_byrd byrd_hate hate_crime crime_prevent prevent_prosecut prosecut_act act_motiv motiv_prosecut prosecut_send send_clear clear_messag messag_partnership partnership_attorney attorney_priorit priorit_aggress aggress_prosecut prosecut_hate hate_crime crime_other other_violat violat_north north_said said_sarah sarah_saldaña saldaña_northern northern_investig investig_dalla dalla_prosecut prosecut_errin errin_martin martin_adriana adriana_vieco</td>\n",
       "    </tr>\n",
       "    <tr>\n",
       "      <th>11593</th>\n",
       "      <td>16-718</td>\n",
       "      <td>In a nine-count indictment unsealed today, two Mississippi correctional officers were charged with beating an inmate and a third was charged with helping to cover it up.  The indictment charged Lawardrick Marsher, 28, and Robert Sturdivant, 47, officers at Mississippi State Penitentiary, in Parchman, Mississippi, with a beating that included kicking, punching and throwing the victim to the ground.  Marsher and Sturdivant were charged with violating the right of K.H., a convicted prisoner, to be free from cruel and unusual punishment.  Sturdivant was also charged with failing to intervene while Marsher was punching and beating K.H.  The indictment alleges that their actions involved the use of a dangerous weapon and resulted in bodily injury to the victim. A third officer, Deonte Pate, 23, was charged along with Marsher and Sturdivant for conspiring to cover up the beating.  The indictment alleges that all three officers submitted false reports and that all three lied to the FBI. If convicted, Marsher and Sturdivant face a maximum sentence of 10 years in prison on the excessive force charges.  Each of the three officers faces up to five years in prison on the conspiracy and false statement charges, and up to 20 years in prison on the false report charges. An indictment is merely an accusation, and the defendants are presumed innocent unless and until proven guilty. This case is being investigated by the FBI’s Jackson Division, with the cooperation of the Mississippi Department of Corrections.  It is being prosecuted by Assistant U.S. Attorney Robert Coleman of the Northern District of Mississippi and Trial Attorney Dana Mulhauser of the Civil Rights Division’s Criminal Section.     Marsher Indictment</td>\n",
       "      <td>0.294</td>\n",
       "      <td>0.033</td>\n",
       "      <td>0.673</td>\n",
       "      <td>-0.9964</td>\n",
       "      <td>Civil Rights</td>\n",
       "      <td>indict unseal mississippi correct offic charg beat inmat third charg help cover indict charg lawardrick robert offic mississippi state beat includ punch throw victim marsher sturdiv charg violat right convict free cruel unusu sturdiv also charg fail interven marsher punch beat indict alleg action involv danger weapon result bodili injuri third deont charg along marsher sturdiv conspir cover indict alleg three offic submit fals report three lie marsher sturdiv face maximum sentenc year prison excess forc three offic face five year prison conspiraci fals statement year prison fals report indict mere defend presum innoc unless proven investig jackson cooper mississippi prosecut robert coleman northern mississippi dana mulhaus crimin marsher indict</td>\n",
       "      <td>[(0, 0.00070700096), (1, 0.99846566), (2, 0.0008273456)]</td>\n",
       "      <td>1</td>\n",
       "      <td>indict_unseal unseal_mississippi mississippi_correct correct_offic offic_charg charg_beat beat_inmat inmat_third third_charg charg_help help_cover cover_indict indict_charg charg_lawardrick lawardrick_robert robert_offic offic_mississippi mississippi_state state_beat beat_includ includ_punch punch_throw throw_victim victim_marsher marsher_sturdiv sturdiv_charg charg_violat violat_right right_convict convict_free free_cruel cruel_unusu unusu_sturdiv sturdiv_also also_charg charg_fail fail_interven interven_marsher marsher_punch punch_beat beat_indict indict_alleg alleg_action action_involv involv_danger danger_weapon weapon_result result_bodili bodili_injuri injuri_third third_deont deont_charg charg_along along_marsher marsher_sturdiv sturdiv_conspir conspir_cover cover_indict indict_alleg alleg_three three_offic offic_submit submit_fals fals_report report_three three_lie lie_marsher marsher_sturdiv sturdiv_face face_maximum maximum_sentenc sentenc_year year_prison prison_excess excess_forc forc_three three_offic offic_face face_five five_year year_prison prison_conspiraci conspiraci_fals fals_statement statement_year year_prison prison_fals fals_report report_indict indict_mere mere_defend defend_presum presum_innoc innoc_unless unless_proven proven_investig investig_jackson jackson_cooper cooper_mississippi mississippi_prosecut prosecut_robert robert_coleman coleman_northern northern_mississippi mississippi_dana dana_mulhaus mulhaus_crimin crimin_marsher marsher_indict</td>\n",
       "    </tr>\n",
       "    <tr>\n",
       "      <th>501</th>\n",
       "      <td>11-626</td>\n",
       "      <td>WASHINGTON – The Justice Department announced today that Sean Popejoy, 19, of Green Forest, Ark., pleaded guilty in federal court to one count of committing a federal hate crime and one count of conspiring to commit a federal hate crime. This is the first conviction for a violation of the Matthew Shepard and James Byrd Jr. Hate Crimes Prevention Act, which was enacted in October 2009.   Information presented during the plea hearing established that in the early morning hours of June 20, 2010, Popejoy admitted that he was part of a conspiracy to threaten and injure five Hispanic men who had pulled into a gas station parking lot.  The co-conspirators pursued the victims in a truck. When the co-conspirators caught up to the victims, Popejoy leaned outside of the front passenger window and waived a tire wrench at the victims and continued to threaten and hurl racial epithets at the victims. The co-conspirator rammed into the victims' car, which caused the victims’ car to cross the opposite lane of traffic, go off the road, crash into a tree and ignite. As a result of the co-conspirators’ actions, the victims suffered bodily injury, including one victim who sustained life-threatening injuries. “James Byrd, Jr. and Matthew Shepard were brutally murdered more than a decade ago, and today the first defendant is convicted for a hate crime under the critical new law enacted in their names,” said Thomas E. Perez, Assistant Attorney General for the Civil Rights Division. “It is unacceptable that violent acts of hate committed because of someone’s race continue to occur in 2011, and the department will continue to use every available tool to identify and prosecute hate crimes whenever and wherever they occur.  “It is terrible and disturbing that violence motivated by hatred of another’s race continues to occur,” said Conner Eldridge, U.S. Attorney for the Western District of Arkansas. “We are committed to prosecuting such crimes in the Western District of Arkansas.” If convicted, the defendant faces a maximum punishment of 15 years in prison. This case is being investigated by the FBI’s Fayetteville Division in cooperation with the Arkansas State Police Department and the Carroll County Sheriff’s Office.   The case is being prosecuted by Trial Attorney Edward Chung of the Department of Justice’s Civil Rights Division and Assistant U.S. Attorney Kyra Jenner for the Western District of Arkansas.</td>\n",
       "      <td>0.291</td>\n",
       "      <td>0.030</td>\n",
       "      <td>0.679</td>\n",
       "      <td>-0.9986</td>\n",
       "      <td>Hate Crimes</td>\n",
       "      <td>washington announc today sean green plead guilti feder court count commit feder hate crime count conspir commit feder hate first convict violat matthew shepard jame byrd hate crime prevent enact octob inform present plea hear establish earli morn hour june popejoy admit part conspiraci threaten injur five hispan pull station park pursu victim caught popejoy lean outsid front passeng window waiv tire wrench victim continu threaten hurl racial epithet ram caus cross opposit lane crash tree result victim suffer bodili includ victim sustain matthew shepard brutal murder decad today first defend convict hate crime critic enact said thoma general unaccept violent act hate commit race continu occur continu everi avail tool identifi prosecut hate crime whenev wherev terribl disturb violenc motiv hatr race continu said conner western commit prosecut crime western defend face maximum punish year investig fayettevill cooper arkansa state polic carrol counti prosecut edward chung kyra jenner western</td>\n",
       "      <td>[(0, 0.0005524633), (1, 0.998801), (2, 0.00064650347)]</td>\n",
       "      <td>1</td>\n",
       "      <td>washington_announc announc_today today_sean sean_green green_plead plead_guilti guilti_feder feder_court court_count count_commit commit_feder feder_hate hate_crime crime_count count_conspir conspir_commit commit_feder feder_hate hate_first first_convict convict_violat violat_matthew matthew_shepard shepard_jame jame_byrd byrd_hate hate_crime crime_prevent prevent_enact enact_octob octob_inform inform_present present_plea plea_hear hear_establish establish_earli earli_morn morn_hour hour_june june_popejoy popejoy_admit admit_part part_conspiraci conspiraci_threaten threaten_injur injur_five five_hispan hispan_pull pull_station station_park park_pursu pursu_victim victim_caught caught_popejoy popejoy_lean lean_outsid outsid_front front_passeng passeng_window window_waiv waiv_tire tire_wrench wrench_victim victim_continu continu_threaten threaten_hurl hurl_racial racial_epithet epithet_ram ram_caus caus_cross cross_opposit opposit_lane lane_crash crash_tree tree_result result_victim victim_suffer suffer_bodili bodili_includ includ_victim victim_sustain sustain_matthew matthew_shepard shepard_brutal brutal_murder murder_decad decad_today today_first first_defend defend_convict convict_hate hate_crime crime_critic critic_enact enact_said said_thoma thoma_general general_unaccept unaccept_violent violent_act act_hate hate_commit commit_race race_continu continu_occur occur_continu continu_everi everi_avail avail_tool tool_identifi identifi_prosecut prosecut_hate hate_crime crime_whenev whenev_wherev wherev_terribl terribl_disturb disturb_violenc violenc_motiv motiv_hatr hatr_race race_continu continu_said said_conner conner_western western_commit commit_prosecut prosecut_crime crime_western western_defend defend_face face_maximum maximum_punish punish_year year_investig investig_fayettevill fayettevill_cooper cooper_arkansa arkansa_state state_polic polic_carrol carrol_counti counti_prosecut prosecut_edward edward_chung chung_kyra kyra_jenner jenner_western</td>\n",
       "    </tr>\n",
       "    <tr>\n",
       "      <th>11248</th>\n",
       "      <td>10-1194</td>\n",
       "      <td>WASHINGTON - The Justice Department announced that Daniel Cowart was sentenced today to 14 years in prison and three years of supervised release for his role in a conspiracy to murder dozens of African-Americans, including then-Senator and presidential candidate Barack Obama, because of their race. On March 29, 2010, Cowart pleaded guilty to conspiracy, threatening to kill and inflict bodily harm upon a major candidate for the office of President of the United States, interstate transportation of a short-barreled shotgun, interstate transportation of a firearm for the purpose of committing a felony, unlicensed transportation of an unauthorized short-barreled shotgun, possession of a short-barreled shotgun, intentional damage to religious real property and discharge of a firearm during and in relation to a crime of violence. Cowart, 22, of Bells, Tenn., admitted to conspiring with Paul Schlesselman of West Helena, Ark., to engage in a killing spree specifically targeting African-Americans. He further acknowledged that he intended to culminate these attacks by assassinating President Obama, a U.S. Senator and presidential candidate at the time of the conspiracy. Cowart admitted that he and Schlesselman also conspired to burglarize a federally-licensed firearms dealer to obtain additional weapons for their scheme. He also admitted to transporting a sawed-off shotgun from Arkansas to Tennessee for the purpose of committing felonies. Cowart additionally admitted to shooting the window of the Allen Baptist Church in Brownsville, Tenn. Under the plea agreement, Cowart agreed that an appropriate sentence would be between twelve and eighteen years. The charges to which he pleaded guilty carried a minimum sentence of 10 years and a maximum sentence of 75 years in prison. \"Threats of violence fueled by bigotry and hate have no place in the United States of America, and they will not be tolerated,\" said Thomas E. Perez, Assistant Attorney General for the Civil Rights Division. \"Although the heroic intervention of law enforcement spared us from a tragedy, this conspiracy and its associated crimes demanded a severe sentence. The sentence imposed constitutes serious punishment for a serious crime.\" \"Thankfully, the defendants were not able to execute their violent scheme. Nevertheless, this is a grave matter and Judge Breen’s sentence reflects that crimes of this magnitude demand stiff penalties,\" said Edward L. Stanton III, U.S. Attorney for the Western District of Tennessee. \"I would like to recognize the extraordinary diligence of the Crockett County Sheriff’s Department, the Bureau of Alcohol, Tobacco and Firearms, the U.S Secret Service, and the FBI.\" Cowart’s co-defendant, Paul Schlesselman, pleaded guilty on Jan. 14, 2010, to one count of conspiracy, one count of threatening to kill and inflict bodily harm upon a presidential candidate, and one count of possessing a firearm in furtherance of a crime of violence. Schlesselman was sentenced to 10 years in prison on April 15, 2010. This case was investigated by the Bureau of Alcohol, Tobacco, Firearms and Explosives; the U.S. Secret Service; the FBI; and the Crockett County Sheriff’s Office. The case was prosecuted by Assistant U.S. Attorneys Larry Laurenzi and James Powell and Civil Rights Division Trial Attorney Jonathan Skrmetti.</td>\n",
       "      <td>0.282</td>\n",
       "      <td>0.065</td>\n",
       "      <td>0.653</td>\n",
       "      <td>-0.9990</td>\n",
       "      <td>Hate Crimes</td>\n",
       "      <td>washington announc daniel cowart sentenc today year prison three year supervis releas role conspiraci murder dozen includ presidenti candid barack march cowart plead guilti threaten kill inflict bodili harm upon major candid presid unit interst transport interst transport firearm purpos commit unlicens transport unauthor possess intent damag religi real properti discharg firearm relat crime admit conspir paul schlesselman west engag kill spree specif target acknowledg intend culmin attack assassin presid senat presidenti candid time cowart admit schlesselman also conspir burglar firearm dealer obtain addit weapon also admit transport shotgun arkansa tennesse purpos commit cowart addit admit shoot window allen baptist church plea cowart agre appropri sentenc would twelv eighteen charg plead guilti carri minimum sentenc year maximum sentenc year violenc fuel bigotri hate place unit state said thoma general heroic intervent enforc spare conspiraci associ crime demand sever sentenc impos constitut serious punish serious defend abl execut violent grave matter judg sentenc reflect crime magnitud demand stiff said edward stanton western would like recogn extraordinari dilig crockett counti bureau tobacco secret paul plead guilti count count threaten kill inflict bodili harm upon presidenti count possess firearm further crime schlesselman sentenc year prison april investig bureau firearm secret crockett counti prosecut attorney larri laurenzi jame powel jonathan</td>\n",
       "      <td>[(0, 0.0004396547), (1, 0.9990459), (2, 0.00051449233)]</td>\n",
       "      <td>1</td>\n",
       "      <td>washington_announc announc_daniel daniel_cowart cowart_sentenc sentenc_today today_year year_prison prison_three three_year year_supervis supervis_releas releas_role role_conspiraci conspiraci_murder murder_dozen dozen_includ includ_presidenti presidenti_candid candid_barack barack_march march_cowart cowart_plead plead_guilti guilti_threaten threaten_kill kill_inflict inflict_bodili bodili_harm harm_upon upon_major major_candid candid_presid presid_unit unit_interst interst_transport transport_interst interst_transport transport_firearm firearm_purpos purpos_commit commit_unlicens unlicens_transport transport_unauthor unauthor_possess possess_intent intent_damag damag_religi religi_real real_properti properti_discharg discharg_firearm firearm_relat relat_crime crime_admit admit_conspir conspir_paul paul_schlesselman schlesselman_west west_engag engag_kill kill_spree spree_specif specif_target target_acknowledg acknowledg_intend intend_culmin culmin_attack attack_assassin assassin_presid presid_senat senat_presidenti presidenti_candid candid_time time_cowart cowart_admit admit_schlesselman schlesselman_also also_conspir conspir_burglar burglar_firearm firearm_dealer dealer_obtain obtain_addit addit_weapon weapon_also also_admit admit_transport transport_shotgun shotgun_arkansa arkansa_tennesse tennesse_purpos purpos_commit commit_cowart cowart_addit addit_admit admit_shoot shoot_window window_allen allen_baptist baptist_church church_plea plea_cowart cowart_agre agre_appropri appropri_sentenc sentenc_would would_twelv twelv_eighteen eighteen_charg charg_plead plead_guilti guilti_carri carri_minimum minimum_sentenc sentenc_year year_maximum maximum_sentenc sentenc_year year_violenc violenc_fuel fuel_bigotri bigotri_hate hate_place place_unit unit_state state_said said_thoma thoma_general general_heroic heroic_intervent intervent_enforc enforc_spare spare_conspiraci conspiraci_associ associ_crime crime_demand demand_sever sever_sentenc sentenc_impos impos_constitut constitut_serious serious_punish punish_serious serious_defend defend_abl abl_execut execut_violent violent_grave grave_matter matter_judg judg_sentenc sentenc_reflect reflect_crime crime_magnitud magnitud_demand demand_stiff stiff_said said_edward edward_stanton stanton_western western_would would_like like_recogn recogn_extraordinari extraordinari_dilig dilig_crockett crockett_counti counti_bureau bureau_tobacco tobacco_secret secret_paul paul_plead plead_guilti guilti_count count_count count_threaten threaten_kill kill_inflict inflict_bodili bodili_harm harm_upon upon_presidenti presidenti_count count_possess possess_firearm firearm_further further_crime crime_schlesselman schlesselman_sentenc sentenc_year year_prison prison_april april_investig investig_bureau bureau_firearm firearm_secret secret_crockett crockett_counti counti_prosecut prosecut_attorney attorney_larri larri_laurenzi laurenzi_jame jame_powel powel_jonathan</td>\n",
       "    </tr>\n",
       "    <tr>\n",
       "      <th>...</th>\n",
       "      <td>...</td>\n",
       "      <td>...</td>\n",
       "      <td>...</td>\n",
       "      <td>...</td>\n",
       "      <td>...</td>\n",
       "      <td>...</td>\n",
       "      <td>...</td>\n",
       "      <td>...</td>\n",
       "      <td>...</td>\n",
       "      <td>...</td>\n",
       "      <td>...</td>\n",
       "    </tr>\n",
       "    <tr>\n",
       "      <th>7594</th>\n",
       "      <td>16-539</td>\n",
       "      <td>Principal Deputy Assistant Attorney General Vanita Gupta, head of the Justice Department’s Civil Rights Division, and U.S. Attorney Paul J. Fishman of the District of New Jersey released the following statements regarding the U.S. District Court for the District of New Jersey’s approval of the department’s agreement with the city of Newark, New Jersey, to reform the police department’s unconstitutional practices: “We appreciate the court’s swift approval of the Justice Department’s consent decree with the city of Newark,” said Principal Deputy Assistant Attorney General Gupta.  “This agreement will help the Newark Police Department reform policies, improve systems and rebuild trust between officers and the community they serve.  As Newark implements this agreement, we will continue to work closely with city officials, law enforcement and community members to put in place the necessary changes that can make Newark a national model for constitutional, effective and accountable policing.  Once fully implemented, these reforms will make all of those in Newark – officers and civilians alike – safer.  And these reforms will ensure that law enforcement in Newark complies with the Constitution and safeguards the civil rights of every Newark resident.” “This consent decree, now approved by the court, provides a roadmap for reform in Newark and a model for best practices for police departments across the country,” said U.S. Attorney Fishman.  “Implementing the systemic changes outlined in the consent decree will take time, but this is what the city of Newark and the men and women who serve in the Police department want and need, and it is what the people of Newark deserve: a first-class police department that keeps them safe and respects their constitutional rights.”</td>\n",
       "      <td>0.000</td>\n",
       "      <td>0.167</td>\n",
       "      <td>0.833</td>\n",
       "      <td>0.9854</td>\n",
       "      <td>Civil Rights</td>\n",
       "      <td>princip deputi general vanita head paul fishman jersey releas follow statement regard court approv agreement citi reform polic unconstitut appreci swift approv consent decre citi said princip deputi general agreement help newark polic reform improv system rebuild trust offic communiti newark implement continu work close citi enforc communiti member place necessari chang make newark nation model effect account fulli reform make newark offic civilian alik reform ensur enforc newark compli constitut safeguard everi newark consent approv provid roadmap reform newark model best practic polic depart across said system chang outlin consent decre take citi newark women serv polic want peopl newark polic keep safe respect constitut</td>\n",
       "      <td>[(0, 0.00078321516), (1, 0.0012736843), (2, 0.9979431)]</td>\n",
       "      <td>2</td>\n",
       "      <td>princip_deputi deputi_general general_vanita vanita_head head_paul paul_fishman fishman_jersey jersey_releas releas_follow follow_statement statement_regard regard_court court_approv approv_agreement agreement_citi citi_reform reform_polic polic_unconstitut unconstitut_appreci appreci_swift swift_approv approv_consent consent_decre decre_citi citi_said said_princip princip_deputi deputi_general general_agreement agreement_help help_newark newark_polic polic_reform reform_improv improv_system system_rebuild rebuild_trust trust_offic offic_communiti communiti_newark newark_implement implement_continu continu_work work_close close_citi citi_enforc enforc_communiti communiti_member member_place place_necessari necessari_chang chang_make make_newark newark_nation nation_model model_effect effect_account account_fulli fulli_reform reform_make make_newark newark_offic offic_civilian civilian_alik alik_reform reform_ensur ensur_enforc enforc_newark newark_compli compli_constitut constitut_safeguard safeguard_everi everi_newark newark_consent consent_approv approv_provid provid_roadmap roadmap_reform reform_newark newark_model model_best best_practic practic_polic polic_depart depart_across across_said said_system system_chang chang_outlin outlin_consent consent_decre decre_take take_citi citi_newark newark_women women_serv serv_polic polic_want want_peopl peopl_newark newark_polic polic_keep keep_safe safe_respect respect_constitut</td>\n",
       "    </tr>\n",
       "    <tr>\n",
       "      <th>6787</th>\n",
       "      <td>17-132</td>\n",
       "      <td>The Department of Justice has reached an agreement with the St. James Parish School District in Louisiana that upon completion will end court supervision of the district’s schools.  The consent order, approved yesterday by the U.S. District Court for the Eastern District of Louisiana, addresses all remaining issues in the school desegregation case, and when fully implemented will lead to the closing of that case.   The consent order, negotiated with the school district and private plaintiffs, represented by the NAACP Legal Defense and Educational Fund, puts the district on a path to full unitary status within three years provided it: The consent order declares that the district has already met its desegregation obligations in the area of transportation.  The court will retain jurisdiction over the consent order during its implementation, and the Justice Department will monitor the district’s compliance.   “We are pleased to have worked hand-in-hand with the schools to ensure equal and fair treatment for the students of the St. James Parish School District,” said Acting Assistant Attorney General Tom Wheeler of the Civil Rights Division.  “We look forward to working with the district and private plaintiffs to implement the consent order and bring this case to a successful close.” Promoting school desegregation and enforcing Title IV of the Civil Rights Act of 1964 is a top priority of the Justice Department’s Civil Rights Division.  Additional information about the Civil Rights Division is available on its website at www.justice.gov/crt.  St. James Parish Consent Order</td>\n",
       "      <td>0.000</td>\n",
       "      <td>0.160</td>\n",
       "      <td>0.840</td>\n",
       "      <td>0.9794</td>\n",
       "      <td>Civil Rights</td>\n",
       "      <td>reach agreement jame parish school louisiana upon complet court supervis consent approv yesterday court eastern address remain issu school desegreg fulli implement lead close consent negoti school privat repres naacp legal defens educ put path full unitari status within three year provid consent order declar alreadi desegreg oblig area court retain jurisdict consent order monitor pleas work school ensur equal fair treatment student jame parish school said act general wheeler look forward work privat plaintiff implement consent order bring success promot school desegreg enforc titl prioriti addit inform avail websit jame parish consent order</td>\n",
       "      <td>[(0, 0.00083981716), (1, 0.0013659211), (2, 0.9977942)]</td>\n",
       "      <td>2</td>\n",
       "      <td>reach_agreement agreement_jame jame_parish parish_school school_louisiana louisiana_upon upon_complet complet_court court_supervis supervis_consent consent_approv approv_yesterday yesterday_court court_eastern eastern_address address_remain remain_issu issu_school school_desegreg desegreg_fulli fulli_implement implement_lead lead_close close_consent consent_negoti negoti_school school_privat privat_repres repres_naacp naacp_legal legal_defens defens_educ educ_put put_path path_full full_unitari unitari_status status_within within_three three_year year_provid provid_consent consent_order order_declar declar_alreadi alreadi_desegreg desegreg_oblig oblig_area area_court court_retain retain_jurisdict jurisdict_consent consent_order order_monitor monitor_pleas pleas_work work_school school_ensur ensur_equal equal_fair fair_treatment treatment_student student_jame jame_parish parish_school school_said said_act act_general general_wheeler wheeler_look look_forward forward_work work_privat privat_plaintiff plaintiff_implement implement_consent consent_order order_bring bring_success success_promot promot_school school_desegreg desegreg_enforc enforc_titl titl_prioriti prioriti_addit addit_inform inform_avail avail_websit websit_jame jame_parish parish_consent consent_order</td>\n",
       "    </tr>\n",
       "    <tr>\n",
       "      <th>6981</th>\n",
       "      <td>17-003</td>\n",
       "      <td>The Justice Department released a comprehensive report today that provides an overview of the Civil Rights Division’s police reform work under Section 14141 of the Violent Crime Control and Law Enforcement Act of 1994. The report, “The Civil Rights Division’s Pattern and Practice Police Reform Work: 1994-Present,” is designed to serve as a resource for local law enforcement agencies and communities by making the division’s police reform work more accessible and transparent.  It examines a range of topics, including the history and purpose of Section 14141, initiation and methodology of pattern-or-practice investigations, negotiation of reform agreements, the current reform model and its rationale, conclusion of agreements and the impact of pattern-or-practice enforcement on police reform and community-police trust.  To supplement the report, the division also published an interactive Police Reform Finder, which allows users to search how reform agreements have addressed specific kinds of policing issues. “Over the years, countless law enforcement officials and community members have requested additional information about the Civil Rights Division’s policing work,” said Principal Deputy Assistant Attorney General Vanita Gupta, head of the Civil Rights Division.  “We hope stakeholders find our report and interactive tool useful in our collective efforts to advance constitutional policing, strengthen police-community trust and promote officer and public safety.” Since 2009, the Civil Rights Division has opened 25 investigations into law enforcement agencies and is currently enforcing 19 agreements, including 14 consent decrees and one post-judgment order.  Police Reform Report Police Reform Finder Police Reform Accomplishments</td>\n",
       "      <td>0.000</td>\n",
       "      <td>0.139</td>\n",
       "      <td>0.861</td>\n",
       "      <td>0.9766</td>\n",
       "      <td>Civil Rights</td>\n",
       "      <td>releas comprehens report today provid overview polic reform work section violent crime control enforc pattern practic polic reform design serv resourc local enforc agenc communiti make polic reform work access examin rang includ histori purpos section initi methodolog negoti reform current reform model conclus agreement impact enforc polic reform supplement also publish interact polic reform allow user search reform agreement address specif kind polic countless enforc offici communiti member request addit inform polic said princip deputi general vanita head hope stakehold find report interact tool use collect effort advanc constitut strengthen trust promot offic public sinc open investig enforc agenc current enforc includ consent decre polic reform report polic reform finder polic reform accomplish</td>\n",
       "      <td>[(0, 0.00073378556), (1, 0.0011933623), (2, 0.9980728)]</td>\n",
       "      <td>2</td>\n",
       "      <td>releas_comprehens comprehens_report report_today today_provid provid_overview overview_polic polic_reform reform_work work_section section_violent violent_crime crime_control control_enforc enforc_pattern pattern_practic practic_polic polic_reform reform_design design_serv serv_resourc resourc_local local_enforc enforc_agenc agenc_communiti communiti_make make_polic polic_reform reform_work work_access access_examin examin_rang rang_includ includ_histori histori_purpos purpos_section section_initi initi_methodolog methodolog_negoti negoti_reform reform_current current_reform reform_model model_conclus conclus_agreement agreement_impact impact_enforc enforc_polic polic_reform reform_supplement supplement_also also_publish publish_interact interact_polic polic_reform reform_allow allow_user user_search search_reform reform_agreement agreement_address address_specif specif_kind kind_polic polic_countless countless_enforc enforc_offici offici_communiti communiti_member member_request request_addit addit_inform inform_polic polic_said said_princip princip_deputi deputi_general general_vanita vanita_head head_hope hope_stakehold stakehold_find find_report report_interact interact_tool tool_use use_collect collect_effort effort_advanc advanc_constitut constitut_strengthen strengthen_trust trust_promot promot_offic offic_public public_sinc sinc_open open_investig investig_enforc enforc_agenc agenc_current current_enforc enforc_includ includ_consent consent_decre decre_polic polic_reform reform_report report_polic polic_reform reform_finder finder_polic polic_reform reform_accomplish</td>\n",
       "    </tr>\n",
       "    <tr>\n",
       "      <th>1857</th>\n",
       "      <td>17-271</td>\n",
       "      <td>Cleveland School District to Open Consolidated Middle and High Schools by August 2017   U.S. District Court Judge Debra M. Brown of the Northern District of Mississippi today approved a joint settlement agreement filed on Feb. 8 by the Justice Department, private plaintiffs, and the Cleveland School District. The agreement will lead to the effective desegregation of Cleveland’s middle and high schools by the start of the next school year. Under the terms approved today, the school district agrees to comply with a May 13, 2016 court ruling mandating consolidation of Cleveland middle and high schools to remedy decades-long segregation in the school district. The consolidated high school, to be named Cleveland Central High School, will open by August at the current Margaret Green/Cleveland High campus. Also by August, the district will open the consolidated middle school (seventh and eighth grades), Cleveland Central Middle School, at the current East Side High facility. Under the agreement, sixth grade students will attend district elementary schools rather than the consolidated middle school.  As part of the agreement, the district and plaintiffs have withdrawn all alternative desegregation proposals from consideration by the Court. The district has also withdrawn its pending appeal before the U.S. Court of Appeals for the Fifth Circuit. “The Department is pleased to have reached agreement with the Cleveland School District and private plaintiffs to settle this decades-long litigation,” said Acting Assistant Attorney General Tom Wheeler of the Justice Department’s Civil Rights Division.  “The plan approved today allows the community to move forward together.  It reflects the parties’ shared commitment to high quality equal educational opportunities for all Cleveland students.”  Additional information is available on the Justice Department’s website at: www.justice.gov/opa/pr/federal-court-orders-justice-department-desegregation-plan-cleveland-mississippi-schools.  Promoting school desegregation and enforcing Title IV of the Civil Rights Act of 1964 is a top priority of the Justice Department’s Civil Rights Division. Additional information about the Civil Rights Division is available on its website at www.justice.gov/crt.</td>\n",
       "      <td>0.000</td>\n",
       "      <td>0.165</td>\n",
       "      <td>0.835</td>\n",
       "      <td>0.9909</td>\n",
       "      <td>Civil Rights</td>\n",
       "      <td>cleveland school open consolid middl high school august court judg debra brown northern mississippi today approv joint settlement agreement file privat cleveland school agreement lead effect desegreg middl high school start next school term approv school agre compli court rule mandat consolid cleveland middl high school remedi segreg school consolid high name cleveland central high open august current margaret high also open consolid middl school eighth cleveland central middl current east side high sixth grade student attend elementari school rather consolid middl part plaintiff withdrawn altern desegreg propos consider also withdrawn pend appeal court appeal fifth pleas reach agreement cleveland school privat plaintiff settl said act general wheeler plan approv today allow communiti move forward reflect share commit high qualiti equal educ opportun cleveland addit inform avail websit promot school desegreg enforc titl prioriti addit inform avail websit</td>\n",
       "      <td>[(0, 0.00066649576), (1, 0.0010838911), (2, 0.99824965)]</td>\n",
       "      <td>2</td>\n",
       "      <td>cleveland_school school_open open_consolid consolid_middl middl_high high_school school_august august_court court_judg judg_debra debra_brown brown_northern northern_mississippi mississippi_today today_approv approv_joint joint_settlement settlement_agreement agreement_file file_privat privat_cleveland cleveland_school school_agreement agreement_lead lead_effect effect_desegreg desegreg_middl middl_high high_school school_start start_next next_school school_term term_approv approv_school school_agre agre_compli compli_court court_rule rule_mandat mandat_consolid consolid_cleveland cleveland_middl middl_high high_school school_remedi remedi_segreg segreg_school school_consolid consolid_high high_name name_cleveland cleveland_central central_high high_open open_august august_current current_margaret margaret_high high_also also_open open_consolid consolid_middl middl_school school_eighth eighth_cleveland cleveland_central central_middl middl_current current_east east_side side_high high_sixth sixth_grade grade_student student_attend attend_elementari elementari_school school_rather rather_consolid consolid_middl middl_part part_plaintiff plaintiff_withdrawn withdrawn_altern altern_desegreg desegreg_propos propos_consider consider_also also_withdrawn withdrawn_pend pend_appeal appeal_court court_appeal appeal_fifth fifth_pleas pleas_reach reach_agreement agreement_cleveland cleveland_school school_privat privat_plaintiff plaintiff_settl settl_said said_act act_general general_wheeler wheeler_plan plan_approv approv_today today_allow allow_communiti communiti_move move_forward forward_reflect reflect_share share_commit commit_high high_qualiti qualiti_equal equal_educ educ_opportun opportun_cleveland cleveland_addit addit_inform inform_avail avail_websit websit_promot promot_school school_desegreg desegreg_enforc enforc_titl titl_prioriti prioriti_addit addit_inform inform_avail avail_websit</td>\n",
       "    </tr>\n",
       "    <tr>\n",
       "      <th>10286</th>\n",
       "      <td>15-1559</td>\n",
       "      <td>The Department of Justice, including lawyers and senior leaders from the Civil Rights Division, and the U.S. Attorney’s Office of the Northern District of Illinois, completed two days of introductory meetings in Chicago today following last week’s announcement of a pattern or practice investigation into the Chicago Police Department (CPD).  The team, comprised primarily of lawyers from the Civil Rights Division was joined by the head of the Civil Rights Division Vanita Gupta, as well as Zachary Fardon, the U.S Attorney of the Northern District of Illinois.  The investigation into use of force, disparities in use of force and accountability systems of the CPD is being led by the Civil Rights Division with assistance from the U.S. Attorney’s Office of the Northern District of Illinois. On Dec. 16, the group met with CPD Superintendent John Escalante and briefed CPD command staff on the investigative process.  The Civil Rights Division also had initial meetings with community members and organizations in order to solicit information and explain the pattern or practice investigation’s scope and process. Today, Dec. 17, the Civil Rights Division and U.S. Attorney’s Office met with additional community groups, city officials and union representatives.  Meetings with the city of Chicago included Mayor Rahm Emanuel and his staff and a separate meeting with the Independent Police Review Authority Administrator Sharon Fairley.  Throughout the investigative process the Civil Rights Division, assisted by the U.S. Attorney’s Office, will continue to meet with representatives from the community, the city and the unions.  During the course of the investigation, community members will have the opportunity to provide information both in public meetings and privately.  Any public meetings will be announced at a later date.  Anyone who wishes to share information relevant to the investigation is encouraged to contact the Department of Justice by phone: (844) 401-3735 or email: community.cpd@usdoj.gov.</td>\n",
       "      <td>0.000</td>\n",
       "      <td>0.049</td>\n",
       "      <td>0.951</td>\n",
       "      <td>0.8481</td>\n",
       "      <td>Civil Rights</td>\n",
       "      <td>includ lawyer senior leader northern complet day introductori meet chicago today follow last announc pattern practic chicago polic compris primarili lawyer join head vanita well zachari northern dispar forc account system northern group superintend john escalant brief command staff investig also initi meet communiti member organ order solicit inform explain pattern practic scope addit communiti citi offici union meet citi chicago includ mayor rahm emanuel staff separ meet independ polic review author administr sharon throughout investig process assist continu meet repres citi cours communiti member opportun provid inform public meet public meet announc later anyon wish share inform relev encourag contact</td>\n",
       "      <td>[(0, 0.00086479407), (1, 0.0014064062), (2, 0.99772877)]</td>\n",
       "      <td>2</td>\n",
       "      <td>includ_lawyer lawyer_senior senior_leader leader_northern northern_complet complet_day day_introductori introductori_meet meet_chicago chicago_today today_follow follow_last last_announc announc_pattern pattern_practic practic_chicago chicago_polic polic_compris compris_primarili primarili_lawyer lawyer_join join_head head_vanita vanita_well well_zachari zachari_northern northern_dispar dispar_forc forc_account account_system system_northern northern_group group_superintend superintend_john john_escalant escalant_brief brief_command command_staff staff_investig investig_also also_initi initi_meet meet_communiti communiti_member member_organ organ_order order_solicit solicit_inform inform_explain explain_pattern pattern_practic practic_scope scope_addit addit_communiti communiti_citi citi_offici offici_union union_meet meet_citi citi_chicago chicago_includ includ_mayor mayor_rahm rahm_emanuel emanuel_staff staff_separ separ_meet meet_independ independ_polic polic_review review_author author_administr administr_sharon sharon_throughout throughout_investig investig_process process_assist assist_continu continu_meet meet_repres repres_citi citi_cours cours_communiti communiti_member member_opportun opportun_provid provid_inform inform_public public_meet meet_public public_meet meet_announc announc_later later_anyon anyon_wish wish_share share_inform inform_relev relev_encourag encourag_contact</td>\n",
       "    </tr>\n",
       "  </tbody>\n",
       "</table>\n",
       "<p>717 rows × 11 columns</p>\n",
       "</div>"
      ],
      "text/plain": [
       "            id  \\\n",
       "329     14-248   \n",
       "572     13-312   \n",
       "11593   16-718   \n",
       "501     11-626   \n",
       "11248  10-1194   \n",
       "...        ...   \n",
       "7594    16-539   \n",
       "6787    17-132   \n",
       "6981    17-003   \n",
       "1857    17-271   \n",
       "10286  15-1559   \n",
       "\n",
       "                                                                                                                                                                                                                                                                                                                                                                                                                                                                                                                                                                                                                                                                                                                                                                                                                                                                                                                                                                                                                                                                                                                                                                                                                                                                                                                                                                                                                                                                                                                                                                                                                                                                                                                                                                                                                                                                                                                                                                                                                                                                                                                                                                                                                                                                                                                                                                                                                                                                                                                                                                                                                                                                                                                                                                                                                                                                                                                                                                                                                                                                                                                                                                                                                                                                                                                                                                                                                                                                   contents  \\\n",
       "329                                                                                                                                                                                                                                                                                                                                                                                                                                                                                                                                                                                                                                                                                                                                                                                                                                                                                                                                                                                                                                                                                                                                                                                                                                                                                                                                                                                                                                                                                                                                                                                                                                                                                                                                                                                                                                                                                                                                                                                                                                                                                                                                             The Department of Justice announced that this morning John W. Ng, 58, of Albuquerque, N.M., made his initial appearance in federal court on a criminal complaint charging him with a hate crime offense.  This charge is related to anti-Semitic threats Ng made against a Jewish woman who owns and operates the Nosh Jewish Delicatessen and Bakery in Albuquerque. Ng was arrested by the FBI on March 7, 2014, based on a criminal complaint alleging that he interfered with the victim’s federally protected rights by threatening her and interfering with her business because of her religion.  According to the criminal complaint, between Jan. 22, 2014, and Feb. 8, 2014, Ng allegedly posted threatening anti-Semitic notes on and in the vicinity of the victim’s business. A criminal complaint merely establishes probable cause, and Ng is presumed innocent unless proven guilty.  If convicted on the offense charged in the criminal complaint, Ng faces a maximum statutory penalty of one year in prison. This matter was investigated by the Albuquerque Division of the FBI and is being prosecuted by Assistant U.S. Attorney Mark T. Baker of the U.S. Attorney’s Office for the District of New Mexico and Trial Attorney AeJean Cha of the U.S. Department of Justice’s Civil Rights Division.   \n",
       "572                                                                                                                                                                                                                                                                                                                                                                                                                                                                                                                                                                                                                                                                                                                                                                                                                                                                                                                                                                                                                                                                                                                                   John Hall, 27, an Aryan Brotherhood member and inmate at the Federal Correctional Institution (FCI) in Seagoville, Texas, was sentenced today by U.S. District Judge Reed O’Connor after pleading guilty to violating the Matthew Shepard and James Byrd Jr. Hate Crimes Prevention Act stemming from his assault of a fellow inmate, whom he believed to be gay, the Department of Justice announced. Hall assaulted his fellow inmate with a dangerous weapon, causing bodily injury to the victim on Dec. 20, 2011. Hall was sentenced to serve 71 months in prison to be served consecutively with the sentence he is currently serving. The assault occurred on Dec. 20, 2011, inside the FCI Seagoville when Hall targeted and attacked the victim, a fellow inmate, because he believed the victim was gay or involved in a sexual relationship with another male inmate. Hall repeatedly punched, kicked and stomped on the victim’s face with his shod feet, a dangerous weapon, while yelling a homophobic slur. The victim lost consciousness during the assault and suffered multiple lacerations to his face. The victim also sustained a fractured eye socket, lost a tooth, fractured other teeth and was treated at a hospital for the injuries he sustained during Hall’s unprovoked attack. Hall pleaded guilty to violating the Matthew Shepard and James Byrd Jr. Hate Crimes Prevention Act on Nov. 8, 2012. “Brutality and violence based on sexual orientation has no place in a civilized society,” said Thomas E. Perez, Assistant Attorney General for the Civil Rights Division. “The Justice Department is committed to using all the tools in our law enforcement arsenal, including the Matthew Shepard and James Byrd Jr. Hate Crimes Prevention Act, to prosecute acts motivated by hate.” “This prosecution sends a clear message that this office, in partnership with attorneys in the department’s Civil Rights Division, will prioritize and aggressively prosecute hate crimes and others civil rights violations in North Texas,” said U.S. Attorney Sarah R. Saldaña of the Northern District of Texas. This case was investigated by the FBI Dallas Division. The case was prosecuted by Assistant U.S. Attorney Errin Martin and Trial Attorney Adriana Vieco of the Civil Rights Division.   \n",
       "11593                                                                                                                                                                                                                                                                                                                                                                                                                                                                                                                                                                                                                                                                                                                                                                                                                                                                                                                                                                                                                                                                                                                                                                                                                                                                                                                                                                                                                                                                                                                                                                                                                                                                      In a nine-count indictment unsealed today, two Mississippi correctional officers were charged with beating an inmate and a third was charged with helping to cover it up.  The indictment charged Lawardrick Marsher, 28, and Robert Sturdivant, 47, officers at Mississippi State Penitentiary, in Parchman, Mississippi, with a beating that included kicking, punching and throwing the victim to the ground.  Marsher and Sturdivant were charged with violating the right of K.H., a convicted prisoner, to be free from cruel and unusual punishment.  Sturdivant was also charged with failing to intervene while Marsher was punching and beating K.H.  The indictment alleges that their actions involved the use of a dangerous weapon and resulted in bodily injury to the victim. A third officer, Deonte Pate, 23, was charged along with Marsher and Sturdivant for conspiring to cover up the beating.  The indictment alleges that all three officers submitted false reports and that all three lied to the FBI. If convicted, Marsher and Sturdivant face a maximum sentence of 10 years in prison on the excessive force charges.  Each of the three officers faces up to five years in prison on the conspiracy and false statement charges, and up to 20 years in prison on the false report charges. An indictment is merely an accusation, and the defendants are presumed innocent unless and until proven guilty. This case is being investigated by the FBI’s Jackson Division, with the cooperation of the Mississippi Department of Corrections.  It is being prosecuted by Assistant U.S. Attorney Robert Coleman of the Northern District of Mississippi and Trial Attorney Dana Mulhauser of the Civil Rights Division’s Criminal Section.     Marsher Indictment   \n",
       "501                                                                                                                                                                                                                                                                                                                                                                                                                                                                                                                                                                                                                                                                                                                                                                                                                                                                                                                                                 WASHINGTON – The Justice Department announced today that Sean Popejoy, 19, of Green Forest, Ark., pleaded guilty in federal court to one count of committing a federal hate crime and one count of conspiring to commit a federal hate crime. This is the first conviction for a violation of the Matthew Shepard and James Byrd Jr. Hate Crimes Prevention Act, which was enacted in October 2009.   Information presented during the plea hearing established that in the early morning hours of June 20, 2010, Popejoy admitted that he was part of a conspiracy to threaten and injure five Hispanic men who had pulled into a gas station parking lot.  The co-conspirators pursued the victims in a truck. When the co-conspirators caught up to the victims, Popejoy leaned outside of the front passenger window and waived a tire wrench at the victims and continued to threaten and hurl racial epithets at the victims. The co-conspirator rammed into the victims' car, which caused the victims’ car to cross the opposite lane of traffic, go off the road, crash into a tree and ignite. As a result of the co-conspirators’ actions, the victims suffered bodily injury, including one victim who sustained life-threatening injuries. “James Byrd, Jr. and Matthew Shepard were brutally murdered more than a decade ago, and today the first defendant is convicted for a hate crime under the critical new law enacted in their names,” said Thomas E. Perez, Assistant Attorney General for the Civil Rights Division. “It is unacceptable that violent acts of hate committed because of someone’s race continue to occur in 2011, and the department will continue to use every available tool to identify and prosecute hate crimes whenever and wherever they occur.  “It is terrible and disturbing that violence motivated by hatred of another’s race continues to occur,” said Conner Eldridge, U.S. Attorney for the Western District of Arkansas. “We are committed to prosecuting such crimes in the Western District of Arkansas.” If convicted, the defendant faces a maximum punishment of 15 years in prison. This case is being investigated by the FBI’s Fayetteville Division in cooperation with the Arkansas State Police Department and the Carroll County Sheriff’s Office.   The case is being prosecuted by Trial Attorney Edward Chung of the Department of Justice’s Civil Rights Division and Assistant U.S. Attorney Kyra Jenner for the Western District of Arkansas.   \n",
       "11248  WASHINGTON - The Justice Department announced that Daniel Cowart was sentenced today to 14 years in prison and three years of supervised release for his role in a conspiracy to murder dozens of African-Americans, including then-Senator and presidential candidate Barack Obama, because of their race. On March 29, 2010, Cowart pleaded guilty to conspiracy, threatening to kill and inflict bodily harm upon a major candidate for the office of President of the United States, interstate transportation of a short-barreled shotgun, interstate transportation of a firearm for the purpose of committing a felony, unlicensed transportation of an unauthorized short-barreled shotgun, possession of a short-barreled shotgun, intentional damage to religious real property and discharge of a firearm during and in relation to a crime of violence. Cowart, 22, of Bells, Tenn., admitted to conspiring with Paul Schlesselman of West Helena, Ark., to engage in a killing spree specifically targeting African-Americans. He further acknowledged that he intended to culminate these attacks by assassinating President Obama, a U.S. Senator and presidential candidate at the time of the conspiracy. Cowart admitted that he and Schlesselman also conspired to burglarize a federally-licensed firearms dealer to obtain additional weapons for their scheme. He also admitted to transporting a sawed-off shotgun from Arkansas to Tennessee for the purpose of committing felonies. Cowart additionally admitted to shooting the window of the Allen Baptist Church in Brownsville, Tenn. Under the plea agreement, Cowart agreed that an appropriate sentence would be between twelve and eighteen years. The charges to which he pleaded guilty carried a minimum sentence of 10 years and a maximum sentence of 75 years in prison. \"Threats of violence fueled by bigotry and hate have no place in the United States of America, and they will not be tolerated,\" said Thomas E. Perez, Assistant Attorney General for the Civil Rights Division. \"Although the heroic intervention of law enforcement spared us from a tragedy, this conspiracy and its associated crimes demanded a severe sentence. The sentence imposed constitutes serious punishment for a serious crime.\" \"Thankfully, the defendants were not able to execute their violent scheme. Nevertheless, this is a grave matter and Judge Breen’s sentence reflects that crimes of this magnitude demand stiff penalties,\" said Edward L. Stanton III, U.S. Attorney for the Western District of Tennessee. \"I would like to recognize the extraordinary diligence of the Crockett County Sheriff’s Department, the Bureau of Alcohol, Tobacco and Firearms, the U.S Secret Service, and the FBI.\" Cowart’s co-defendant, Paul Schlesselman, pleaded guilty on Jan. 14, 2010, to one count of conspiracy, one count of threatening to kill and inflict bodily harm upon a presidential candidate, and one count of possessing a firearm in furtherance of a crime of violence. Schlesselman was sentenced to 10 years in prison on April 15, 2010. This case was investigated by the Bureau of Alcohol, Tobacco, Firearms and Explosives; the U.S. Secret Service; the FBI; and the Crockett County Sheriff’s Office. The case was prosecuted by Assistant U.S. Attorneys Larry Laurenzi and James Powell and Civil Rights Division Trial Attorney Jonathan Skrmetti.   \n",
       "...                                                                                                                                                                                                                                                                                                                                                                                                                                                                                                                                                                                                                                                                                                                                                                                                                                                                                                                                                                                                                                                                                                                                                                                                                                                                                                                                                                                                                                                                                                                                                                                                                                                                                                                                                                                                                                                                                                                                                                                                                                                                                                                                                                                                                                                                                                                                                                                                                                                                                                                                                                                                                                                                                                                                                                                                                                                                                                                                                                                                                                                                                                                                                                                                                                                                                                                                                                                                                                                                     ...   \n",
       "7594                                                                                                                                                                                                                                                                                                                                                                                                                                                                                                                                                                                                                                                                                                                                                                                                                                                                                                                                                                                                                                                                                                                                                                                                                                                                                                                                                                                                                                                                                                                                                                                                            Principal Deputy Assistant Attorney General Vanita Gupta, head of the Justice Department’s Civil Rights Division, and U.S. Attorney Paul J. Fishman of the District of New Jersey released the following statements regarding the U.S. District Court for the District of New Jersey’s approval of the department’s agreement with the city of Newark, New Jersey, to reform the police department’s unconstitutional practices: “We appreciate the court’s swift approval of the Justice Department’s consent decree with the city of Newark,” said Principal Deputy Assistant Attorney General Gupta.  “This agreement will help the Newark Police Department reform policies, improve systems and rebuild trust between officers and the community they serve.  As Newark implements this agreement, we will continue to work closely with city officials, law enforcement and community members to put in place the necessary changes that can make Newark a national model for constitutional, effective and accountable policing.  Once fully implemented, these reforms will make all of those in Newark – officers and civilians alike – safer.  And these reforms will ensure that law enforcement in Newark complies with the Constitution and safeguards the civil rights of every Newark resident.” “This consent decree, now approved by the court, provides a roadmap for reform in Newark and a model for best practices for police departments across the country,” said U.S. Attorney Fishman.  “Implementing the systemic changes outlined in the consent decree will take time, but this is what the city of Newark and the men and women who serve in the Police department want and need, and it is what the people of Newark deserve: a first-class police department that keeps them safe and respects their constitutional rights.”   \n",
       "6787                                                                                                                                                                                                                                                                                                                                                                                                                                                                                                                                                                                                                                                                                                                                                                                                                                                                                                                                                                                                                                                                                                                                                                                                                                                                                                                                                                                                                                                                                                                                                                                                                                                                                                                                                                                                             The Department of Justice has reached an agreement with the St. James Parish School District in Louisiana that upon completion will end court supervision of the district’s schools.  The consent order, approved yesterday by the U.S. District Court for the Eastern District of Louisiana, addresses all remaining issues in the school desegregation case, and when fully implemented will lead to the closing of that case.   The consent order, negotiated with the school district and private plaintiffs, represented by the NAACP Legal Defense and Educational Fund, puts the district on a path to full unitary status within three years provided it: The consent order declares that the district has already met its desegregation obligations in the area of transportation.  The court will retain jurisdiction over the consent order during its implementation, and the Justice Department will monitor the district’s compliance.   “We are pleased to have worked hand-in-hand with the schools to ensure equal and fair treatment for the students of the St. James Parish School District,” said Acting Assistant Attorney General Tom Wheeler of the Civil Rights Division.  “We look forward to working with the district and private plaintiffs to implement the consent order and bring this case to a successful close.” Promoting school desegregation and enforcing Title IV of the Civil Rights Act of 1964 is a top priority of the Justice Department’s Civil Rights Division.  Additional information about the Civil Rights Division is available on its website at www.justice.gov/crt.  St. James Parish Consent Order   \n",
       "6981                                                                                                                                                                                                                                                                                                                                                                                                                                                                                                                                                                                                                                                                                                                                                                                                                                                                                                                                                                                                                                                                                                                                                                                                                                                                                                                                                                                                                                                                                                                                                                                                                                              The Justice Department released a comprehensive report today that provides an overview of the Civil Rights Division’s police reform work under Section 14141 of the Violent Crime Control and Law Enforcement Act of 1994. The report, “The Civil Rights Division’s Pattern and Practice Police Reform Work: 1994-Present,” is designed to serve as a resource for local law enforcement agencies and communities by making the division’s police reform work more accessible and transparent.  It examines a range of topics, including the history and purpose of Section 14141, initiation and methodology of pattern-or-practice investigations, negotiation of reform agreements, the current reform model and its rationale, conclusion of agreements and the impact of pattern-or-practice enforcement on police reform and community-police trust.  To supplement the report, the division also published an interactive Police Reform Finder, which allows users to search how reform agreements have addressed specific kinds of policing issues. “Over the years, countless law enforcement officials and community members have requested additional information about the Civil Rights Division’s policing work,” said Principal Deputy Assistant Attorney General Vanita Gupta, head of the Civil Rights Division.  “We hope stakeholders find our report and interactive tool useful in our collective efforts to advance constitutional policing, strengthen police-community trust and promote officer and public safety.” Since 2009, the Civil Rights Division has opened 25 investigations into law enforcement agencies and is currently enforcing 19 agreements, including 14 consent decrees and one post-judgment order.  Police Reform Report Police Reform Finder Police Reform Accomplishments   \n",
       "1857                                                                                                                                                                                                                                                                                                                                                                                                                                                                                                                                                                                                                                                                                                                                                                                                                                                                                                                                                                                                                                                                                                                   Cleveland School District to Open Consolidated Middle and High Schools by August 2017   U.S. District Court Judge Debra M. Brown of the Northern District of Mississippi today approved a joint settlement agreement filed on Feb. 8 by the Justice Department, private plaintiffs, and the Cleveland School District. The agreement will lead to the effective desegregation of Cleveland’s middle and high schools by the start of the next school year. Under the terms approved today, the school district agrees to comply with a May 13, 2016 court ruling mandating consolidation of Cleveland middle and high schools to remedy decades-long segregation in the school district. The consolidated high school, to be named Cleveland Central High School, will open by August at the current Margaret Green/Cleveland High campus. Also by August, the district will open the consolidated middle school (seventh and eighth grades), Cleveland Central Middle School, at the current East Side High facility. Under the agreement, sixth grade students will attend district elementary schools rather than the consolidated middle school.  As part of the agreement, the district and plaintiffs have withdrawn all alternative desegregation proposals from consideration by the Court. The district has also withdrawn its pending appeal before the U.S. Court of Appeals for the Fifth Circuit. “The Department is pleased to have reached agreement with the Cleveland School District and private plaintiffs to settle this decades-long litigation,” said Acting Assistant Attorney General Tom Wheeler of the Justice Department’s Civil Rights Division.  “The plan approved today allows the community to move forward together.  It reflects the parties’ shared commitment to high quality equal educational opportunities for all Cleveland students.”  Additional information is available on the Justice Department’s website at: www.justice.gov/opa/pr/federal-court-orders-justice-department-desegregation-plan-cleveland-mississippi-schools.  Promoting school desegregation and enforcing Title IV of the Civil Rights Act of 1964 is a top priority of the Justice Department’s Civil Rights Division. Additional information about the Civil Rights Division is available on its website at www.justice.gov/crt.    \n",
       "10286                                                                                                                                                                                                                                                                                                                                                                                                                                                                                                                                                                                                                                                                                                                                                                                                                                                                                                                                                                                                                                                                                                                                                                                                                                                                                                                                                                     The Department of Justice, including lawyers and senior leaders from the Civil Rights Division, and the U.S. Attorney’s Office of the Northern District of Illinois, completed two days of introductory meetings in Chicago today following last week’s announcement of a pattern or practice investigation into the Chicago Police Department (CPD).  The team, comprised primarily of lawyers from the Civil Rights Division was joined by the head of the Civil Rights Division Vanita Gupta, as well as Zachary Fardon, the U.S Attorney of the Northern District of Illinois.  The investigation into use of force, disparities in use of force and accountability systems of the CPD is being led by the Civil Rights Division with assistance from the U.S. Attorney’s Office of the Northern District of Illinois. On Dec. 16, the group met with CPD Superintendent John Escalante and briefed CPD command staff on the investigative process.  The Civil Rights Division also had initial meetings with community members and organizations in order to solicit information and explain the pattern or practice investigation’s scope and process. Today, Dec. 17, the Civil Rights Division and U.S. Attorney’s Office met with additional community groups, city officials and union representatives.  Meetings with the city of Chicago included Mayor Rahm Emanuel and his staff and a separate meeting with the Independent Police Review Authority Administrator Sharon Fairley.  Throughout the investigative process the Civil Rights Division, assisted by the U.S. Attorney’s Office, will continue to meet with representatives from the community, the city and the unions.  During the course of the investigation, community members will have the opportunity to provide information both in public meetings and privately.  Any public meetings will be announced at a later date.  Anyone who wishes to share information relevant to the investigation is encouraged to contact the Department of Justice by phone: (844) 401-3735 or email: community.cpd@usdoj.gov.   \n",
       "\n",
       "       negative  positive  neutral  compound  topics_clean  \\\n",
       "329       0.319     0.038    0.643   -0.9950   Hate Crimes   \n",
       "572       0.300     0.025    0.675   -0.9983   Hate Crimes   \n",
       "11593     0.294     0.033    0.673   -0.9964  Civil Rights   \n",
       "501       0.291     0.030    0.679   -0.9986   Hate Crimes   \n",
       "11248     0.282     0.065    0.653   -0.9990   Hate Crimes   \n",
       "...         ...       ...      ...       ...           ...   \n",
       "7594      0.000     0.167    0.833    0.9854  Civil Rights   \n",
       "6787      0.000     0.160    0.840    0.9794  Civil Rights   \n",
       "6981      0.000     0.139    0.861    0.9766  Civil Rights   \n",
       "1857      0.000     0.165    0.835    0.9909  Civil Rights   \n",
       "10286     0.000     0.049    0.951    0.8481  Civil Rights   \n",
       "\n",
       "                                                                                                                                                                                                                                                                                                                                                                                                                                                                                                                                                                                                                                                                                                                                                                                                                                                                                                                                                                                                                                                                                                                                                                                                                                                                                                                                                                                                                                                                                                                               processed_text  \\\n",
       "329                                                                                                                                                                                                                                                                                                                                                                                                                                                                                                                                                                                                                                                                                                                                                                                                                                                                                                                                                                                                                                           announc morn john made initi appear feder court crimin complaint charg hate crime charg relat threat made jewish woman own oper nosh jewish delicatessen bakeri arrest march base crimin complaint alleg interf feder protect threaten interf busi accord crimin alleg post threaten note vicin crimin complaint mere establish probabl presum innoc unless proven convict offens charg crimin face maximum statutori penalti year matter investig albuquerqu prosecut mark baker mexico aejean   \n",
       "572                                                                                                                                                                                                                                                                                                                                                                                                                                                                                                       john aryan brotherhood member inmat feder correct institut sentenc today judg reed plead guilti violat matthew shepard jame byrd hate crime prevent stem assault fellow believ hall assault fellow inmat danger caus bodili injuri victim hall sentenc serv month prison serv consecut sentenc current assault occur insid seagovill hall target attack fellow believ victim involv sexual relationship anoth male hall repeat kick stomp face shod danger yell homophob victim lost conscious assault suffer multipl lacer victim also sustain fractur lost fractur teeth treat hospit injuri sustain unprovok hall plead guilti violat matthew shepard jame byrd hate crime prevent violenc base sexual orient place civil said thoma general commit use tool enforc includ matthew shepard jame byrd hate crime prevent prosecut act motiv prosecut send clear messag partnership attorney priorit aggress prosecut hate crime other violat north said sarah saldaña northern investig dalla prosecut errin martin adriana vieco   \n",
       "11593                                                                                                                                                                                                                                                                                                                                                                                                                                                                                                                                                                                                                                                                                                                                                      indict unseal mississippi correct offic charg beat inmat third charg help cover indict charg lawardrick robert offic mississippi state beat includ punch throw victim marsher sturdiv charg violat right convict free cruel unusu sturdiv also charg fail interven marsher punch beat indict alleg action involv danger weapon result bodili injuri third deont charg along marsher sturdiv conspir cover indict alleg three offic submit fals report three lie marsher sturdiv face maximum sentenc year prison excess forc three offic face five year prison conspiraci fals statement year prison fals report indict mere defend presum innoc unless proven investig jackson cooper mississippi prosecut robert coleman northern mississippi dana mulhaus crimin marsher indict   \n",
       "501                                                                                                                                                                                                                                                                                                                                                                                                                                                                                                washington announc today sean green plead guilti feder court count commit feder hate crime count conspir commit feder hate first convict violat matthew shepard jame byrd hate crime prevent enact octob inform present plea hear establish earli morn hour june popejoy admit part conspiraci threaten injur five hispan pull station park pursu victim caught popejoy lean outsid front passeng window waiv tire wrench victim continu threaten hurl racial epithet ram caus cross opposit lane crash tree result victim suffer bodili includ victim sustain matthew shepard brutal murder decad today first defend convict hate crime critic enact said thoma general unaccept violent act hate commit race continu occur continu everi avail tool identifi prosecut hate crime whenev wherev terribl disturb violenc motiv hatr race continu said conner western commit prosecut crime western defend face maximum punish year investig fayettevill cooper arkansa state polic carrol counti prosecut edward chung kyra jenner western   \n",
       "11248  washington announc daniel cowart sentenc today year prison three year supervis releas role conspiraci murder dozen includ presidenti candid barack march cowart plead guilti threaten kill inflict bodili harm upon major candid presid unit interst transport interst transport firearm purpos commit unlicens transport unauthor possess intent damag religi real properti discharg firearm relat crime admit conspir paul schlesselman west engag kill spree specif target acknowledg intend culmin attack assassin presid senat presidenti candid time cowart admit schlesselman also conspir burglar firearm dealer obtain addit weapon also admit transport shotgun arkansa tennesse purpos commit cowart addit admit shoot window allen baptist church plea cowart agre appropri sentenc would twelv eighteen charg plead guilti carri minimum sentenc year maximum sentenc year violenc fuel bigotri hate place unit state said thoma general heroic intervent enforc spare conspiraci associ crime demand sever sentenc impos constitut serious punish serious defend abl execut violent grave matter judg sentenc reflect crime magnitud demand stiff said edward stanton western would like recogn extraordinari dilig crockett counti bureau tobacco secret paul plead guilti count count threaten kill inflict bodili harm upon presidenti count possess firearm further crime schlesselman sentenc year prison april investig bureau firearm secret crockett counti prosecut attorney larri laurenzi jame powel jonathan   \n",
       "...                                                                                                                                                                                                                                                                                                                                                                                                                                                                                                                                                                                                                                                                                                                                                                                                                                                                                                                                                                                                                                                                                                                                                                                                                                                                                                                                                                                                                                                                                                                                       ...   \n",
       "7594                                                                                                                                                                                                                                                                                                                                                                                                                                                                                                                                                                                                                                                                                                                                                                             princip deputi general vanita head paul fishman jersey releas follow statement regard court approv agreement citi reform polic unconstitut appreci swift approv consent decre citi said princip deputi general agreement help newark polic reform improv system rebuild trust offic communiti newark implement continu work close citi enforc communiti member place necessari chang make newark nation model effect account fulli reform make newark offic civilian alik reform ensur enforc newark compli constitut safeguard everi newark consent approv provid roadmap reform newark model best practic polic depart across said system chang outlin consent decre take citi newark women serv polic want peopl newark polic keep safe respect constitut   \n",
       "6787                                                                                                                                                                                                                                                                                                                                                                                                                                                                                                                                                                                                                                                                                                                                                                                                                                                                 reach agreement jame parish school louisiana upon complet court supervis consent approv yesterday court eastern address remain issu school desegreg fulli implement lead close consent negoti school privat repres naacp legal defens educ put path full unitari status within three year provid consent order declar alreadi desegreg oblig area court retain jurisdict consent order monitor pleas work school ensur equal fair treatment student jame parish school said act general wheeler look forward work privat plaintiff implement consent order bring success promot school desegreg enforc titl prioriti addit inform avail websit jame parish consent order   \n",
       "6981                                                                                                                                                                                                                                                                                                                                                                                                                                                                                                                                                                                                                                                                                                releas comprehens report today provid overview polic reform work section violent crime control enforc pattern practic polic reform design serv resourc local enforc agenc communiti make polic reform work access examin rang includ histori purpos section initi methodolog negoti reform current reform model conclus agreement impact enforc polic reform supplement also publish interact polic reform allow user search reform agreement address specif kind polic countless enforc offici communiti member request addit inform polic said princip deputi general vanita head hope stakehold find report interact tool use collect effort advanc constitut strengthen trust promot offic public sinc open investig enforc agenc current enforc includ consent decre polic reform report polic reform finder polic reform accomplish   \n",
       "1857                                                                                                                                                                                                                                                                                                                                                                                                                                                                                                                                 cleveland school open consolid middl high school august court judg debra brown northern mississippi today approv joint settlement agreement file privat cleveland school agreement lead effect desegreg middl high school start next school term approv school agre compli court rule mandat consolid cleveland middl high school remedi segreg school consolid high name cleveland central high open august current margaret high also open consolid middl school eighth cleveland central middl current east side high sixth grade student attend elementari school rather consolid middl part plaintiff withdrawn altern desegreg propos consider also withdrawn pend appeal court appeal fifth pleas reach agreement cleveland school privat plaintiff settl said act general wheeler plan approv today allow communiti move forward reflect share commit high qualiti equal educ opportun cleveland addit inform avail websit promot school desegreg enforc titl prioriti addit inform avail websit   \n",
       "10286                                                                                                                                                                                                                                                                                                                                                                                                                                                                                                                                                                                                                                                                                                                                                                                               includ lawyer senior leader northern complet day introductori meet chicago today follow last announc pattern practic chicago polic compris primarili lawyer join head vanita well zachari northern dispar forc account system northern group superintend john escalant brief command staff investig also initi meet communiti member organ order solicit inform explain pattern practic scope addit communiti citi offici union meet citi chicago includ mayor rahm emanuel staff separ meet independ polic review author administr sharon throughout investig process assist continu meet repres citi cours communiti member opportun provid inform public meet public meet announc later anyon wish share inform relev encourag contact   \n",
       "\n",
       "                                            topic_probabilities  top_topic  \\\n",
       "329      [(0, 0.016583532), (1, 0.98211384), (2, 0.0013026842)]          1   \n",
       "572      [(0, 0.0005858688), (1, 0.9987285), (2, 0.0006855945)]          1   \n",
       "11593  [(0, 0.00070700096), (1, 0.99846566), (2, 0.0008273456)]          1   \n",
       "501      [(0, 0.0005524633), (1, 0.998801), (2, 0.00064650347)]          1   \n",
       "11248   [(0, 0.0004396547), (1, 0.9990459), (2, 0.00051449233)]          1   \n",
       "...                                                         ...        ...   \n",
       "7594    [(0, 0.00078321516), (1, 0.0012736843), (2, 0.9979431)]          2   \n",
       "6787    [(0, 0.00083981716), (1, 0.0013659211), (2, 0.9977942)]          2   \n",
       "6981    [(0, 0.00073378556), (1, 0.0011933623), (2, 0.9980728)]          2   \n",
       "1857   [(0, 0.00066649576), (1, 0.0010838911), (2, 0.99824965)]          2   \n",
       "10286  [(0, 0.00086479407), (1, 0.0014064062), (2, 0.99772877)]          2   \n",
       "\n",
       "                                                                                                                                                                                                                                                                                                                                                                                                                                                                                                                                                                                                                                                                                                                                                                                                                                                                                                                                                                                                                                                                                                                                                                                                                                                                                                                                                                                                                                                                                                                                                                                                                                                                                                                                                                                                                                                                                                                                                                                                                                                                                                                                                                                                                                                                                                                                                                                                                                                                                                                                                                                                                                                                                                                                                                                                                                                                                                                                                                                                                                          processed_text_bigrams  \n",
       "329                                                                                                                                                                                                                                                                                                                                                                                                                                                                                                                                                                                                                                                                                                                                                                                                                                                                                                                                                                                                                                                                                                                                                                                                                                                                                                                                                                                                                                                                                                                                                                                                                                                                                                                                                                                                                                                                                                                                                                                                                                                                             announc_morn morn_john john_made made_initi initi_appear appear_feder feder_court court_crimin crimin_complaint complaint_charg charg_hate hate_crime crime_charg charg_relat relat_threat threat_made made_jewish jewish_woman woman_own own_oper oper_nosh nosh_jewish jewish_delicatessen delicatessen_bakeri bakeri_arrest arrest_march march_base base_crimin crimin_complaint complaint_alleg alleg_interf interf_feder feder_protect protect_threaten threaten_interf interf_busi busi_accord accord_crimin crimin_alleg alleg_post post_threaten threaten_note note_vicin vicin_crimin crimin_complaint complaint_mere mere_establish establish_probabl probabl_presum presum_innoc innoc_unless unless_proven proven_convict convict_offens offens_charg charg_crimin crimin_face face_maximum maximum_statutori statutori_penalti penalti_year year_matter matter_investig investig_albuquerqu albuquerqu_prosecut prosecut_mark mark_baker baker_mexico mexico_aejean  \n",
       "572                                                                                                                                                                                                                                                                                                                                                                                                                                                                                                                                                                                                                                                                                                                                                                                                                                                                                                                                                                                                 john_aryan aryan_brotherhood brotherhood_member member_inmat inmat_feder feder_correct correct_institut institut_sentenc sentenc_today today_judg judg_reed reed_plead plead_guilti guilti_violat violat_matthew matthew_shepard shepard_jame jame_byrd byrd_hate hate_crime crime_prevent prevent_stem stem_assault assault_fellow fellow_believ believ_hall hall_assault assault_fellow fellow_inmat inmat_danger danger_caus caus_bodili bodili_injuri injuri_victim victim_hall hall_sentenc sentenc_serv serv_month month_prison prison_serv serv_consecut consecut_sentenc sentenc_current current_assault assault_occur occur_insid insid_seagovill seagovill_hall hall_target target_attack attack_fellow fellow_believ believ_victim victim_involv involv_sexual sexual_relationship relationship_anoth anoth_male male_hall hall_repeat repeat_kick kick_stomp stomp_face face_shod shod_danger danger_yell yell_homophob homophob_victim victim_lost lost_conscious conscious_assault assault_suffer suffer_multipl multipl_lacer lacer_victim victim_also also_sustain sustain_fractur fractur_lost lost_fractur fractur_teeth teeth_treat treat_hospit hospit_injuri injuri_sustain sustain_unprovok unprovok_hall hall_plead plead_guilti guilti_violat violat_matthew matthew_shepard shepard_jame jame_byrd byrd_hate hate_crime crime_prevent prevent_violenc violenc_base base_sexual sexual_orient orient_place place_civil civil_said said_thoma thoma_general general_commit commit_use use_tool tool_enforc enforc_includ includ_matthew matthew_shepard shepard_jame jame_byrd byrd_hate hate_crime crime_prevent prevent_prosecut prosecut_act act_motiv motiv_prosecut prosecut_send send_clear clear_messag messag_partnership partnership_attorney attorney_priorit priorit_aggress aggress_prosecut prosecut_hate hate_crime crime_other other_violat violat_north north_said said_sarah sarah_saldaña saldaña_northern northern_investig investig_dalla dalla_prosecut prosecut_errin errin_martin martin_adriana adriana_vieco  \n",
       "11593                                                                                                                                                                                                                                                                                                                                                                                                                                                                                                                                                                                                                                                                                                                                                                                                                                                                                                                                                                                                                                                                                                                                                                                                                                                                                                                                                                                                                                                                                                    indict_unseal unseal_mississippi mississippi_correct correct_offic offic_charg charg_beat beat_inmat inmat_third third_charg charg_help help_cover cover_indict indict_charg charg_lawardrick lawardrick_robert robert_offic offic_mississippi mississippi_state state_beat beat_includ includ_punch punch_throw throw_victim victim_marsher marsher_sturdiv sturdiv_charg charg_violat violat_right right_convict convict_free free_cruel cruel_unusu unusu_sturdiv sturdiv_also also_charg charg_fail fail_interven interven_marsher marsher_punch punch_beat beat_indict indict_alleg alleg_action action_involv involv_danger danger_weapon weapon_result result_bodili bodili_injuri injuri_third third_deont deont_charg charg_along along_marsher marsher_sturdiv sturdiv_conspir conspir_cover cover_indict indict_alleg alleg_three three_offic offic_submit submit_fals fals_report report_three three_lie lie_marsher marsher_sturdiv sturdiv_face face_maximum maximum_sentenc sentenc_year year_prison prison_excess excess_forc forc_three three_offic offic_face face_five five_year year_prison prison_conspiraci conspiraci_fals fals_statement statement_year year_prison prison_fals fals_report report_indict indict_mere mere_defend defend_presum presum_innoc innoc_unless unless_proven proven_investig investig_jackson jackson_cooper cooper_mississippi mississippi_prosecut prosecut_robert robert_coleman coleman_northern northern_mississippi mississippi_dana dana_mulhaus mulhaus_crimin crimin_marsher marsher_indict  \n",
       "501                                                                                                                                                                                                                                                                                                                                                                                                                                                                                                                                                                                                                                                                                                                                                                                                                                                                                                                                                                                           washington_announc announc_today today_sean sean_green green_plead plead_guilti guilti_feder feder_court court_count count_commit commit_feder feder_hate hate_crime crime_count count_conspir conspir_commit commit_feder feder_hate hate_first first_convict convict_violat violat_matthew matthew_shepard shepard_jame jame_byrd byrd_hate hate_crime crime_prevent prevent_enact enact_octob octob_inform inform_present present_plea plea_hear hear_establish establish_earli earli_morn morn_hour hour_june june_popejoy popejoy_admit admit_part part_conspiraci conspiraci_threaten threaten_injur injur_five five_hispan hispan_pull pull_station station_park park_pursu pursu_victim victim_caught caught_popejoy popejoy_lean lean_outsid outsid_front front_passeng passeng_window window_waiv waiv_tire tire_wrench wrench_victim victim_continu continu_threaten threaten_hurl hurl_racial racial_epithet epithet_ram ram_caus caus_cross cross_opposit opposit_lane lane_crash crash_tree tree_result result_victim victim_suffer suffer_bodili bodili_includ includ_victim victim_sustain sustain_matthew matthew_shepard shepard_brutal brutal_murder murder_decad decad_today today_first first_defend defend_convict convict_hate hate_crime crime_critic critic_enact enact_said said_thoma thoma_general general_unaccept unaccept_violent violent_act act_hate hate_commit commit_race race_continu continu_occur occur_continu continu_everi everi_avail avail_tool tool_identifi identifi_prosecut prosecut_hate hate_crime crime_whenev whenev_wherev wherev_terribl terribl_disturb disturb_violenc violenc_motiv motiv_hatr hatr_race race_continu continu_said said_conner conner_western western_commit commit_prosecut prosecut_crime crime_western western_defend defend_face face_maximum maximum_punish punish_year year_investig investig_fayettevill fayettevill_cooper cooper_arkansa arkansa_state state_polic polic_carrol carrol_counti counti_prosecut prosecut_edward edward_chung chung_kyra kyra_jenner jenner_western  \n",
       "11248  washington_announc announc_daniel daniel_cowart cowart_sentenc sentenc_today today_year year_prison prison_three three_year year_supervis supervis_releas releas_role role_conspiraci conspiraci_murder murder_dozen dozen_includ includ_presidenti presidenti_candid candid_barack barack_march march_cowart cowart_plead plead_guilti guilti_threaten threaten_kill kill_inflict inflict_bodili bodili_harm harm_upon upon_major major_candid candid_presid presid_unit unit_interst interst_transport transport_interst interst_transport transport_firearm firearm_purpos purpos_commit commit_unlicens unlicens_transport transport_unauthor unauthor_possess possess_intent intent_damag damag_religi religi_real real_properti properti_discharg discharg_firearm firearm_relat relat_crime crime_admit admit_conspir conspir_paul paul_schlesselman schlesselman_west west_engag engag_kill kill_spree spree_specif specif_target target_acknowledg acknowledg_intend intend_culmin culmin_attack attack_assassin assassin_presid presid_senat senat_presidenti presidenti_candid candid_time time_cowart cowart_admit admit_schlesselman schlesselman_also also_conspir conspir_burglar burglar_firearm firearm_dealer dealer_obtain obtain_addit addit_weapon weapon_also also_admit admit_transport transport_shotgun shotgun_arkansa arkansa_tennesse tennesse_purpos purpos_commit commit_cowart cowart_addit addit_admit admit_shoot shoot_window window_allen allen_baptist baptist_church church_plea plea_cowart cowart_agre agre_appropri appropri_sentenc sentenc_would would_twelv twelv_eighteen eighteen_charg charg_plead plead_guilti guilti_carri carri_minimum minimum_sentenc sentenc_year year_maximum maximum_sentenc sentenc_year year_violenc violenc_fuel fuel_bigotri bigotri_hate hate_place place_unit unit_state state_said said_thoma thoma_general general_heroic heroic_intervent intervent_enforc enforc_spare spare_conspiraci conspiraci_associ associ_crime crime_demand demand_sever sever_sentenc sentenc_impos impos_constitut constitut_serious serious_punish punish_serious serious_defend defend_abl abl_execut execut_violent violent_grave grave_matter matter_judg judg_sentenc sentenc_reflect reflect_crime crime_magnitud magnitud_demand demand_stiff stiff_said said_edward edward_stanton stanton_western western_would would_like like_recogn recogn_extraordinari extraordinari_dilig dilig_crockett crockett_counti counti_bureau bureau_tobacco tobacco_secret secret_paul paul_plead plead_guilti guilti_count count_count count_threaten threaten_kill kill_inflict inflict_bodili bodili_harm harm_upon upon_presidenti presidenti_count count_possess possess_firearm firearm_further further_crime crime_schlesselman schlesselman_sentenc sentenc_year year_prison prison_april april_investig investig_bureau bureau_firearm firearm_secret secret_crockett crockett_counti counti_prosecut prosecut_attorney attorney_larri larri_laurenzi laurenzi_jame jame_powel powel_jonathan  \n",
       "...                                                                                                                                                                                                                                                                                                                                                                                                                                                                                                                                                                                                                                                                                                                                                                                                                                                                                                                                                                                                                                                                                                                                                                                                                                                                                                                                                                                                                                                                                                                                                                                                                                                                                                                                                                                                                                                                                                                                                                                                                                                                                                                                                                                                                                                                                                                                                                                                                                                                                                                                                                                                                                                                                                                                                                                                                                                                                                                                                                                                                                                          ...  \n",
       "7594                                                                                                                                                                                                                                                                                                                                                                                                                                                                                                                                                                                                                                                                                                                                                                                                                                                                                                                                                                                                                                                                                                                                                                                                                                                                                                                                                                                                                                                                                                                                                     princip_deputi deputi_general general_vanita vanita_head head_paul paul_fishman fishman_jersey jersey_releas releas_follow follow_statement statement_regard regard_court court_approv approv_agreement agreement_citi citi_reform reform_polic polic_unconstitut unconstitut_appreci appreci_swift swift_approv approv_consent consent_decre decre_citi citi_said said_princip princip_deputi deputi_general general_agreement agreement_help help_newark newark_polic polic_reform reform_improv improv_system system_rebuild rebuild_trust trust_offic offic_communiti communiti_newark newark_implement implement_continu continu_work work_close close_citi citi_enforc enforc_communiti communiti_member member_place place_necessari necessari_chang chang_make make_newark newark_nation nation_model model_effect effect_account account_fulli fulli_reform reform_make make_newark newark_offic offic_civilian civilian_alik alik_reform reform_ensur ensur_enforc enforc_newark newark_compli compli_constitut constitut_safeguard safeguard_everi everi_newark newark_consent consent_approv approv_provid provid_roadmap roadmap_reform reform_newark newark_model model_best best_practic practic_polic polic_depart depart_across across_said said_system system_chang chang_outlin outlin_consent consent_decre decre_take take_citi citi_newark newark_women women_serv serv_polic polic_want want_peopl peopl_newark newark_polic polic_keep keep_safe safe_respect respect_constitut  \n",
       "6787                                                                                                                                                                                                                                                                                                                                                                                                                                                                                                                                                                                                                                                                                                                                                                                                                                                                                                                                                                                                                                                                                                                                                                                                                                                                                                                                                                                                                                                                                                                                                                                                                                                                                                                       reach_agreement agreement_jame jame_parish parish_school school_louisiana louisiana_upon upon_complet complet_court court_supervis supervis_consent consent_approv approv_yesterday yesterday_court court_eastern eastern_address address_remain remain_issu issu_school school_desegreg desegreg_fulli fulli_implement implement_lead lead_close close_consent consent_negoti negoti_school school_privat privat_repres repres_naacp naacp_legal legal_defens defens_educ educ_put put_path path_full full_unitari unitari_status status_within within_three three_year year_provid provid_consent consent_order order_declar declar_alreadi alreadi_desegreg desegreg_oblig oblig_area area_court court_retain retain_jurisdict jurisdict_consent consent_order order_monitor monitor_pleas pleas_work work_school school_ensur ensur_equal equal_fair fair_treatment treatment_student student_jame jame_parish parish_school school_said said_act act_general general_wheeler wheeler_look look_forward forward_work work_privat privat_plaintiff plaintiff_implement implement_consent consent_order order_bring bring_success success_promot promot_school school_desegreg desegreg_enforc enforc_titl titl_prioriti prioriti_addit addit_inform inform_avail avail_websit websit_jame jame_parish parish_consent consent_order  \n",
       "6981                                                                                                                                                                                                                                                                                                                                                                                                                                                                                                                                                                                                                                                                                                                                                                                                                                                                                                                                                                                                                                                                                                                                                                                                                                                                                                                                                                                           releas_comprehens comprehens_report report_today today_provid provid_overview overview_polic polic_reform reform_work work_section section_violent violent_crime crime_control control_enforc enforc_pattern pattern_practic practic_polic polic_reform reform_design design_serv serv_resourc resourc_local local_enforc enforc_agenc agenc_communiti communiti_make make_polic polic_reform reform_work work_access access_examin examin_rang rang_includ includ_histori histori_purpos purpos_section section_initi initi_methodolog methodolog_negoti negoti_reform reform_current current_reform reform_model model_conclus conclus_agreement agreement_impact impact_enforc enforc_polic polic_reform reform_supplement supplement_also also_publish publish_interact interact_polic polic_reform reform_allow allow_user user_search search_reform reform_agreement agreement_address address_specif specif_kind kind_polic polic_countless countless_enforc enforc_offici offici_communiti communiti_member member_request request_addit addit_inform inform_polic polic_said said_princip princip_deputi deputi_general general_vanita vanita_head head_hope hope_stakehold stakehold_find find_report report_interact interact_tool tool_use use_collect collect_effort effort_advanc advanc_constitut constitut_strengthen strengthen_trust trust_promot promot_offic offic_public public_sinc sinc_open open_investig investig_enforc enforc_agenc agenc_current current_enforc enforc_includ includ_consent consent_decre decre_polic polic_reform reform_report report_polic polic_reform reform_finder finder_polic polic_reform reform_accomplish  \n",
       "1857                                                                                                                                                                                                                                                                                                                                                                                                                                                                                                                                                                                                                                                                                                                                                                                                                                                                                                                                                                                                                                                            cleveland_school school_open open_consolid consolid_middl middl_high high_school school_august august_court court_judg judg_debra debra_brown brown_northern northern_mississippi mississippi_today today_approv approv_joint joint_settlement settlement_agreement agreement_file file_privat privat_cleveland cleveland_school school_agreement agreement_lead lead_effect effect_desegreg desegreg_middl middl_high high_school school_start start_next next_school school_term term_approv approv_school school_agre agre_compli compli_court court_rule rule_mandat mandat_consolid consolid_cleveland cleveland_middl middl_high high_school school_remedi remedi_segreg segreg_school school_consolid consolid_high high_name name_cleveland cleveland_central central_high high_open open_august august_current current_margaret margaret_high high_also also_open open_consolid consolid_middl middl_school school_eighth eighth_cleveland cleveland_central central_middl middl_current current_east east_side side_high high_sixth sixth_grade grade_student student_attend attend_elementari elementari_school school_rather rather_consolid consolid_middl middl_part part_plaintiff plaintiff_withdrawn withdrawn_altern altern_desegreg desegreg_propos propos_consider consider_also also_withdrawn withdrawn_pend pend_appeal appeal_court court_appeal appeal_fifth fifth_pleas pleas_reach reach_agreement agreement_cleveland cleveland_school school_privat privat_plaintiff plaintiff_settl settl_said said_act act_general general_wheeler wheeler_plan plan_approv approv_today today_allow allow_communiti communiti_move move_forward forward_reflect reflect_share share_commit commit_high high_qualiti qualiti_equal equal_educ educ_opportun opportun_cleveland cleveland_addit addit_inform inform_avail avail_websit websit_promot promot_school school_desegreg desegreg_enforc enforc_titl titl_prioriti prioriti_addit addit_inform inform_avail avail_websit  \n",
       "10286                                                                                                                                                                                                                                                                                                                                                                                                                                                                                                                                                                                                                                                                                                                                                                                                                                                                                                                                                                                                                                                                                                                                                                                                                                                                                                                                                                                                                                                                                                                                                                                       includ_lawyer lawyer_senior senior_leader leader_northern northern_complet complet_day day_introductori introductori_meet meet_chicago chicago_today today_follow follow_last last_announc announc_pattern pattern_practic practic_chicago chicago_polic polic_compris compris_primarili primarili_lawyer lawyer_join join_head head_vanita vanita_well well_zachari zachari_northern northern_dispar dispar_forc forc_account account_system system_northern northern_group group_superintend superintend_john john_escalant escalant_brief brief_command command_staff staff_investig investig_also also_initi initi_meet meet_communiti communiti_member member_organ organ_order order_solicit solicit_inform inform_explain explain_pattern pattern_practic practic_scope scope_addit addit_communiti communiti_citi citi_offici offici_union union_meet meet_citi citi_chicago chicago_includ includ_mayor mayor_rahm rahm_emanuel emanuel_staff staff_separ separ_meet meet_independ independ_polic polic_review review_author author_administr administr_sharon sharon_throughout throughout_investig investig_process process_assist assist_continu continu_meet meet_repres repres_citi citi_cours cours_communiti communiti_member member_opportun opportun_provid provid_inform inform_public public_meet meet_public public_meet meet_announc announc_later later_anyon anyon_wish wish_share share_inform inform_relev relev_encourag encourag_contact  \n",
       "\n",
       "[717 rows x 11 columns]"
      ]
     },
     "execution_count": 133,
     "metadata": {},
     "output_type": "execute_result"
    }
   ],
   "source": []
  },
  {
   "cell_type": "code",
   "execution_count": 137,
   "metadata": {},
   "outputs": [
    {
     "name": "stdout",
     "output_type": "stream",
     "text": [
      "Similarity between Press Release 540 and Press Release 552: 0.9841\n",
      "Press Release 540:\n",
      "church resid sentenc today year prison follow lifetim term supervis releas entic minor engag sexual activ attempt transfer obscen materi announc act general kenneth blanco crimin act benjamin greenberg southern robert plead guilti march judg daniel hurley southern moor employ secret assign white hous time arrest remain custodi sinc moor sinc termin secret servic accord admiss made connect moor maintain profil social media applic provid platform exchang digit well voic text delawar state polic detect delawar child predat task forc creat profil pose moor engag number onlin chat mobil app includ moor number onlin chat moor undercov offic pose femal minor sexual natur sever moor sent pictur includ sexual explicit accord plea enforc discov moor communic minor moor admit sent sexual explicit imag entic minor send sexual explicit photo moor engag type behavior girl texa anoth girl moor request feder charg delawar transfer southern florida could plead guilti charg immigr custom homeland secur investig delawar child predat task forc investig austin berri crimin child exploit obscen section corey steinberg southern florida prosecut brought part project safe nationwid initi combat grow epidem child sexual exploit launch offic project safe childhood marshal state local resourc better apprehend prosecut individu exploit children well identifi rescu inform project safe pleas visit\n",
      "\n",
      "Press Release 552:\n",
      "church maryland resid plead guilti today feder court count entic minor engag sexual activ count attempt transfer obscen materi announc act general kenneth blanco crimin wifredo ferrer southern robert plead guilti today judg daniel hurley southern moor employ secret assign white hous time arrest remain custodi sinc moor sinc termin secret servic accord admiss made connect moor maintain profil social media applic provid platform exchang digit well voic text delawar state polic detect delawar child predat task forc creat profil pose moor engag number onlin chat mobil app includ moor number onlin chat moor undercov offic pose femal minor sexual natur sever moor sent pictur includ sexual explicit accord plea enforc discov moor communic minor moor admit sent sexual explicit imag entic minor send sexual explicit photo moor engag type behavior girl texa anoth girl moor request feder charg delawar transfer southern florida could plead guilti charg immigr custom homeland secur investig delawar child predat task forc investig austin berri crimin child exploit obscen section corey steinberg southern florida prosecut brought part project safe nationwid initi combat grow epidem child sexual exploit launch offic project safe childhood marshal state local resourc better apprehend prosecut individu exploit children well identifi rescu inform project safe pleas visit\n",
      "\n",
      "Similarity between Press Release 178 and Press Release 187: 0.9685\n",
      "Press Release 178:\n",
      "solicit sexual explicit photo video minor distribut internet sentenc month prison follow year supervis releas plead guilti coercion entic minor engag sexual act general john cronan crimin david weiss delawar made announc sentenc judg leonard stark justin gulisano emma alexand charg march plead guilti accord admiss made connect plea gulisano victim onlin victim year gulisano began request receiv sexual explicit imag video gulisano post sexual explicit video victim pornographi websit repost viewer addit pornograph victim refus make send addit imag gulisano respond threaten victim threaten post imag video internet threaten share imag video threaten immigr custom homeland secur investig delawar child predat task forc investig lauren britsch crimin child exploit obscen section graham robinson delawar prosecut brought part project safe nationwid initi combat grow epidem child sexual exploit abus launch offic project safe childhood marshal state local resourc better apprehend prosecut individu exploit children well identifi rescu inform project safe pleas visit\n",
      "\n",
      "Press Release 187:\n",
      "coerc sexual explicit photo video minor distribut internet plead guilti coercion entic minor engag sexual act general kenneth blanco crimin act david weiss delawar made justin gulisano charg march plead guilti judg leonard stark accord admiss made connect plea gulisano victim onlin victim year gulisano began request receiv sexual explicit imag video gulisano post sexual explicit video victim pornographi websit repost viewer addit pornograph victim refus make send addit imag gulisano respond threaten victim threaten post imag video internet threaten share imag video threaten immigr custom homeland secur investig delawar child predat task forc investig lauren britsch crimin child exploit obscen section graham robinson delawar prosecut brought part project safe nationwid initi combat grow epidem child sexual exploit abus launch offic project safe childhood marshal state local resourc better apprehend prosecut individu exploit children well identifi rescu inform project safe pleas visit\n",
      "\n"
     ]
    }
   ],
   "source": [
    "# Initialize the TF-IDF vectorizer to convert text to numerical vectors\n",
    "tfidf_vectorizer = TfidfVectorizer()\n",
    "\n",
    "# Fit and transform the processed_text\n",
    "tfidf_matrix = tfidf_vectorizer.fit_transform(doj_subset_wscore['processed_text'])\n",
    "\n",
    "# Calculate the cosine similarity between all pairs of press releases\n",
    "cosine_sim = cosine_similarity(tfidf_matrix, tfidf_matrix)\n",
    "\n",
    "# Step 4: Find the indices of the top pairs (excluding self-similarity)\n",
    "n = len(doj_subset)\n",
    "top_pairs = []\n",
    "for i in range(n):\n",
    "    for j in range(i + 1, n):\n",
    "        top_pairs.append(((i, j), cosine_sim[i, j]))\n",
    "\n",
    "# Sort the pairs by similarity and get the top two\n",
    "top_pairs.sort(key=lambda x: x[1], reverse=True)\n",
    "top_two_pairs = top_pairs[:2]\n",
    "\n",
    "# Print the press releases for the top pairs\n",
    "for pair, similarity in top_two_pairs:\n",
    "    i, j = pair\n",
    "    print(f\"Similarity between Press Release {i} and Press Release {j}: {similarity:.4f}\")\n",
    "    print(f\"Press Release {i}:\\n{doj_subset_wscore.iloc[i]['processed_text']}\\n\")\n",
    "    print(f\"Press Release {j}:\\n{doj_subset_wscore.iloc[j]['processed_text']}\\n\")"
   ]
  },
  {
   "cell_type": "code",
   "execution_count": 138,
   "metadata": {},
   "outputs": [],
   "source": [
    "#The top two pairs of press releases seem to be related to similar crimes, \n",
    "# potentially different stages or aspects of the same type of crime, \n",
    "# but not necessarily the same case. The similarity scores indicate that \n",
    "# the content of these press releases has significant overlap, which \n",
    "# suggests they are covering similar topics.\n",
    "\n",
    "# For example, in the first pair (Press Release 540 and Press Release 552), \n",
    "# both press releases involve individuals who pleaded guilty in federal court \n",
    "# for charges related to enticing minors into engaging in sexual activities and \n",
    "# attempting to transfer obscene materials. The press releases contain similar \n",
    "# details about the defendants, their activities, and their arrests.\n",
    "\n",
    "# In the second pair (Press Release 178 and Press Release 187), the press releases are \n",
    "# related to the coercion of minors to engage in sexual acts and the distribution \n",
    "# of explicit content over the internet. Both press releases share common themes about \n",
    "# the nature of the crime, the guilty pleas, and the actions of the defendants.\n",
    "\n",
    "# While these press releases may not be about the same exact case, they are certainly \n",
    "# closely related in terms of the crimes they describe. The high similarity scores \n",
    "# suggest that they share similar content and are likely reporting on similar types of \n",
    "# criminal activities.\n"
   ]
  }
 ],
 "metadata": {
  "kernelspec": {
   "display_name": "Python 3 (ipykernel)",
   "language": "python",
   "name": "python3"
  },
  "language_info": {
   "codemirror_mode": {
    "name": "ipython",
    "version": 3
   },
   "file_extension": ".py",
   "mimetype": "text/x-python",
   "name": "python",
   "nbconvert_exporter": "python",
   "pygments_lexer": "ipython3",
   "version": "3.11.4"
  }
 },
 "nbformat": 4,
 "nbformat_minor": 4
}
