{
 "cells": [
  {
   "cell_type": "markdown",
   "metadata": {},
   "source": [
    "# Problem set 4: APIs, SQL, and supervised machine learning\n",
    "\n",
    "**Total points (without extra credit)**: 48 \n",
    "\n",
    "\n",
    "## Resources from class\n",
    "\n",
    "### APIs\n",
    "- [Lecture slides](https://docs.google.com/presentation/d/1eblPOhpOL1HDFk3XOh3KvcrFceJ4pwZNUU_fvU8i7uo/edit#slide=id.p)\n",
    "- [Activity solutions](https://github.com/herbertfreeze/QSS_Public/blob/main/activities/solutions/06_apis_solutions.ipynb)\n",
    "\n",
    "\n",
    "### Supervised ML\n",
    "- [Lecture slides 1](https://docs.google.com/presentation/d/1V6X9aYkYLvyh3Ea0ZSn3qkttqKz7OOPkfvbqYybMi5Q/edit#slide=id.p)\n",
    "- [Lecture slides 2](https://docs.google.com/presentation/d/13xJTI_GZ2HZYI9OSmezwLUXXFxIrjwHXKz50QUjBF0w/edit)\n",
    "- [Intro activity solutions](https://github.com/herbertfreeze/QSS_Public/blob/main/activities/solutions/08_ML_intro_activity_solutions.ipynb)\n",
    "- [Part II activity solutions](https://github.com/herbertfreeze/QSS_Public/blob/main/activities/solutions/08_ML_optimization_activity_solutions.ipynb)\n",
    "- [DataCamp course](https://app.datacamp.com/learn/courses/supervised-learning-with-scikit-learn)\n",
    "\n",
    "### SQL\n",
    "- [Lecture slides](https://docs.google.com/presentation/d/1HHgrkFtuhGIaPNMd1EOiM-8VtgnF0cwjMcmah8oWmWA/edit?usp=sharing)\n",
    "- [Example code](https://github.com/herbertfreeze/QSS_Public/blob/main/activities/solutions/09_SQL_examplecode.ipynb)\n",
    "- [Activity solutions](https://github.com/herbertfreeze/QSS_Public/blob/main/activities/solutions/09_SQL_activity_solutions.ipynb)\n",
    "- [DataCamp course](https://app.datacamp.com/learn/courses/introduction-to-sql)"
   ]
  },
  {
   "cell_type": "markdown",
   "metadata": {},
   "source": [
    "# Prep work: change SQL dataset\n",
    "\n",
    "- Place it in [the same credentials yaml file on GitHub that contains the SQL database access information](https://github.com/herbertfreeze/QSS_public/blob/main/activities/09_db_cred.yaml) (password, host, etc.) \n",
    "    - Name the combined credentials file something appropriate (feel free to get creative)\n",
    "    - Change the database name from `sentencing` to `math_gencompare`"
   ]
  },
  {
   "cell_type": "markdown",
   "metadata": {},
   "source": [
    "## 0.0 Import packages"
   ]
  },
  {
   "cell_type": "markdown",
   "metadata": {},
   "source": [
    "**Note you need to install some of the packages imported below (see the comments).**"
   ]
  },
  {
   "cell_type": "code",
   "execution_count": 1,
   "metadata": {},
   "outputs": [],
   "source": [
    "## helpful packages\n",
    "import pandas as pd\n",
    "import numpy as np\n",
    "import random\n",
    "import re\n",
    "import string\n",
    "import requests\n",
    "import plotnine \n",
    "from plotnine import *\n",
    "import matplotlib.pyplot as plt\n",
    "import yaml\n",
    "import json \n",
    "#import warnings\n",
    "#warnings.filterwarnings(\"ignore\")\n",
    "\n",
    "## note: you may need to install these using !pip install\n",
    "#!pip install census\n",
    "#!pip install us\n",
    "import census\n",
    "from census import Census\n",
    "import us\n",
    "from us import states\n",
    "import mysql.connector\n",
    "\n",
    "## sklearn imports\n",
    "from sklearn.linear_model import LogisticRegression, LogisticRegressionCV\n",
    "from sklearn.metrics import accuracy_score, f1_score, precision_score, recall_score\n",
    "from sklearn.tree import DecisionTreeClassifier\n",
    "from sklearn import tree\n",
    "from sklearn.ensemble import RandomForestClassifier, GradientBoostingClassifier, AdaBoostClassifier\n",
    "from sklearn import preprocessing\n",
    "from sklearn.preprocessing import StandardScaler\n",
    "from sklearn.model_selection import train_test_split\n",
    "\n",
    "## print mult things\n",
    "from IPython.core.interactiveshell import InteractiveShell\n",
    "InteractiveShell.ast_node_interactivity = \"all\"\n",
    "\n",
    "\n",
    "def load_creds(path: str):\n",
    "    with open(path, 'r') as stream:\n",
    "        try:\n",
    "            creds = yaml.safe_load(stream)\n",
    "        except yaml.YAMLError as exc:\n",
    "            print(exc)\n",
    "    return(creds)\n",
    "\n",
    "pd.set_option('display.max_rows', 500)\n",
    "pd.set_option('display.max_columns', 500)\n",
    "pd.set_option('display.width', 1000)\n",
    "pd.set_option('display.max_colwidth', None)\n",
    "\n"
   ]
  },
  {
   "cell_type": "markdown",
   "metadata": {},
   "source": [
    "# 1. Write a wrapper function to pull data from the NAEP API (12 points)\n",
    "\n",
    "In the class activity on APIs (see link above), we practiced pulling from the API for the National Assessment of Educational Progress (NAEP), \"America's report card\" of test scores. We pulled a small amount of data at the national level (writing scores by gender) using a query where the parameters were hardcoded.\n",
    "    \n",
    "In this problem, we'll practice pulling a larger set of data and writing a wrapper function.\n",
    "    \n",
    "As a reminder, the documentation is here: https://www.nationsreportcard.gov/api_documentation.aspx\n",
    "\n",
    "The base link is: https://www.nationsreportcard.gov/Dataservice/GetAdhocData.aspx"
   ]
  },
  {
   "cell_type": "markdown",
   "metadata": {},
   "source": [
    "## 1.1 Write a query to pull 8th-grade mathematics scores in 2015 from the state of California (CA) by gender (1 point)\n",
    "\n",
    "- Subject: mathematics \n",
    "- Subscale: MRPCM composite scale \n",
    "- Grade: 8\n",
    "- Year: 2015\n",
    "- grouping variable: GENDER \n",
    "- Jurisdiction: CA \n",
    "- stattype = MN (for mean)\n",
    "\n",
    "Print the output in dataframe format and briefly interpret; what do scores look like between the genders?"
   ]
  },
  {
   "cell_type": "code",
   "execution_count": 2,
   "metadata": {},
   "outputs": [],
   "source": [
    "# Write the query\n",
    "naep_query_math_8TH_Y15 = (\n",
    "'https://www.nationsreportcard.gov/'\n",
    "'Dataservice/GetAdhocData.aspx?'\n",
    "'type=data&subject=mathematics&grade=8&'\n",
    "'subscale=MRPCM&variable=GENDER&stattype=MN:MN&Year=2015&jurisdiction=CA')\n"
   ]
  },
  {
   "cell_type": "code",
   "execution_count": 3,
   "metadata": {},
   "outputs": [
    {
     "name": "stdout",
     "output_type": "stream",
     "text": [
      "   year sample yearSampleLabel  Cohort CohortLabel stattype subject  grade  scale jurisdiction  jurisLabel variable variableLabel varValue varValueLabel       value  isStatDisplayable  errorFlag\n",
      "0  2015     R3            2015       2     Grade 8    MN:MN     MAT      8  MRPCM           CA  California   GENDER        Gender        1          Male  275.020977                  1          0\n",
      "1  2015     R3            2015       2     Grade 8    MN:MN     MAT      8  MRPCM           CA  California   GENDER        Gender        2        Female  275.638637                  1          0\n"
     ]
    }
   ],
   "source": [
    "# Call the API\n",
    "naep_response = requests.get(naep_query_math_8TH_Y15)\n",
    "\n",
    "# Get the json contents of the response \n",
    "naep_resp_j = naep_response.json()\n",
    "\n",
    "## with result, turn it into a dataframe\n",
    "naep_resp_d = pd.DataFrame(naep_resp_j['result'])\n",
    "print(naep_resp_d)"
   ]
  },
  {
   "cell_type": "code",
   "execution_count": 4,
   "metadata": {},
   "outputs": [],
   "source": [
    "# The small difference in average scores suggests that, on average, there is no significant \n",
    "# gender-based difference in math performance for Grade 8 students in California in the year 2015. \n",
    "# Both male and female students appear to have similar math scores."
   ]
  },
  {
   "cell_type": "markdown",
   "metadata": {},
   "source": [
    "## 1.2 Write a query to pull 8th-grade mathematics scores in 2013, 2015, 2017, and 2019 from California by gender (1 point)\n",
    "\n",
    "Same as 1.1 but pull the years 2013, 2015, 2017, and 2019 (search documentation for how to combine) in one query"
   ]
  },
  {
   "cell_type": "code",
   "execution_count": 5,
   "metadata": {},
   "outputs": [
    {
     "name": "stdout",
     "output_type": "stream",
     "text": [
      "(   year sample yearSampleLabel  Cohort CohortLabel stattype subject  grade  scale jurisdiction  jurisLabel variable variableLabel varValue varValueLabel       value  isStatDisplayable  errorFlag\n",
      "0  2013     R3            2013       2     Grade 8    MN:MN     MAT      8  MRPCM           CA  California   GENDER        Gender        1          Male  277.167171                  1          0\n",
      "1  2013     R3            2013       2     Grade 8    MN:MN     MAT      8  MRPCM           CA  California   GENDER        Gender        2        Female  274.597824                  1          0\n",
      "2  2015     R3            2015       2     Grade 8    MN:MN     MAT      8  MRPCM           CA  California   GENDER        Gender        1          Male  275.020977                  1          0\n",
      "3  2015     R3            2015       2     Grade 8    MN:MN     MAT      8  MRPCM           CA  California   GENDER        Gender        2        Female  275.638637                  1          0\n",
      "4  2017     R3            2017       2     Grade 8    MN:MN     MAT      8  MRPCM           CA  California   GENDER        Gender        1          Male  276.608704                  1          0\n",
      "5  2017     R3            2017       2     Grade 8    MN:MN     MAT      8  MRPCM           CA  California   GENDER        Gender        2        Female  276.669430                  1          0\n",
      "6  2019     R3            2019       2     Grade 8    MN:MN     MAT      8  MRPCM           CA  California   GENDER        Gender        1          Male  274.511628                  1          0\n",
      "7  2019     R3            2019       2     Grade 8    MN:MN     MAT      8  MRPCM           CA  California   GENDER        Gender        2        Female  276.721824                  1          0, 'https://www.nationsreportcard.gov/Dataservice/GetAdhocData.aspx?type=data&subject=mathematics&grade=8&subscale=MRPCM&variable=GENDER&stattype=MN:MN&Year=2013,2015,2017,2019&jurisdiction=CA')\n"
     ]
    }
   ],
   "source": [
    "def naep_api_calls(years: list,\n",
    "                   baseurl=('https://www.nationsreportcard.gov/Dataservice/GetAdhocData.aspx?'\n",
    "                            'type=data&subject=mathematics&grade=8'\n",
    "                            '&subscale=MRPCM&variable=GENDER&stattype=MN:MN'),\n",
    "                  baseurl_2 = '&jurisdiction=CA'):\n",
    "\n",
    "    \n",
    "    years_str = \",\".join(map(str, years))\n",
    "    \n",
    "    naep_query = baseurl + ('&Year=' + years_str) + baseurl_2\n",
    "    naep_resp = requests.get(naep_query)\n",
    "            \n",
    "    naep_resp_df = pd.DataFrame(naep_resp.json()['result'])\n",
    "    \n",
    "    return naep_resp_df, naep_query\n",
    "\n",
    "df_1 = naep_api_calls(years=[2013, 2015, 2017, 2019])\n",
    "print(df_1)\n"
   ]
  },
  {
   "cell_type": "code",
   "execution_count": 6,
   "metadata": {},
   "outputs": [],
   "source": [
    "# These results indicate that, on average, male students tend to have slightly higher math \n",
    "# scores than female students in both Grade 4 and Grade 8. However, the differences are relatively small. "
   ]
  },
  {
   "cell_type": "markdown",
   "metadata": {},
   "source": [
    "## 1.3 Create a line plot to show variation in the scores across years (2 points)\n",
    "\n",
    "Using the results from 1.2, create a plot where the x axis has the year and the y axis is the math scores (`value` in dataframe), and there are separate lines/colors for male versus female students (`varValueLabel` in dataframe)\n",
    "\n",
    "Start the limits of the y axis minimum at 272 and add informative labels. Be sure your x-axis is ticked on odd years, because NAEP scores skip even years. "
   ]
  },
  {
   "cell_type": "code",
   "execution_count": 7,
   "metadata": {},
   "outputs": [
    {
     "data": {
      "text/plain": [
       "[<matplotlib.lines.Line2D at 0x14a84a490>]"
      ]
     },
     "execution_count": 7,
     "metadata": {},
     "output_type": "execute_result"
    },
    {
     "data": {
      "text/plain": [
       "[<matplotlib.lines.Line2D at 0x14ca74050>]"
      ]
     },
     "execution_count": 7,
     "metadata": {},
     "output_type": "execute_result"
    },
    {
     "data": {
      "text/plain": [
       "Text(0.5, 0, 'Year')"
      ]
     },
     "execution_count": 7,
     "metadata": {},
     "output_type": "execute_result"
    },
    {
     "data": {
      "text/plain": [
       "Text(0, 0.5, 'Math Scores')"
      ]
     },
     "execution_count": 7,
     "metadata": {},
     "output_type": "execute_result"
    },
    {
     "data": {
      "text/plain": [
       "Text(0.5, 1.0, 'Math Scores(2013-2019)')"
      ]
     },
     "execution_count": 7,
     "metadata": {},
     "output_type": "execute_result"
    },
    {
     "data": {
      "text/plain": [
       "<matplotlib.legend.Legend at 0x14ca3e210>"
      ]
     },
     "execution_count": 7,
     "metadata": {},
     "output_type": "execute_result"
    },
    {
     "data": {
      "image/png": "[encoded data removed]",
      "text/plain": [
       "<Figure size 640x480 with 1 Axes>"
      ]
     },
     "metadata": {},
     "output_type": "display_data"
    }
   ],
   "source": [
    "# Create separate lines/colors for male and female students\n",
    "for gender, data_group in df_1[0].groupby('varValueLabel'):\n",
    "    plt.plot(data_group['yearSampleLabel'], data_group['value'], label=gender)\n",
    "\n",
    "\n",
    "# Add labels\n",
    "plt.xlabel('Year')\n",
    "plt.ylabel('Math Scores')\n",
    "plt.title('Math Scores(2013-2019)')\n",
    "plt.legend()\n",
    "\n",
    "# Display the plot\n",
    "plt.show()\n"
   ]
  },
  {
   "cell_type": "markdown",
   "metadata": {},
   "source": [
    "## 1.4 Reproduce the queries from 1.1 and 1.2 using a user-defined function (4 points)\n",
    "\n",
    "Create a function, `construct_naep_query` that takes in two arguments:\n",
    "\n",
    "- year: this should be a list with all years (so if one year, single element list; if multiple years, list with those years)\n",
    "- place: this should be a string with the name of the state or jurisdiction to pull \n",
    "    \n",
    "Have the function return the query and make sure it's identical to the queries you wrote for 1.1 and 1.2 (can use assert or other checker)"
   ]
  },
  {
   "cell_type": "code",
   "execution_count": 8,
   "metadata": {},
   "outputs": [],
   "source": [
    "def construct_naep_query(years: list,\n",
    "                         jurisdiction: str,\n",
    "                   baseurl=('https://www.nationsreportcard.gov/Dataservice/GetAdhocData.aspx?'\n",
    "                            'type=data&subject=mathematics&grade=8'\n",
    "                            '&subscale=MRPCM&variable=GENDER&stattype=MN:MN')):\n",
    "    years_str = \",\".join(map(str, years))\n",
    "    #print(years_str)\n",
    "    \n",
    "    naep_query = baseurl +('&Year=' + years_str) + ('&jurisdiction=' + jurisdiction)\n",
    "\n",
    "    return naep_query\n",
    "\n"
   ]
  },
  {
   "cell_type": "code",
   "execution_count": 9,
   "metadata": {
    "scrolled": false
   },
   "outputs": [
    {
     "data": {
      "text/plain": [
       "'https://www.nationsreportcard.gov/Dataservice/GetAdhocData.aspx?type=data&subject=mathematics&grade=8&subscale=MRPCM&variable=GENDER&stattype=MN:MN&Year=2015&jurisdiction=CA'"
      ]
     },
     "execution_count": 9,
     "metadata": {},
     "output_type": "execute_result"
    },
    {
     "data": {
      "text/plain": [
       "'https://www.nationsreportcard.gov/Dataservice/GetAdhocData.aspx?type=data&subject=mathematics&grade=8&subscale=MRPCM&variable=GENDER&stattype=MN:MN&Year=2013,2015,2017,2019&jurisdiction=CA'"
      ]
     },
     "execution_count": 9,
     "metadata": {},
     "output_type": "execute_result"
    }
   ],
   "source": [
    "# 1.1\n",
    "naep_query_1 = construct_naep_query(years=[2015], jurisdiction = \"CA\")\n",
    "naep_query_1\n",
    "\n",
    "# 1.2\n",
    "naep_query_2 = construct_naep_query(years=[2013, 2015, 2017, 2019], jurisdiction = \"CA\")\n",
    "naep_query_2\n"
   ]
  },
  {
   "cell_type": "code",
   "execution_count": 10,
   "metadata": {},
   "outputs": [],
   "source": [
    "# Use assert to check that queries match\n",
    "\n",
    "# 1.1 match\n",
    "assert naep_query_math_8TH_Y15 == naep_query_1\n",
    "\n",
    "# 1.2 match\n",
    "assert naep_api_calls(years=[2013, 2015, 2017, 2019])[1] == naep_query_2"
   ]
  },
  {
   "cell_type": "markdown",
   "metadata": {},
   "source": [
    "## 1.5 Write and execute user-defined function that takes in a query and returns a pandas dataframe with the content of the response (4 points)\n",
    "\n",
    "- Write a user-defined function (`process_naep_query`) that takes in the CA-specific NAEP query as a string, calls the API, and transforms the response into a pandas dataframe. Have the function return that pandas dataframe\n",
    "\n",
    "- Make sure the function is flexible enough to handle queries that return an error; for queries that return an error, have the function return the string \"Data not found; check your query\" (see [API part 1 solutions code](https://github.com/herbertfreeze/QSS_public/blob/main/activities/solutions/06_apis_solutions.ipynb) for an example of `try:`/`except:`)\n",
    "\n",
    "- Execute the function on the query that pulls 2013-2019 data (either from handwriting the query or the result in 1.4)\n",
    "\n",
    "- Print the resulting dataframe\n",
    "\n",
    "- Then execute the function on a query that pulls a state that doesn't exist (call this state ZZ)"
   ]
  },
  {
   "cell_type": "code",
   "execution_count": 11,
   "metadata": {},
   "outputs": [],
   "source": [
    "# Define the function\n",
    "\n",
    "def process_naep_query(naep_query):\n",
    "    try:\n",
    "        # Make the API request\n",
    "        naep_resp = requests.get(naep_query)\n",
    "        \n",
    "        try:\n",
    "            naep_resp_df = pd.DataFrame(naep_resp.json()['result'])\n",
    "            print(\"Success!\")\n",
    "            return naep_resp_df\n",
    "        except Exception as e:\n",
    "            print(\"Failed to get result from API\")\n",
    "            print(e)\n",
    "    except Exception as e:\n",
    "        print(\"Failed to make the API request\")\n",
    "        print(e)\n",
    "\n"
   ]
  },
  {
   "cell_type": "code",
   "execution_count": 12,
   "metadata": {},
   "outputs": [
    {
     "name": "stdout",
     "output_type": "stream",
     "text": [
      "Success!\n",
      "   year sample yearSampleLabel  Cohort CohortLabel stattype subject  grade  scale jurisdiction  jurisLabel variable variableLabel varValue varValueLabel       value  isStatDisplayable  errorFlag\n",
      "0  2013     R3            2013       2     Grade 8    MN:MN     MAT      8  MRPCM           CA  California   GENDER        Gender        1          Male  277.167171                  1          0\n",
      "1  2013     R3            2013       2     Grade 8    MN:MN     MAT      8  MRPCM           CA  California   GENDER        Gender        2        Female  274.597824                  1          0\n",
      "2  2015     R3            2015       2     Grade 8    MN:MN     MAT      8  MRPCM           CA  California   GENDER        Gender        1          Male  275.020977                  1          0\n",
      "3  2015     R3            2015       2     Grade 8    MN:MN     MAT      8  MRPCM           CA  California   GENDER        Gender        2        Female  275.638637                  1          0\n",
      "4  2017     R3            2017       2     Grade 8    MN:MN     MAT      8  MRPCM           CA  California   GENDER        Gender        1          Male  276.608704                  1          0\n",
      "5  2017     R3            2017       2     Grade 8    MN:MN     MAT      8  MRPCM           CA  California   GENDER        Gender        2        Female  276.669430                  1          0\n",
      "6  2019     R3            2019       2     Grade 8    MN:MN     MAT      8  MRPCM           CA  California   GENDER        Gender        1          Male  274.511628                  1          0\n",
      "7  2019     R3            2019       2     Grade 8    MN:MN     MAT      8  MRPCM           CA  California   GENDER        Gender        2        Female  276.721824                  1          0\n",
      "Failed to get result from API\n",
      "Invalid control character '\\r' at: line 1 column 101 (char 100)\n"
     ]
    }
   ],
   "source": [
    "# Execute function on 2013-2019 query\n",
    "result = process_naep_query(naep_query_2)\n",
    "print(result)\n",
    "\n",
    "# Execute function on ZZ state query\n",
    "ZZ_query = (\n",
    "'https://www.nationsreportcard.gov/'\n",
    "'Dataservice/GetAdhocData.aspx?'\n",
    "'type=data&subject=mathematics&grade=8&'\n",
    "'subscale=MRPCM&variable=GENDER&stattype=MN:MN&Year=2015&jurisdiction=ZZ')\n",
    "\n",
    "result2 = process_naep_query(ZZ_query)\n"
   ]
  },
  {
   "cell_type": "markdown",
   "metadata": {},
   "source": [
    "# 2. Explore data using SQL queries (18 points)\n",
    "\n",
    "In the previous example, you worked with the data in a flat file and manipulated it using pandas. Here, we're going to practice running queries to do some calculations using SQL --- in the case of our data, this is a bit overkill since the data are small but it is practice for larger datasets."
   ]
  },
  {
   "cell_type": "markdown",
   "metadata": {},
   "source": [
    "## 2.1 Load database credentials and establish a connection (1 point)\n",
    "\n",
    "Load a credentials file that contains the credentials you'll need for this and the next problem:\n",
    "\n",
    "- The credentials for our class database\n",
    "- The credentials for the Census API (see instructions above)\n",
    "\n",
    "Note: to establish the SQL connection, you need to be on `eduroam` (near campus) or the Dartmouth's GlobalProtect `VPN`  ([installation instructions here](https://services.dartmouth.edu/TDClient/1806/Portal/KB/ArticleDet?ID=72395))"
   ]
  },
  {
   "cell_type": "code",
   "execution_count": 13,
   "metadata": {},
   "outputs": [],
   "source": [
    "creds_class_db = {\n",
    "    'database': {\n",
    "        'user': \"qss20\",\n",
    "        'password': \"xtPdDZHnxKMFSD5RyP\",\n",
    "        'port': 3306,\n",
    "        'database': \"math_gencompare\",\n",
    "        'host': \"qss20-7570-db.c.dartmouth.edu\"\n",
    "    }\n",
    "}"
   ]
  },
  {
   "cell_type": "code",
   "execution_count": 14,
   "metadata": {},
   "outputs": [],
   "source": [
    "creds_census = {\n",
    "    'database': {\n",
    "        'user': \"qss20\",\n",
    "        'password': \"xtPdDZHnxKMFSD5RyP\",\n",
    "        'port': 3306,\n",
    "        'database': \"math_gencompare\",\n",
    "        'host': \"qss20-7570-db.c.dartmouth.edu\"\n",
    "    }\n",
    "}"
   ]
  },
  {
   "cell_type": "code",
   "execution_count": 15,
   "metadata": {},
   "outputs": [
    {
     "data": {
      "text/plain": [
       "<mysql.connector.connection.MySQLConnection at 0x14c9d8790>"
      ]
     },
     "execution_count": 15,
     "metadata": {},
     "output_type": "execute_result"
    }
   ],
   "source": [
    "cnx = mysql.connector.connect(user=creds_class_db['database']['user'], \n",
    "                            password=creds_class_db['database']['password'],\n",
    "                            port=creds_class_db['database']['port'],\n",
    "                            database= creds_class_db['database']['database'],\n",
    "                            host = creds_class_db['database']['host'])\n",
    "cnx"
   ]
  },
  {
   "cell_type": "markdown",
   "metadata": {},
   "source": [
    "## 2.2 Run a query to select all columns and the first 5 rows of the math_gencompare database to explore structure (2 points)\n",
    "\n",
    "Read the results in as a pandas dataframe and print the result"
   ]
  },
  {
   "cell_type": "code",
   "execution_count": 16,
   "metadata": {},
   "outputs": [
    {
     "name": "stderr",
     "output_type": "stream",
     "text": [
      "/var/folders/0f/r6sb0yjx70l_25cgtvyjjqgr0000gn/T/ipykernel_9285/3778816287.py:12: UserWarning: pandas only supports SQLAlchemy connectable (engine/connection) or database string URI or sqlite3 DBAPI2 connection. Other DBAPI2 objects are not tested. Please consider using SQLAlchemy.\n"
     ]
    },
    {
     "ename": "KeyboardInterrupt",
     "evalue": "",
     "output_type": "error",
     "traceback": [
      "\u001b[0;31m---------------------------------------------------------------------------\u001b[0m",
      "\u001b[0;31mKeyboardInterrupt\u001b[0m                         Traceback (most recent call last)",
      "Cell \u001b[0;32mIn[16], line 12\u001b[0m\n\u001b[1;32m      2\u001b[0m q \u001b[38;5;241m=\u001b[39m \u001b[38;5;124m\"\"\"\u001b[39m\n\u001b[1;32m      3\u001b[0m \n\u001b[1;32m      4\u001b[0m \u001b[38;5;124mSELECT \u001b[39m\n\u001b[0;32m   (...)\u001b[0m\n\u001b[1;32m      8\u001b[0m \n\u001b[1;32m      9\u001b[0m \u001b[38;5;124m\"\"\"\u001b[39m\n\u001b[1;32m     11\u001b[0m \u001b[38;5;66;03m# Execute the query and read the results into a pandas DataFrame\u001b[39;00m\n\u001b[0;32m---> 12\u001b[0m df_2_2 \u001b[38;5;241m=\u001b[39m pd\u001b[38;5;241m.\u001b[39mread_sql(q, cnx)\n\u001b[1;32m     14\u001b[0m \u001b[38;5;66;03m# Print the DataFrame to explore the structure\u001b[39;00m\n\u001b[1;32m     15\u001b[0m \u001b[38;5;28mprint\u001b[39m(df_2_2)\n",
      "File \u001b[0;32m~/anaconda3/lib/python3.11/site-packages/pandas/io/sql.py:654\u001b[0m, in \u001b[0;36mread_sql\u001b[0;34m(sql, con, index_col, coerce_float, params, parse_dates, columns, chunksize, dtype_backend, dtype)\u001b[0m\n\u001b[1;32m    652\u001b[0m \u001b[38;5;28;01mwith\u001b[39;00m pandasSQL_builder(con) \u001b[38;5;28;01mas\u001b[39;00m pandas_sql:\n\u001b[1;32m    653\u001b[0m     \u001b[38;5;28;01mif\u001b[39;00m \u001b[38;5;28misinstance\u001b[39m(pandas_sql, SQLiteDatabase):\n\u001b[0;32m--> 654\u001b[0m         \u001b[38;5;28;01mreturn\u001b[39;00m pandas_sql\u001b[38;5;241m.\u001b[39mread_query(\n\u001b[1;32m    655\u001b[0m             sql,\n\u001b[1;32m    656\u001b[0m             index_col\u001b[38;5;241m=\u001b[39mindex_col,\n\u001b[1;32m    657\u001b[0m             params\u001b[38;5;241m=\u001b[39mparams,\n\u001b[1;32m    658\u001b[0m             coerce_float\u001b[38;5;241m=\u001b[39mcoerce_float,\n\u001b[1;32m    659\u001b[0m             parse_dates\u001b[38;5;241m=\u001b[39mparse_dates,\n\u001b[1;32m    660\u001b[0m             chunksize\u001b[38;5;241m=\u001b[39mchunksize,\n\u001b[1;32m    661\u001b[0m             dtype_backend\u001b[38;5;241m=\u001b[39mdtype_backend,\n\u001b[1;32m    662\u001b[0m             dtype\u001b[38;5;241m=\u001b[39mdtype,\n\u001b[1;32m    663\u001b[0m         )\n\u001b[1;32m    665\u001b[0m     \u001b[38;5;28;01mtry\u001b[39;00m:\n\u001b[1;32m    666\u001b[0m         _is_table_name \u001b[38;5;241m=\u001b[39m pandas_sql\u001b[38;5;241m.\u001b[39mhas_table(sql)\n",
      "File \u001b[0;32m~/anaconda3/lib/python3.11/site-packages/pandas/io/sql.py:2326\u001b[0m, in \u001b[0;36mSQLiteDatabase.read_query\u001b[0;34m(self, sql, index_col, coerce_float, parse_dates, params, chunksize, dtype, dtype_backend)\u001b[0m\n\u001b[1;32m   2315\u001b[0m \u001b[38;5;28;01mdef\u001b[39;00m \u001b[38;5;21mread_query\u001b[39m(\n\u001b[1;32m   2316\u001b[0m     \u001b[38;5;28mself\u001b[39m,\n\u001b[1;32m   2317\u001b[0m     sql,\n\u001b[0;32m   (...)\u001b[0m\n\u001b[1;32m   2324\u001b[0m     dtype_backend: DtypeBackend \u001b[38;5;241m|\u001b[39m Literal[\u001b[38;5;124m\"\u001b[39m\u001b[38;5;124mnumpy\u001b[39m\u001b[38;5;124m\"\u001b[39m] \u001b[38;5;241m=\u001b[39m \u001b[38;5;124m\"\u001b[39m\u001b[38;5;124mnumpy\u001b[39m\u001b[38;5;124m\"\u001b[39m,\n\u001b[1;32m   2325\u001b[0m ) \u001b[38;5;241m-\u001b[39m\u001b[38;5;241m>\u001b[39m DataFrame \u001b[38;5;241m|\u001b[39m Iterator[DataFrame]:\n\u001b[0;32m-> 2326\u001b[0m     cursor \u001b[38;5;241m=\u001b[39m \u001b[38;5;28mself\u001b[39m\u001b[38;5;241m.\u001b[39mexecute(sql, params)\n\u001b[1;32m   2327\u001b[0m     columns \u001b[38;5;241m=\u001b[39m [col_desc[\u001b[38;5;241m0\u001b[39m] \u001b[38;5;28;01mfor\u001b[39;00m col_desc \u001b[38;5;129;01min\u001b[39;00m cursor\u001b[38;5;241m.\u001b[39mdescription]\n\u001b[1;32m   2329\u001b[0m     \u001b[38;5;28;01mif\u001b[39;00m chunksize \u001b[38;5;129;01mis\u001b[39;00m \u001b[38;5;129;01mnot\u001b[39;00m \u001b[38;5;28;01mNone\u001b[39;00m:\n",
      "File \u001b[0;32m~/anaconda3/lib/python3.11/site-packages/pandas/io/sql.py:2262\u001b[0m, in \u001b[0;36mSQLiteDatabase.execute\u001b[0;34m(self, sql, params)\u001b[0m\n\u001b[1;32m   2260\u001b[0m cur \u001b[38;5;241m=\u001b[39m \u001b[38;5;28mself\u001b[39m\u001b[38;5;241m.\u001b[39mcon\u001b[38;5;241m.\u001b[39mcursor()\n\u001b[1;32m   2261\u001b[0m \u001b[38;5;28;01mtry\u001b[39;00m:\n\u001b[0;32m-> 2262\u001b[0m     cur\u001b[38;5;241m.\u001b[39mexecute(sql, \u001b[38;5;241m*\u001b[39margs)\n\u001b[1;32m   2263\u001b[0m     \u001b[38;5;28;01mreturn\u001b[39;00m cur\n\u001b[1;32m   2264\u001b[0m \u001b[38;5;28;01mexcept\u001b[39;00m \u001b[38;5;167;01mException\u001b[39;00m \u001b[38;5;28;01mas\u001b[39;00m exc:\n",
      "File \u001b[0;32m~/anaconda3/lib/python3.11/site-packages/mysql/connector/cursor.py:617\u001b[0m, in \u001b[0;36mMySQLCursor.execute\u001b[0;34m(self, operation, params, multi)\u001b[0m\n\u001b[1;32m    614\u001b[0m     \u001b[38;5;28;01mreturn\u001b[39;00m \u001b[38;5;28mself\u001b[39m\u001b[38;5;241m.\u001b[39m_execute_iter(\u001b[38;5;28mself\u001b[39m\u001b[38;5;241m.\u001b[39m_connection\u001b[38;5;241m.\u001b[39mcmd_query_iter(stmt))\n\u001b[1;32m    616\u001b[0m \u001b[38;5;28;01mtry\u001b[39;00m:\n\u001b[0;32m--> 617\u001b[0m     \u001b[38;5;28mself\u001b[39m\u001b[38;5;241m.\u001b[39m_handle_result(\u001b[38;5;28mself\u001b[39m\u001b[38;5;241m.\u001b[39m_connection\u001b[38;5;241m.\u001b[39mcmd_query(stmt))\n\u001b[1;32m    618\u001b[0m \u001b[38;5;28;01mexcept\u001b[39;00m InterfaceError \u001b[38;5;28;01mas\u001b[39;00m err:\n\u001b[1;32m    619\u001b[0m     \u001b[38;5;28;01mif\u001b[39;00m \u001b[38;5;28mself\u001b[39m\u001b[38;5;241m.\u001b[39m_connection\u001b[38;5;241m.\u001b[39mhave_next_result:\n",
      "File \u001b[0;32m~/anaconda3/lib/python3.11/site-packages/mysql/connector/opentelemetry/context_propagation.py:77\u001b[0m, in \u001b[0;36mwith_context_propagation.<locals>.wrapper\u001b[0;34m(cnx, *args, **kwargs)\u001b[0m\n\u001b[1;32m     75\u001b[0m \u001b[38;5;250m\u001b[39m\u001b[38;5;124;03m\"\"\"Context propagation decorator.\"\"\"\u001b[39;00m\n\u001b[1;32m     76\u001b[0m \u001b[38;5;28;01mif\u001b[39;00m \u001b[38;5;129;01mnot\u001b[39;00m OTEL_ENABLED \u001b[38;5;129;01mor\u001b[39;00m \u001b[38;5;129;01mnot\u001b[39;00m cnx\u001b[38;5;241m.\u001b[39motel_context_propagation:\n\u001b[0;32m---> 77\u001b[0m     \u001b[38;5;28;01mreturn\u001b[39;00m method(cnx, \u001b[38;5;241m*\u001b[39margs, \u001b[38;5;241m*\u001b[39m\u001b[38;5;241m*\u001b[39mkwargs)\n\u001b[1;32m     79\u001b[0m current_span \u001b[38;5;241m=\u001b[39m trace\u001b[38;5;241m.\u001b[39mget_current_span()\n\u001b[1;32m     80\u001b[0m tp_header \u001b[38;5;241m=\u001b[39m \u001b[38;5;28;01mNone\u001b[39;00m\n",
      "File \u001b[0;32m~/anaconda3/lib/python3.11/site-packages/mysql/connector/connection.py:843\u001b[0m, in \u001b[0;36mMySQLConnection.cmd_query\u001b[0;34m(self, query, raw, buffered, raw_as_string)\u001b[0m\n\u001b[1;32m    841\u001b[0m query \u001b[38;5;241m=\u001b[39m \u001b[38;5;28mbytes\u001b[39m(packet)\n\u001b[1;32m    842\u001b[0m \u001b[38;5;28;01mtry\u001b[39;00m:\n\u001b[0;32m--> 843\u001b[0m     result \u001b[38;5;241m=\u001b[39m \u001b[38;5;28mself\u001b[39m\u001b[38;5;241m.\u001b[39m_handle_result(\u001b[38;5;28mself\u001b[39m\u001b[38;5;241m.\u001b[39m_send_cmd(ServerCmd\u001b[38;5;241m.\u001b[39mQUERY, query))\n\u001b[1;32m    844\u001b[0m \u001b[38;5;28;01mexcept\u001b[39;00m ProgrammingError \u001b[38;5;28;01mas\u001b[39;00m err:\n\u001b[1;32m    845\u001b[0m     \u001b[38;5;28;01mif\u001b[39;00m err\u001b[38;5;241m.\u001b[39merrno \u001b[38;5;241m==\u001b[39m \u001b[38;5;241m3948\u001b[39m \u001b[38;5;129;01mand\u001b[39;00m \u001b[38;5;124m\"\u001b[39m\u001b[38;5;124mLoading local data is disabled\u001b[39m\u001b[38;5;124m\"\u001b[39m \u001b[38;5;129;01min\u001b[39;00m err\u001b[38;5;241m.\u001b[39mmsg:\n",
      "File \u001b[0;32m~/anaconda3/lib/python3.11/site-packages/mysql/connector/connection.py:465\u001b[0m, in \u001b[0;36mMySQLConnection._send_cmd\u001b[0;34m(self, command, argument, packet_number, packet, expect_response, compressed_packet_number)\u001b[0m\n\u001b[1;32m    463\u001b[0m \u001b[38;5;28;01mif\u001b[39;00m \u001b[38;5;129;01mnot\u001b[39;00m expect_response:\n\u001b[1;32m    464\u001b[0m     \u001b[38;5;28;01mreturn\u001b[39;00m \u001b[38;5;28;01mNone\u001b[39;00m\n\u001b[0;32m--> 465\u001b[0m \u001b[38;5;28;01mreturn\u001b[39;00m \u001b[38;5;28mself\u001b[39m\u001b[38;5;241m.\u001b[39m_socket\u001b[38;5;241m.\u001b[39mrecv()\n",
      "File \u001b[0;32m~/anaconda3/lib/python3.11/site-packages/mysql/connector/network.py:631\u001b[0m, in \u001b[0;36mMySQLSocket.recv\u001b[0;34m(self)\u001b[0m\n\u001b[1;32m    629\u001b[0m \u001b[38;5;28;01mdef\u001b[39;00m \u001b[38;5;21mrecv\u001b[39m(\u001b[38;5;28mself\u001b[39m) \u001b[38;5;241m-\u001b[39m\u001b[38;5;241m>\u001b[39m \u001b[38;5;28mbytearray\u001b[39m:\n\u001b[1;32m    630\u001b[0m \u001b[38;5;250m    \u001b[39m\u001b[38;5;124;03m\"\"\"Get packet from the MySQL server comm channel.\"\"\"\u001b[39;00m\n\u001b[0;32m--> 631\u001b[0m     \u001b[38;5;28;01mreturn\u001b[39;00m \u001b[38;5;28mself\u001b[39m\u001b[38;5;241m.\u001b[39m_netbroker\u001b[38;5;241m.\u001b[39mrecv(\u001b[38;5;28mself\u001b[39m\u001b[38;5;241m.\u001b[39msock, \u001b[38;5;28mself\u001b[39m\u001b[38;5;241m.\u001b[39maddress)\n",
      "File \u001b[0;32m~/anaconda3/lib/python3.11/site-packages/mysql/connector/network.py:231\u001b[0m, in \u001b[0;36mNetworkBrokerPlain.recv\u001b[0;34m(self, sock, address)\u001b[0m\n\u001b[1;32m    228\u001b[0m \u001b[38;5;250m\u001b[39m\u001b[38;5;124;03m\"\"\"Receive `one` packet from the MySQL server.\"\"\"\u001b[39;00m\n\u001b[1;32m    229\u001b[0m \u001b[38;5;28;01mtry\u001b[39;00m:\n\u001b[1;32m    230\u001b[0m     \u001b[38;5;66;03m# Read the header of the MySQL packet\u001b[39;00m\n\u001b[0;32m--> 231\u001b[0m     header \u001b[38;5;241m=\u001b[39m \u001b[38;5;28mself\u001b[39m\u001b[38;5;241m.\u001b[39m_recv_chunk(sock, size\u001b[38;5;241m=\u001b[39mPACKET_HEADER_LENGTH)\n\u001b[1;32m    233\u001b[0m     \u001b[38;5;66;03m# Pull the payload length and sequence id\u001b[39;00m\n\u001b[1;32m    234\u001b[0m     payload_len, \u001b[38;5;28mself\u001b[39m\u001b[38;5;241m.\u001b[39m_pktnr \u001b[38;5;241m=\u001b[39m (\n\u001b[1;32m    235\u001b[0m         struct\u001b[38;5;241m.\u001b[39munpack(\u001b[38;5;124m\"\u001b[39m\u001b[38;5;124m<I\u001b[39m\u001b[38;5;124m\"\u001b[39m, header[\u001b[38;5;241m0\u001b[39m:\u001b[38;5;241m3\u001b[39m] \u001b[38;5;241m+\u001b[39m \u001b[38;5;124mb\u001b[39m\u001b[38;5;124m\"\u001b[39m\u001b[38;5;130;01m\\x00\u001b[39;00m\u001b[38;5;124m\"\u001b[39m)[\u001b[38;5;241m0\u001b[39m],\n\u001b[1;32m    236\u001b[0m         header[\u001b[38;5;241m3\u001b[39m],\n\u001b[1;32m    237\u001b[0m     )\n",
      "File \u001b[0;32m~/anaconda3/lib/python3.11/site-packages/mysql/connector/network.py:176\u001b[0m, in \u001b[0;36mNetworkBrokerPlain._recv_chunk\u001b[0;34m(self, sock, size)\u001b[0m\n\u001b[1;32m    174\u001b[0m pkt_view \u001b[38;5;241m=\u001b[39m \u001b[38;5;28mmemoryview\u001b[39m(pkt)\n\u001b[1;32m    175\u001b[0m \u001b[38;5;28;01mwhile\u001b[39;00m size:\n\u001b[0;32m--> 176\u001b[0m     read \u001b[38;5;241m=\u001b[39m sock\u001b[38;5;241m.\u001b[39mrecv_into(pkt_view, size)\n\u001b[1;32m    177\u001b[0m     \u001b[38;5;28;01mif\u001b[39;00m read \u001b[38;5;241m==\u001b[39m \u001b[38;5;241m0\u001b[39m \u001b[38;5;129;01mand\u001b[39;00m size \u001b[38;5;241m>\u001b[39m \u001b[38;5;241m0\u001b[39m:\n\u001b[1;32m    178\u001b[0m         \u001b[38;5;28;01mraise\u001b[39;00m InterfaceError(errno\u001b[38;5;241m=\u001b[39m\u001b[38;5;241m2013\u001b[39m)\n",
      "File \u001b[0;32m~/anaconda3/lib/python3.11/ssl.py:1278\u001b[0m, in \u001b[0;36mSSLSocket.recv_into\u001b[0;34m(self, buffer, nbytes, flags)\u001b[0m\n\u001b[1;32m   1274\u001b[0m     \u001b[38;5;28;01mif\u001b[39;00m flags \u001b[38;5;241m!=\u001b[39m \u001b[38;5;241m0\u001b[39m:\n\u001b[1;32m   1275\u001b[0m         \u001b[38;5;28;01mraise\u001b[39;00m \u001b[38;5;167;01mValueError\u001b[39;00m(\n\u001b[1;32m   1276\u001b[0m           \u001b[38;5;124m\"\u001b[39m\u001b[38;5;124mnon-zero flags not allowed in calls to recv_into() on \u001b[39m\u001b[38;5;132;01m%s\u001b[39;00m\u001b[38;5;124m\"\u001b[39m \u001b[38;5;241m%\u001b[39m\n\u001b[1;32m   1277\u001b[0m           \u001b[38;5;28mself\u001b[39m\u001b[38;5;241m.\u001b[39m\u001b[38;5;18m__class__\u001b[39m)\n\u001b[0;32m-> 1278\u001b[0m     \u001b[38;5;28;01mreturn\u001b[39;00m \u001b[38;5;28mself\u001b[39m\u001b[38;5;241m.\u001b[39mread(nbytes, buffer)\n\u001b[1;32m   1279\u001b[0m \u001b[38;5;28;01melse\u001b[39;00m:\n\u001b[1;32m   1280\u001b[0m     \u001b[38;5;28;01mreturn\u001b[39;00m \u001b[38;5;28msuper\u001b[39m()\u001b[38;5;241m.\u001b[39mrecv_into(buffer, nbytes, flags)\n",
      "File \u001b[0;32m~/anaconda3/lib/python3.11/ssl.py:1134\u001b[0m, in \u001b[0;36mSSLSocket.read\u001b[0;34m(self, len, buffer)\u001b[0m\n\u001b[1;32m   1132\u001b[0m \u001b[38;5;28;01mtry\u001b[39;00m:\n\u001b[1;32m   1133\u001b[0m     \u001b[38;5;28;01mif\u001b[39;00m buffer \u001b[38;5;129;01mis\u001b[39;00m \u001b[38;5;129;01mnot\u001b[39;00m \u001b[38;5;28;01mNone\u001b[39;00m:\n\u001b[0;32m-> 1134\u001b[0m         \u001b[38;5;28;01mreturn\u001b[39;00m \u001b[38;5;28mself\u001b[39m\u001b[38;5;241m.\u001b[39m_sslobj\u001b[38;5;241m.\u001b[39mread(\u001b[38;5;28mlen\u001b[39m, buffer)\n\u001b[1;32m   1135\u001b[0m     \u001b[38;5;28;01melse\u001b[39;00m:\n\u001b[1;32m   1136\u001b[0m         \u001b[38;5;28;01mreturn\u001b[39;00m \u001b[38;5;28mself\u001b[39m\u001b[38;5;241m.\u001b[39m_sslobj\u001b[38;5;241m.\u001b[39mread(\u001b[38;5;28mlen\u001b[39m)\n",
      "\u001b[0;31mKeyboardInterrupt\u001b[0m: "
     ]
    }
   ],
   "source": [
    "# SQL query to select all columns and the first 5 rows\n",
    "q = \"\"\"\n",
    "\n",
    "SELECT \n",
    "    * \n",
    "FROM math_gencompare \n",
    "LIMIT 5\n",
    "\n",
    "\"\"\"\n",
    "\n",
    "# Execute the query and read the results into a pandas DataFrame\n",
    "df_2_2 = pd.read_sql(q, cnx)\n",
    "\n",
    "# Print the DataFrame to explore the structure\n",
    "print(df_2_2)"
   ]
  },
  {
   "cell_type": "markdown",
   "metadata": {},
   "source": [
    "## 2.3 Find the (1) number of rows in the database, (2) number of distinct states,  (3) number of distinct years (3 points)\n",
    "\n",
    "Interpret the results - how do you think the data is structured in terms of states and years (eg long format where each state repeated; wide format)?\n",
    "\n",
    "**Hint**: rather than using count `(*)` for the latter two, think about the `distinct` command in combination with `count`: https://www.w3resource.com/mysql/aggregate-functions-and-grouping/aggregate-functions-and-grouping-count-with-distinct.php"
   ]
  },
  {
   "cell_type": "code",
   "execution_count": null,
   "metadata": {},
   "outputs": [],
   "source": [
    "# Number of rows in the database\n",
    "\n",
    "q_num_rows = \"\"\"\n",
    "\n",
    "SELECT \n",
    "    COUNT(*) AS total_rows \n",
    "FROM math_gencompare\n",
    "\n",
    "\"\"\"\n",
    "\n",
    "df_num_rows = pd.read_sql(q_num_rows, cnx)\n",
    "df_num_rows\n",
    "\n",
    "# Number of distinct states\n",
    "\n",
    "q_dis_states = \"\"\"\n",
    "SELECT \n",
    "    COUNT(DISTINCT state) AS distinct_states \n",
    "    FROM math_gencompare\n",
    "    \n",
    "\"\"\"\n",
    "\n",
    "df_dis_states = pd.read_sql(q_dis_states, cnx)\n",
    "df_dis_states\n",
    "\n",
    "# Number of distinct years\n",
    "\n",
    "q_dis_yrs = \"\"\"\n",
    "\n",
    "SELECT \n",
    "    COUNT(DISTINCT year) AS distinct_years \n",
    "    FROM math_gencompare\n",
    "\"\"\"\n",
    "\n",
    "df_dis_yrs = pd.read_sql(q_dis_yrs, cnx)\n",
    "df_dis_yrs\n",
    "\n"
   ]
  },
  {
   "cell_type": "code",
   "execution_count": null,
   "metadata": {},
   "outputs": [],
   "source": [
    "# Given these results, it appears that the data is structured in a long format, \n",
    "# where each state is repeated for multiple years. This is because there are \n",
    "# multiple rows for each state, most likely with data for different years."
   ]
  },
  {
   "cell_type": "markdown",
   "metadata": {},
   "source": [
    "## 2.4 Construct a new variable, `is_male_higher` that takes the value of 1 if the math scores of males exceed that of females in that state and year (each row) (2 points)\n",
    "\n",
    "Read in the results, print the head, and find the mean across all rows (the percentage of state-years where male students have higher scores)"
   ]
  },
  {
   "cell_type": "code",
   "execution_count": null,
   "metadata": {},
   "outputs": [],
   "source": [
    "# Calculate the \"is_male_higher\" variable in SQL\n",
    "q_male = \"\"\"\n",
    "\n",
    "SELECT\n",
    "    *,\n",
    "    CASE \n",
    "        WHEN male > female THEN 1 \n",
    "        ELSE 0 \n",
    "    END as is_male_higher\n",
    "FROM math_gencompare\n",
    "\"\"\"\n",
    "\n",
    "df_q_male = pd.read_sql(q_male, cnx)\n",
    "\n",
    "df_q_male.head()\n",
    "\n",
    "\n"
   ]
  },
  {
   "cell_type": "code",
   "execution_count": null,
   "metadata": {},
   "outputs": [],
   "source": [
    "# Calculate the mean of the \"is_male_higher\" variable using SQL\n",
    "df_q_male['is_male_higher'].mean() * 100\n",
    "\n",
    "# Male students have higher scores in 51.5% of state-years "
   ]
  },
  {
   "cell_type": "markdown",
   "metadata": {},
   "source": [
    "## 2.5 group by year and find the percentage of states where male scores are higher than females (4 points)\n",
    "\n",
    "**A.** Write a query that (1) groups by year and (2) finds the percentage of states that have higher scores for males than females in this year \n",
    "\n",
    "**B.** Print the resulting dataframe and interpret the results \n",
    "\n",
    "**Hint:** To compare male and female scores, consider logical operators (e.g., `<`, `>`, `=`) and simple aggregation (e.g., `avg()` to get mean) or using a subquery to construct the indicator."
   ]
  },
  {
   "cell_type": "code",
   "execution_count": null,
   "metadata": {},
   "outputs": [],
   "source": [
    "# Part A\n",
    "\n",
    "q_2_5 = \"\"\"\n",
    "\n",
    "SELECT\n",
    "    year,\n",
    "    SUM(CASE WHEN male > female THEN 1 ELSE 0 END) / COUNT(*) * 100 AS percentage_male_higher\n",
    "FROM math_gencompare\n",
    "GROUP BY year\n",
    "\"\"\"\n",
    "\n",
    "df_q_2_5 = pd.read_sql(q_2_5, cnx)\n",
    "\n",
    "# Part B\n",
    "print(df_q_2_5)\n",
    "\n",
    "## Interpret\n",
    "\n",
    "# The data indicates that there are variations in the percentage of states where male students \n",
    "# outperform female students in math over the years. In 2013, the percentage was the highest at 62%, \n",
    "# suggesting that in the majority of states, male students had higher math scores. \n",
    "# However, this percentage decreased in subsequent years, reaching 30% in 2019. This decline \n",
    "# could suggest changes in educational outcomes or gender disparities in math performance over time."
   ]
  },
  {
   "cell_type": "markdown",
   "metadata": {},
   "source": [
    "## 2.6 group by state and find the percentage of years where male scores higher than females\n",
    "\n",
    "**A.** Write a query that (1) groups by state and (2) finds the percentage of years that have higher scores for males than females in that state\n",
    "\n",
    "**B.** Plot the results ordering the states from males higher all 4 years to males higher none of the years"
   ]
  },
  {
   "cell_type": "code",
   "execution_count": null,
   "metadata": {},
   "outputs": [],
   "source": [
    "# Part A\n",
    "query_malefemale = \"\"\"\n",
    "SELECT\n",
    "    state,\n",
    "    SUM(CASE WHEN male > female THEN 1 ELSE 0 END) / COUNT(*) * 100 AS percentage_male_higher\n",
    "FROM math_gencompare\n",
    "GROUP BY state\n",
    "\"\"\"\n",
    "df_q_2_6 = pd.read_sql(query_malefemale, cnx)\n",
    "print(df_q_2_6)"
   ]
  },
  {
   "cell_type": "code",
   "execution_count": null,
   "metadata": {},
   "outputs": [],
   "source": [
    "# Part B\n",
    "df_q_2_6 = df_q_2_6.sort_values(by='percentage_male_higher', ascending = False)\n",
    "\n",
    "plt.figure(figsize=(11, 8))\n",
    "plt.bar(df_q_2_6['state'], df_q_2_6['percentage_male_higher'], capsize = 3)\n",
    "plt.xlabel('State')\n",
    "plt.ylabel('Percentage of States Male Higher')\n",
    "plt.title('Percentage of Years when Males Scored Higher than Females')\n",
    "plt.xticks(rotation=90)\n",
    "# Show the plot\n",
    "plt.show()"
   ]
  },
  {
   "cell_type": "markdown",
   "metadata": {},
   "source": [
    "## 2.7 Use a subquery to create an indicator and group by that indicator (6 points)\n",
    "\n",
    "The following states were the first 6 to expand the right to vote to women before the uniform federal expansion in 1920\n",
    "\n",
    "- Wyoming 1890\n",
    "- Colorado 1893\n",
    "- Utah 1896\n",
    "- Idaho 1896\n",
    "- Washington 1910\n",
    "- California 1911\n",
    "\n",
    "**A.** Create an indicator `is_early_voter` for whether a state is in that list or not; do so without typing the state names inside the string and instead collapsing the list of states we provide and using something like `format`. Hint on how to combine the state names while preserving the quotes around each: https://stackoverflow.com/questions/12007686/join-a-list-of-strings-in-python-and-wrap-each-string-in-quotation-marks \n",
    "\n",
    "**B.** Then, group by the `is_early_voter` indicator and `year` and find the percencentage of states in each group where males had higher scores than females \n",
    "\n",
    "**C.** Print the resulting dataframe and interpret. Does early expansion of voting seem to be correlated with girls scoring better on the math tests a century later?\n",
    "\n",
    "**Hint:** in order to group by the indicator in step b, you may need to use a subquery "
   ]
  },
  {
   "cell_type": "code",
   "execution_count": null,
   "metadata": {},
   "outputs": [],
   "source": [
    "## list of states we provide\n",
    "list_suffrage = [\"Wyoming\", \"Colorado\", \"Utah\", \"Idaho\", \"Washington\", \n",
    "                \"California\"]"
   ]
  },
  {
   "cell_type": "code",
   "execution_count": null,
   "metadata": {},
   "outputs": [],
   "source": [
    "## Part A\n",
    "q_early_voter = \"\"\"\n",
    "SELECT\n",
    "    state,\n",
    "    CASE \n",
    "        WHEN state in ({}) THEN 1\n",
    "        ELSE 0 \n",
    "    END AS is_early_voter\n",
    "FROM math_gencompare\n",
    "\"\"\".join('\"{0}\"'.format(state) for state in list_suffrage)"
   ]
  },
  {
   "cell_type": "code",
   "execution_count": null,
   "metadata": {},
   "outputs": [],
   "source": [
    "## Part B\n",
    "q_state = \"\"\"\n",
    "SELECT\n",
    "    year,\n",
    "    is_early_voter,\n",
    "    SUM(CASE WHEN male > female THEN 1 ELSE 0 END) / COUNT(DISTINCT state) * 100 AS percentage_male_higher\n",
    "FROM (\n",
    "    SELECT\n",
    "        year,\n",
    "        state,\n",
    "        CASE\n",
    "            WHEN state in (\"Wyoming\", \"Colorado\", \"Utah\", \"Idaho\", \"Washington\", \"California\") THEN 1\n",
    "            ElSE 0\n",
    "        END as is_early_voter,\n",
    "        male,\n",
    "        female\n",
    "    FROM math_gencompare\n",
    ") subquery\n",
    "GROUP BY is_early_voter, year;\n",
    "\"\"\""
   ]
  },
  {
   "cell_type": "code",
   "execution_count": null,
   "metadata": {},
   "outputs": [],
   "source": [
    "## Part C\n",
    "df_q_state = pd.read_sql(q_state, cnx)\n",
    "print(df_q_state)"
   ]
  },
  {
   "cell_type": "markdown",
   "metadata": {},
   "source": [
    "# 3. Explore variation in math score disparities and trends (18 points)"
   ]
  },
  {
   "cell_type": "markdown",
   "metadata": {},
   "source": [
    "## 3.0 Read in the `acs_wmath.pkl` file (csv is backup) (0 points)"
   ]
  },
  {
   "cell_type": "code",
   "execution_count": 17,
   "metadata": {},
   "outputs": [],
   "source": [
    "\n",
    "var_math = pd.read_pickle(\"acs_wmath.pkl\")"
   ]
  },
  {
   "cell_type": "markdown",
   "metadata": {},
   "source": [
    "## 3.1 Create a visualization where one axis is the state; the other axis is the male 2013 math scores - the female 2013 math scores (gender disparity) (2 points)\n",
    "\n",
    "\n",
    "You have free rein over additional details but make sure it is informative over what direction of disparity positive versus negative values mean\n"
   ]
  },
  {
   "cell_type": "code",
   "execution_count": 21,
   "metadata": {},
   "outputs": [],
   "source": [
    "var_math['gender_disparity'] = var_math['math_male_2013'] - var_math['math_female_2013']\n",
    "var_math = var_math.sort_values(by='gender_disparity', ascending = False)"
   ]
  },
  {
   "cell_type": "code",
   "execution_count": 22,
   "metadata": {},
   "outputs": [
    {
     "data": {
      "text/plain": [
       "<Figure size 1100x800 with 0 Axes>"
      ]
     },
     "execution_count": 22,
     "metadata": {},
     "output_type": "execute_result"
    },
    {
     "data": {
      "text/plain": [
       "<BarContainer object of 50 artists>"
      ]
     },
     "execution_count": 22,
     "metadata": {},
     "output_type": "execute_result"
    },
    {
     "data": {
      "text/plain": [
       "Text(0.5, 0, 'State')"
      ]
     },
     "execution_count": 22,
     "metadata": {},
     "output_type": "execute_result"
    },
    {
     "data": {
      "text/plain": [
       "Text(0, 0.5, 'Male-Female Math Score Disparity')"
      ]
     },
     "execution_count": 22,
     "metadata": {},
     "output_type": "execute_result"
    },
    {
     "data": {
      "text/plain": [
       "Text(0.5, 1.0, 'Gender Disparity of Math Scores by State in 2013')"
      ]
     },
     "execution_count": 22,
     "metadata": {},
     "output_type": "execute_result"
    },
    {
     "data": {
      "text/plain": [
       "([0,\n",
       "  1,\n",
       "  2,\n",
       "  3,\n",
       "  4,\n",
       "  5,\n",
       "  6,\n",
       "  7,\n",
       "  8,\n",
       "  9,\n",
       "  10,\n",
       "  11,\n",
       "  12,\n",
       "  13,\n",
       "  14,\n",
       "  15,\n",
       "  16,\n",
       "  17,\n",
       "  18,\n",
       "  19,\n",
       "  20,\n",
       "  21,\n",
       "  22,\n",
       "  23,\n",
       "  24,\n",
       "  25,\n",
       "  26,\n",
       "  27,\n",
       "  28,\n",
       "  29,\n",
       "  30,\n",
       "  31,\n",
       "  32,\n",
       "  33,\n",
       "  34,\n",
       "  35,\n",
       "  36,\n",
       "  37,\n",
       "  38,\n",
       "  39,\n",
       "  40,\n",
       "  41,\n",
       "  42,\n",
       "  43,\n",
       "  44,\n",
       "  45,\n",
       "  46,\n",
       "  47,\n",
       "  48,\n",
       "  49],\n",
       " [Text(0, 0, 'Maine'),\n",
       "  Text(1, 0, 'Delaware'),\n",
       "  Text(2, 0, 'Wyoming'),\n",
       "  Text(3, 0, 'California'),\n",
       "  Text(4, 0, 'Oregon'),\n",
       "  Text(5, 0, 'South Carolina'),\n",
       "  Text(6, 0, 'Nevada'),\n",
       "  Text(7, 0, 'Minnesota'),\n",
       "  Text(8, 0, 'Florida'),\n",
       "  Text(9, 0, 'Kansas'),\n",
       "  Text(10, 0, 'Pennsylvania'),\n",
       "  Text(11, 0, 'Iowa'),\n",
       "  Text(12, 0, 'Idaho'),\n",
       "  Text(13, 0, 'Utah'),\n",
       "  Text(14, 0, 'Washington'),\n",
       "  Text(15, 0, 'South Dakota'),\n",
       "  Text(16, 0, 'Ohio'),\n",
       "  Text(17, 0, 'Arizona'),\n",
       "  Text(18, 0, 'Indiana'),\n",
       "  Text(19, 0, 'Texas'),\n",
       "  Text(20, 0, 'Kentucky'),\n",
       "  Text(21, 0, 'Massachusetts'),\n",
       "  Text(22, 0, 'North Dakota'),\n",
       "  Text(23, 0, 'Georgia'),\n",
       "  Text(24, 0, 'Alabama'),\n",
       "  Text(25, 0, 'Connecticut'),\n",
       "  Text(26, 0, 'Rhode Island'),\n",
       "  Text(27, 0, 'Alaska'),\n",
       "  Text(28, 0, 'Illinois'),\n",
       "  Text(29, 0, 'West Virginia'),\n",
       "  Text(30, 0, 'Tennessee'),\n",
       "  Text(31, 0, 'New Mexico'),\n",
       "  Text(32, 0, 'Wisconsin'),\n",
       "  Text(33, 0, 'Mississippi'),\n",
       "  Text(34, 0, 'Louisiana'),\n",
       "  Text(35, 0, 'Montana'),\n",
       "  Text(36, 0, 'North Carolina'),\n",
       "  Text(37, 0, 'Nebraska'),\n",
       "  Text(38, 0, 'Colorado'),\n",
       "  Text(39, 0, 'Maryland'),\n",
       "  Text(40, 0, 'Missouri'),\n",
       "  Text(41, 0, 'Michigan'),\n",
       "  Text(42, 0, 'New Hampshire'),\n",
       "  Text(43, 0, 'Arkansas'),\n",
       "  Text(44, 0, 'Virginia'),\n",
       "  Text(45, 0, 'Oklahoma'),\n",
       "  Text(46, 0, 'Vermont'),\n",
       "  Text(47, 0, 'New Jersey'),\n",
       "  Text(48, 0, 'New York'),\n",
       "  Text(49, 0, 'Hawaii')])"
      ]
     },
     "execution_count": 22,
     "metadata": {},
     "output_type": "execute_result"
    },
    {
     "data": {
      "text/plain": [
       "Text(0, 3.3680723832970103, 'AK')"
      ]
     },
     "execution_count": 22,
     "metadata": {},
     "output_type": "execute_result"
    },
    {
     "data": {
      "text/plain": [
       "Text(1, 3.111183175318024, 'AL')"
      ]
     },
     "execution_count": 22,
     "metadata": {},
     "output_type": "execute_result"
    },
    {
     "data": {
      "text/plain": [
       "Text(2, 3.102228165171971, 'AR')"
      ]
     },
     "execution_count": 22,
     "metadata": {},
     "output_type": "execute_result"
    },
    {
     "data": {
      "text/plain": [
       "Text(3, 2.6693467817250167, 'AZ')"
      ]
     },
     "execution_count": 22,
     "metadata": {},
     "output_type": "execute_result"
    },
    {
     "data": {
      "text/plain": [
       "Text(4, 2.4012681504639546, 'CA')"
      ]
     },
     "execution_count": 22,
     "metadata": {},
     "output_type": "execute_result"
    },
    {
     "data": {
      "text/plain": [
       "Text(5, 2.0768385061100276, 'CO')"
      ]
     },
     "execution_count": 22,
     "metadata": {},
     "output_type": "execute_result"
    },
    {
     "data": {
      "text/plain": [
       "Text(6, 1.7487443249880017, 'CT')"
      ]
     },
     "execution_count": 22,
     "metadata": {},
     "output_type": "execute_result"
    },
    {
     "data": {
      "text/plain": [
       "Text(7, 1.7287177045480235, 'DE')"
      ]
     },
     "execution_count": 22,
     "metadata": {},
     "output_type": "execute_result"
    },
    {
     "data": {
      "text/plain": [
       "Text(8, 1.7131442154569982, 'FL')"
      ]
     },
     "execution_count": 22,
     "metadata": {},
     "output_type": "execute_result"
    },
    {
     "data": {
      "text/plain": [
       "Text(9, 1.6284811097710077, 'GA')"
      ]
     },
     "execution_count": 22,
     "metadata": {},
     "output_type": "execute_result"
    },
    {
     "data": {
      "text/plain": [
       "Text(10, 1.5840786275270262, 'HI')"
      ]
     },
     "execution_count": 22,
     "metadata": {},
     "output_type": "execute_result"
    },
    {
     "data": {
      "text/plain": [
       "Text(11, 1.4527059561540114, 'IA')"
      ]
     },
     "execution_count": 22,
     "metadata": {},
     "output_type": "execute_result"
    },
    {
     "data": {
      "text/plain": [
       "Text(12, 1.2452012046150345, 'ID')"
      ]
     },
     "execution_count": 22,
     "metadata": {},
     "output_type": "execute_result"
    },
    {
     "data": {
      "text/plain": [
       "Text(13, 1.203464147226987, 'IL')"
      ]
     },
     "execution_count": 22,
     "metadata": {},
     "output_type": "execute_result"
    },
    {
     "data": {
      "text/plain": [
       "Text(14, 1.1713578457929885, 'IN')"
      ]
     },
     "execution_count": 22,
     "metadata": {},
     "output_type": "execute_result"
    },
    {
     "data": {
      "text/plain": [
       "Text(15, 1.1150965486259907, 'KS')"
      ]
     },
     "execution_count": 22,
     "metadata": {},
     "output_type": "execute_result"
    },
    {
     "data": {
      "text/plain": [
       "Text(16, 1.0486424368290046, 'KY')"
      ]
     },
     "execution_count": 22,
     "metadata": {},
     "output_type": "execute_result"
    },
    {
     "data": {
      "text/plain": [
       "Text(17, 1.0248074507160028, 'LA')"
      ]
     },
     "execution_count": 22,
     "metadata": {},
     "output_type": "execute_result"
    },
    {
     "data": {
      "text/plain": [
       "Text(18, 1.007042780732013, 'MA')"
      ]
     },
     "execution_count": 22,
     "metadata": {},
     "output_type": "execute_result"
    },
    {
     "data": {
      "text/plain": [
       "Text(19, 0.8539170941369661, 'MD')"
      ]
     },
     "execution_count": 22,
     "metadata": {},
     "output_type": "execute_result"
    },
    {
     "data": {
      "text/plain": [
       "Text(20, 0.8069708303529864, 'ME')"
      ]
     },
     "execution_count": 22,
     "metadata": {},
     "output_type": "execute_result"
    },
    {
     "data": {
      "text/plain": [
       "Text(21, 0.7733217805060008, 'MI')"
      ]
     },
     "execution_count": 22,
     "metadata": {},
     "output_type": "execute_result"
    },
    {
     "data": {
      "text/plain": [
       "Text(22, 0.6841208457899824, 'MN')"
      ]
     },
     "execution_count": 22,
     "metadata": {},
     "output_type": "execute_result"
    },
    {
     "data": {
      "text/plain": [
       "Text(23, 0.649041610200959, 'MO')"
      ]
     },
     "execution_count": 22,
     "metadata": {},
     "output_type": "execute_result"
    },
    {
     "data": {
      "text/plain": [
       "Text(24, 0.63734403121598, 'MS')"
      ]
     },
     "execution_count": 22,
     "metadata": {},
     "output_type": "execute_result"
    },
    {
     "data": {
      "text/plain": [
       "Text(25, 0.5728732576519974, 'MT')"
      ]
     },
     "execution_count": 22,
     "metadata": {},
     "output_type": "execute_result"
    },
    {
     "data": {
      "text/plain": [
       "Text(26, 0.5496810507059763, 'NC')"
      ]
     },
     "execution_count": 22,
     "metadata": {},
     "output_type": "execute_result"
    },
    {
     "data": {
      "text/plain": [
       "Text(27, 0.43513314491699473, 'ND')"
      ]
     },
     "execution_count": 22,
     "metadata": {},
     "output_type": "execute_result"
    },
    {
     "data": {
      "text/plain": [
       "Text(28, 0.386430605583007, 'NE')"
      ]
     },
     "execution_count": 22,
     "metadata": {},
     "output_type": "execute_result"
    },
    {
     "data": {
      "text/plain": [
       "Text(29, 0.2257267984919963, 'NH')"
      ]
     },
     "execution_count": 22,
     "metadata": {},
     "output_type": "execute_result"
    },
    {
     "data": {
      "text/plain": [
       "Text(30, 0.20941771663300415, 'NJ')"
      ]
     },
     "execution_count": 22,
     "metadata": {},
     "output_type": "execute_result"
    },
    {
     "data": {
      "text/plain": [
       "Text(31, -0.1617448121579855, 'NM')"
      ]
     },
     "execution_count": 22,
     "metadata": {},
     "output_type": "execute_result"
    },
    {
     "data": {
      "text/plain": [
       "Text(32, -0.24359544845102618, 'NV')"
      ]
     },
     "execution_count": 22,
     "metadata": {},
     "output_type": "execute_result"
    },
    {
     "data": {
      "text/plain": [
       "Text(33, -0.2548205491840122, 'NY')"
      ]
     },
     "execution_count": 22,
     "metadata": {},
     "output_type": "execute_result"
    },
    {
     "data": {
      "text/plain": [
       "Text(34, -0.4533776244799924, 'OH')"
      ]
     },
     "execution_count": 22,
     "metadata": {},
     "output_type": "execute_result"
    },
    {
     "data": {
      "text/plain": [
       "Text(35, -0.510899783830007, 'OK')"
      ]
     },
     "execution_count": 22,
     "metadata": {},
     "output_type": "execute_result"
    },
    {
     "data": {
      "text/plain": [
       "Text(36, -0.513828857764986, 'OR')"
      ]
     },
     "execution_count": 22,
     "metadata": {},
     "output_type": "execute_result"
    },
    {
     "data": {
      "text/plain": [
       "Text(37, -0.5378049568630218, 'PA')"
      ]
     },
     "execution_count": 22,
     "metadata": {},
     "output_type": "execute_result"
    },
    {
     "data": {
      "text/plain": [
       "Text(38, -0.6193543446699664, 'RI')"
      ]
     },
     "execution_count": 22,
     "metadata": {},
     "output_type": "execute_result"
    },
    {
     "data": {
      "text/plain": [
       "Text(39, -0.6468619653989777, 'SC')"
      ]
     },
     "execution_count": 22,
     "metadata": {},
     "output_type": "execute_result"
    },
    {
     "data": {
      "text/plain": [
       "Text(40, -0.8243131829520053, 'SD')"
      ]
     },
     "execution_count": 22,
     "metadata": {},
     "output_type": "execute_result"
    },
    {
     "data": {
      "text/plain": [
       "Text(41, -1.0164684907989794, 'TN')"
      ]
     },
     "execution_count": 22,
     "metadata": {},
     "output_type": "execute_result"
    },
    {
     "data": {
      "text/plain": [
       "Text(42, -1.0466718291410415, 'TX')"
      ]
     },
     "execution_count": 22,
     "metadata": {},
     "output_type": "execute_result"
    },
    {
     "data": {
      "text/plain": [
       "Text(43, -1.074126076334005, 'UT')"
      ]
     },
     "execution_count": 22,
     "metadata": {},
     "output_type": "execute_result"
    },
    {
     "data": {
      "text/plain": [
       "Text(44, -1.4513966859019773, 'VA')"
      ]
     },
     "execution_count": 22,
     "metadata": {},
     "output_type": "execute_result"
    },
    {
     "data": {
      "text/plain": [
       "Text(45, -1.5089813039830005, 'VT')"
      ]
     },
     "execution_count": 22,
     "metadata": {},
     "output_type": "execute_result"
    },
    {
     "data": {
      "text/plain": [
       "Text(46, -1.5446131725060126, 'WA')"
      ]
     },
     "execution_count": 22,
     "metadata": {},
     "output_type": "execute_result"
    },
    {
     "data": {
      "text/plain": [
       "Text(47, -1.8596611854640286, 'WI')"
      ]
     },
     "execution_count": 22,
     "metadata": {},
     "output_type": "execute_result"
    },
    {
     "data": {
      "text/plain": [
       "Text(48, -3.106644381340027, 'WV')"
      ]
     },
     "execution_count": 22,
     "metadata": {},
     "output_type": "execute_result"
    },
    {
     "data": {
      "text/plain": [
       "Text(49, -4.165927714773, 'WY')"
      ]
     },
     "execution_count": 22,
     "metadata": {},
     "output_type": "execute_result"
    },
    {
     "data": {
      "text/plain": [
       "<matplotlib.lines.Line2D at 0x151495a10>"
      ]
     },
     "execution_count": 22,
     "metadata": {},
     "output_type": "execute_result"
    },
    {
     "data": {
      "image/png": "[encoded data removed]",
      "text/plain": [
       "<Figure size 1100x800 with 1 Axes>"
      ]
     },
     "metadata": {},
     "output_type": "display_data"
    }
   ],
   "source": [
    "## your code here\n",
    "plt.figure(figsize=(11, 8))\n",
    "plt.bar(var_math['state'], var_math['gender_disparity'], capsize = 3)\n",
    "plt.xlabel('State')\n",
    "plt.ylabel('Male-Female Math Score Disparity')\n",
    "plt.title('Gender Disparity of Math Scores by State in 2013')\n",
    "plt.xticks(rotation=90)\n",
    "plt.tight_layout()\n",
    "\n",
    "for i, disparity in enumerate(var_math['gender_disparity']):\n",
    "    if disparity > 0:\n",
    "        plt.text(i, disparity + 0.1, var_math['abbrev'][i], ha='center')\n",
    "    else:\n",
    "        plt.text(i, disparity - 0.15, var_math['abbrev'][i], ha='center')\n",
    "\n",
    "plt.axhline(0, color='k', linestyle='-', linewidth=0.5)\n",
    "\n",
    "# Show the graph\n",
    "plt.show()"
   ]
  },
  {
   "cell_type": "markdown",
   "metadata": {},
   "source": [
    "## 3.2 Examine gender disparity in relation to household income (6 points)\n",
    "\n",
    "**A.** Construct an indicator variable for the state having better performance of males in 2013 than females\n",
    "\n",
    "**B.** First plot a scatterplot (or seaborn regplot) of estimated median household income from the acs data (we provide varname below) vs `math_male_2013`. Then do a second smoothed scatterplot for median household income vs `math_female_2013`.\n",
    "\n",
    "**C.** \n",
    "Then use the `np.corrcoef` command (three separate times) to examine the bivariate correlation of\n",
    "- male performance\n",
    "- female performance\n",
    "- the indicator variable from **A** \n",
    "\n",
    "with median household income (`acspredict_median_household_income_in_the_past_12_months__in_2018_inflation-adjusted_dollars_estimatemedian household income in the past 12 months in 2018 inflationadjusted dollars`)\n",
    "\n",
    "Documentation: https://numpy.org/doc/stable/reference/generated/numpy.corrcoef.html\n",
    "\n",
    "**D.** Interpret the correlations - in states with higher median household income (MHI), do \n",
    "   - boys tend to perform better than boys in states with lower MHI?\n",
    "   - girls tend to perform better than girls in states with lower MHI?\n",
    "   - boys tend to outperform girls more than they do in states with lower MHI?"
   ]
  },
  {
   "cell_type": "code",
   "execution_count": 24,
   "metadata": {},
   "outputs": [],
   "source": [
    "# Part A\n",
    "var_math['male_perf'] = (var_math['math_male_2013'] > var_math['math_female_2013'])"
   ]
  },
  {
   "cell_type": "code",
   "execution_count": 25,
   "metadata": {},
   "outputs": [
    {
     "data": {
      "text/plain": [
       "<Figure size 1000x700 with 0 Axes>"
      ]
     },
     "execution_count": 25,
     "metadata": {},
     "output_type": "execute_result"
    },
    {
     "name": "stderr",
     "output_type": "stream",
     "text": [
      "/Users/janehuang/anaconda3/lib/python3.11/site-packages/seaborn/_decorators.py:36: FutureWarning: Pass the following variables as keyword args: x, y. From version 0.12, the only valid positional argument will be `data`, and passing other arguments without an explicit keyword will result in an error or misinterpretation.\n"
     ]
    },
    {
     "data": {
      "text/plain": [
       "<Axes: xlabel='acspredict_median_household_income_in_the_past_12_months__in_2018_inflation-adjusted_dollars_estimatemedian household income in the past 12 months in 2018 inflationadjusted dollars', ylabel='math_male_2013'>"
      ]
     },
     "execution_count": 25,
     "metadata": {},
     "output_type": "execute_result"
    },
    {
     "data": {
      "text/plain": [
       "Text(0.5, 0, 'Estimated Median Household Income')"
      ]
     },
     "execution_count": 25,
     "metadata": {},
     "output_type": "execute_result"
    },
    {
     "data": {
      "text/plain": [
       "Text(0, 0.5, 'Math Scores (Male) in 2013')"
      ]
     },
     "execution_count": 25,
     "metadata": {},
     "output_type": "execute_result"
    },
    {
     "data": {
      "text/plain": [
       "Text(0.5, 1.0, 'Regression Plot of Median Household Income vs. Math Scores (Male)')"
      ]
     },
     "execution_count": 25,
     "metadata": {},
     "output_type": "execute_result"
    },
    {
     "data": {
      "image/png": "[encoded data removed]",
      "text/plain": [
       "<Figure size 1000x700 with 1 Axes>"
      ]
     },
     "metadata": {},
     "output_type": "display_data"
    }
   ],
   "source": [
    "# Part B: Male Scores\n",
    "import seaborn as sns\n",
    "\n",
    "plt.figure(figsize=(10, 7))\n",
    "sns.regplot(var_math['acspredict_median_household_income_in_the_past_12_months__in_2018_inflation-adjusted_dollars_estimatemedian household income in the past 12 months in 2018 inflationadjusted dollars'], var_math['math_male_2013'], scatter_kws={'alpha':0.5})\n",
    "plt.xlabel('Estimated Median Household Income')\n",
    "plt.ylabel('Math Scores (Male) in 2013')\n",
    "plt.title('Regression Plot of Median Household Income vs. Math Scores (Male)')\n",
    "\n",
    "# Show the plot\n",
    "plt.show()"
   ]
  },
  {
   "cell_type": "code",
   "execution_count": 26,
   "metadata": {},
   "outputs": [
    {
     "data": {
      "text/plain": [
       "<Figure size 1000x700 with 0 Axes>"
      ]
     },
     "execution_count": 26,
     "metadata": {},
     "output_type": "execute_result"
    },
    {
     "data": {
      "text/plain": [
       "<Axes: xlabel='acspredict_median_household_income_in_the_past_12_months__in_2018_inflation-adjusted_dollars_estimatemedian household income in the past 12 months in 2018 inflationadjusted dollars', ylabel='math_female_2013'>"
      ]
     },
     "execution_count": 26,
     "metadata": {},
     "output_type": "execute_result"
    },
    {
     "data": {
      "text/plain": [
       "Text(0.5, 0, 'Estimated Median Household Income')"
      ]
     },
     "execution_count": 26,
     "metadata": {},
     "output_type": "execute_result"
    },
    {
     "data": {
      "text/plain": [
       "Text(0, 0.5, 'Math Scores (Female) in 2013')"
      ]
     },
     "execution_count": 26,
     "metadata": {},
     "output_type": "execute_result"
    },
    {
     "data": {
      "text/plain": [
       "Text(0.5, 1.0, 'Regression Plot of Median Household Income vs. Math Scores (Female)')"
      ]
     },
     "execution_count": 26,
     "metadata": {},
     "output_type": "execute_result"
    },
    {
     "data": {
      "image/png": "[encoded data removed]",
      "text/plain": [
       "<Figure size 1000x700 with 1 Axes>"
      ]
     },
     "metadata": {},
     "output_type": "display_data"
    }
   ],
   "source": [
    "# Part B: Female Scores\n",
    "plt.figure(figsize=(10, 7))\n",
    "sns.regplot(var_math['acspredict_median_household_income_in_the_past_12_months__in_2018_inflation-adjusted_dollars_estimatemedian household income in the past 12 months in 2018 inflationadjusted dollars'], var_math['math_female_2013'], scatter_kws={'alpha':0.5})\n",
    "plt.xlabel('Estimated Median Household Income')\n",
    "plt.ylabel('Math Scores (Female) in 2013')\n",
    "plt.title('Regression Plot of Median Household Income vs. Math Scores (Female)')\n",
    "\n",
    "# Show the plot\n",
    "plt.show()"
   ]
  },
  {
   "cell_type": "code",
   "execution_count": 27,
   "metadata": {},
   "outputs": [
    {
     "name": "stdout",
     "output_type": "stream",
     "text": [
      "0.5073471931940418\n",
      "0.5433780349589303\n",
      "-0.033875198333654204\n"
     ]
    }
   ],
   "source": [
    "# Part C\n",
    "corr_male_income = np.corrcoef(var_math['math_male_2013'], var_math['acspredict_median_household_income_in_the_past_12_months__in_2018_inflation-adjusted_dollars_estimatemedian household income in the past 12 months in 2018 inflationadjusted dollars'])[0, 1]\n",
    "corr_female_income = np.corrcoef(var_math['math_female_2013'], var_math['acspredict_median_household_income_in_the_past_12_months__in_2018_inflation-adjusted_dollars_estimatemedian household income in the past 12 months in 2018 inflationadjusted dollars'])[0, 1]\n",
    "corr_indicator_income = np.corrcoef(var_math['male_perf'], var_math['acspredict_median_household_income_in_the_past_12_months__in_2018_inflation-adjusted_dollars_estimatemedian household income in the past 12 months in 2018 inflationadjusted dollars'])[0, 1]\n",
    "\n",
    "print(corr_male_income)\n",
    "print(corr_female_income)\n",
    "print(corr_indicator_income)"
   ]
  },
  {
   "cell_type": "markdown",
   "metadata": {},
   "source": [
    "# Part D: Correlations\n",
    "\n",
    "### A: boys tend to perform better than boys in states with lower MHI?\n",
    "Yes boys in states with lower MHI levels typically perform worse compared to boys in higher MHI level states.\n",
    "\n",
    "### B: girls tend to perform better than girls in states with lower MHI?\n",
    "Yes girls in states with higher MHI levels typically outperform girls in lower MHI levels.\n",
    "\n",
    "### C: boys tend to outperform girls more than they do in states with lower MHI?\n",
    "No I think regardless of MHI state household income, there is no clear indication of boys tending to outperform girls\n"
   ]
  },
  {
   "cell_type": "markdown",
   "metadata": {},
   "source": [
    "## 3.3 Predicting disparities (10 points)\n",
    "\n",
    "**A.** Read in the raw `acs_wmath` data again (this loses the variables you created above)\n",
    "\n",
    "**B.** Construct a binary indicator variable for male score > female score  for each year - for full credit, do so without repeating the difference code for each of the four years: name these according to following convention: `outcome_male_higher_female_year` where year is 2013, 2015, 2017, or 2019 (e.g., 2013: `outcome_male_higher_female_2013`). After this, remove the raw math scores as columns in the data (so filter out any column with the word math)\n",
    "\n",
    "**C.** Melt the data (`acs_wmath`) to long where instead of wide years, years are repeated within state; the ACS vars will also be repeated since we only pulled one year. In other words, reshape the data from \"wide format\", where each state is a row and we have separate columns for each year, to \"long format\", where states are repeated four times: once for each year in the data (2013, 2015, 2017, 2019). With 50 states, your final shape should be (200,84).\n",
    "- See: https://pandas.pydata.org/docs/reference/api/pandas.melt.html\n",
    "\n",
    "**D.** Split into train-test split at state level (so all years in same state -> either all in train or all test). Randomize 35 states to train; 15 states in test. \n",
    "\n",
    "**E.** Normalize the features to mean 0, variance 1 and estimate a decision tree with a max depth of 5. Your covariates should have the term 'acspredict' in it.\n",
    "\n",
    "- **Hint:** The ML literature recommends using the training set scaler to transform the test set, rather than using a unique scaler to initialize each one. The reasons are discussed here: https://stats.stackexchange.com/questions/495357/why-do-we-normalize-test-data-on-the-parameters-of-the-training-data\n",
    "\n",
    "**F.** Interpret the feature importances\n",
    "\n",
    "**G.** Evaluate the precision and recall of that model in the test set states without using the `score`, `precision`, or `recall` functions in sklearn. Briefly interpret: compared to our class example (a high-dimensional feature matrix of yelp reviews with ~15000 observations), why do you think our models perform worse for this set of data/predictors?\n",
    "\n",
    "**Additional resources:** \n",
    "\n",
    "- Feature normalization: https://scikit-learn.org/stable/modules/preprocessing.html\n",
    "\n",
    "- Definition of precision and recall: https://en.wikipedia.org/wiki/Precision_and_recall"
   ]
  },
  {
   "cell_type": "code",
   "execution_count": 18,
   "metadata": {},
   "outputs": [],
   "source": [
    "# A. your code here to load data\n",
    "acs_wmath = pd.read_pickle(\"acs_wmath.pkl\")"
   ]
  },
  {
   "cell_type": "code",
   "execution_count": 64,
   "metadata": {},
   "outputs": [],
   "source": [
    "# B. your code here to construct binary indicators for male higher\n",
    "def male_higher(df, years):\n",
    "    for year in years:\n",
    "        indicator_column_name = f'outcome_male_higher_female_{year}'\n",
    "        df[indicator_column_name] = (df[f'math_male_{year}'] > df[f'math_female_{year}']).astype(int)\n",
    "\n",
    "    # Filter out columns containing the word 'math'\n",
    "    math_columns = [col for col in df.columns if any(substring in col for substring in ['math', 'FIPS', 'abbrev'])]\n",
    "\n",
    "    # Drop the math columns\n",
    "    df = df.drop(columns=math_columns)\n",
    "    \n",
    "    return df\n",
    "\n",
    "updated_acs = male_higher(acs_wmath, [2013, 2015, 2017, 2019])"
   ]
  },
  {
   "cell_type": "code",
   "execution_count": 65,
   "metadata": {},
   "outputs": [
    {
     "data": {
      "text/plain": [
       "(200, 84)"
      ]
     },
     "execution_count": 65,
     "metadata": {},
     "output_type": "execute_result"
    }
   ],
   "source": [
    "# C. your code here to melt data\n",
    "melt_data = pd.melt(updated_acs, id_vars=updated_acs.columns.difference(['outcome_male_higher_female_2013', 'outcome_male_higher_female_2015', 'outcome_male_higher_female_2017', 'outcome_male_higher_female_2019']), value_vars=['outcome_male_higher_female_2013', 'outcome_male_higher_female_2015', 'outcome_male_higher_female_2017', 'outcome_male_higher_female_2019'])\n",
    "melt_data.shape"
   ]
  },
  {
   "cell_type": "code",
   "execution_count": 66,
   "metadata": {},
   "outputs": [],
   "source": [
    "# D: Train Test Split\n",
    "all_states = melt_data['state'].unique()\n",
    "\n",
    "train_states = random.sample(all_states.tolist(), 35)\n",
    "\n",
    "# Create train and test DataFrames\n",
    "train_df = melt_data[melt_data[\"state\"].isin(train_states)]\n",
    "test_df = melt_data[~melt_data[\"state\"].isin(train_states)]\n",
    "\n",
    "# Extract features and target variables\n",
    "X_train = train_df[[col for col in train_df.columns if col not in [\"state\", \n",
    "                                                                   \"value\", \"variable\"]]]\n",
    "X_test = test_df[[col for col in test_df.columns if col not in [\"state\", \n",
    "                                                                \"value\", \"variable\"]]]\n",
    "y_train = train_df[[col for col in train_df.columns if col in [\"state\", \"variable\"]]]\n",
    "y_test = test_df[[col for col in test_df.columns if col in [\"value\"]]]"
   ]
  },
  {
   "cell_type": "code",
   "execution_count": 67,
   "metadata": {},
   "outputs": [
    {
     "data": {
      "text/plain": [
       "0.7"
      ]
     },
     "execution_count": 67,
     "metadata": {},
     "output_type": "execute_result"
    }
   ],
   "source": [
    "# E. Decision Tree Classifier\n",
    "X_train_filtered = X_train.filter(like='acspredict')\n",
    "X_test_filtered = X_test.filter(like='acspredict')\n",
    "\n",
    "scaler = StandardScaler()\n",
    "X_train_scaled = scaler.fit_transform(X_train_filtered)\n",
    "X_test_scaled = scaler.transform(X_test_filtered)\n",
    "\n",
    "dt_classifier = DecisionTreeClassifier(criterion='gini',  # or 'entropy' for information gain\n",
    "                                        splitter='best',  # or 'random' for random best split\n",
    "                                        max_depth=5,  # how deep tree nodes can go\n",
    "                                        min_samples_split=5,  # samples needed to split node\n",
    "                                        min_samples_leaf=10,  # samples needed for a leaf\n",
    "                                        min_weight_fraction_leaf=0.0,  # weight of samples needed for a node\n",
    "                                        max_features=None,  # number of features to look for when splitting\n",
    "                                        max_leaf_nodes=None,  # max nodes\n",
    "                                        min_impurity_decrease=1e-07, #early stopping\n",
    "                                        random_state = 10)\n",
    "\n",
    "dec_tree = dt_classifier.fit(X_train_scaled, train_df['value'])\n",
    "dec_tree.score(X_train_scaled, train_df['value'])"
   ]
  },
  {
   "cell_type": "code",
   "execution_count": 68,
   "metadata": {},
   "outputs": [
    {
     "data": {
      "text/html": [
       "<div>\n",
       "<style scoped>\n",
       "    .dataframe tbody tr th:only-of-type {\n",
       "        vertical-align: middle;\n",
       "    }\n",
       "\n",
       "    .dataframe tbody tr th {\n",
       "        vertical-align: top;\n",
       "    }\n",
       "\n",
       "    .dataframe thead th {\n",
       "        text-align: right;\n",
       "    }\n",
       "</style>\n",
       "<table border=\"1\" class=\"dataframe\">\n",
       "  <thead>\n",
       "    <tr style=\"text-align: right;\">\n",
       "      <th></th>\n",
       "      <th>Columns</th>\n",
       "      <th>Value</th>\n",
       "    </tr>\n",
       "  </thead>\n",
       "  <tbody>\n",
       "    <tr>\n",
       "      <th>0</th>\n",
       "      <td>acspredict_household_type__including_living_alone__by_relationshipestimatetotalin households</td>\n",
       "      <td>0.534204</td>\n",
       "    </tr>\n",
       "    <tr>\n",
       "      <th>1</th>\n",
       "      <td>acspredict_household_type__including_living_alone__by_relationshipestimatetotalin householdsin family householdssoninlaw or daughterinlaw</td>\n",
       "      <td>0.158791</td>\n",
       "    </tr>\n",
       "    <tr>\n",
       "      <th>2</th>\n",
       "      <td>acspredict_educational_attainment_for_the_population_25_years_and_overestimatetotalnursery school</td>\n",
       "      <td>0.104014</td>\n",
       "    </tr>\n",
       "    <tr>\n",
       "      <th>3</th>\n",
       "      <td>acspredict_household_type__including_living_alone__by_relationshipestimatetotalin householdsin family householdshouseholderfemale</td>\n",
       "      <td>0.090270</td>\n",
       "    </tr>\n",
       "    <tr>\n",
       "      <th>4</th>\n",
       "      <td>acspredict_household_type__including_living_alone__by_relationshipestimatetotalin householdsin family householdsnonrelativeshousemate or roommate</td>\n",
       "      <td>0.050150</td>\n",
       "    </tr>\n",
       "    <tr>\n",
       "      <th>5</th>\n",
       "      <td>acspredict_allocation_of_household_income_in_the_past_12_months_-_percent_of_income_allocatedestimatepercent of income allocated 25 to less than 50 percent of total income for household allocated</td>\n",
       "      <td>0.036568</td>\n",
       "    </tr>\n",
       "    <tr>\n",
       "      <th>6</th>\n",
       "      <td>acspredict_ratio_of_income_to_poverty_level_of_families_in_the_past_12_monthsestimatetotal400 to 499</td>\n",
       "      <td>0.026004</td>\n",
       "    </tr>\n",
       "    <tr>\n",
       "      <th>7</th>\n",
       "      <td>acspredict_allocation_of_household_income_in_the_past_12_months_-_percent_of_income_allocatedestimatepercent of income allocated 10 to less than 25 percent of total income for household allocated</td>\n",
       "      <td>0.000000</td>\n",
       "    </tr>\n",
       "    <tr>\n",
       "      <th>8</th>\n",
       "      <td>acspredict_allocation_of_household_income_in_the_past_12_months_-_percent_of_income_allocatedestimatepercent of income allocated 100 percent of total income for household allocated</td>\n",
       "      <td>0.000000</td>\n",
       "    </tr>\n",
       "    <tr>\n",
       "      <th>9</th>\n",
       "      <td>acspredict_allocation_of_household_income_in_the_past_12_months_-_percent_of_income_allocatedestimatepercent of income allocated 50 to less than 100 percent of total income for household allocated</td>\n",
       "      <td>0.000000</td>\n",
       "    </tr>\n",
       "    <tr>\n",
       "      <th>10</th>\n",
       "      <td>acspredict_allocation_of_household_income_in_the_past_12_months_-_percent_of_income_allocatedestimatepercent of income allocated dollar value of zero allocated</td>\n",
       "      <td>0.000000</td>\n",
       "    </tr>\n",
       "    <tr>\n",
       "      <th>11</th>\n",
       "      <td>acspredict_allocation_of_household_income_in_the_past_12_months_-_percent_of_income_allocatedestimatepercent of income allocated more than 0 to less than 10 percent of total income for household allocated</td>\n",
       "      <td>0.000000</td>\n",
       "    </tr>\n",
       "    <tr>\n",
       "      <th>12</th>\n",
       "      <td>acspredict_allocation_of_household_income_in_the_past_12_months_-_percent_of_income_allocatedestimatepercent of income allocated no income allocated</td>\n",
       "      <td>0.000000</td>\n",
       "    </tr>\n",
       "    <tr>\n",
       "      <th>13</th>\n",
       "      <td>acspredict_educational_attainment_for_the_population_25_years_and_overestimatetotal10th grade</td>\n",
       "      <td>0.000000</td>\n",
       "    </tr>\n",
       "    <tr>\n",
       "      <th>14</th>\n",
       "      <td>acspredict_educational_attainment_for_the_population_25_years_and_overestimatetotal11th grade</td>\n",
       "      <td>0.000000</td>\n",
       "    </tr>\n",
       "    <tr>\n",
       "      <th>15</th>\n",
       "      <td>acspredict_educational_attainment_for_the_population_25_years_and_overestimatetotal12th grade no diploma</td>\n",
       "      <td>0.000000</td>\n",
       "    </tr>\n",
       "    <tr>\n",
       "      <th>16</th>\n",
       "      <td>acspredict_educational_attainment_for_the_population_25_years_and_overestimatetotal1st grade</td>\n",
       "      <td>0.000000</td>\n",
       "    </tr>\n",
       "    <tr>\n",
       "      <th>17</th>\n",
       "      <td>acspredict_educational_attainment_for_the_population_25_years_and_overestimatetotal2nd grade</td>\n",
       "      <td>0.000000</td>\n",
       "    </tr>\n",
       "    <tr>\n",
       "      <th>18</th>\n",
       "      <td>acspredict_educational_attainment_for_the_population_25_years_and_overestimatetotal3rd grade</td>\n",
       "      <td>0.000000</td>\n",
       "    </tr>\n",
       "    <tr>\n",
       "      <th>19</th>\n",
       "      <td>acspredict_educational_attainment_for_the_population_25_years_and_overestimatetotal4th grade</td>\n",
       "      <td>0.000000</td>\n",
       "    </tr>\n",
       "    <tr>\n",
       "      <th>20</th>\n",
       "      <td>acspredict_educational_attainment_for_the_population_25_years_and_overestimatetotal5th grade</td>\n",
       "      <td>0.000000</td>\n",
       "    </tr>\n",
       "    <tr>\n",
       "      <th>21</th>\n",
       "      <td>acspredict_educational_attainment_for_the_population_25_years_and_overestimatetotal6th grade</td>\n",
       "      <td>0.000000</td>\n",
       "    </tr>\n",
       "    <tr>\n",
       "      <th>22</th>\n",
       "      <td>acspredict_educational_attainment_for_the_population_25_years_and_overestimatetotal7th grade</td>\n",
       "      <td>0.000000</td>\n",
       "    </tr>\n",
       "    <tr>\n",
       "      <th>23</th>\n",
       "      <td>acspredict_educational_attainment_for_the_population_25_years_and_overestimatetotal8th grade</td>\n",
       "      <td>0.000000</td>\n",
       "    </tr>\n",
       "    <tr>\n",
       "      <th>24</th>\n",
       "      <td>acspredict_educational_attainment_for_the_population_25_years_and_overestimatetotal9th grade</td>\n",
       "      <td>0.000000</td>\n",
       "    </tr>\n",
       "    <tr>\n",
       "      <th>25</th>\n",
       "      <td>acspredict_educational_attainment_for_the_population_25_years_and_overestimatetotalassociate's degree</td>\n",
       "      <td>0.000000</td>\n",
       "    </tr>\n",
       "    <tr>\n",
       "      <th>26</th>\n",
       "      <td>acspredict_educational_attainment_for_the_population_25_years_and_overestimatetotalbachelor's degree</td>\n",
       "      <td>0.000000</td>\n",
       "    </tr>\n",
       "    <tr>\n",
       "      <th>27</th>\n",
       "      <td>acspredict_educational_attainment_for_the_population_25_years_and_overestimatetotaldoctorate degree</td>\n",
       "      <td>0.000000</td>\n",
       "    </tr>\n",
       "    <tr>\n",
       "      <th>28</th>\n",
       "      <td>acspredict_educational_attainment_for_the_population_25_years_and_overestimatetotalged or alternative credential</td>\n",
       "      <td>0.000000</td>\n",
       "    </tr>\n",
       "    <tr>\n",
       "      <th>29</th>\n",
       "      <td>acspredict_educational_attainment_for_the_population_25_years_and_overestimatetotalkindergarten</td>\n",
       "      <td>0.000000</td>\n",
       "    </tr>\n",
       "    <tr>\n",
       "      <th>30</th>\n",
       "      <td>acspredict_educational_attainment_for_the_population_25_years_and_overestimatetotalmaster's degree</td>\n",
       "      <td>0.000000</td>\n",
       "    </tr>\n",
       "    <tr>\n",
       "      <th>31</th>\n",
       "      <td>acspredict_educational_attainment_for_the_population_25_years_and_overestimatetotalno schooling completed</td>\n",
       "      <td>0.000000</td>\n",
       "    </tr>\n",
       "    <tr>\n",
       "      <th>32</th>\n",
       "      <td>acspredict_educational_attainment_for_the_population_25_years_and_overestimatetotalprofessional school degree</td>\n",
       "      <td>0.000000</td>\n",
       "    </tr>\n",
       "    <tr>\n",
       "      <th>33</th>\n",
       "      <td>acspredict_educational_attainment_for_the_population_25_years_and_overestimatetotalregular high school diploma</td>\n",
       "      <td>0.000000</td>\n",
       "    </tr>\n",
       "    <tr>\n",
       "      <th>34</th>\n",
       "      <td>acspredict_educational_attainment_for_the_population_25_years_and_overestimatetotalsome college 1 or more years no degree</td>\n",
       "      <td>0.000000</td>\n",
       "    </tr>\n",
       "    <tr>\n",
       "      <th>35</th>\n",
       "      <td>acspredict_educational_attainment_for_the_population_25_years_and_overestimatetotalsome college less than 1 year</td>\n",
       "      <td>0.000000</td>\n",
       "    </tr>\n",
       "    <tr>\n",
       "      <th>36</th>\n",
       "      <td>acspredict_household_type__including_living_alone__by_relationshipestimatetotalin group quarters</td>\n",
       "      <td>0.000000</td>\n",
       "    </tr>\n",
       "    <tr>\n",
       "      <th>37</th>\n",
       "      <td>acspredict_household_type__including_living_alone__by_relationshipestimatetotalin householdsin family households</td>\n",
       "      <td>0.000000</td>\n",
       "    </tr>\n",
       "    <tr>\n",
       "      <th>38</th>\n",
       "      <td>acspredict_household_type__including_living_alone__by_relationshipestimatetotalin householdsin family householdsbrother or sister</td>\n",
       "      <td>0.000000</td>\n",
       "    </tr>\n",
       "    <tr>\n",
       "      <th>39</th>\n",
       "      <td>acspredict_household_type__including_living_alone__by_relationshipestimatetotalin householdsin family householdschild</td>\n",
       "      <td>0.000000</td>\n",
       "    </tr>\n",
       "    <tr>\n",
       "      <th>40</th>\n",
       "      <td>acspredict_household_type__including_living_alone__by_relationshipestimatetotalin householdsin family householdschildadopted child</td>\n",
       "      <td>0.000000</td>\n",
       "    </tr>\n",
       "    <tr>\n",
       "      <th>41</th>\n",
       "      <td>acspredict_household_type__including_living_alone__by_relationshipestimatetotalin householdsin family householdschildbiological child</td>\n",
       "      <td>0.000000</td>\n",
       "    </tr>\n",
       "    <tr>\n",
       "      <th>42</th>\n",
       "      <td>acspredict_household_type__including_living_alone__by_relationshipestimatetotalin householdsin family householdschildstepchild</td>\n",
       "      <td>0.000000</td>\n",
       "    </tr>\n",
       "    <tr>\n",
       "      <th>43</th>\n",
       "      <td>acspredict_household_type__including_living_alone__by_relationshipestimatetotalin householdsin family householdsgrandchild</td>\n",
       "      <td>0.000000</td>\n",
       "    </tr>\n",
       "    <tr>\n",
       "      <th>44</th>\n",
       "      <td>acspredict_household_type__including_living_alone__by_relationshipestimatetotalin householdsin family householdshouseholder</td>\n",
       "      <td>0.000000</td>\n",
       "    </tr>\n",
       "    <tr>\n",
       "      <th>45</th>\n",
       "      <td>acspredict_household_type__including_living_alone__by_relationshipestimatetotalin householdsin family householdshouseholdermale</td>\n",
       "      <td>0.000000</td>\n",
       "    </tr>\n",
       "    <tr>\n",
       "      <th>46</th>\n",
       "      <td>acspredict_household_type__including_living_alone__by_relationshipestimatetotalin householdsin family householdsnonrelatives</td>\n",
       "      <td>0.000000</td>\n",
       "    </tr>\n",
       "    <tr>\n",
       "      <th>47</th>\n",
       "      <td>acspredict_household_type__including_living_alone__by_relationshipestimatetotalin householdsin family householdsnonrelativesfoster child</td>\n",
       "      <td>0.000000</td>\n",
       "    </tr>\n",
       "    <tr>\n",
       "      <th>48</th>\n",
       "      <td>acspredict_household_type__including_living_alone__by_relationshipestimatetotalin householdsin family householdsnonrelativesother nonrelatives</td>\n",
       "      <td>0.000000</td>\n",
       "    </tr>\n",
       "    <tr>\n",
       "      <th>49</th>\n",
       "      <td>acspredict_household_type__including_living_alone__by_relationshipestimatetotalin householdsin family householdsnonrelativesroomer or boarder</td>\n",
       "      <td>0.000000</td>\n",
       "    </tr>\n",
       "    <tr>\n",
       "      <th>50</th>\n",
       "      <td>acspredict_household_type__including_living_alone__by_relationshipestimatetotalin householdsin family householdsnonrelativesunmarried partner</td>\n",
       "      <td>0.000000</td>\n",
       "    </tr>\n",
       "    <tr>\n",
       "      <th>51</th>\n",
       "      <td>acspredict_household_type__including_living_alone__by_relationshipestimatetotalin householdsin family householdsother relatives</td>\n",
       "      <td>0.000000</td>\n",
       "    </tr>\n",
       "    <tr>\n",
       "      <th>52</th>\n",
       "      <td>acspredict_household_type__including_living_alone__by_relationshipestimatetotalin householdsin family householdsparent</td>\n",
       "      <td>0.000000</td>\n",
       "    </tr>\n",
       "    <tr>\n",
       "      <th>53</th>\n",
       "      <td>acspredict_household_type__including_living_alone__by_relationshipestimatetotalin householdsin family householdsparentinlaw</td>\n",
       "      <td>0.000000</td>\n",
       "    </tr>\n",
       "    <tr>\n",
       "      <th>54</th>\n",
       "      <td>acspredict_household_type__including_living_alone__by_relationshipestimatetotalin householdsin family householdsspouse</td>\n",
       "      <td>0.000000</td>\n",
       "    </tr>\n",
       "    <tr>\n",
       "      <th>55</th>\n",
       "      <td>acspredict_household_type__including_living_alone__by_relationshipestimatetotalin householdsin nonfamily households</td>\n",
       "      <td>0.000000</td>\n",
       "    </tr>\n",
       "    <tr>\n",
       "      <th>56</th>\n",
       "      <td>acspredict_household_type__including_living_alone__by_relationshipestimatetotalin householdsin nonfamily householdshouseholder</td>\n",
       "      <td>0.000000</td>\n",
       "    </tr>\n",
       "    <tr>\n",
       "      <th>57</th>\n",
       "      <td>acspredict_household_type__including_living_alone__by_relationshipestimatetotalin householdsin nonfamily householdshouseholderfemale</td>\n",
       "      <td>0.000000</td>\n",
       "    </tr>\n",
       "    <tr>\n",
       "      <th>58</th>\n",
       "      <td>acspredict_household_type__including_living_alone__by_relationshipestimatetotalin householdsin nonfamily householdshouseholderfemaleliving alone</td>\n",
       "      <td>0.000000</td>\n",
       "    </tr>\n",
       "    <tr>\n",
       "      <th>59</th>\n",
       "      <td>acspredict_household_type__including_living_alone__by_relationshipestimatetotalin householdsin nonfamily householdshouseholderfemalenot living alone</td>\n",
       "      <td>0.000000</td>\n",
       "    </tr>\n",
       "    <tr>\n",
       "      <th>60</th>\n",
       "      <td>acspredict_household_type__including_living_alone__by_relationshipestimatetotalin householdsin nonfamily householdshouseholdermale</td>\n",
       "      <td>0.000000</td>\n",
       "    </tr>\n",
       "    <tr>\n",
       "      <th>61</th>\n",
       "      <td>acspredict_household_type__including_living_alone__by_relationshipestimatetotalin householdsin nonfamily householdshouseholdermaleliving alone</td>\n",
       "      <td>0.000000</td>\n",
       "    </tr>\n",
       "    <tr>\n",
       "      <th>62</th>\n",
       "      <td>acspredict_household_type__including_living_alone__by_relationshipestimatetotalin householdsin nonfamily householdshouseholdermalenot living alone</td>\n",
       "      <td>0.000000</td>\n",
       "    </tr>\n",
       "    <tr>\n",
       "      <th>63</th>\n",
       "      <td>acspredict_household_type__including_living_alone__by_relationshipestimatetotalin householdsin nonfamily householdsnonrelatives</td>\n",
       "      <td>0.000000</td>\n",
       "    </tr>\n",
       "    <tr>\n",
       "      <th>64</th>\n",
       "      <td>acspredict_household_type__including_living_alone__by_relationshipestimatetotalin householdsin nonfamily householdsnonrelativesfoster child</td>\n",
       "      <td>0.000000</td>\n",
       "    </tr>\n",
       "    <tr>\n",
       "      <th>65</th>\n",
       "      <td>acspredict_household_type__including_living_alone__by_relationshipestimatetotalin householdsin nonfamily householdsnonrelativeshousemate or roommate</td>\n",
       "      <td>0.000000</td>\n",
       "    </tr>\n",
       "    <tr>\n",
       "      <th>66</th>\n",
       "      <td>acspredict_household_type__including_living_alone__by_relationshipestimatetotalin householdsin nonfamily householdsnonrelativesother nonrelatives</td>\n",
       "      <td>0.000000</td>\n",
       "    </tr>\n",
       "    <tr>\n",
       "      <th>67</th>\n",
       "      <td>acspredict_household_type__including_living_alone__by_relationshipestimatetotalin householdsin nonfamily householdsnonrelativesroomer or boarder</td>\n",
       "      <td>0.000000</td>\n",
       "    </tr>\n",
       "    <tr>\n",
       "      <th>68</th>\n",
       "      <td>acspredict_household_type__including_living_alone__by_relationshipestimatetotalin householdsin nonfamily householdsnonrelativesunmarried partner</td>\n",
       "      <td>0.000000</td>\n",
       "    </tr>\n",
       "    <tr>\n",
       "      <th>69</th>\n",
       "      <td>acspredict_median_household_income_in_the_past_12_months__in_2018_inflation-adjusted_dollars_estimatemedian household income in the past 12 months in 2018 inflationadjusted dollars</td>\n",
       "      <td>0.000000</td>\n",
       "    </tr>\n",
       "    <tr>\n",
       "      <th>70</th>\n",
       "      <td>acspredict_ratio_of_income_to_poverty_level_of_families_in_the_past_12_monthsestimatetotal100 to 124</td>\n",
       "      <td>0.000000</td>\n",
       "    </tr>\n",
       "    <tr>\n",
       "      <th>71</th>\n",
       "      <td>acspredict_ratio_of_income_to_poverty_level_of_families_in_the_past_12_monthsestimatetotal125 to 149</td>\n",
       "      <td>0.000000</td>\n",
       "    </tr>\n",
       "    <tr>\n",
       "      <th>72</th>\n",
       "      <td>acspredict_ratio_of_income_to_poverty_level_of_families_in_the_past_12_monthsestimatetotal150 to 174</td>\n",
       "      <td>0.000000</td>\n",
       "    </tr>\n",
       "    <tr>\n",
       "      <th>73</th>\n",
       "      <td>acspredict_ratio_of_income_to_poverty_level_of_families_in_the_past_12_monthsestimatetotal175 to 184</td>\n",
       "      <td>0.000000</td>\n",
       "    </tr>\n",
       "    <tr>\n",
       "      <th>74</th>\n",
       "      <td>acspredict_ratio_of_income_to_poverty_level_of_families_in_the_past_12_monthsestimatetotal185 to 199</td>\n",
       "      <td>0.000000</td>\n",
       "    </tr>\n",
       "    <tr>\n",
       "      <th>75</th>\n",
       "      <td>acspredict_ratio_of_income_to_poverty_level_of_families_in_the_past_12_monthsestimatetotal200 to 299</td>\n",
       "      <td>0.000000</td>\n",
       "    </tr>\n",
       "    <tr>\n",
       "      <th>76</th>\n",
       "      <td>acspredict_ratio_of_income_to_poverty_level_of_families_in_the_past_12_monthsestimatetotal300 to 399</td>\n",
       "      <td>0.000000</td>\n",
       "    </tr>\n",
       "    <tr>\n",
       "      <th>77</th>\n",
       "      <td>acspredict_ratio_of_income_to_poverty_level_of_families_in_the_past_12_monthsestimatetotal50 to 74</td>\n",
       "      <td>0.000000</td>\n",
       "    </tr>\n",
       "    <tr>\n",
       "      <th>78</th>\n",
       "      <td>acspredict_ratio_of_income_to_poverty_level_of_families_in_the_past_12_monthsestimatetotal500 and over</td>\n",
       "      <td>0.000000</td>\n",
       "    </tr>\n",
       "    <tr>\n",
       "      <th>79</th>\n",
       "      <td>acspredict_ratio_of_income_to_poverty_level_of_families_in_the_past_12_monthsestimatetotal75 to 99</td>\n",
       "      <td>0.000000</td>\n",
       "    </tr>\n",
       "    <tr>\n",
       "      <th>80</th>\n",
       "      <td>acspredict_ratio_of_income_to_poverty_level_of_families_in_the_past_12_monthsestimatetotalunder 50</td>\n",
       "      <td>0.000000</td>\n",
       "    </tr>\n",
       "  </tbody>\n",
       "</table>\n",
       "</div>"
      ],
      "text/plain": [
       "                                                                                                                                                                                                         Columns     Value\n",
       "0                                                                                                                   acspredict_household_type__including_living_alone__by_relationshipestimatetotalin households  0.534204\n",
       "1                                                                      acspredict_household_type__including_living_alone__by_relationshipestimatetotalin householdsin family householdssoninlaw or daughterinlaw  0.158791\n",
       "2                                                                                                              acspredict_educational_attainment_for_the_population_25_years_and_overestimatetotalnursery school  0.104014\n",
       "3                                                                              acspredict_household_type__including_living_alone__by_relationshipestimatetotalin householdsin family householdshouseholderfemale  0.090270\n",
       "4                                                              acspredict_household_type__including_living_alone__by_relationshipestimatetotalin householdsin family householdsnonrelativeshousemate or roommate  0.050150\n",
       "5            acspredict_allocation_of_household_income_in_the_past_12_months_-_percent_of_income_allocatedestimatepercent of income allocated 25 to less than 50 percent of total income for household allocated  0.036568\n",
       "6                                                                                                           acspredict_ratio_of_income_to_poverty_level_of_families_in_the_past_12_monthsestimatetotal400 to 499  0.026004\n",
       "7            acspredict_allocation_of_household_income_in_the_past_12_months_-_percent_of_income_allocatedestimatepercent of income allocated 10 to less than 25 percent of total income for household allocated  0.000000\n",
       "8                           acspredict_allocation_of_household_income_in_the_past_12_months_-_percent_of_income_allocatedestimatepercent of income allocated 100 percent of total income for household allocated  0.000000\n",
       "9           acspredict_allocation_of_household_income_in_the_past_12_months_-_percent_of_income_allocatedestimatepercent of income allocated 50 to less than 100 percent of total income for household allocated  0.000000\n",
       "10                                               acspredict_allocation_of_household_income_in_the_past_12_months_-_percent_of_income_allocatedestimatepercent of income allocated dollar value of zero allocated  0.000000\n",
       "11  acspredict_allocation_of_household_income_in_the_past_12_months_-_percent_of_income_allocatedestimatepercent of income allocated more than 0 to less than 10 percent of total income for household allocated  0.000000\n",
       "12                                                          acspredict_allocation_of_household_income_in_the_past_12_months_-_percent_of_income_allocatedestimatepercent of income allocated no income allocated  0.000000\n",
       "13                                                                                                                 acspredict_educational_attainment_for_the_population_25_years_and_overestimatetotal10th grade  0.000000\n",
       "14                                                                                                                 acspredict_educational_attainment_for_the_population_25_years_and_overestimatetotal11th grade  0.000000\n",
       "15                                                                                                      acspredict_educational_attainment_for_the_population_25_years_and_overestimatetotal12th grade no diploma  0.000000\n",
       "16                                                                                                                  acspredict_educational_attainment_for_the_population_25_years_and_overestimatetotal1st grade  0.000000\n",
       "17                                                                                                                  acspredict_educational_attainment_for_the_population_25_years_and_overestimatetotal2nd grade  0.000000\n",
       "18                                                                                                                  acspredict_educational_attainment_for_the_population_25_years_and_overestimatetotal3rd grade  0.000000\n",
       "19                                                                                                                  acspredict_educational_attainment_for_the_population_25_years_and_overestimatetotal4th grade  0.000000\n",
       "20                                                                                                                  acspredict_educational_attainment_for_the_population_25_years_and_overestimatetotal5th grade  0.000000\n",
       "21                                                                                                                  acspredict_educational_attainment_for_the_population_25_years_and_overestimatetotal6th grade  0.000000\n",
       "22                                                                                                                  acspredict_educational_attainment_for_the_population_25_years_and_overestimatetotal7th grade  0.000000\n",
       "23                                                                                                                  acspredict_educational_attainment_for_the_population_25_years_and_overestimatetotal8th grade  0.000000\n",
       "24                                                                                                                  acspredict_educational_attainment_for_the_population_25_years_and_overestimatetotal9th grade  0.000000\n",
       "25                                                                                                         acspredict_educational_attainment_for_the_population_25_years_and_overestimatetotalassociate's degree  0.000000\n",
       "26                                                                                                          acspredict_educational_attainment_for_the_population_25_years_and_overestimatetotalbachelor's degree  0.000000\n",
       "27                                                                                                           acspredict_educational_attainment_for_the_population_25_years_and_overestimatetotaldoctorate degree  0.000000\n",
       "28                                                                                              acspredict_educational_attainment_for_the_population_25_years_and_overestimatetotalged or alternative credential  0.000000\n",
       "29                                                                                                               acspredict_educational_attainment_for_the_population_25_years_and_overestimatetotalkindergarten  0.000000\n",
       "30                                                                                                            acspredict_educational_attainment_for_the_population_25_years_and_overestimatetotalmaster's degree  0.000000\n",
       "31                                                                                                     acspredict_educational_attainment_for_the_population_25_years_and_overestimatetotalno schooling completed  0.000000\n",
       "32                                                                                                 acspredict_educational_attainment_for_the_population_25_years_and_overestimatetotalprofessional school degree  0.000000\n",
       "33                                                                                                acspredict_educational_attainment_for_the_population_25_years_and_overestimatetotalregular high school diploma  0.000000\n",
       "34                                                                                     acspredict_educational_attainment_for_the_population_25_years_and_overestimatetotalsome college 1 or more years no degree  0.000000\n",
       "35                                                                                              acspredict_educational_attainment_for_the_population_25_years_and_overestimatetotalsome college less than 1 year  0.000000\n",
       "36                                                                                                              acspredict_household_type__including_living_alone__by_relationshipestimatetotalin group quarters  0.000000\n",
       "37                                                                                              acspredict_household_type__including_living_alone__by_relationshipestimatetotalin householdsin family households  0.000000\n",
       "38                                                                             acspredict_household_type__including_living_alone__by_relationshipestimatetotalin householdsin family householdsbrother or sister  0.000000\n",
       "39                                                                                         acspredict_household_type__including_living_alone__by_relationshipestimatetotalin householdsin family householdschild  0.000000\n",
       "40                                                                            acspredict_household_type__including_living_alone__by_relationshipestimatetotalin householdsin family householdschildadopted child  0.000000\n",
       "41                                                                         acspredict_household_type__including_living_alone__by_relationshipestimatetotalin householdsin family householdschildbiological child  0.000000\n",
       "42                                                                                acspredict_household_type__including_living_alone__by_relationshipestimatetotalin householdsin family householdschildstepchild  0.000000\n",
       "43                                                                                    acspredict_household_type__including_living_alone__by_relationshipestimatetotalin householdsin family householdsgrandchild  0.000000\n",
       "44                                                                                   acspredict_household_type__including_living_alone__by_relationshipestimatetotalin householdsin family householdshouseholder  0.000000\n",
       "45                                                                               acspredict_household_type__including_living_alone__by_relationshipestimatetotalin householdsin family householdshouseholdermale  0.000000\n",
       "46                                                                                  acspredict_household_type__including_living_alone__by_relationshipestimatetotalin householdsin family householdsnonrelatives  0.000000\n",
       "47                                                                      acspredict_household_type__including_living_alone__by_relationshipestimatetotalin householdsin family householdsnonrelativesfoster child  0.000000\n",
       "48                                                                acspredict_household_type__including_living_alone__by_relationshipestimatetotalin householdsin family householdsnonrelativesother nonrelatives  0.000000\n",
       "49                                                                 acspredict_household_type__including_living_alone__by_relationshipestimatetotalin householdsin family householdsnonrelativesroomer or boarder  0.000000\n",
       "50                                                                 acspredict_household_type__including_living_alone__by_relationshipestimatetotalin householdsin family householdsnonrelativesunmarried partner  0.000000\n",
       "51                                                                               acspredict_household_type__including_living_alone__by_relationshipestimatetotalin householdsin family householdsother relatives  0.000000\n",
       "52                                                                                        acspredict_household_type__including_living_alone__by_relationshipestimatetotalin householdsin family householdsparent  0.000000\n",
       "53                                                                                   acspredict_household_type__including_living_alone__by_relationshipestimatetotalin householdsin family householdsparentinlaw  0.000000\n",
       "54                                                                                        acspredict_household_type__including_living_alone__by_relationshipestimatetotalin householdsin family householdsspouse  0.000000\n",
       "55                                                                                           acspredict_household_type__including_living_alone__by_relationshipestimatetotalin householdsin nonfamily households  0.000000\n",
       "56                                                                                acspredict_household_type__including_living_alone__by_relationshipestimatetotalin householdsin nonfamily householdshouseholder  0.000000\n",
       "57                                                                          acspredict_household_type__including_living_alone__by_relationshipestimatetotalin householdsin nonfamily householdshouseholderfemale  0.000000\n",
       "58                                                              acspredict_household_type__including_living_alone__by_relationshipestimatetotalin householdsin nonfamily householdshouseholderfemaleliving alone  0.000000\n",
       "59                                                          acspredict_household_type__including_living_alone__by_relationshipestimatetotalin householdsin nonfamily householdshouseholderfemalenot living alone  0.000000\n",
       "60                                                                            acspredict_household_type__including_living_alone__by_relationshipestimatetotalin householdsin nonfamily householdshouseholdermale  0.000000\n",
       "61                                                                acspredict_household_type__including_living_alone__by_relationshipestimatetotalin householdsin nonfamily householdshouseholdermaleliving alone  0.000000\n",
       "62                                                            acspredict_household_type__including_living_alone__by_relationshipestimatetotalin householdsin nonfamily householdshouseholdermalenot living alone  0.000000\n",
       "63                                                                               acspredict_household_type__including_living_alone__by_relationshipestimatetotalin householdsin nonfamily householdsnonrelatives  0.000000\n",
       "64                                                                   acspredict_household_type__including_living_alone__by_relationshipestimatetotalin householdsin nonfamily householdsnonrelativesfoster child  0.000000\n",
       "65                                                          acspredict_household_type__including_living_alone__by_relationshipestimatetotalin householdsin nonfamily householdsnonrelativeshousemate or roommate  0.000000\n",
       "66                                                             acspredict_household_type__including_living_alone__by_relationshipestimatetotalin householdsin nonfamily householdsnonrelativesother nonrelatives  0.000000\n",
       "67                                                              acspredict_household_type__including_living_alone__by_relationshipestimatetotalin householdsin nonfamily householdsnonrelativesroomer or boarder  0.000000\n",
       "68                                                              acspredict_household_type__including_living_alone__by_relationshipestimatetotalin householdsin nonfamily householdsnonrelativesunmarried partner  0.000000\n",
       "69                          acspredict_median_household_income_in_the_past_12_months__in_2018_inflation-adjusted_dollars_estimatemedian household income in the past 12 months in 2018 inflationadjusted dollars  0.000000\n",
       "70                                                                                                          acspredict_ratio_of_income_to_poverty_level_of_families_in_the_past_12_monthsestimatetotal100 to 124  0.000000\n",
       "71                                                                                                          acspredict_ratio_of_income_to_poverty_level_of_families_in_the_past_12_monthsestimatetotal125 to 149  0.000000\n",
       "72                                                                                                          acspredict_ratio_of_income_to_poverty_level_of_families_in_the_past_12_monthsestimatetotal150 to 174  0.000000\n",
       "73                                                                                                          acspredict_ratio_of_income_to_poverty_level_of_families_in_the_past_12_monthsestimatetotal175 to 184  0.000000\n",
       "74                                                                                                          acspredict_ratio_of_income_to_poverty_level_of_families_in_the_past_12_monthsestimatetotal185 to 199  0.000000\n",
       "75                                                                                                          acspredict_ratio_of_income_to_poverty_level_of_families_in_the_past_12_monthsestimatetotal200 to 299  0.000000\n",
       "76                                                                                                          acspredict_ratio_of_income_to_poverty_level_of_families_in_the_past_12_monthsestimatetotal300 to 399  0.000000\n",
       "77                                                                                                            acspredict_ratio_of_income_to_poverty_level_of_families_in_the_past_12_monthsestimatetotal50 to 74  0.000000\n",
       "78                                                                                                        acspredict_ratio_of_income_to_poverty_level_of_families_in_the_past_12_monthsestimatetotal500 and over  0.000000\n",
       "79                                                                                                            acspredict_ratio_of_income_to_poverty_level_of_families_in_the_past_12_monthsestimatetotal75 to 99  0.000000\n",
       "80                                                                                                            acspredict_ratio_of_income_to_poverty_level_of_families_in_the_past_12_monthsestimatetotalunder 50  0.000000"
      ]
     },
     "execution_count": 68,
     "metadata": {},
     "output_type": "execute_result"
    }
   ],
   "source": [
    "# F. your code here to interpret feature importances\n",
    "feature_importance = dec_tree.feature_importances_\n",
    "\n",
    "feature_names = list(train_df.filter(like=\"acspredict\"))\n",
    "\n",
    "paired_cols = list(zip(feature_names, feature_importance))\n",
    "sorted_paired_cols = sorted(paired_cols, key = lambda x: -x[1])\n",
    "\n",
    "feature_importance_df = pd.DataFrame(sorted_paired_cols, columns = [\"Columns\", \"Value\"])\n",
    "feature_importance_df"
   ]
  },
  {
   "cell_type": "markdown",
   "metadata": {},
   "source": [
    "### Part F Explanation\n",
    "\n",
    "The majority of the feature columns have little to no importance to the overall score of males and females math scores by state or year"
   ]
  },
  {
   "cell_type": "code",
   "execution_count": 69,
   "metadata": {},
   "outputs": [
    {
     "name": "stdout",
     "output_type": "stream",
     "text": [
      "Precision: 0.4583333333333333\n",
      "Recall: 0.3333333333333333\n"
     ]
    }
   ],
   "source": [
    "# G. your code here to evaluate model\n",
    "predictions = dt_classifier.predict(X_test_scaled)\n",
    "\n",
    "# Step 2: Calculate TP, FP, and FN\n",
    "true_positives = 0\n",
    "false_positives = 0\n",
    "false_negatives = 0\n",
    "\n",
    "for i in range(len(predictions)):\n",
    "    if predictions[i] == 1 and test_df['value'].values[i] == 1:\n",
    "        true_positives += 1\n",
    "    elif predictions[i] == 1 and test_df['value'].values[i] == 0:\n",
    "        false_positives += 1\n",
    "    elif predictions[i] == 0 and test_df['value'].values[i] == 1:\n",
    "        false_negatives += 1\n",
    "\n",
    "# # Step 3: Calculate precision and recall\n",
    "if (true_positives + false_positives) > 0:\n",
    "    precision = true_positives / (true_positives + false_positives)\n",
    "else:\n",
    "    precision = 0.0\n",
    "\n",
    "if (true_positives + false_negatives) > 0:\n",
    "    recall = true_positives / (true_positives + false_negatives)\n",
    "else:\n",
    "    recall = 0.0\n",
    "\n",
    "print(\"Precision:\", precision)\n",
    "print(\"Recall:\", recall)"
   ]
  },
  {
   "cell_type": "markdown",
   "metadata": {},
   "source": [
    "## Part G: Explanation\n",
    "This model is less accurate than our in class Yelp review example because the train and test sizes were significantly smaller. 15,000 tweet observations provides a larger sample size for test codes to run therefore leading to higher accuracy compared to only 200 cases in this example"
   ]
  },
  {
   "cell_type": "code",
   "execution_count": 70,
   "metadata": {},
   "outputs": [],
   "source": [
    "y_test = y_test.to_numpy()\n",
    "y_test = y_test.flatten()"
   ]
  },
  {
   "cell_type": "code",
   "execution_count": 71,
   "metadata": {},
   "outputs": [],
   "source": [
    "y_test_pred = dt_classifier.predict(X_test_scaled)\n",
    "y_test_pred_prob = dt_classifier.predict_proba(X_test_scaled)\n",
    "\n",
    "y_pred_df = pd.DataFrame({'y_pred_binary': y_test_pred,\n",
    "                         'y_pred_continuous': [one_prob[1] \n",
    "                                            for one_prob in y_test_pred_prob],\n",
    "                         'y_true': y_test})"
   ]
  },
  {
   "cell_type": "code",
   "execution_count": 72,
   "metadata": {},
   "outputs": [
    {
     "name": "stdout",
     "output_type": "stream",
     "text": [
      "Precision is: 0.4583333333333333\n",
      "Recall is: 0.3333333333333333\n"
     ]
    }
   ],
   "source": [
    "## precision as tp / tp+fp \n",
    "error_cond = [(y_pred_df['y_true'] == 1) & (y_pred_df['y_pred_binary'] == 1),\n",
    "             (y_pred_df['y_true'] == 1) & (y_pred_df['y_pred_binary'] == 0),\n",
    "              (y_pred_df['y_true'] == 0) & (y_pred_df['y_pred_binary'] == 0)]\n",
    "\n",
    "error_codeto = [\"TP\", \"FN\", \"TN\"]\n",
    "\n",
    "y_pred_df['error_cat'] = np.select(error_cond, error_codeto, default = \"FP\")\n",
    "y_error = y_pred_df.error_cat.value_counts().reset_index().copy()\n",
    "y_error.columns = ['cat', 'n']\n",
    "\n",
    "### precision\n",
    "print(\"Precision is:\", y_error.loc[y_error.cat == \"TP\", 'n'].iloc[0]/(y_error.loc[y_error.cat == \"TP\", 'n'].iloc[0] +\n",
    "                    y_error.loc[y_error.cat == \"FP\", 'n'].iloc[0]))\n",
    "\n",
    "### recall\n",
    "print(\"Recall is:\", y_error.loc[y_error.cat == \"TP\", 'n'].iloc[0] /(y_error.loc[y_error.cat == \"TP\", 'n'].iloc[0] +\n",
    "                    y_error.loc[y_error.cat == \"FN\", 'n'].iloc[0]))"
   ]
  }
 ],
 "metadata": {
  "kernelspec": {
   "display_name": "Python 3 (ipykernel)",
   "language": "python",
   "name": "python3"
  },
  "language_info": {
   "codemirror_mode": {
    "name": "ipython",
    "version": 3
   },
   "file_extension": ".py",
   "mimetype": "text/x-python",
   "name": "python",
   "nbconvert_exporter": "python",
   "pygments_lexer": "ipython3",
   "version": "3.11.4"
  }
 },
 "nbformat": 4,
 "nbformat_minor": 4
}
