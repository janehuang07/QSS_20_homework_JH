{
 "cells": [
  {
   "cell_type": "markdown",
   "metadata": {},
   "source": [
    "# Problem Set 1: Analysis of racial disparities in felony sentencing"
   ]
  },
  {
   "cell_type": "markdown",
   "metadata": {},
   "source": [
    "# 0. Load packages and imports"
   ]
  },
  {
   "cell_type": "code",
   "execution_count": 33,
   "metadata": {},
   "outputs": [],
   "source": [
    "## basic functionality\n",
    "import pandas as pd\n",
    "import numpy as np\n",
    "import re\n",
    "import os\n",
    "import matplotlib.pyplot as plt\n",
    "from scipy.optimize import curve_fit\n",
    "import warnings\n",
    "from plotnine import *\n",
    "warnings.filterwarnings('ignore')\n",
    "\n",
    "import nbconvert\n",
    "\n",
    "## repeated printouts\n",
    "from IPython.core.interactiveshell import InteractiveShell\n",
    "InteractiveShell.ast_node_interactivity = \"all\"\n"
   ]
  },
  {
   "cell_type": "markdown",
   "metadata": {},
   "source": [
    "## 0.1: Load the data (0 points)\n",
    "\n",
    "Load the `sentencing_asof0405.csv` data\n",
    "\n",
    "*Notes*: You may receive a warning about mixed data types upon import; feel free to ignore"
   ]
  },
  {
   "cell_type": "code",
   "execution_count": 2,
   "metadata": {},
   "outputs": [],
   "source": [
    "current_directory = os.getcwd()\n",
    "\n",
    "df = sentencing_df = pd.read_csv(\"sentencing_asof0405.csv\")"
   ]
  },
  {
   "cell_type": "markdown",
   "metadata": {},
   "source": [
    "## 0.2: Print head, dimensions, info (0 points)"
   ]
  },
  {
   "cell_type": "code",
   "execution_count": 3,
   "metadata": {
    "scrolled": true
   },
   "outputs": [
    {
     "data": {
      "text/html": [
       "<div>\n",
       "<style scoped>\n",
       "    .dataframe tbody tr th:only-of-type {\n",
       "        vertical-align: middle;\n",
       "    }\n",
       "\n",
       "    .dataframe tbody tr th {\n",
       "        vertical-align: top;\n",
       "    }\n",
       "\n",
       "    .dataframe thead th {\n",
       "        text-align: right;\n",
       "    }\n",
       "</style>\n",
       "<table border=\"1\" class=\"dataframe\">\n",
       "  <thead>\n",
       "    <tr style=\"text-align: right;\">\n",
       "      <th></th>\n",
       "      <th>CASE_ID</th>\n",
       "      <th>CASE_PARTICIPANT_ID</th>\n",
       "      <th>RECEIVED_DATE</th>\n",
       "      <th>OFFENSE_CATEGORY</th>\n",
       "      <th>PRIMARY_CHARGE_FLAG</th>\n",
       "      <th>CHARGE_ID</th>\n",
       "      <th>CHARGE_VERSION_ID</th>\n",
       "      <th>DISPOSITION_CHARGED_OFFENSE_TITLE</th>\n",
       "      <th>CHARGE_COUNT</th>\n",
       "      <th>DISPOSITION_DATE</th>\n",
       "      <th>...</th>\n",
       "      <th>INCIDENT_CITY</th>\n",
       "      <th>INCIDENT_BEGIN_DATE</th>\n",
       "      <th>INCIDENT_END_DATE</th>\n",
       "      <th>LAW_ENFORCEMENT_AGENCY</th>\n",
       "      <th>LAW_ENFORCEMENT_UNIT</th>\n",
       "      <th>ARREST_DATE</th>\n",
       "      <th>FELONY_REVIEW_DATE</th>\n",
       "      <th>FELONY_REVIEW_RESULT</th>\n",
       "      <th>ARRAIGNMENT_DATE</th>\n",
       "      <th>UPDATED_OFFENSE_CATEGORY</th>\n",
       "    </tr>\n",
       "  </thead>\n",
       "  <tbody>\n",
       "    <tr>\n",
       "      <th>0</th>\n",
       "      <td>149765331439</td>\n",
       "      <td>175691153649</td>\n",
       "      <td>8/15/1984 12:00:00 AM</td>\n",
       "      <td>PROMIS Conversion</td>\n",
       "      <td>False</td>\n",
       "      <td>50510112469</td>\n",
       "      <td>116304211997</td>\n",
       "      <td>FIRST DEGREE MURDER</td>\n",
       "      <td>2</td>\n",
       "      <td>12/17/2014 12:00:00 AM</td>\n",
       "      <td>...</td>\n",
       "      <td>NaN</td>\n",
       "      <td>8/9/1984 12:00:00 AM</td>\n",
       "      <td>NaN</td>\n",
       "      <td>CHICAGO POLICE DEPT</td>\n",
       "      <td>NaN</td>\n",
       "      <td>8/15/1984 12:00:00 AM</td>\n",
       "      <td>08/15/1984 12:00:00 AM</td>\n",
       "      <td>Charge(S) Approved</td>\n",
       "      <td>9/21/1984 12:00:00 AM</td>\n",
       "      <td>Homicide</td>\n",
       "    </tr>\n",
       "    <tr>\n",
       "      <th>1</th>\n",
       "      <td>149765331439</td>\n",
       "      <td>175691153649</td>\n",
       "      <td>8/15/1984 12:00:00 AM</td>\n",
       "      <td>PROMIS Conversion</td>\n",
       "      <td>False</td>\n",
       "      <td>50510213021</td>\n",
       "      <td>98265074680</td>\n",
       "      <td>HOME INVASION</td>\n",
       "      <td>14</td>\n",
       "      <td>12/17/2014 12:00:00 AM</td>\n",
       "      <td>...</td>\n",
       "      <td>NaN</td>\n",
       "      <td>8/9/1984 12:00:00 AM</td>\n",
       "      <td>NaN</td>\n",
       "      <td>CHICAGO POLICE DEPT</td>\n",
       "      <td>NaN</td>\n",
       "      <td>8/15/1984 12:00:00 AM</td>\n",
       "      <td>08/15/1984 12:00:00 AM</td>\n",
       "      <td>Charge(S) Approved</td>\n",
       "      <td>9/21/1984 12:00:00 AM</td>\n",
       "      <td>Homicide</td>\n",
       "    </tr>\n",
       "    <tr>\n",
       "      <th>2</th>\n",
       "      <td>149765331439</td>\n",
       "      <td>175691153649</td>\n",
       "      <td>8/15/1984 12:00:00 AM</td>\n",
       "      <td>PROMIS Conversion</td>\n",
       "      <td>False</td>\n",
       "      <td>50516447217</td>\n",
       "      <td>131972895911</td>\n",
       "      <td>FIRST DEGREE MURDER</td>\n",
       "      <td>4</td>\n",
       "      <td>12/17/2014 12:00:00 AM</td>\n",
       "      <td>...</td>\n",
       "      <td>NaN</td>\n",
       "      <td>8/9/1984 12:00:00 AM</td>\n",
       "      <td>NaN</td>\n",
       "      <td>CHICAGO POLICE DEPT</td>\n",
       "      <td>NaN</td>\n",
       "      <td>8/15/1984 12:00:00 AM</td>\n",
       "      <td>08/15/1984 12:00:00 AM</td>\n",
       "      <td>Charge(S) Approved</td>\n",
       "      <td>9/21/1984 12:00:00 AM</td>\n",
       "      <td>Homicide</td>\n",
       "    </tr>\n",
       "    <tr>\n",
       "      <th>3</th>\n",
       "      <td>149765331439</td>\n",
       "      <td>175691153649</td>\n",
       "      <td>8/15/1984 12:00:00 AM</td>\n",
       "      <td>PROMIS Conversion</td>\n",
       "      <td>False</td>\n",
       "      <td>50516497493</td>\n",
       "      <td>131966356472</td>\n",
       "      <td>FIRST DEGREE MURDER</td>\n",
       "      <td>5</td>\n",
       "      <td>12/17/2014 12:00:00 AM</td>\n",
       "      <td>...</td>\n",
       "      <td>NaN</td>\n",
       "      <td>8/9/1984 12:00:00 AM</td>\n",
       "      <td>NaN</td>\n",
       "      <td>CHICAGO POLICE DEPT</td>\n",
       "      <td>NaN</td>\n",
       "      <td>8/15/1984 12:00:00 AM</td>\n",
       "      <td>08/15/1984 12:00:00 AM</td>\n",
       "      <td>Charge(S) Approved</td>\n",
       "      <td>9/21/1984 12:00:00 AM</td>\n",
       "      <td>Homicide</td>\n",
       "    </tr>\n",
       "    <tr>\n",
       "      <th>4</th>\n",
       "      <td>149765331439</td>\n",
       "      <td>175691153649</td>\n",
       "      <td>8/15/1984 12:00:00 AM</td>\n",
       "      <td>PROMIS Conversion</td>\n",
       "      <td>False</td>\n",
       "      <td>50516648320</td>\n",
       "      <td>98059642859</td>\n",
       "      <td>HOME INVASION</td>\n",
       "      <td>13</td>\n",
       "      <td>12/17/2014 12:00:00 AM</td>\n",
       "      <td>...</td>\n",
       "      <td>NaN</td>\n",
       "      <td>8/9/1984 12:00:00 AM</td>\n",
       "      <td>NaN</td>\n",
       "      <td>CHICAGO POLICE DEPT</td>\n",
       "      <td>NaN</td>\n",
       "      <td>8/15/1984 12:00:00 AM</td>\n",
       "      <td>08/15/1984 12:00:00 AM</td>\n",
       "      <td>Charge(S) Approved</td>\n",
       "      <td>9/21/1984 12:00:00 AM</td>\n",
       "      <td>Homicide</td>\n",
       "    </tr>\n",
       "  </tbody>\n",
       "</table>\n",
       "<p>5 rows × 41 columns</p>\n",
       "</div>"
      ],
      "text/plain": [
       "        CASE_ID  CASE_PARTICIPANT_ID          RECEIVED_DATE  \\\n",
       "0  149765331439         175691153649  8/15/1984 12:00:00 AM   \n",
       "1  149765331439         175691153649  8/15/1984 12:00:00 AM   \n",
       "2  149765331439         175691153649  8/15/1984 12:00:00 AM   \n",
       "3  149765331439         175691153649  8/15/1984 12:00:00 AM   \n",
       "4  149765331439         175691153649  8/15/1984 12:00:00 AM   \n",
       "\n",
       "    OFFENSE_CATEGORY  PRIMARY_CHARGE_FLAG    CHARGE_ID  CHARGE_VERSION_ID  \\\n",
       "0  PROMIS Conversion                False  50510112469       116304211997   \n",
       "1  PROMIS Conversion                False  50510213021        98265074680   \n",
       "2  PROMIS Conversion                False  50516447217       131972895911   \n",
       "3  PROMIS Conversion                False  50516497493       131966356472   \n",
       "4  PROMIS Conversion                False  50516648320        98059642859   \n",
       "\n",
       "  DISPOSITION_CHARGED_OFFENSE_TITLE  CHARGE_COUNT        DISPOSITION_DATE  \\\n",
       "0               FIRST DEGREE MURDER             2  12/17/2014 12:00:00 AM   \n",
       "1                     HOME INVASION            14  12/17/2014 12:00:00 AM   \n",
       "2               FIRST DEGREE MURDER             4  12/17/2014 12:00:00 AM   \n",
       "3               FIRST DEGREE MURDER             5  12/17/2014 12:00:00 AM   \n",
       "4                     HOME INVASION            13  12/17/2014 12:00:00 AM   \n",
       "\n",
       "   ... INCIDENT_CITY   INCIDENT_BEGIN_DATE INCIDENT_END_DATE  \\\n",
       "0  ...           NaN  8/9/1984 12:00:00 AM               NaN   \n",
       "1  ...           NaN  8/9/1984 12:00:00 AM               NaN   \n",
       "2  ...           NaN  8/9/1984 12:00:00 AM               NaN   \n",
       "3  ...           NaN  8/9/1984 12:00:00 AM               NaN   \n",
       "4  ...           NaN  8/9/1984 12:00:00 AM               NaN   \n",
       "\n",
       "  LAW_ENFORCEMENT_AGENCY LAW_ENFORCEMENT_UNIT            ARREST_DATE  \\\n",
       "0    CHICAGO POLICE DEPT                  NaN  8/15/1984 12:00:00 AM   \n",
       "1    CHICAGO POLICE DEPT                  NaN  8/15/1984 12:00:00 AM   \n",
       "2    CHICAGO POLICE DEPT                  NaN  8/15/1984 12:00:00 AM   \n",
       "3    CHICAGO POLICE DEPT                  NaN  8/15/1984 12:00:00 AM   \n",
       "4    CHICAGO POLICE DEPT                  NaN  8/15/1984 12:00:00 AM   \n",
       "\n",
       "       FELONY_REVIEW_DATE FELONY_REVIEW_RESULT       ARRAIGNMENT_DATE  \\\n",
       "0  08/15/1984 12:00:00 AM   Charge(S) Approved  9/21/1984 12:00:00 AM   \n",
       "1  08/15/1984 12:00:00 AM   Charge(S) Approved  9/21/1984 12:00:00 AM   \n",
       "2  08/15/1984 12:00:00 AM   Charge(S) Approved  9/21/1984 12:00:00 AM   \n",
       "3  08/15/1984 12:00:00 AM   Charge(S) Approved  9/21/1984 12:00:00 AM   \n",
       "4  08/15/1984 12:00:00 AM   Charge(S) Approved  9/21/1984 12:00:00 AM   \n",
       "\n",
       "  UPDATED_OFFENSE_CATEGORY  \n",
       "0                 Homicide  \n",
       "1                 Homicide  \n",
       "2                 Homicide  \n",
       "3                 Homicide  \n",
       "4                 Homicide  \n",
       "\n",
       "[5 rows x 41 columns]"
      ]
     },
     "execution_count": 3,
     "metadata": {},
     "output_type": "execute_result"
    },
    {
     "data": {
      "text/plain": [
       "(248146, 41)"
      ]
     },
     "execution_count": 3,
     "metadata": {},
     "output_type": "execute_result"
    },
    {
     "name": "stdout",
     "output_type": "stream",
     "text": [
      "<class 'pandas.core.frame.DataFrame'>\n",
      "RangeIndex: 248146 entries, 0 to 248145\n",
      "Data columns (total 41 columns):\n",
      " #   Column                             Non-Null Count   Dtype  \n",
      "---  ------                             --------------   -----  \n",
      " 0   CASE_ID                            248146 non-null  int64  \n",
      " 1   CASE_PARTICIPANT_ID                248146 non-null  int64  \n",
      " 2   RECEIVED_DATE                      248146 non-null  object \n",
      " 3   OFFENSE_CATEGORY                   248146 non-null  object \n",
      " 4   PRIMARY_CHARGE_FLAG                248146 non-null  bool   \n",
      " 5   CHARGE_ID                          248146 non-null  int64  \n",
      " 6   CHARGE_VERSION_ID                  248146 non-null  int64  \n",
      " 7   DISPOSITION_CHARGED_OFFENSE_TITLE  248146 non-null  object \n",
      " 8   CHARGE_COUNT                       248146 non-null  int64  \n",
      " 9   DISPOSITION_DATE                   248146 non-null  object \n",
      " 10  DISPOSITION_CHARGED_CHAPTER        248146 non-null  object \n",
      " 11  DISPOSITION_CHARGED_ACT            242771 non-null  object \n",
      " 12  DISPOSITION_CHARGED_SECTION        242771 non-null  object \n",
      " 13  DISPOSITION_CHARGED_CLASS          248127 non-null  object \n",
      " 14  DISPOSITION_CHARGED_AOIC           248122 non-null  object \n",
      " 15  CHARGE_DISPOSITION                 248146 non-null  object \n",
      " 16  CHARGE_DISPOSITION_REASON          904 non-null     object \n",
      " 17  SENTENCE_JUDGE                     247404 non-null  object \n",
      " 18  SENTENCE_COURT_NAME                246761 non-null  object \n",
      " 19  SENTENCE_COURT_FACILITY            246216 non-null  object \n",
      " 20  SENTENCE_PHASE                     248146 non-null  object \n",
      " 21  SENTENCE_DATE                      248146 non-null  object \n",
      " 22  SENTENCE_TYPE                      248146 non-null  object \n",
      " 23  CURRENT_SENTENCE_FLAG              248146 non-null  bool   \n",
      " 24  COMMITMENT_TYPE                    246464 non-null  object \n",
      " 25  COMMITMENT_TERM                    246434 non-null  object \n",
      " 26  COMMITMENT_UNIT                    246434 non-null  object \n",
      " 27  LENGTH_OF_CASE_in_Days             229126 non-null  float64\n",
      " 28  AGE_AT_INCIDENT                    238359 non-null  float64\n",
      " 29  RACE                               246879 non-null  object \n",
      " 30  GENDER                             247337 non-null  object \n",
      " 31  INCIDENT_CITY                      228745 non-null  object \n",
      " 32  INCIDENT_BEGIN_DATE                239122 non-null  object \n",
      " 33  INCIDENT_END_DATE                  22008 non-null   object \n",
      " 34  LAW_ENFORCEMENT_AGENCY             239405 non-null  object \n",
      " 35  LAW_ENFORCEMENT_UNIT               76408 non-null   object \n",
      " 36  ARREST_DATE                        242981 non-null  object \n",
      " 37  FELONY_REVIEW_DATE                 171907 non-null  object \n",
      " 38  FELONY_REVIEW_RESULT               171907 non-null  object \n",
      " 39  ARRAIGNMENT_DATE                   229126 non-null  object \n",
      " 40  UPDATED_OFFENSE_CATEGORY           248146 non-null  object \n",
      "dtypes: bool(2), float64(2), int64(5), object(32)\n",
      "memory usage: 74.3+ MB\n"
     ]
    }
   ],
   "source": [
    "df.head()\n",
    "df.shape\n",
    "df.info()"
   ]
  },
  {
   "cell_type": "markdown",
   "metadata": {},
   "source": [
    "# Part one: data cleaning/interpretation"
   ]
  },
  {
   "cell_type": "markdown",
   "metadata": {},
   "source": [
    "\n",
    "## 1.1: Understanding the unit of analysis (5 points)\n",
    "\n",
    "- Print the number of unique values for the following columns. Do so in a way that avoids copying/pasting code for \n",
    "the three:\n",
    "\n",
    "    - Cases (`CASE_ID`)\n",
    "    - People in that case (`CASE_PARTICIPANT_ID`)\n",
    "    - Charges (`CHARGE_ID`)\n",
    "\n",
    "- Write a couple sentences on the following and show an example of each (e.g., a case involving multiple people):\n",
    "    \n",
    "    - Why there are more unique people than unique cases?\n",
    "    - Why there are more unique charges than unique people?\n",
    "\n",
    "- Print the mean and median number of charges per case/participant \n",
    "\n",
    "- Print the mean and median number of participants per case\n",
    "\n",
    "- Does the data seem to enable us to follow the same defendant across different cases they're charged in? Write 1 sentence in support of your conclusion.\n"
   ]
  },
  {
   "cell_type": "code",
   "execution_count": 4,
   "metadata": {},
   "outputs": [
    {
     "data": {
      "text/plain": [
       "CASE_ID                197519\n",
       "CASE_PARTICIPANT_ID    211977\n",
       "CHARGE_ID              229015\n",
       "dtype: int64"
      ]
     },
     "execution_count": 4,
     "metadata": {},
     "output_type": "execute_result"
    }
   ],
   "source": [
    "df[[\"CASE_ID\", \"CASE_PARTICIPANT_ID\", \"CHARGE_ID\"]].nunique()"
   ]
  },
  {
   "cell_type": "code",
   "execution_count": 5,
   "metadata": {},
   "outputs": [
    {
     "name": "stdout",
     "output_type": "stream",
     "text": [
      "Index([166402790922, 176098576921, 176270837451, 180953886081, 181880245351,\n",
      "       193220363111, 193669004134, 193935251654, 196479655698, 202800868193,\n",
      "       ...\n",
      "       442469161188, 442469748607, 442472832555, 442477531905, 442479441015,\n",
      "       442924851235, 443338247136, 443405066012, 443440604843, 443593921120],\n",
      "      dtype='int64', name='CASE_ID', length=12288)\n"
     ]
    }
   ],
   "source": [
    "# There are more unique people than unique cases because some cases involve multiple people.\n",
    "\n",
    "# Example:\n",
    "\n",
    "# Build list of numbers of participant IDs per cases\n",
    "case_counts = df.groupby(\"CASE_ID\")[\"CASE_PARTICIPANT_ID\"].nunique()\n",
    "\n",
    "# Filter for cases with more than one distinct 'CASE_PARTICIPANT_ID'\n",
    "cases_with_multiple_participants = case_counts[case_counts > 1].index\n",
    "\n",
    "# Print the CASE_ID values that match multiple CASE_PARTICIPANT_ID values\n",
    "print(cases_with_multiple_participants)\n"
   ]
  },
  {
   "cell_type": "code",
   "execution_count": 6,
   "metadata": {},
   "outputs": [
    {
     "name": "stdout",
     "output_type": "stream",
     "text": [
      "Index([ 97581722610,  97603050731, 102758793737, 113431347854, 117303251208,\n",
      "       119126050596, 125384910456, 128175025077, 128529109638, 129498029199,\n",
      "       ...\n",
      "       899219260504, 900047942949, 900135992229, 900210074420, 900745825500,\n",
      "       901692945079, 901899525864, 904336027784, 904972002160, 905015885242],\n",
      "      dtype='int64', name='CASE_PARTICIPANT_ID', length=14547)\n"
     ]
    }
   ],
   "source": [
    "# There are more unique charges than unique people because some people have multiple charges within cases.\n",
    "\n",
    "# Example:\n",
    "\n",
    "# Build list of numbers of participant IDs per cases\n",
    "charge_id_counts = df.groupby(\"CASE_PARTICIPANT_ID\")[\"CHARGE_ID\"].nunique()\n",
    "\n",
    "# Filter for cases with more than one distinct 'CASE_PARTICIPANT_ID'\n",
    "participants_with_multiple_charges = charge_id_counts[charge_id_counts > 1].index\n",
    "\n",
    "print(participants_with_multiple_charges)\n"
   ]
  },
  {
   "cell_type": "code",
   "execution_count": 7,
   "metadata": {},
   "outputs": [
    {
     "data": {
      "text/plain": [
       "mean      1.170627\n",
       "median    1.000000\n",
       "Name: CHARGE_ID, dtype: float64"
      ]
     },
     "execution_count": 7,
     "metadata": {},
     "output_type": "execute_result"
    },
    {
     "data": {
      "text/plain": [
       "mean      1.256315\n",
       "median    1.000000\n",
       "Name: CASE_PARTICIPANT_ID, dtype: float64"
      ]
     },
     "execution_count": 7,
     "metadata": {},
     "output_type": "execute_result"
    }
   ],
   "source": [
    "# Print the mean and median number of charges per case/participant\n",
    "\n",
    "df.groupby([\"CASE_ID\", \"CASE_PARTICIPANT_ID\"])[\"CHARGE_ID\"].count().agg([\"mean\", \"median\"])\n",
    "\n",
    "# Print the mean and median number of participants per case\n",
    "\n",
    "df.groupby([\"CASE_ID\"])[\"CASE_PARTICIPANT_ID\"].count().agg(['mean', 'median'])"
   ]
  },
  {
   "cell_type": "code",
   "execution_count": 8,
   "metadata": {},
   "outputs": [
    {
     "data": {
      "text/html": [
       "<div>\n",
       "<style scoped>\n",
       "    .dataframe tbody tr th:only-of-type {\n",
       "        vertical-align: middle;\n",
       "    }\n",
       "\n",
       "    .dataframe tbody tr th {\n",
       "        vertical-align: top;\n",
       "    }\n",
       "\n",
       "    .dataframe thead th {\n",
       "        text-align: right;\n",
       "    }\n",
       "</style>\n",
       "<table border=\"1\" class=\"dataframe\">\n",
       "  <thead>\n",
       "    <tr style=\"text-align: right;\">\n",
       "      <th></th>\n",
       "      <th>CASE_ID</th>\n",
       "    </tr>\n",
       "    <tr>\n",
       "      <th>CASE_PARTICIPANT_ID</th>\n",
       "      <th></th>\n",
       "    </tr>\n",
       "  </thead>\n",
       "  <tbody>\n",
       "    <tr>\n",
       "      <th>96757475659</th>\n",
       "      <td>1</td>\n",
       "    </tr>\n",
       "    <tr>\n",
       "      <th>811339945611</th>\n",
       "      <td>1</td>\n",
       "    </tr>\n",
       "    <tr>\n",
       "      <th>811332962067</th>\n",
       "      <td>1</td>\n",
       "    </tr>\n",
       "    <tr>\n",
       "      <th>811333245184</th>\n",
       "      <td>1</td>\n",
       "    </tr>\n",
       "    <tr>\n",
       "      <th>811333433928</th>\n",
       "      <td>1</td>\n",
       "    </tr>\n",
       "    <tr>\n",
       "      <th>...</th>\n",
       "      <td>...</td>\n",
       "    </tr>\n",
       "    <tr>\n",
       "      <th>751606861577</th>\n",
       "      <td>1</td>\n",
       "    </tr>\n",
       "    <tr>\n",
       "      <th>751611013954</th>\n",
       "      <td>1</td>\n",
       "    </tr>\n",
       "    <tr>\n",
       "      <th>751611485815</th>\n",
       "      <td>1</td>\n",
       "    </tr>\n",
       "    <tr>\n",
       "      <th>751611957677</th>\n",
       "      <td>1</td>\n",
       "    </tr>\n",
       "    <tr>\n",
       "      <th>905535215556</th>\n",
       "      <td>1</td>\n",
       "    </tr>\n",
       "  </tbody>\n",
       "</table>\n",
       "<p>211977 rows × 1 columns</p>\n",
       "</div>"
      ],
      "text/plain": [
       "                     CASE_ID\n",
       "CASE_PARTICIPANT_ID         \n",
       "96757475659                1\n",
       "811339945611               1\n",
       "811332962067               1\n",
       "811333245184               1\n",
       "811333433928               1\n",
       "...                      ...\n",
       "751606861577               1\n",
       "751611013954               1\n",
       "751611485815               1\n",
       "751611957677               1\n",
       "905535215556               1\n",
       "\n",
       "[211977 rows x 1 columns]"
      ]
     },
     "execution_count": 8,
     "metadata": {},
     "output_type": "execute_result"
    }
   ],
   "source": [
    "# Does the data seem to enable us to follow the same defendant across different cases they're charged in? \n",
    "\n",
    "no_dups = df[[\"CASE_PARTICIPANT_ID\",\"CASE_ID\"]].drop_duplicates()\n",
    "no_dups.groupby([\"CASE_PARTICIPANT_ID\"]).agg({\"CASE_ID\": \"count\"}).sort_values(by=\"CASE_ID\", ascending= False)\n",
    "\n",
    "# No as the above code shows, Case Participant IDs are unique to their associated case. \n",
    "# If someone commits a crime but in a different case, they will have an entirely different case ID."
   ]
  },
  {
   "cell_type": "markdown",
   "metadata": {},
   "source": [
    "## 1.2.1: Which offense is final? (3 points)\n",
    "\n",
    "- First, read the data documentation [link](https://datacatalog.cookcountyil.gov/api/views/tg8v-tm6u/files/8597cdda-f7e1-44d1-b0ce-0a4e43f8c980?download=true&filename=CCSAO%20Data%20Glossary.pdf) and summarize in your own words the differences between `OFFENSE_CATEGORY` and `UPDATED_OFFENSE_CATEGORY` \n",
    "\n",
    "- Construct an indicator `is_changed_offense` that's True for case-participant-charge observations (rows) where there's a difference between the original charge (offense category) and the most current charge (updated offense category). What are some of the more common changed offenses? (can just print result of sort_values based on original offense category)\n",
    "\n",
    "- Print one example of a changed offense from one of these categories and comment on what the reason may be"
   ]
  },
  {
   "cell_type": "code",
   "execution_count": 9,
   "metadata": {},
   "outputs": [],
   "source": [
    "# OFFENSE_CATEGORY represents the general offense category prior to specific charges being filed, \n",
    "# while UPDATED_OFFENSE_CATEGORY reflects the updated offense category determined by the primary charge in the case."
   ]
  },
  {
   "cell_type": "code",
   "execution_count": 10,
   "metadata": {},
   "outputs": [],
   "source": [
    "# Construct an indicator is_changed_offense\n",
    "\n",
    "df[\"is_changed_offense\"] = df[\"OFFENSE_CATEGORY\"]!= df[\"UPDATED_OFFENSE_CATEGORY\"]"
   ]
  },
  {
   "cell_type": "code",
   "execution_count": 11,
   "metadata": {},
   "outputs": [
    {
     "data": {
      "text/plain": [
       "OFFENSE_CATEGORY\n",
       "PROMIS Conversion               6394\n",
       "DUI                             3896\n",
       "UUW - Unlawful Use of Weapon    2155\n",
       "Other Offense                   2125\n",
       "Aggravated Battery              1927\n",
       "                                ... \n",
       "Perjury                            4\n",
       "Prostitution                       3\n",
       "Compelling Gang Membership         2\n",
       "Benefit Recipient Fraud            2\n",
       "Violate Bail Bond                  2\n",
       "Name: count, Length: 88, dtype: int64"
      ]
     },
     "execution_count": 11,
     "metadata": {},
     "output_type": "execute_result"
    }
   ],
   "source": [
    "# more common changed offenses\n",
    "\n",
    "df[df[\"is_changed_offense\"]][\"OFFENSE_CATEGORY\"].value_counts().sort_values(ascending = False)\n",
    "\n"
   ]
  },
  {
   "cell_type": "code",
   "execution_count": 12,
   "metadata": {},
   "outputs": [
    {
     "data": {
      "text/plain": [
       "CASE_ID                                        149765331439\n",
       "CASE_PARTICIPANT_ID                            175691153649\n",
       "RECEIVED_DATE                         8/15/1984 12:00:00 AM\n",
       "OFFENSE_CATEGORY                          PROMIS Conversion\n",
       "PRIMARY_CHARGE_FLAG                                   False\n",
       "CHARGE_ID                                       50510112469\n",
       "CHARGE_VERSION_ID                              116304211997\n",
       "DISPOSITION_CHARGED_OFFENSE_TITLE       FIRST DEGREE MURDER\n",
       "CHARGE_COUNT                                              2\n",
       "DISPOSITION_DATE                     12/17/2014 12:00:00 AM\n",
       "DISPOSITION_CHARGED_CHAPTER                              38\n",
       "DISPOSITION_CHARGED_ACT                                   -\n",
       "DISPOSITION_CHARGED_SECTION                       9-1(a)(2)\n",
       "DISPOSITION_CHARGED_CLASS                                 X\n",
       "DISPOSITION_CHARGED_AOIC                         0000001607\n",
       "CHARGE_DISPOSITION                          Nolle On Remand\n",
       "CHARGE_DISPOSITION_REASON                               NaN\n",
       "SENTENCE_JUDGE                                John  Mannion\n",
       "SENTENCE_COURT_NAME                    District 6 - Markham\n",
       "SENTENCE_COURT_FACILITY                  Markham Courthouse\n",
       "SENTENCE_PHASE                          Original Sentencing\n",
       "SENTENCE_DATE                          6/2/1986 12:00:00 AM\n",
       "SENTENCE_TYPE                                    Conversion\n",
       "CURRENT_SENTENCE_FLAG                                  True\n",
       "COMMITMENT_TYPE                                Natural Life\n",
       "COMMITMENT_TERM                                         NaN\n",
       "COMMITMENT_UNIT                                         NaN\n",
       "LENGTH_OF_CASE_in_Days                                619.0\n",
       "AGE_AT_INCIDENT                                        27.0\n",
       "RACE                                                  Black\n",
       "GENDER                                                 Male\n",
       "INCIDENT_CITY                                           NaN\n",
       "INCIDENT_BEGIN_DATE                    8/9/1984 12:00:00 AM\n",
       "INCIDENT_END_DATE                                       NaN\n",
       "LAW_ENFORCEMENT_AGENCY                  CHICAGO POLICE DEPT\n",
       "LAW_ENFORCEMENT_UNIT                                    NaN\n",
       "ARREST_DATE                           8/15/1984 12:00:00 AM\n",
       "FELONY_REVIEW_DATE                   08/15/1984 12:00:00 AM\n",
       "FELONY_REVIEW_RESULT                     Charge(S) Approved\n",
       "ARRAIGNMENT_DATE                      9/21/1984 12:00:00 AM\n",
       "UPDATED_OFFENSE_CATEGORY                           Homicide\n",
       "is_changed_offense                                     True\n",
       "Name: 0, dtype: object"
      ]
     },
     "execution_count": 12,
     "metadata": {},
     "output_type": "execute_result"
    }
   ],
   "source": [
    "# Print one example of a changed offense from one of these categories and comment on what the reason may be\n",
    "\n",
    "example_changed_offense = df[df[\"is_changed_offense\"]].iloc[0]\n",
    "example_changed_offense\n",
    "\n",
    "# It seems that PROMIS Conversion means that the court promises to adjust the charge eventully which \n",
    "# explains why this Offense is the most frequently changed. \n"
   ]
  },
  {
   "cell_type": "markdown",
   "metadata": {},
   "source": [
    "## 1.2.2: Simplifying the charges (5 points)\n",
    "\n",
    "Using the field (`UPDATED_OFFENSE_CATEGORY`), create a new field, `simplified_offense_derived`, that simplifies the many offense categories into broader buckets using the following process:\n",
    "\n",
    "First, combine all offenses beginning with \"Aggravated\" into a single category without that prefix (e.g., Aggravated Battery and Battery just becomes Battery)\n",
    "\n",
    "Then:\n",
    "- Combine all offenses with arson into a single arson category (`Arson`)\n",
    "- Combine all offenses with homicide into a single homicide category (`Homicide`)\n",
    "- Combine all offenses with vehicle/vehicular in the name into a single vehicle category (`Vehicle-related`)\n",
    "- Combine all offenses with battery in the name into a single battery category (`Battery`)\n",
    "\n",
    "Try to do so efficiently (e.g., using map and a dictionary or np.select rather than separate line for each recoded offense)\n",
    "\n",
    "Print the difference between the # of unique offenses in the original `UPDATED_OFFENSE_CATEGORY` field and the # of unique offenses in your new `simplified_offense_derived` field\n"
   ]
  },
  {
   "cell_type": "code",
   "execution_count": 13,
   "metadata": {},
   "outputs": [],
   "source": [
    "# combine all offenses beginning with \"Aggravated\" into a single category\n",
    "df[\"simplified_offense_derived\"] = df[\"UPDATED_OFFENSE_CATEGORY\"].str.removeprefix(\"Aggravated \")\n",
    "\n",
    "# Define conditions\n",
    "conditions = [\n",
    "    df['UPDATED_OFFENSE_CATEGORY'].str.contains(\"arson\", case=False),\n",
    "    df['UPDATED_OFFENSE_CATEGORY'].str.contains(\"homicide\", case=False),\n",
    "    df['UPDATED_OFFENSE_CATEGORY'].str.contains(\"vehicle\", case=False),\n",
    "    df['UPDATED_OFFENSE_CATEGORY'].str.contains(\"vehicular\", case=False),\n",
    "    df['UPDATED_OFFENSE_CATEGORY'].str.contains(\"battery\", case=False)\n",
    "]\n",
    "\n",
    "# Define corresponding choices\n",
    "choices = [\n",
    "    \"Arson\",\n",
    "    \"Homicide\",\n",
    "    \"Vehicle-related\",\n",
    "    \"Vehicle-related\",\n",
    "    \"Battery\"\n",
    "]\n",
    "\n",
    "# Use np.select\n",
    "df[\"OFFENSE_CATEGORY\"] = np.select(conditions, choices, default=df[\"OFFENSE_CATEGORY\"])\n"
   ]
  },
  {
   "cell_type": "code",
   "execution_count": 14,
   "metadata": {},
   "outputs": [
    {
     "data": {
      "text/plain": [
       "4"
      ]
     },
     "execution_count": 14,
     "metadata": {},
     "output_type": "execute_result"
    }
   ],
   "source": [
    "# difference \n",
    "\n",
    "df.UPDATED_OFFENSE_CATEGORY.nunique()-df.simplified_offense_derived.nunique()"
   ]
  },
  {
   "cell_type": "markdown",
   "metadata": {},
   "source": [
    "## 1.3: Cleaning additional variables (10 points)\n",
    "\n",
    "Clean the following variables; make sure to retain the original variable in data and use the derived suffix so it's easier to pull these cleaned out variables later (e.g., `age_derived`) to indicate this was a transformation\n",
    "\n",
    "- Race: create True/false indicators for `is_black_derived` (Black only or mixed race with hispanic), Non-Black Hispanic, so either hispanic alone or white hispanic (`is_hisp_derived`), White non-hispanic (`is_white_derived`), or none of the above (`is_othereth_derived`)\n",
    "\n",
    "- Gender: create a boolean true/false indicator for `is_male_derived` (false is female, unknown, or other)\n",
    "\n",
    "- Age at incident: you notice outliers like 130-year olds. Winsorsize the top 0.01% of values to be equal to the 99.99th percentile value pre-winsorization. Call this `age_derived`\n",
    "\n",
    "- Create `sentenceymd_derived` that's a version of `SENTENCING_DATE` converted to datetime format. Also create a rounded version, `sentenceym_derived`, that's rounded down to the first of the month and the year (e.g., 01-05-2016 and 01-27-2016 each become 01-01-2016)\n",
    "    - Hint: all timestamps are midnight so u can strip in conversion. For full credit, before converting, you notice that some of the years have been mistranscribed (e.g., 291X or 221X instead of 201X). Programatically fix those (eg 2914 -> 2014). Even after cleaning, there will still be some that are after the year 2021 that we'll filter out later. For partial credit, you can ignore the timestamps that cause errors and set errors = \"coerce\" within `pd.to_datetime()` to allow the conversion to proceed. \n",
    "\n",
    "- Sentencing judge: create an identifier (`judgeid_derived`) for each unique judge (`SENTENCE_JUDGE`) structured as judge_1, judge_2...., with the order determined by sorting the judges (will sort on fname then last). When finding unique judges, there are various duplicates we could weed out --- for now, just focus on (1) the different iterations of Doug/Douglas Simpson, (2) the different iterations of Shelley Sutker (who appears both with her maiden name and her hyphenated married name). \n",
    "     - Hint: due to mixed types, you may need to cast the `SENTENCE_JUDGE` var to a diff type to sort\n",
    "\n",
    "After finishing, print a random sample of 10 rows (data.sample(n = 10)) with the original and cleaned columns for the relevant variables to validate your work"
   ]
  },
  {
   "cell_type": "code",
   "execution_count": 15,
   "metadata": {},
   "outputs": [],
   "source": [
    "# Race\n",
    "\n",
    "dervied_black = [\"Black\", \"White/Black [Hispanic or Latino]\"]\n",
    "df[\"is_black_derived\"] = df[\"RACE\"].isin(dervied_black)\n",
    "\n",
    "derived_hisp = [\"White [Hispanic or Latino]\", \"HISPANIC\"]\n",
    "df[\"is_hisp_derived\"] = df[\"RACE\"].isin(derived_hisp)\n",
    "\n",
    "derived_white = [\"White\"]\n",
    "df[\"is_white_derived\"] = df[\"RACE\"].isin(derived_white)\n",
    "\n",
    "derived_other = [\"ASIAN\", \"Asian\", \"American Indian\", \"Unknown\", \"Biracial\"]\n",
    "df[\"is_othereth_derived\"] = df[\"RACE\"].isin(derived_other)"
   ]
  },
  {
   "cell_type": "code",
   "execution_count": 16,
   "metadata": {},
   "outputs": [],
   "source": [
    "# Gender\n",
    "\n",
    "male_derived = [\"Male\", \"Male name, no gender given\"]\n",
    "df[\"is_male_derived\"] = df[\"RACE\"].isin(male_derived)\n"
   ]
  },
  {
   "cell_type": "code",
   "execution_count": 17,
   "metadata": {},
   "outputs": [],
   "source": [
    "# Age\n",
    "\n",
    "limit = df[\"AGE_AT_INCIDENT\"].quantile(0.9999)\n",
    "df[\"age_derived\"] = df[\"AGE_AT_INCIDENT\"].apply(lambda x: min(x, limit))"
   ]
  },
  {
   "cell_type": "code",
   "execution_count": 18,
   "metadata": {},
   "outputs": [],
   "source": [
    "# Create sentenceymd_derived\n",
    "\n",
    "df[\"sentenceymd_derived\"] = 0\n",
    "for i in range(len(df.SENTENCE_DATE)):\n",
    "    dateSplit = df.SENTENCE_DATE[i].split(\"/\")\n",
    "    year = dateSplit[2][:4]\n",
    "    if (year[0] == \"2\" and year[1] != \"0\"):\n",
    "        year = \"20\" + year[2:]\n",
    "    dateSplit = dateSplit[0] + \"/1/\" + year\n",
    "    df.sentenceymd_derived[i] = dateSplit\n",
    "df[\"sentenceymd_derived\"] = pd.to_datetime(df.sentenceymd_derived)\n"
   ]
  },
  {
   "cell_type": "code",
   "execution_count": 19,
   "metadata": {},
   "outputs": [
    {
     "data": {
      "text/html": [
       "<div>\n",
       "<style scoped>\n",
       "    .dataframe tbody tr th:only-of-type {\n",
       "        vertical-align: middle;\n",
       "    }\n",
       "\n",
       "    .dataframe tbody tr th {\n",
       "        vertical-align: top;\n",
       "    }\n",
       "\n",
       "    .dataframe thead th {\n",
       "        text-align: right;\n",
       "    }\n",
       "</style>\n",
       "<table border=\"1\" class=\"dataframe\">\n",
       "  <thead>\n",
       "    <tr style=\"text-align: right;\">\n",
       "      <th></th>\n",
       "      <th>RACE</th>\n",
       "      <th>is_black_derived</th>\n",
       "      <th>is_hisp_derived</th>\n",
       "      <th>is_white_derived</th>\n",
       "      <th>is_othereth_derived</th>\n",
       "      <th>GENDER</th>\n",
       "      <th>is_male_derived</th>\n",
       "      <th>AGE_AT_INCIDENT</th>\n",
       "      <th>age_derived</th>\n",
       "      <th>SENTENCE_DATE</th>\n",
       "      <th>sentenceymd_derived</th>\n",
       "      <th>SENTENCE_JUDGE</th>\n",
       "      <th>judgeid_derived</th>\n",
       "    </tr>\n",
       "  </thead>\n",
       "  <tbody>\n",
       "    <tr>\n",
       "      <th>31470</th>\n",
       "      <td>Black</td>\n",
       "      <td>True</td>\n",
       "      <td>False</td>\n",
       "      <td>False</td>\n",
       "      <td>False</td>\n",
       "      <td>Male</td>\n",
       "      <td>False</td>\n",
       "      <td>25.0</td>\n",
       "      <td>25.0</td>\n",
       "      <td>9/20/2012 12:00:00 AM</td>\n",
       "      <td>2012-09-01</td>\n",
       "      <td>NaN</td>\n",
       "      <td>70</td>\n",
       "    </tr>\n",
       "    <tr>\n",
       "      <th>103171</th>\n",
       "      <td>Black</td>\n",
       "      <td>True</td>\n",
       "      <td>False</td>\n",
       "      <td>False</td>\n",
       "      <td>False</td>\n",
       "      <td>Male</td>\n",
       "      <td>False</td>\n",
       "      <td>20.0</td>\n",
       "      <td>20.0</td>\n",
       "      <td>9/26/2013 12:00:00 AM</td>\n",
       "      <td>2013-09-01</td>\n",
       "      <td>Domenica A Stephenson</td>\n",
       "      <td>judge_63</td>\n",
       "    </tr>\n",
       "    <tr>\n",
       "      <th>200238</th>\n",
       "      <td>White [Hispanic or Latino]</td>\n",
       "      <td>False</td>\n",
       "      <td>True</td>\n",
       "      <td>False</td>\n",
       "      <td>False</td>\n",
       "      <td>Male</td>\n",
       "      <td>False</td>\n",
       "      <td>21.0</td>\n",
       "      <td>21.0</td>\n",
       "      <td>5/3/2017 12:00:00 AM</td>\n",
       "      <td>2017-05-01</td>\n",
       "      <td>James N Karahalios</td>\n",
       "      <td>judge_117</td>\n",
       "    </tr>\n",
       "    <tr>\n",
       "      <th>203256</th>\n",
       "      <td>Black</td>\n",
       "      <td>True</td>\n",
       "      <td>False</td>\n",
       "      <td>False</td>\n",
       "      <td>False</td>\n",
       "      <td>Male</td>\n",
       "      <td>False</td>\n",
       "      <td>30.0</td>\n",
       "      <td>30.0</td>\n",
       "      <td>5/21/2018 12:00:00 AM</td>\n",
       "      <td>2018-05-01</td>\n",
       "      <td>William  Raines</td>\n",
       "      <td>judge_325</td>\n",
       "    </tr>\n",
       "    <tr>\n",
       "      <th>84609</th>\n",
       "      <td>Black</td>\n",
       "      <td>True</td>\n",
       "      <td>False</td>\n",
       "      <td>False</td>\n",
       "      <td>False</td>\n",
       "      <td>Male</td>\n",
       "      <td>False</td>\n",
       "      <td>24.0</td>\n",
       "      <td>24.0</td>\n",
       "      <td>6/30/2015 12:00:00 AM</td>\n",
       "      <td>2015-06-01</td>\n",
       "      <td>Maura  Slattery Boyle</td>\n",
       "      <td>judge_212</td>\n",
       "    </tr>\n",
       "    <tr>\n",
       "      <th>53121</th>\n",
       "      <td>Black</td>\n",
       "      <td>True</td>\n",
       "      <td>False</td>\n",
       "      <td>False</td>\n",
       "      <td>False</td>\n",
       "      <td>Female</td>\n",
       "      <td>False</td>\n",
       "      <td>44.0</td>\n",
       "      <td>44.0</td>\n",
       "      <td>1/5/2012 12:00:00 AM</td>\n",
       "      <td>2012-01-01</td>\n",
       "      <td>Maura  Slattery Boyle</td>\n",
       "      <td>judge_212</td>\n",
       "    </tr>\n",
       "    <tr>\n",
       "      <th>203225</th>\n",
       "      <td>Black</td>\n",
       "      <td>True</td>\n",
       "      <td>False</td>\n",
       "      <td>False</td>\n",
       "      <td>False</td>\n",
       "      <td>Female</td>\n",
       "      <td>False</td>\n",
       "      <td>45.0</td>\n",
       "      <td>45.0</td>\n",
       "      <td>6/12/2017 12:00:00 AM</td>\n",
       "      <td>2017-06-01</td>\n",
       "      <td>Vincent M Gaughan</td>\n",
       "      <td>judge_321</td>\n",
       "    </tr>\n",
       "    <tr>\n",
       "      <th>228726</th>\n",
       "      <td>Black</td>\n",
       "      <td>True</td>\n",
       "      <td>False</td>\n",
       "      <td>False</td>\n",
       "      <td>False</td>\n",
       "      <td>Male</td>\n",
       "      <td>False</td>\n",
       "      <td>23.0</td>\n",
       "      <td>23.0</td>\n",
       "      <td>7/8/2019 12:00:00 AM</td>\n",
       "      <td>2019-07-01</td>\n",
       "      <td>Timothy Joseph Joyce</td>\n",
       "      <td>judge_315</td>\n",
       "    </tr>\n",
       "    <tr>\n",
       "      <th>80990</th>\n",
       "      <td>Black</td>\n",
       "      <td>True</td>\n",
       "      <td>False</td>\n",
       "      <td>False</td>\n",
       "      <td>False</td>\n",
       "      <td>Male</td>\n",
       "      <td>False</td>\n",
       "      <td>27.0</td>\n",
       "      <td>27.0</td>\n",
       "      <td>7/8/2013 12:00:00 AM</td>\n",
       "      <td>2013-07-01</td>\n",
       "      <td>Shelley  Sutker-Dermer</td>\n",
       "      <td>NaN</td>\n",
       "    </tr>\n",
       "    <tr>\n",
       "      <th>98100</th>\n",
       "      <td>Black</td>\n",
       "      <td>True</td>\n",
       "      <td>False</td>\n",
       "      <td>False</td>\n",
       "      <td>False</td>\n",
       "      <td>Male</td>\n",
       "      <td>False</td>\n",
       "      <td>31.0</td>\n",
       "      <td>31.0</td>\n",
       "      <td>8/26/2014 12:00:00 AM</td>\n",
       "      <td>2014-08-01</td>\n",
       "      <td>James B Linn</td>\n",
       "      <td>judge_110</td>\n",
       "    </tr>\n",
       "  </tbody>\n",
       "</table>\n",
       "</div>"
      ],
      "text/plain": [
       "                              RACE  is_black_derived  is_hisp_derived  \\\n",
       "31470                        Black              True            False   \n",
       "103171                       Black              True            False   \n",
       "200238  White [Hispanic or Latino]             False             True   \n",
       "203256                       Black              True            False   \n",
       "84609                        Black              True            False   \n",
       "53121                        Black              True            False   \n",
       "203225                       Black              True            False   \n",
       "228726                       Black              True            False   \n",
       "80990                        Black              True            False   \n",
       "98100                        Black              True            False   \n",
       "\n",
       "        is_white_derived  is_othereth_derived  GENDER  is_male_derived  \\\n",
       "31470              False                False    Male            False   \n",
       "103171             False                False    Male            False   \n",
       "200238             False                False    Male            False   \n",
       "203256             False                False    Male            False   \n",
       "84609              False                False    Male            False   \n",
       "53121              False                False  Female            False   \n",
       "203225             False                False  Female            False   \n",
       "228726             False                False    Male            False   \n",
       "80990              False                False    Male            False   \n",
       "98100              False                False    Male            False   \n",
       "\n",
       "        AGE_AT_INCIDENT  age_derived          SENTENCE_DATE  \\\n",
       "31470              25.0         25.0  9/20/2012 12:00:00 AM   \n",
       "103171             20.0         20.0  9/26/2013 12:00:00 AM   \n",
       "200238             21.0         21.0   5/3/2017 12:00:00 AM   \n",
       "203256             30.0         30.0  5/21/2018 12:00:00 AM   \n",
       "84609              24.0         24.0  6/30/2015 12:00:00 AM   \n",
       "53121              44.0         44.0   1/5/2012 12:00:00 AM   \n",
       "203225             45.0         45.0  6/12/2017 12:00:00 AM   \n",
       "228726             23.0         23.0   7/8/2019 12:00:00 AM   \n",
       "80990              27.0         27.0   7/8/2013 12:00:00 AM   \n",
       "98100              31.0         31.0  8/26/2014 12:00:00 AM   \n",
       "\n",
       "       sentenceymd_derived          SENTENCE_JUDGE judgeid_derived  \n",
       "31470           2012-09-01                     NaN              70  \n",
       "103171          2013-09-01   Domenica A Stephenson        judge_63  \n",
       "200238          2017-05-01      James N Karahalios       judge_117  \n",
       "203256          2018-05-01         William  Raines       judge_325  \n",
       "84609           2015-06-01   Maura  Slattery Boyle       judge_212  \n",
       "53121           2012-01-01   Maura  Slattery Boyle       judge_212  \n",
       "203225          2017-06-01       Vincent M Gaughan       judge_321  \n",
       "228726          2019-07-01    Timothy Joseph Joyce       judge_315  \n",
       "80990           2013-07-01  Shelley  Sutker-Dermer             NaN  \n",
       "98100           2014-08-01            James B Linn       judge_110  "
      ]
     },
     "execution_count": 19,
     "metadata": {},
     "output_type": "execute_result"
    }
   ],
   "source": [
    "# Sentencing judge adjustments\n",
    "\n",
    "#\"Douglas J Simpson\" -> \"Doug  Simpson\"\n",
    "#\"Shelley  Sutker-Dermer\" -> \"Shelley  Sutker\"\n",
    "\n",
    "judge_list = df[\"SENTENCE_JUDGE\"].sort_values().unique().tolist()\n",
    "\n",
    "judge_list.remove(\"Douglas J Simpson\")\n",
    "judge_list.remove(\"Shelley  Sutker-Dermer\")\n",
    "\n",
    "judge_number = ['judge_{}'.format(i) for i in range(1, len(judge_list))]\n",
    "\n",
    "judge_list.append(\"Douglas J Simpson\")\n",
    "judge_number.append(judge_list.index(\"Doug  Simpson\"))\n",
    "judge_list.append(\"Shelley  Sutker-Dermer\")\n",
    "judge_number.append(judge_list.index(\"Shelley  Sutker\"))\n",
    "\n",
    "conversion_dict = dict(zip(judge_list,judge_number))\n",
    "df[\"judgeid_derived\"] = df.SENTENCE_JUDGE.map(conversion_dict)\n",
    "\n",
    "\n",
    "df[[\"RACE\", \"is_black_derived\", \"is_hisp_derived\", \"is_white_derived\", \"is_othereth_derived\", \n",
    "    \"GENDER\", \"is_male_derived\", \"AGE_AT_INCIDENT\", \"age_derived\", \"SENTENCE_DATE\", \"sentenceymd_derived\",\n",
    "   \"SENTENCE_JUDGE\", \"judgeid_derived\"]].sample(n=10)"
   ]
  },
  {
   "cell_type": "markdown",
   "metadata": {},
   "source": [
    "## 1.4: Subsetting rows to analytic dataset (5 points)\n",
    "\n",
    "You decide based on the above to simplify things in the following ways:\n",
    "    \n",
    "- Subset to cases where only one participant is charged, since cases with >1 participant might have complications like \n",
    "plea bargains/informing from other participants affecting the sentencing of the focal participant\n",
    "\n",
    "- To go from a participant-case level dataset, where each participant is repeated across charges tied to the case, to a participant-level dataset, where each participant has one charge, subset to a participant's primary charge and their current sentence (`PRIMARY_CHARGE_FLAG` is True and `CURRENT_SENTENCE_FLAG` is True). Double check that this worked by confirming there are no longer multiple charges for the same case-participant\n",
    "\n",
    "- Filter out observations where judge is nan or nonsensical (indicated by is.null or equal to FLOOD)\n",
    "\n",
    "- Subset to sentencing date between 01-01-2012 and 04-05-2021 (inclusive)\n",
    "\n",
    "After completing these steps, print the number of rows in the data"
   ]
  },
  {
   "cell_type": "code",
   "execution_count": 21,
   "metadata": {},
   "outputs": [
    {
     "data": {
      "text/plain": [
       "1"
      ]
     },
     "execution_count": 21,
     "metadata": {},
     "output_type": "execute_result"
    },
    {
     "name": "stdout",
     "output_type": "stream",
     "text": [
      "149617\n"
     ]
    }
   ],
   "source": [
    "# Subset \n",
    "\n",
    "df_cases_cc_one = df[df[\"CHARGE_COUNT\"] == 1]\n",
    "\n",
    "# participant-level dataset\n",
    "\n",
    "participant_level_df = df_cases_cc_one[(df_cases_cc_one[\"PRIMARY_CHARGE_FLAG\"]== True) & (df_cases_cc_one[\"CURRENT_SENTENCE_FLAG\"]== True)]\n",
    "\n",
    "# Check\n",
    "\n",
    "participant_level_df.groupby([\"CASE_ID\", \"CASE_PARTICIPANT_ID\"])[\"CHARGE_ID\"].value_counts().nunique()\n",
    "\n",
    "# Filter out observations where judge is nan or nonsensical\n",
    "\n",
    "participant_level_df_judge_adj = participant_level_df[(participant_level_df[\"SENTENCE_JUDGE\"].notna()) & (participant_level_df[\"SENTENCE_JUDGE\"] != \"FLOOD\")]\n",
    "\n",
    "# Subset to sentencing date between 01-01-2012 and 04-05-2021 (inclusive)\n",
    "\n",
    "date_sub_df = participant_level_df_judge_adj[(participant_level_df_judge_adj[\"sentenceymd_derived\"] >= \"2012-01-01\") & \n",
    "                                             (participant_level_df_judge_adj[\"sentenceymd_derived\"] <= \"2021-04-05\")]\n",
    "\n",
    "# print the number of rows in the data\n",
    "\n",
    "print(len(date_sub_df))"
   ]
  },
  {
   "cell_type": "markdown",
   "metadata": {},
   "source": [
    "# Part two: investigating Black vs. White sentencing disparities\n",
    "\n",
    "Now that the data are cleaned, we're going to investigate different types of disparities in sentencing between Black defendants and White defendants. We're focusing on these groups for the purpose of the problem set, but the analysis could be extended to study Hispanic defendants or, in a different jurisdiction, Asian and other minoritized groups.\n",
    "\n",
    "**Details if interested in digging deeper**: If interested (optional), you can read more technical coverage of how we might (1) measure disparities, and (2) what factors you want to adjust for when deciding whether two defendants are 'similarly situated' but for their race in the following sources:\n",
    "\n",
    "- [Review of sentencing disparities research](https://www.journals.uchicago.edu/doi/full/10.1086/701505)\n",
    "- [Discussion of causal model/blinding race at charging stage of the prosecutorial process](https://5harad.com/papers/blind-charging.pdf)\n",
    "- [Discussion of measuring discrimination in policing that can generalize to the sentencing case](https://www.annualreviews.org/doi/abs/10.1146/annurev-criminol-011518-024731)\n",
    "- [General discussion of causal challenges in measuring between-group disparities](https://osf.io/preprints/socarxiv/gx4y3/)\n",
    "\n",
    "**One major caveat**: when investigating whether two similar defendants received different sentences, we're missing one important attribute that influences sentencing: the defendant's criminal history. This influences sentencing both through sentencing guidelines, which can prescribe longer sentences for those who have certain types of prior convictions, and through judicial discretion if judges are more lenient with first-time defendants. The above sources discuss how much we want to \"control away\" for this prior history, since if we think there are racial biases in which defendants, conditional on *committing* a crime, are arrested and charged, we may not want to adjust for that factor. More discussion [in this article](https://www.themarshallproject.org/2019/12/03/the-growing-racial-disparity-in-prison-time)\n"
   ]
  },
  {
   "cell_type": "markdown",
   "metadata": {},
   "source": [
    "## 2.0: (0 points)"
   ]
  },
  {
   "cell_type": "markdown",
   "metadata": {},
   "source": [
    "First, read in the following dataset (regardless of progress on part one): `sentencing_cleaned.pkl` (if you can't read in the pkl you can read in the .csv format but may need to recast some of the datetime columns)\n",
    "\n",
    "*Note*: don't worry if there are slight differences in your output from Part One and this dataset/it's not a good use of time to try to reverse engineer Part One answers from this cleaned data."
   ]
  },
  {
   "cell_type": "code",
   "execution_count": 22,
   "metadata": {},
   "outputs": [],
   "source": [
    "df_clean = sentencing_cleaned_df = pd.read_pickle(\"sentencing_cleaned.pkl\")"
   ]
  },
  {
   "cell_type": "markdown",
   "metadata": {},
   "source": [
    "# 2.1: Investigating one type of between-group difference: who reaches the sentencing stage? (5 points)\n",
    "\n",
    "Tabulate and visualize the proportion of defendants, out of all defendants sentenced in a given month/year, who are Black and who are White (separate proportions)\n",
    "\n",
    "- Denominator is number of unique cases that month\n",
    "- Numerator for black defendants is count of is_black_derived\n",
    "- Numerator for white defendants is count of is_white_derived\n",
    "- Fraction of each is numerator/denominator\n",
    "\n",
    "- Print the table\n",
    "- Create a graph with two lines--- one for Black defendants as fraction of total; another for White defendants. Make sure it includes a legend summarizing which color is for which group, and clean the legend so that it has informative names (e.g., Black or White rather than prop_black or prop_white)\n",
    "- Use mathematical notation to write out each of the proportions using summation notation in a 1-2 sentence writeup describing trends. What seems to be going on in April and May 2020? \n",
    "\n",
    "**Optional challenge**: improve the viz by shading the background of the visualization for months with fewer than 100 cases \n",
    "\n",
    "**Optional challenge**: improve the viz by adding a vertical line for 12-01-2016, the month that new State's Attorney Foxx took office "
   ]
  },
  {
   "cell_type": "code",
   "execution_count": 23,
   "metadata": {},
   "outputs": [],
   "source": [
    "# Clean and convert dates for grouping\n",
    "\n",
    "df_clean[\"SENTENCE_DATE\"] = df_clean[\"SENTENCE_DATE\"].str.replace(\" 12:00:00 AM\", \"\")\n",
    "\n",
    "df_clean[\"SENTENCE_DATE_dt\"] = pd.to_datetime(df_clean[\"SENTENCE_DATE\"], errors = \"coerce\")\n",
    "\n",
    "df_clean[\"MONTH\"] = df_clean[\"SENTENCE_DATE_dt\"].dt.month\n",
    "df_clean[\"YEAR\"] = df_clean[\"SENTENCE_DATE_dt\"].dt.year\n",
    "\n",
    "df_clean[\"MONTH_YEAR_1\"] = pd.to_datetime(df_clean[[\"YEAR\", \"MONTH\"]].assign(day=1))"
   ]
  },
  {
   "cell_type": "code",
   "execution_count": 24,
   "metadata": {},
   "outputs": [
    {
     "data": {
      "text/html": [
       "<div>\n",
       "<style scoped>\n",
       "    .dataframe tbody tr th:only-of-type {\n",
       "        vertical-align: middle;\n",
       "    }\n",
       "\n",
       "    .dataframe tbody tr th {\n",
       "        vertical-align: top;\n",
       "    }\n",
       "\n",
       "    .dataframe thead th {\n",
       "        text-align: right;\n",
       "    }\n",
       "</style>\n",
       "<table border=\"1\" class=\"dataframe\">\n",
       "  <thead>\n",
       "    <tr style=\"text-align: right;\">\n",
       "      <th></th>\n",
       "      <th>Monthly Case Count</th>\n",
       "      <th>Proportion Black Derived</th>\n",
       "      <th>Proportion White Derived</th>\n",
       "    </tr>\n",
       "    <tr>\n",
       "      <th>MONTH_YEAR_1</th>\n",
       "      <th></th>\n",
       "      <th></th>\n",
       "      <th></th>\n",
       "    </tr>\n",
       "  </thead>\n",
       "  <tbody>\n",
       "    <tr>\n",
       "      <th>2012-01-01</th>\n",
       "      <td>1674</td>\n",
       "      <td>0.677419</td>\n",
       "      <td>0.144564</td>\n",
       "    </tr>\n",
       "    <tr>\n",
       "      <th>2012-02-01</th>\n",
       "      <td>1450</td>\n",
       "      <td>0.648966</td>\n",
       "      <td>0.160690</td>\n",
       "    </tr>\n",
       "    <tr>\n",
       "      <th>2012-03-01</th>\n",
       "      <td>1612</td>\n",
       "      <td>0.638958</td>\n",
       "      <td>0.158189</td>\n",
       "    </tr>\n",
       "    <tr>\n",
       "      <th>2012-04-01</th>\n",
       "      <td>1436</td>\n",
       "      <td>0.696379</td>\n",
       "      <td>0.146936</td>\n",
       "    </tr>\n",
       "    <tr>\n",
       "      <th>2012-05-01</th>\n",
       "      <td>1545</td>\n",
       "      <td>0.695146</td>\n",
       "      <td>0.144337</td>\n",
       "    </tr>\n",
       "    <tr>\n",
       "      <th>...</th>\n",
       "      <td>...</td>\n",
       "      <td>...</td>\n",
       "      <td>...</td>\n",
       "    </tr>\n",
       "    <tr>\n",
       "      <th>2020-11-01</th>\n",
       "      <td>491</td>\n",
       "      <td>0.606925</td>\n",
       "      <td>0.154786</td>\n",
       "    </tr>\n",
       "    <tr>\n",
       "      <th>2020-12-01</th>\n",
       "      <td>537</td>\n",
       "      <td>0.646182</td>\n",
       "      <td>0.158287</td>\n",
       "    </tr>\n",
       "    <tr>\n",
       "      <th>2021-01-01</th>\n",
       "      <td>447</td>\n",
       "      <td>0.621924</td>\n",
       "      <td>0.111857</td>\n",
       "    </tr>\n",
       "    <tr>\n",
       "      <th>2021-02-01</th>\n",
       "      <td>491</td>\n",
       "      <td>0.651731</td>\n",
       "      <td>0.134420</td>\n",
       "    </tr>\n",
       "    <tr>\n",
       "      <th>2021-03-01</th>\n",
       "      <td>532</td>\n",
       "      <td>0.680451</td>\n",
       "      <td>0.148496</td>\n",
       "    </tr>\n",
       "  </tbody>\n",
       "</table>\n",
       "<p>111 rows × 3 columns</p>\n",
       "</div>"
      ],
      "text/plain": [
       "              Monthly Case Count  Proportion Black Derived  \\\n",
       "MONTH_YEAR_1                                                 \n",
       "2012-01-01                  1674                  0.677419   \n",
       "2012-02-01                  1450                  0.648966   \n",
       "2012-03-01                  1612                  0.638958   \n",
       "2012-04-01                  1436                  0.696379   \n",
       "2012-05-01                  1545                  0.695146   \n",
       "...                          ...                       ...   \n",
       "2020-11-01                   491                  0.606925   \n",
       "2020-12-01                   537                  0.646182   \n",
       "2021-01-01                   447                  0.621924   \n",
       "2021-02-01                   491                  0.651731   \n",
       "2021-03-01                   532                  0.680451   \n",
       "\n",
       "              Proportion White Derived  \n",
       "MONTH_YEAR_1                            \n",
       "2012-01-01                    0.144564  \n",
       "2012-02-01                    0.160690  \n",
       "2012-03-01                    0.158189  \n",
       "2012-04-01                    0.146936  \n",
       "2012-05-01                    0.144337  \n",
       "...                                ...  \n",
       "2020-11-01                    0.154786  \n",
       "2020-12-01                    0.158287  \n",
       "2021-01-01                    0.111857  \n",
       "2021-02-01                    0.134420  \n",
       "2021-03-01                    0.148496  \n",
       "\n",
       "[111 rows x 3 columns]"
      ]
     },
     "execution_count": 24,
     "metadata": {},
     "output_type": "execute_result"
    }
   ],
   "source": [
    "# create denominators and numerators\n",
    "\n",
    "den = df_clean.groupby(\"MONTH_YEAR_1\")[\"CASE_ID\"].nunique()\n",
    "\n",
    "num_black = df_clean.groupby(\"MONTH_YEAR_1\")[\"is_black_derived\"].sum()\n",
    "\n",
    "num_white = df_clean.groupby(\"MONTH_YEAR_1\")[\"is_white_derived\"].sum()\n",
    "\n",
    "# fractions\n",
    "\n",
    "result_table = pd.concat([den, num_black/den, num_white/den], axis=1)\n",
    "result_table.columns = [\"Monthly Case Count\", \"Proportion Black Derived\", \"Proportion White Derived\"]\n",
    "\n",
    "result_table_lim = result_table[result_table.index<\"2022-01-01\"]\n",
    "\n",
    "# Print the table\n",
    "result_table_lim\n"
   ]
  },
  {
   "cell_type": "code",
   "execution_count": 25,
   "metadata": {},
   "outputs": [
    {
     "data": {
      "text/plain": [
       "<Figure size 1000x600 with 0 Axes>"
      ]
     },
     "execution_count": 25,
     "metadata": {},
     "output_type": "execute_result"
    },
    {
     "data": {
      "text/plain": [
       "[<matplotlib.lines.Line2D at 0x144c8b890>]"
      ]
     },
     "execution_count": 25,
     "metadata": {},
     "output_type": "execute_result"
    },
    {
     "data": {
      "text/plain": [
       "[<matplotlib.lines.Line2D at 0x14874f490>]"
      ]
     },
     "execution_count": 25,
     "metadata": {},
     "output_type": "execute_result"
    },
    {
     "data": {
      "text/plain": [
       "Text(0.5, 0, 'Date')"
      ]
     },
     "execution_count": 25,
     "metadata": {},
     "output_type": "execute_result"
    },
    {
     "data": {
      "text/plain": [
       "Text(0, 0.5, 'Proportion of Total Defendants')"
      ]
     },
     "execution_count": 25,
     "metadata": {},
     "output_type": "execute_result"
    },
    {
     "data": {
      "text/plain": [
       "<matplotlib.legend.Legend at 0x14c4cfc10>"
      ]
     },
     "execution_count": 25,
     "metadata": {},
     "output_type": "execute_result"
    },
    {
     "data": {
      "image/png": "[encoded data removed]",
      "text/plain": [
       "<Figure size 1000x600 with 1 Axes>"
      ]
     },
     "metadata": {},
     "output_type": "display_data"
    }
   ],
   "source": [
    "# build plot\n",
    "plt.figure(figsize=(10, 6))\n",
    "plt.plot(result_table_lim.index, result_table_lim[\"Proportion Black Derived\"], label=\"Black\", marker=\"o\")\n",
    "plt.plot(result_table_lim.index, result_table_lim[\"Proportion White Derived\"], label=\"White\", marker=\"o\")\n",
    "\n",
    "# Add labels and legend\n",
    "plt.xlabel(\"Date\")\n",
    "plt.ylabel(\"Proportion of Total Defendants\")\n",
    "plt.legend([\"Black\", \"White\"])\n",
    "\n",
    "# Show the plot\n",
    "plt.show()"
   ]
  },
  {
   "cell_type": "markdown",
   "metadata": {},
   "source": [
    "\n",
    "\n",
    "$$\n",
    "\\text{Incarceration Propotion by Race}=\\frac{1}{N}\\sum_{i=1}^{n} B_i\n",
    "$$\n",
    "\n",
    "$$B_i \\text{  represents the number of Black or White Defendants Incarcerated for Date \\(i\\).}$$\n",
    "\n",
    "Covid caused unusual changed in patterns of incarceraction. In this case the start of the pandemic was correlated with a drop in Black incareration and rise in white incarcerations. \n",
    "\n",
    "\n"
   ]
  },
  {
   "cell_type": "markdown",
   "metadata": {},
   "source": [
    "## 2.2: Investigating the first type of disparity: probation versus incaceration (10 points)\n",
    "\n",
    "One type of disparity beyond who arrives at the sentencing stage is whether the defendant receives probation or incaceration.\n",
    "\n",
    "According to the codebook, incarceration is indicated by `COMMITMENT_TYPE` == \"Illinois Department of Corrections\"\n",
    "\n",
    "Recreate the previous plot but where the y axis represents the difference between the following proportions (can be either Black - White or White - Black but make sure to label), adding a smoothed line:\n",
    "\n",
    "- Percent of black defendants who are incarcerated out of all black defendants that month/year \n",
    "- Percent of white defendants who are incarcerated out of all white defendants that month/year \n",
    "\n",
    "In a markdown cell after, write 1-2 sentences on your observations of trends over time. Do gaps seem to be widening or increasing?"
   ]
  },
  {
   "cell_type": "code",
   "execution_count": 329,
   "metadata": {},
   "outputs": [],
   "source": []
  },
  {
   "cell_type": "code",
   "execution_count": 26,
   "metadata": {},
   "outputs": [
    {
     "data": {
      "image/png": "[encoded data removed]",
      "text/plain": [
       "<Figure size 640x480 with 1 Axes>"
      ]
     },
     "metadata": {
      "image/png": {
       "height": 480,
       "width": 640
      }
     },
     "output_type": "display_data"
    },
    {
     "data": {
      "text/plain": [
       "<Figure Size: (640 x 480)>"
      ]
     },
     "execution_count": 26,
     "metadata": {},
     "output_type": "execute_result"
    }
   ],
   "source": [
    "# demoninators \n",
    "black_total_den = df_clean[df_clean[\"is_black_derived\"] == True].groupby(\"MONTH_YEAR_1\")[\"CASE_ID\"].nunique()\n",
    "#black_total_den\n",
    "white_total_den = df_clean[df_clean[\"is_white_derived\"] == True].groupby(\"MONTH_YEAR_1\")[\"CASE_ID\"].nunique()\n",
    "#white_total_den\n",
    "\n",
    "# numerators\n",
    "filtered_df_clean_black = df_clean[(df_clean[\"COMMITMENT_TYPE\"] == \"Illinois Department of Corrections\") & (df_clean[\"is_black_derived\"] == True)]\n",
    "black_incar_df = filtered_df_clean_black.groupby(\"MONTH_YEAR_1\").size().reset_index(name=\"Black Defendants Incarcerated\")\n",
    "\n",
    "\n",
    "filtered_df_clean_white = df_clean[(df_clean[\"COMMITMENT_TYPE\"] == \"Illinois Department of Corrections\") & (df_clean[\"is_white_derived\"] == True)]\n",
    "white_incar_df = filtered_df_clean_white.groupby(\"MONTH_YEAR_1\").size().reset_index(name=\"White Defendants Incarcerated\")\n",
    "\n",
    "# build dataframe\n",
    "combo_df = pd.merge(black_incar_df, black_total_den, on=\"MONTH_YEAR_1\", how=\"left\")\n",
    "combo_df = pd.merge(combo_df, white_incar_df, on=\"MONTH_YEAR_1\", how=\"left\")\n",
    "combo_df = pd.merge(combo_df, white_total_den, on=\"MONTH_YEAR_1\", how=\"left\")\n",
    "\n",
    "\n",
    "\n",
    "# create proportions\n",
    "combo_df[\"Black Incarceration Ratio\"] = combo_df[\"Black Defendants Incarcerated\"] / combo_df[\"CASE_ID_x\"]\n",
    "combo_df[\"White Incarceration Ratio\"] = combo_df[\"White Defendants Incarcerated\"] / combo_df[\"CASE_ID_y\"]\n",
    "\n",
    "# calculate difference\n",
    "combo_df[\"Difference\"] = combo_df[\"Black Incarceration Ratio\"] - combo_df[\"White Incarceration Ratio\"]\n",
    "\n",
    "combo_df_cut = combo_df[combo_df[\"MONTH_YEAR_1\"] < \"2022-01-01\"]\n",
    "\n",
    "ggplot(data=combo_df_cut, mapping=aes(x=\"MONTH_YEAR_1\", y=\"Difference\")) + \\\n",
    "geom_line() + \\\n",
    "geom_smooth(method='auto', size = 2, alpha = 0.8) +\\\n",
    "xlab(\"Date\")+\\\n",
    "ylab(\"Difference(Black-White)\")\n",
    "\n",
    "\n",
    "# In the plot above it is clear that the difference between incarceration \n",
    "# rate in Black defendants and White diffendants decrease over time with a massive \n",
    "# spike around 2020-2021.\n",
    "\n"
   ]
  },
  {
   "cell_type": "markdown",
   "metadata": {},
   "source": [
    "In the plot above it is clear that the difference between incarceration rate in Black defendants and White diffendants increases over time with a massive spike around 2020-2021."
   ]
  },
  {
   "cell_type": "markdown",
   "metadata": {},
   "source": [
    "## 2.3: Investigating mechanisms: incaceration rates by charge\n",
    "\n",
    "Your colleague sees the previous graph and is worried that the gap could be different---either wider or smaller---if you adjust for the fact that prosecutors have discretion in what crimes to charge defendants with. If white defendants are charged with crimes that tend to receive probation rather than incarceration, that could explain some of the gaps.\n",
    "\n",
    "In the next questions, you'll begin to investigate this."
   ]
  },
  {
   "cell_type": "markdown",
   "metadata": {},
   "source": [
    "### 2.3.1: Find the most common offenses (3 points)\n",
    "\n",
    "First, create a set of 'frequent offenses' that represent (over the entire period) the union of the 10 offenses Black defendant are most likely to be charged with and the 10 offenses white defendants are most likely to be charged with (might be far less than 20 total if there's a lot of overlap in common charges)\n",
    "\n",
    "Use the `simplified_offense_derived` for this"
   ]
  },
  {
   "cell_type": "code",
   "execution_count": 27,
   "metadata": {},
   "outputs": [],
   "source": [
    "white_most = df_clean[df.is_white_derived].simplified_offense_derived.value_counts().nlargest(10).index.tolist()\n",
    "black_most = df_clean[df.is_black_derived].simplified_offense_derived.value_counts().nlargest(10).index.tolist()\n",
    "\n",
    "frequent_offenses = set().union(white_most, black_most)"
   ]
  },
  {
   "cell_type": "markdown",
   "metadata": {},
   "source": [
    "### 2.3.2: Look at incarceration rates (again just whether incarcerated) by race and offense type for these top offenses (3 points)\n",
    "\n",
    "Print a wide-format version of the resulting table (so each row is an offense type, one col is black incarceration rate for that offense type; another is the white incarceration rate) and interpret. Which offenses show the largest disparities in judges being less likely to sentence White defendants to incarceration/more likely to offer those defendants probation?\n"
   ]
  },
  {
   "cell_type": "code",
   "execution_count": 28,
   "metadata": {},
   "outputs": [
    {
     "data": {
      "text/html": [
       "<div>\n",
       "<style scoped>\n",
       "    .dataframe tbody tr th:only-of-type {\n",
       "        vertical-align: middle;\n",
       "    }\n",
       "\n",
       "    .dataframe tbody tr th {\n",
       "        vertical-align: top;\n",
       "    }\n",
       "\n",
       "    .dataframe thead th {\n",
       "        text-align: right;\n",
       "    }\n",
       "</style>\n",
       "<table border=\"1\" class=\"dataframe\">\n",
       "  <thead>\n",
       "    <tr style=\"text-align: right;\">\n",
       "      <th></th>\n",
       "      <th>charge</th>\n",
       "      <th>white_incarceration</th>\n",
       "      <th>black_incarceration</th>\n",
       "      <th>diff</th>\n",
       "    </tr>\n",
       "  </thead>\n",
       "  <tbody>\n",
       "    <tr>\n",
       "      <th>2</th>\n",
       "      <td>Narcotics</td>\n",
       "      <td>4.123116</td>\n",
       "      <td>1.859163</td>\n",
       "      <td>2.263953</td>\n",
       "    </tr>\n",
       "    <tr>\n",
       "      <th>5</th>\n",
       "      <td>Battery</td>\n",
       "      <td>3.629073</td>\n",
       "      <td>1.964512</td>\n",
       "      <td>1.664561</td>\n",
       "    </tr>\n",
       "    <tr>\n",
       "      <th>9</th>\n",
       "      <td>Other Offense</td>\n",
       "      <td>4.343511</td>\n",
       "      <td>2.93617</td>\n",
       "      <td>1.407341</td>\n",
       "    </tr>\n",
       "    <tr>\n",
       "      <th>4</th>\n",
       "      <td>UUW - Unlawful Use of Weapon</td>\n",
       "      <td>2.074803</td>\n",
       "      <td>1.436388</td>\n",
       "      <td>0.638415</td>\n",
       "    </tr>\n",
       "    <tr>\n",
       "      <th>11</th>\n",
       "      <td>Theft</td>\n",
       "      <td>3.137536</td>\n",
       "      <td>2.584236</td>\n",
       "      <td>0.553299</td>\n",
       "    </tr>\n",
       "    <tr>\n",
       "      <th>3</th>\n",
       "      <td>Retail Theft</td>\n",
       "      <td>2.224291</td>\n",
       "      <td>1.678659</td>\n",
       "      <td>0.545631</td>\n",
       "    </tr>\n",
       "    <tr>\n",
       "      <th>8</th>\n",
       "      <td>DUI</td>\n",
       "      <td>2.92522</td>\n",
       "      <td>2.469152</td>\n",
       "      <td>0.456068</td>\n",
       "    </tr>\n",
       "    <tr>\n",
       "      <th>6</th>\n",
       "      <td>Burglary</td>\n",
       "      <td>1.866496</td>\n",
       "      <td>1.51074</td>\n",
       "      <td>0.355756</td>\n",
       "    </tr>\n",
       "    <tr>\n",
       "      <th>13</th>\n",
       "      <td>Driving With Suspended Or Revoked License</td>\n",
       "      <td>2.013889</td>\n",
       "      <td>1.717643</td>\n",
       "      <td>0.296246</td>\n",
       "    </tr>\n",
       "    <tr>\n",
       "      <th>15</th>\n",
       "      <td>Robbery</td>\n",
       "      <td>1.69697</td>\n",
       "      <td>1.537656</td>\n",
       "      <td>0.159314</td>\n",
       "    </tr>\n",
       "    <tr>\n",
       "      <th>20</th>\n",
       "      <td>Residential Burglary</td>\n",
       "      <td>1.528785</td>\n",
       "      <td>1.393162</td>\n",
       "      <td>0.135622</td>\n",
       "    </tr>\n",
       "    <tr>\n",
       "      <th>16</th>\n",
       "      <td>Vehicle-related</td>\n",
       "      <td>1.707547</td>\n",
       "      <td>1.805869</td>\n",
       "      <td>-0.098322</td>\n",
       "    </tr>\n",
       "  </tbody>\n",
       "</table>\n",
       "</div>"
      ],
      "text/plain": [
       "                                       charge white_incarceration  \\\n",
       "2                                   Narcotics            4.123116   \n",
       "5                                     Battery            3.629073   \n",
       "9                               Other Offense            4.343511   \n",
       "4                UUW - Unlawful Use of Weapon            2.074803   \n",
       "11                                      Theft            3.137536   \n",
       "3                                Retail Theft            2.224291   \n",
       "8                                         DUI             2.92522   \n",
       "6                                    Burglary            1.866496   \n",
       "13  Driving With Suspended Or Revoked License            2.013889   \n",
       "15                                    Robbery             1.69697   \n",
       "20                       Residential Burglary            1.528785   \n",
       "16                            Vehicle-related            1.707547   \n",
       "\n",
       "   black_incarceration      diff  \n",
       "2             1.859163  2.263953  \n",
       "5             1.964512  1.664561  \n",
       "9              2.93617  1.407341  \n",
       "4             1.436388  0.638415  \n",
       "11            2.584236  0.553299  \n",
       "3             1.678659  0.545631  \n",
       "8             2.469152  0.456068  \n",
       "6              1.51074  0.355756  \n",
       "13            1.717643  0.296246  \n",
       "15            1.537656  0.159314  \n",
       "20            1.393162  0.135622  \n",
       "16            1.805869 -0.098322  "
      ]
     },
     "execution_count": 28,
     "metadata": {},
     "output_type": "execute_result"
    }
   ],
   "source": [
    "charges = pd.DataFrame(columns = [\"charge\", \"white_incarceration\", \"black_incarceration\", \"diff\"])\n",
    "charges[\"charge\"] = df_clean[\"simplified_offense_derived\"].unique()\n",
    "for i in range(len(charges.charge)):\n",
    "    current_charge = charges[\"charge\"][i]\n",
    "    if(current_charge in (frequent_offenses)):\n",
    "        total_white_charges = len(df_clean[(df_clean.simplified_offense_derived == current_charge) & (df_clean.is_white_derived)])\n",
    "        total_white_incarcerations = max(1, len(df_clean[(df_clean.simplified_offense_derived == current_charge) & (df_clean.is_white_derived) & (df_clean.COMMITMENT_TYPE == \"Illinois Department of Corrections\")]))\n",
    "        charges[\"white_incarceration\"][i] = total_white_charges / total_white_incarcerations\n",
    "\n",
    "        total_black_charges = len(df_clean[(df_clean.simplified_offense_derived == current_charge) & (df_clean.is_black_derived)])\n",
    "        total_black_incarcerations = max(1, len(df_clean[(df_clean.simplified_offense_derived == current_charge) & (df_clean.is_black_derived) & (df_clean.COMMITMENT_TYPE == \"Illinois Department of Corrections\")]))\n",
    "        charges[\"black_incarceration\"][i] = total_black_charges / total_black_incarcerations\n",
    "\n",
    "        charges[\"diff\"][i] = charges[\"white_incarceration\"][i] - charges[\"black_incarceration\"][i]\n",
    "charges.dropna().sort_values(by = \"diff\", ascending = False)\n",
    "\n",
    "\n",
    "## Difference in Incarceration Rates\n",
    "# It appears white people are more likely to be incarcerated over narcotics and battery charges whereas black \n",
    "# people are more likely to be incarcerated over vehicle-related charges."
   ]
  },
  {
   "cell_type": "markdown",
   "metadata": {},
   "source": [
    "### 2.3.3: Examine whether this changes pre and post change to charging threshold for retail theft (13 points)\n",
    "\n",
    "One important question is not only whether there are disparities by offense type but also whether these disparities are changing over time.\n",
    "\n",
    "The SAO, for instance, announced in December of 2016 that they would no longer default to charging retail thefts of under \\$1,000 as felonies. This change might have (1) decreased disparities or (2) increased disparities, depending on the correlation between race/ethnicity and magnitude of goods stolen: [news coverage](https://www.dnainfo.com/chicago/20161215/little-village/kim-foxx-raises-bar-for-retail-theft-felonies/). \n",
    "\n",
    "Focusing on `simplified_offense_derived` == \"Retail theft.\" Using a function and/or loop (Dec. 2016 is always excluded as a transition month):\n",
    "\n",
    "- Compare Black-White disparities before and after the change using a two-month bandwidth (so pre is October and November 2016; post is January and February 2017)\n",
    "\n",
    "- Compare Black-White disparities before and after the change using a four-month bandwidth (so pre is August- November 2016; post is January - April 2017)\n",
    "\n",
    "- Compare Black-White disparities using an eight-month bandwidth\n",
    "\n",
    "- Compare Black-White disparities using a twelve-month bandwidth\n",
    "\n",
    "\n",
    "------------------ \n",
    "\n",
    "- Print a table with the results (any organization is fine as long as it's clear)  \n",
    "\n",
    "- Create a bar chart where the x axis represents different bandwidths (2, 4, etc); the y axis the size of the Black-White gap in whether the defendant receives incarceration, and for each of the x axis points, you have one shaded bar representing \"before\" the change, another representing \"after\" the change (make sure that before is ordered before after and the bandwidths are from smallest to largest)\n",
    "\n",
    "*Note*: for each of the bandwidths include dates the entire month (e.g., for the first, include not only 02-01-2017 but everything up through 02-28-2017; easiest way is for the subsetting to use the rounded `sentenceym_derived`). Also make sure to only include white or black defendants.\n",
    "\n",
    "\n",
    "**Extra credit**: because the bandwidths have different sample sizes, a better viz incorporates measures of uncertainty. Add standard errors to the estimates using the formula: $(\\dfrac{p(1-p)}{n})^{0.5}$ where $p$ is the gap and $N$ is the number of cases in each bandwidth period \n"
   ]
  },
  {
   "cell_type": "code",
   "execution_count": 29,
   "metadata": {},
   "outputs": [],
   "source": [
    "def gap():\n",
    "    total_white_charges = len(t[(t.is_white_derived)])\n",
    "    total_white_incarcerations = len(t[(t.is_white_derived) & (r.COMMITMENT_TYPE == \"Illinois Department of Corrections\")])\n",
    "    total_black_charges = len(t[(t.is_black_derived)])\n",
    "    total_black_incarcerations = len(t[(t.is_black_derived) & (r.COMMITMENT_TYPE == \"Illinois Department of Corrections\")])\n",
    "    rate_gap = (total_white_charges/total_white_incarcerations) - (total_black_charges/total_black_incarcerations)\n",
    "    return rate_gap\n",
    "def error(rate_gap):\n",
    "    return pow(abs((rate_gap*(1-rate_gap))/(total_white_charges + total_black_charges)), 0.5)"
   ]
  },
  {
   "cell_type": "code",
   "execution_count": 30,
   "metadata": {},
   "outputs": [
    {
     "name": "stdout",
     "output_type": "stream",
     "text": [
      "Note a positive gap indicates a higher white incarceration rate than black incarceration rate\n"
     ]
    },
    {
     "data": {
      "text/html": [
       "<div>\n",
       "<style scoped>\n",
       "    .dataframe tbody tr th:only-of-type {\n",
       "        vertical-align: middle;\n",
       "    }\n",
       "\n",
       "    .dataframe tbody tr th {\n",
       "        vertical-align: top;\n",
       "    }\n",
       "\n",
       "    .dataframe thead th {\n",
       "        text-align: right;\n",
       "    }\n",
       "</style>\n",
       "<table border=\"1\" class=\"dataframe\">\n",
       "  <thead>\n",
       "    <tr style=\"text-align: right;\">\n",
       "      <th></th>\n",
       "      <th>bandwidth</th>\n",
       "      <th>before</th>\n",
       "      <th>after</th>\n",
       "      <th>error_before</th>\n",
       "      <th>error_after</th>\n",
       "    </tr>\n",
       "  </thead>\n",
       "  <tbody>\n",
       "    <tr>\n",
       "      <th>0</th>\n",
       "      <td>2</td>\n",
       "      <td>0.260652</td>\n",
       "      <td>1.914286</td>\n",
       "      <td>0.008016</td>\n",
       "      <td>0.024158</td>\n",
       "    </tr>\n",
       "    <tr>\n",
       "      <th>1</th>\n",
       "      <td>4</td>\n",
       "      <td>0.306298</td>\n",
       "      <td>0.599677</td>\n",
       "      <td>0.008417</td>\n",
       "      <td>0.008947</td>\n",
       "    </tr>\n",
       "    <tr>\n",
       "      <th>2</th>\n",
       "      <td>8</td>\n",
       "      <td>0.535603</td>\n",
       "      <td>0.290245</td>\n",
       "      <td>0.009107</td>\n",
       "      <td>0.008288</td>\n",
       "    </tr>\n",
       "    <tr>\n",
       "      <th>3</th>\n",
       "      <td>12</td>\n",
       "      <td>0.678856</td>\n",
       "      <td>0.302895</td>\n",
       "      <td>0.008526</td>\n",
       "      <td>0.008391</td>\n",
       "    </tr>\n",
       "  </tbody>\n",
       "</table>\n",
       "</div>"
      ],
      "text/plain": [
       "   bandwidth    before     after error_before error_after\n",
       "0          2  0.260652  1.914286     0.008016    0.024158\n",
       "1          4  0.306298  0.599677     0.008417    0.008947\n",
       "2          8  0.535603  0.290245     0.009107    0.008288\n",
       "3         12  0.678856  0.302895     0.008526    0.008391"
      ]
     },
     "execution_count": 30,
     "metadata": {},
     "output_type": "execute_result"
    },
    {
     "data": {
      "text/plain": [
       "<BarContainer object of 4 artists>"
      ]
     },
     "execution_count": 30,
     "metadata": {},
     "output_type": "execute_result"
    },
    {
     "data": {
      "text/plain": [
       "<BarContainer object of 4 artists>"
      ]
     },
     "execution_count": 30,
     "metadata": {},
     "output_type": "execute_result"
    },
    {
     "data": {
      "text/plain": [
       "([<matplotlib.axis.XTick at 0x14eb22850>,\n",
       "  <matplotlib.axis.XTick at 0x14eb21890>,\n",
       "  <matplotlib.axis.XTick at 0x14eaccd10>,\n",
       "  <matplotlib.axis.XTick at 0x14ebb5310>],\n",
       " [Text(0.15, 0, '2'),\n",
       "  Text(1.15, 0, '4'),\n",
       "  Text(2.15, 0, '8'),\n",
       "  Text(3.15, 0, '12')])"
      ]
     },
     "execution_count": 30,
     "metadata": {},
     "output_type": "execute_result"
    },
    {
     "data": {
      "text/plain": [
       "<ErrorbarContainer object of 3 artists>"
      ]
     },
     "execution_count": 30,
     "metadata": {},
     "output_type": "execute_result"
    },
    {
     "data": {
      "text/plain": [
       "<ErrorbarContainer object of 3 artists>"
      ]
     },
     "execution_count": 30,
     "metadata": {},
     "output_type": "execute_result"
    },
    {
     "data": {
      "text/plain": [
       "<matplotlib.legend.Legend at 0x14eb38590>"
      ]
     },
     "execution_count": 30,
     "metadata": {},
     "output_type": "execute_result"
    },
    {
     "data": {
      "image/png": "[encoded data removed]",
      "text/plain": [
       "<Figure size 640x480 with 1 Axes>"
      ]
     },
     "metadata": {
      "image/png": {
       "height": 480,
       "width": 640
      }
     },
     "output_type": "display_data"
    }
   ],
   "source": [
    "disparities = pd.DataFrame(columns = [\"bandwidth\", \"before\", \"after\", \"error_before\", \"error_after\"])\n",
    "disparities[\"bandwidth\"] = [2, 4, 8, 12]\n",
    "\n",
    "\n",
    "r = retail = df_clean[(df_clean.simplified_offense_derived == \"Retail Theft\") & (df_clean.is_white_derived | df_clean.is_black_derived)]\n",
    "#2 months before\n",
    "t = temp_time_frame = r[(r.sentenceym_derived >= \"2016-10\") & (r.sentenceym_derived <= \"2016-11\")]\n",
    "disparities[\"before\"][0] = gap()\n",
    "disparities[\"error_before\"][0] = error(disparities[\"before\"][0])\n",
    "\n",
    "#2 months after\n",
    "t = temp_time_frame = r[(r.sentenceym_derived >= \"2017-01\") & (r.sentenceym_derived <= \"2017-02\")]\n",
    "disparities[\"after\"][0] = gap()\n",
    "disparities[\"error_after\"][0] = error(disparities[\"after\"][0])\n",
    "\n",
    "#4 months before\n",
    "t = temp_time_frame = r[(r.sentenceym_derived >= \"2016-8\") & (r.sentenceym_derived <= \"2016-11\")]\n",
    "disparities[\"before\"][1] = gap()\n",
    "disparities[\"error_before\"][1] = error(disparities[\"before\"][1])\n",
    "\n",
    "#4 months after\n",
    "t = temp_time_frame = r[(r.sentenceym_derived >= \"2017-01\") & (r.sentenceym_derived <= \"2017-04\")]\n",
    "disparities[\"after\"][1] = gap()\n",
    "disparities[\"error_after\"][1] = error(disparities[\"after\"][1])\n",
    "\n",
    "#8 months before\n",
    "t = temp_time_frame = r[(r.sentenceym_derived >= \"2016-04\") & (r.sentenceym_derived <= \"2016-11\")]\n",
    "disparities[\"before\"][2] = gap()\n",
    "disparities[\"error_before\"][2] = error(disparities[\"before\"][2])\n",
    "\n",
    "#8 months after\n",
    "t = temp_time_frame = r[(r.sentenceym_derived >= \"2017-01\") & (r.sentenceym_derived <= \"2017-09\")]\n",
    "disparities[\"after\"][2] = gap()\n",
    "disparities[\"error_after\"][2] = error(disparities[\"after\"][2])\n",
    "\n",
    "#12 months before\n",
    "t = temp_time_frame = r[(r.sentenceym_derived >= \"2015-11\") & (r.sentenceym_derived <= \"2016-11\")]\n",
    "disparities[\"before\"][3] = gap()\n",
    "disparities[\"error_before\"][3] = error(disparities[\"before\"][3])\n",
    "\n",
    "#12 months after\n",
    "t = temp_time_frame = r[(r.sentenceym_derived >= \"2017-01\") & (r.sentenceym_derived <= \"2018-01\")]\n",
    "disparities[\"after\"][3] = gap()\n",
    "disparities[\"error_after\"][3] = error(disparities[\"after\"][3])\n",
    "\n",
    "print(\"Note a positive gap indicates a higher white incarceration rate than black incarceration rate\")\n",
    "disparities\n",
    "\n",
    "width = 0.3\n",
    "plt.bar(disparities.index, disparities.before, width, label = \"before\")\n",
    "plt.bar(disparities.index + width, disparities.after, width, label = \"after\")\n",
    "plt.xticks(disparities.index + width / 2, ('2', '4', '8', '12'))\n",
    "plt.errorbar(disparities.index, disparities.before, yerr=disparities.error_before, fmt=\"o\", color=\"r\", markersize = 0)\n",
    "plt.errorbar(disparities.index + width, disparities.after, yerr=disparities.error_after, fmt=\"o\", color=\"r\", markersize = 0)\n",
    "\n",
    "plt.legend(loc='best')"
   ]
  },
  {
   "cell_type": "markdown",
   "metadata": {},
   "source": [
    "### 2.3.3.1: Interpret the results (2 points)\n",
    "\n",
    "Write a two-sentence interpretation of the results. What might this show about how people on both sides of the issue---those who argued that the retail theft policy change would narrow disparities; those who argued that the change may widen disparities--could support their claims? "
   ]
  },
  {
   "cell_type": "code",
   "execution_count": 31,
   "metadata": {},
   "outputs": [],
   "source": [
    "## Interpretation\n",
    "# At the beginning of the implemented policy change, the incarceration rate gap increased drastically as \n",
    "# evidenced by the severe increase in the gap in the 2 month bandwidth. But as time progressed, the policy's \n",
    "# effect was slowly mitigated as the gap lessened and eventually, the gap was less white-targeted than before.\n",
    "# Those who argue the change would narrow disparities could argue that over time, the after column has been steadily \n",
    "# decreasing and with time, it has decreased below the before disparity rate as seen in the 12 month bandwidth.\n",
    "# Those who argue the argue would widen disparities could argue that the lowest disparity rate recorded was a \n",
    "# before column as seen in the 2 month bandwidth. This could be used to argue that the change ultimately raised the\n",
    "# disparity rates as the change was implemented when disparity rates were very low."
   ]
  }
 ],
 "metadata": {
  "kernelspec": {
   "display_name": "Python 3 (ipykernel)",
   "language": "python",
   "name": "python3"
  },
  "language_info": {
   "codemirror_mode": {
    "name": "ipython",
    "version": 3
   },
   "file_extension": ".py",
   "mimetype": "text/x-python",
   "name": "python",
   "nbconvert_exporter": "python",
   "pygments_lexer": "ipython3",
   "version": "3.11.4"
  }
 },
 "nbformat": 4,
 "nbformat_minor": 4
}
